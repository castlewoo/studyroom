{
 "cells": [
  {
   "cell_type": "markdown",
   "id": "08531fea-3947-4c06-b389-8a2e42b18f0b",
   "metadata": {},
   "source": [
    "### Webbroswer 컨트롤\n",
    "- Webbroswer 모듈"
   ]
  },
  {
   "cell_type": "code",
   "execution_count": 1,
   "id": "a72a78de-4df6-46c0-9ca5-d71f8b5c437a",
   "metadata": {},
   "outputs": [],
   "source": [
    "import webbrowser"
   ]
  },
  {
   "cell_type": "markdown",
   "id": "e0cb0fe6-fd04-4a85-a63a-5f8241174b27",
   "metadata": {},
   "source": [
    "### 브라우저 실행 : webbrowser.open('url')\n",
    "- 매개변수 : url을 전달(접속하고자 하는 웹 사이트)\n",
    "    - url은 파라미터를 포함 할 수 있음\n",
    "    - https://search.naver.com/search.naver?where=nexearch&sm=top_hty&fbm=0&ie=utf8&query=python\n",
    "    - https://search.naver.com/search.naver?검색을 위한 필수 주소\n",
    "    - where=nexearch&sm=top_hty&fbm=0&ie=utf8&query=python - 서버에 전달되는 파라미터(query=검색어)\n",
    "- 반환값이 True면 브라우저 실행이 정상 완료"
   ]
  },
  {
   "cell_type": "markdown",
   "id": "f211d689-1318-4201-997a-bcc909747402",
   "metadata": {},
   "source": [
    "- 통신 규칙\n",
    "    - url은 ? 기호를 통해 도메인과 파라미터를 구분\n",
    "    - & 기호를 통해서 파라미터간 구분을 함"
   ]
  },
  {
   "cell_type": "code",
   "execution_count": 3,
   "id": "4d9c9eeb-8af8-4df6-8a0d-c5e77da4cd17",
   "metadata": {},
   "outputs": [
    {
     "data": {
      "text/plain": [
       "True"
      ]
     },
     "execution_count": 3,
     "metadata": {},
     "output_type": "execute_result"
    }
   ],
   "source": [
    "# 코드를 사용 네이버 사이트에 접속 브라우저를 통해 접속\n",
    "url = 'www.naver.com' # 네이버 도메인\n",
    "\n",
    "webbrowser.open(url)"
   ]
  },
  {
   "cell_type": "code",
   "execution_count": null,
   "id": "815355f9-af2e-4f36-9347-89149c07d9c2",
   "metadata": {},
   "outputs": [],
   "source": [
    "# 검색어 적용\n",
    "s_url = 'https://search.naver.com/search.naver?'\n",
    "search = 'query=django'\n",
    "url=s_url + search\n",
    "url"
   ]
  },
  {
   "cell_type": "code",
   "execution_count": null,
   "id": "43f18098-6dfb-49e6-8167-07de9196882d",
   "metadata": {},
   "outputs": [],
   "source": [
    "webbrowser.open(url)"
   ]
  },
  {
   "cell_type": "markdown",
   "id": "400472c0-96fa-4e0c-ba75-0d7fe05d01a3",
   "metadata": {},
   "source": [
    "### 단, 검색어를  url에 적용시키는 방법은 site마다 다르다\n",
    "- 구글 검색 URL\n",
    "    - https://www.google.com/search?q=python&oq=python&aqs=chrome..69i57j69i59j0i131i433i512l8.1172j0j15&sourceid=chrome&ie=UTF-8\n",
    "    - 기본 url : https://www.google.com/search?\n",
    "    - 검색파라미터 : q=검색어"
   ]
  },
  {
   "cell_type": "code",
   "execution_count": null,
   "id": "4a1e0e00-666d-4647-afa5-09f391196383",
   "metadata": {},
   "outputs": [],
   "source": [
    "# 구글에 검색어 전송\n",
    "s_url = 'https://www.google.com/search?'\n",
    "search = 'q=django'\n",
    "url=s_url + search\n",
    "url"
   ]
  },
  {
   "cell_type": "code",
   "execution_count": null,
   "id": "bdaec92e-58d0-4408-8ccb-30a23d47e88c",
   "metadata": {},
   "outputs": [],
   "source": [
    "webbrowser.open(url)"
   ]
  }
 ],
 "metadata": {
  "kernelspec": {
   "display_name": "Python 3 (ipykernel)",
   "language": "python",
   "name": "python3"
  },
  "language_info": {
   "codemirror_mode": {
    "name": "ipython",
    "version": 3
   },
   "file_extension": ".py",
   "mimetype": "text/x-python",
   "name": "python",
   "nbconvert_exporter": "python",
   "pygments_lexer": "ipython3",
   "version": "3.11.5"
  }
 },
 "nbformat": 4,
 "nbformat_minor": 5
}
