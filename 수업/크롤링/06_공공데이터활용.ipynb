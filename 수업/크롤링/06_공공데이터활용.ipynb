{
 "cells": [
  {
   "cell_type": "markdown",
   "id": "7737c4b9-6619-44bf-8630-d252e1062cb5",
   "metadata": {},
   "source": [
    "### 공공데이터 API\n",
    "- 제공하는 지자체, 정부부터마다 접근 url이 상이함\n",
    "    - 데이터별로 필요 내용 확인\n",
    "    - 요청 변수 확인 후 사용 "
   ]
  },
  {
   "cell_type": "markdown",
   "id": "8f12b640-dfbf-496d-b1f3-b2392c4f0ac6",
   "metadata": {},
   "source": [
    "### 국립 중앙 의료원 제공 전국 약국정보 data\n",
    "- 연결 url : http://apis.data.go.kr/B552657/ErmctInsttInfoInqireService/getParmacyListInfoInqire"
   ]
  },
  {
   "cell_type": "code",
   "execution_count": 1,
   "id": "963a3811-8d51-465b-af23-151c9601b335",
   "metadata": {},
   "outputs": [],
   "source": [
    "from urllib.parse import quote\n",
    "import requests\n",
    "from bs4 import BeautifulSoup\n",
    "import pandas as pd"
   ]
  },
  {
   "cell_type": "code",
   "execution_count": 2,
   "id": "34233a0c-dd8b-416d-aa2c-6307faa0f47a",
   "metadata": {},
   "outputs": [],
   "source": [
    "endpoint='http://apis.data.go.kr/B552657/ErmctInsttInfoInqireService/getParmacyListInfoInqire'\n",
    "servicekey='azOlzHmE12kpPv%2F6L9CM1ylcu%2Bfqgba5RR%2Fxip8K1OQuncWE3OGzAW5hiE2oKb6fbaMFwkSf8YGy1sytUI5feA%3D%3D'"
   ]
  },
  {
   "cell_type": "code",
   "execution_count": 5,
   "id": "512987e2-2426-4da8-8857-da1a76bf71e7",
   "metadata": {},
   "outputs": [],
   "source": [
    "# 변수명과 파라미터명 매칭시켜서 파라미터 값 설명\n",
    "QT = '1' # 약국 영업 요일 전달\n",
    "QN = quote('삼성약국') # 검색하고자하는 약국의 이름(부분)\n",
    "Q0 = quote('서울특별시') # 광역시도\n",
    "Q1 = quote('강남구') # 시군구\n",
    "ORD = 'NAME' # 정렬기준\n",
    "numOfRows = '10' # 추출 data 수"
   ]
  },
  {
   "cell_type": "code",
   "execution_count": 7,
   "id": "d03ec597-e3b8-4477-be2d-5719e5935a52",
   "metadata": {},
   "outputs": [
    {
     "data": {
      "text/plain": [
       "'?servicekey=azOlzHmE12kpPv%2F6L9CM1ylcu%2Bfqgba5RR%2Fxip8K1OQuncWE3OGzAW5hiE2oKb6fbaMFwkSf8YGy1sytUI5feA%3D%3D&QT=1&QN=%EC%82%BC%EC%84%B1%EC%95%BD%EA%B5%AD&Q0=%EC%84%9C%EC%9A%B8%ED%8A%B9%EB%B3%84%EC%8B%9C&Q1=%EA%B0%95%EB%82%A8%EA%B5%AC&ORD=NAME&numOfRows=10'"
      ]
     },
     "execution_count": 7,
     "metadata": {},
     "output_type": "execute_result"
    }
   ],
   "source": [
    "paramset = '?servicekey='+servicekey + \\\n",
    "           '&QT='+QT + \\\n",
    "           '&QN='+QN + \\\n",
    "           '&Q0='+Q0 + \\\n",
    "           '&Q1='+Q1 + \\\n",
    "           '&ORD='+ORD + '&numOfRows='+numOfRows\n",
    "paramset"
   ]
  },
  {
   "cell_type": "code",
   "execution_count": 9,
   "id": "d34be6a6-75f8-4e7a-9735-b5d9c101574d",
   "metadata": {},
   "outputs": [
    {
     "data": {
      "text/plain": [
       "'http://apis.data.go.kr/B552657/ErmctInsttInfoInqireService/getParmacyListInfoInqire?servicekey=azOlzHmE12kpPv%2F6L9CM1ylcu%2Bfqgba5RR%2Fxip8K1OQuncWE3OGzAW5hiE2oKb6fbaMFwkSf8YGy1sytUI5feA%3D%3D&QT=1&QN=%EC%82%BC%EC%84%B1%EC%95%BD%EA%B5%AD&Q0=%EC%84%9C%EC%9A%B8%ED%8A%B9%EB%B3%84%EC%8B%9C&Q1=%EA%B0%95%EB%82%A8%EA%B5%AC&ORD=NAME&numOfRows=10'"
      ]
     },
     "execution_count": 9,
     "metadata": {},
     "output_type": "execute_result"
    }
   ],
   "source": [
    "url = endpoint + paramset\n",
    "url"
   ]
  },
  {
   "cell_type": "code",
   "execution_count": 10,
   "id": "015ffb80-eb3b-4af7-9fba-a5d86059572b",
   "metadata": {},
   "outputs": [
    {
     "name": "stderr",
     "output_type": "stream",
     "text": [
      "/usr/local/lib/python3.8/dist-packages/bs4/builder/__init__.py:545: XMLParsedAsHTMLWarning: It looks like you're parsing an XML document using an HTML parser. If this really is an HTML document (maybe it's XHTML?), you can ignore or filter this warning. If it's XML, you should know that using an XML parser will be more reliable. To parse this document as XML, make sure you have the lxml package installed, and pass the keyword argument `features=\"xml\"` into the BeautifulSoup constructor.\n",
      "  warnings.warn(\n"
     ]
    },
    {
     "data": {
      "text/plain": [
       "<?xml version=\"1.0\" encoding=\"UTF-8\" standalone=\"yes\"?><response><header><resultcode>00</resultcode><resultmsg>NORMAL SERVICE.</resultmsg></header><body><items><item><dutyaddr>서울특별시 강남구 일원로 53 (일원동) </dutyaddr><dutymapimg>소림빌딩 1층</dutymapimg><dutyname>E-삼성약국</dutyname><dutytel1>02-3412-1254</dutytel1><dutytime1c>1900</dutytime1c><dutytime1s>0900</dutytime1s><dutytime2c>1900</dutytime2c><dutytime2s>0900</dutytime2s><dutytime3c>1900</dutytime3c><dutytime3s>0900</dutytime3s><dutytime4c>1900</dutytime4c><dutytime4s>0900</dutytime4s><dutytime5c>1900</dutytime5c><dutytime5s>0900</dutytime5s><dutytime6c>1300</dutytime6c><dutytime6s>0900</dutytime6s><hpid>C1104799</hpid><postcdn1>063</postcdn1><postcdn2>43 </postcdn2><rnum>1</rnum><wgs84lat>37.48926299528938</wgs84lat><wgs84lon>127.08181088280385</wgs84lon></item><item><dutyaddr>서울특별시 강남구 일원로 45, 대훈빌딩 1층 (일원동)</dutyaddr><dutymapimg>대청역 4번출구에서 423m</dutymapimg><dutyname>무지개삼성약국</dutyname><dutytel1>02-2226-5467</dutytel1><dutytime1c>1900</dutytime1c><dutytime1s>0900</dutytime1s><dutytime2c>1900</dutytime2c><dutytime2s>0900</dutytime2s><dutytime3c>1900</dutytime3c><dutytime3s>0900</dutytime3s><dutytime4c>1900</dutytime4c><dutytime4s>0900</dutytime4s><dutytime5c>1900</dutytime5c><dutytime5s>0900</dutytime5s><dutytime6c>1300</dutytime6c><dutytime6s>0900</dutytime6s><hpid>C1109561</hpid><postcdn1>063</postcdn1><postcdn2>43 </postcdn2><rnum>2</rnum><wgs84lat>37.489904628125</wgs84lat><wgs84lon>127.08151340546</wgs84lon></item><item><dutyaddr>서울특별시 강남구 광평로19길 10, 101호 (수서동, 까치마을아파트상가)</dutyaddr><dutymapimg>삼성의료원10번출근처/까치마을아파트상가 101호</dutymapimg><dutyname>삼성약국</dutyname><dutytel1>02-451-7281</dutytel1><dutytime1c>2030</dutytime1c><dutytime1s>0900</dutytime1s><dutytime2c>2030</dutytime2c><dutytime2s>0900</dutytime2s><dutytime3c>2030</dutytime3c><dutytime3s>0900</dutytime3s><dutytime4c>2030</dutytime4c><dutytime4s>0900</dutytime4s><dutytime5c>2030</dutytime5c><dutytime5s>0900</dutytime5s><dutytime6c>2030</dutytime6c><dutytime6s>0900</dutytime6s><hpid>C1101446</hpid><postcdn1>063</postcdn1><postcdn2>54 </postcdn2><rnum>3</rnum><wgs84lat>37.485485349127</wgs84lat><wgs84lon>127.086601738647</wgs84lon></item><item><dutyaddr>서울특별시 강남구 일원로 53, 1층 (일원동, 소림빌딩)</dutyaddr><dutyname>이삼성약국</dutyname><dutytel1>02-3412-1254</dutytel1><dutytime1c>1900</dutytime1c><dutytime1s>0900</dutytime1s><dutytime2c>1900</dutytime2c><dutytime2s>0900</dutytime2s><dutytime3c>1900</dutytime3c><dutytime3s>0900</dutytime3s><dutytime4c>1900</dutytime4c><dutytime4s>0900</dutytime4s><dutytime5c>1900</dutytime5c><dutytime5s>0900</dutytime5s><dutytime6c>1300</dutytime6c><dutytime6s>0900</dutytime6s><hpid>C1109216</hpid><postcdn1>063</postcdn1><postcdn2>43 </postcdn2><rnum>4</rnum><wgs84lat>37.4892626357407</wgs84lat><wgs84lon>127.081809638604</wgs84lon></item></items><numofrows>10</numofrows><pageno>1</pageno><totalcount>4</totalcount></body></response>"
      ]
     },
     "execution_count": 10,
     "metadata": {},
     "output_type": "execute_result"
    }
   ],
   "source": [
    "result=requests.get(url)\n",
    "bs_obj=BeautifulSoup(result.content,'html.parser')\n",
    "bs_obj"
   ]
  },
  {
   "cell_type": "code",
   "execution_count": 16,
   "id": "7c4d30a8-a27f-46a8-8e47-482665a3e33c",
   "metadata": {},
   "outputs": [
    {
     "data": {
      "text/plain": [
       "'E-삼성약국'"
      ]
     },
     "execution_count": 16,
     "metadata": {},
     "output_type": "execute_result"
    }
   ],
   "source": [
    "len(bs_obj.findAll('item'))\n",
    "bs_obj.findAll('item')[0].dutyname.text"
   ]
  },
  {
   "cell_type": "code",
   "execution_count": 18,
   "id": "5172737c-e7b5-4744-934c-eb9f408c9634",
   "metadata": {},
   "outputs": [],
   "source": [
    "# 변수명과 파라미터명 매칭시켜서 파라미터 값 설명\n",
    "QT = '1' # 약국 영업 요일 전달\n",
    "QN = quote('삼성약국') # 검색하고자하는 약국의 이름(부분)\n",
    "Q0 = quote('서울특별시') # 광역시도\n",
    "Q1 = quote('강남구') # 시군구\n",
    "ORD = 'NAME' # 정렬기준\n",
    "numOfRows = '6000' # 추출 data 수"
   ]
  },
  {
   "cell_type": "markdown",
   "id": "78c6787c-a8d8-4ec5-a504-c7bad1158e34",
   "metadata": {},
   "source": [
    "### 서울시의 모든 약국 정보 추출"
   ]
  },
  {
   "cell_type": "code",
   "execution_count": 24,
   "id": "5b2e7e74-00e8-43ac-918e-a9c575df4180",
   "metadata": {},
   "outputs": [
    {
     "data": {
      "text/plain": [
       "'?servicekey=azOlzHmE12kpPv%2F6L9CM1ylcu%2Bfqgba5RR%2Fxip8K1OQuncWE3OGzAW5hiE2oKb6fbaMFwkSf8YGy1sytUI5feA%3D%3D&Q0=%EC%84%9C%EC%9A%B8%ED%8A%B9%EB%B3%84%EC%8B%9C&ORD=NAME&numOfRows=6000'"
      ]
     },
     "execution_count": 24,
     "metadata": {},
     "output_type": "execute_result"
    }
   ],
   "source": [
    "paramset = '?servicekey='+servicekey + \\\n",
    "           '&Q0='+Q0 + \\\n",
    "           '&ORD='+ORD + '&numOfRows='+numOfRows\n",
    "paramset"
   ]
  },
  {
   "cell_type": "code",
   "execution_count": 25,
   "id": "74b512b8-022a-4bc0-9837-b63461bae5a5",
   "metadata": {},
   "outputs": [],
   "source": [
    "url = endpoint + paramset"
   ]
  },
  {
   "cell_type": "code",
   "execution_count": 26,
   "id": "999867e1-ac06-42ec-bed6-fd9e6ac8cdfb",
   "metadata": {},
   "outputs": [
    {
     "data": {
      "text/plain": [
       "5407"
      ]
     },
     "execution_count": 26,
     "metadata": {},
     "output_type": "execute_result"
    }
   ],
   "source": [
    "res = requests.get(url)\n",
    "bs_obj=BeautifulSoup(res.content,'html.parser')\n",
    "res_fin = bs_obj.find_all('item')\n",
    "len(res_fin)"
   ]
  },
  {
   "cell_type": "code",
   "execution_count": 32,
   "id": "4ad0847a-9b00-4659-b6dd-698a77ac9c48",
   "metadata": {},
   "outputs": [],
   "source": [
    "#[item.dutyname.text for item in res_fin]\n",
    "#[item.dutyaddr.text for item in res_fin]\n",
    "#[item.dutytel1.text for item in res_fin]"
   ]
  },
  {
   "cell_type": "code",
   "execution_count": 33,
   "id": "2ab9f5eb-e4e5-4a5c-b777-fb3b2ca0b119",
   "metadata": {},
   "outputs": [],
   "source": [
    "# 서울시의 약국정보 data df에 저장\n",
    "name = [item.dutyname.text for item in res_fin]\n",
    "addr = [item.dutyaddr.text for item in res_fin]\n",
    "tel = [item.dutytel1.text for item in res_fin]"
   ]
  },
  {
   "cell_type": "code",
   "execution_count": 34,
   "id": "6898f314-f781-4e82-aff5-31809f6af231",
   "metadata": {},
   "outputs": [
    {
     "data": {
      "text/html": [
       "<div>\n",
       "<style scoped>\n",
       "    .dataframe tbody tr th:only-of-type {\n",
       "        vertical-align: middle;\n",
       "    }\n",
       "\n",
       "    .dataframe tbody tr th {\n",
       "        vertical-align: top;\n",
       "    }\n",
       "\n",
       "    .dataframe thead th {\n",
       "        text-align: right;\n",
       "    }\n",
       "</style>\n",
       "<table border=\"1\" class=\"dataframe\">\n",
       "  <thead>\n",
       "    <tr style=\"text-align: right;\">\n",
       "      <th></th>\n",
       "      <th>약국명</th>\n",
       "      <th>주소</th>\n",
       "      <th>전화번호</th>\n",
       "    </tr>\n",
       "  </thead>\n",
       "  <tbody>\n",
       "    <tr>\n",
       "      <th>5402</th>\n",
       "      <td>힐스테이트솔약국</td>\n",
       "      <td>서울특별시 강서구 강서로 242, 상가동 1층 151호 (화곡동, 강서힐스테이트)</td>\n",
       "      <td>02-2695-6121</td>\n",
       "    </tr>\n",
       "    <tr>\n",
       "      <th>5403</th>\n",
       "      <td>힘찬약국</td>\n",
       "      <td>서울특별시 도봉구 삼양로 580-4, 1층 101호 (쌍문동, 노스브릭)</td>\n",
       "      <td>02-996-9114</td>\n",
       "    </tr>\n",
       "    <tr>\n",
       "      <th>5404</th>\n",
       "      <td>힘찬약국</td>\n",
       "      <td>서울특별시 중구 장충단로13길 7, 401호 (을지로6가, 을호빌딩)</td>\n",
       "      <td>02-2279-7588</td>\n",
       "    </tr>\n",
       "    <tr>\n",
       "      <th>5405</th>\n",
       "      <td>힘찬약국</td>\n",
       "      <td>서울특별시 광진구 뚝섬로 631-1, 1층 (자양동)</td>\n",
       "      <td>02-454-1221</td>\n",
       "    </tr>\n",
       "    <tr>\n",
       "      <th>5406</th>\n",
       "      <td>힘챤약국</td>\n",
       "      <td>서울특별시 성북구 보국문로 16-1</td>\n",
       "      <td>02-942-2088</td>\n",
       "    </tr>\n",
       "  </tbody>\n",
       "</table>\n",
       "</div>"
      ],
      "text/plain": [
       "           약국명                                             주소          전화번호\n",
       "5402  힐스테이트솔약국  서울특별시 강서구 강서로 242, 상가동 1층 151호 (화곡동, 강서힐스테이트)  02-2695-6121\n",
       "5403      힘찬약국       서울특별시 도봉구 삼양로 580-4, 1층 101호 (쌍문동, 노스브릭)   02-996-9114\n",
       "5404      힘찬약국         서울특별시 중구 장충단로13길 7, 401호 (을지로6가, 을호빌딩)  02-2279-7588\n",
       "5405      힘찬약국                  서울특별시 광진구 뚝섬로 631-1, 1층 (자양동)   02-454-1221\n",
       "5406      힘챤약국                            서울특별시 성북구 보국문로 16-1   02-942-2088"
      ]
     },
     "execution_count": 34,
     "metadata": {},
     "output_type": "execute_result"
    }
   ],
   "source": [
    "df_fin = pd.DataFrame({'약국명':name, '주소':addr, '전화번호':tel})\n",
    "df_fin.tail()"
   ]
  },
  {
   "cell_type": "code",
   "execution_count": 35,
   "id": "13c504f4-b2bd-4ecb-a8fe-889fb4426ba8",
   "metadata": {},
   "outputs": [],
   "source": [
    "df_fin.to_csv('crawl_data/서울시_약국정보.csv')"
   ]
  },
  {
   "cell_type": "markdown",
   "id": "580dddc5-e41c-4297-a0ac-3630a35f7267",
   "metadata": {},
   "source": [
    "### 서울시 약국 중 월요일 야간에 운영하는 약국 정보\n",
    "- 오후 9시 이후에 문을 닫는 약국"
   ]
  },
  {
   "cell_type": "code",
   "execution_count": 40,
   "id": "80372fee-75fd-4c4a-ad35-42d7883c3a39",
   "metadata": {},
   "outputs": [
    {
     "data": {
      "text/plain": [
       "False"
      ]
     },
     "execution_count": 40,
     "metadata": {},
     "output_type": "execute_result"
    }
   ],
   "source": [
    "# 월요일 영업 종료시간이 21:00분 이후인지 확인하는 코드\n",
    "# <dutyutime1c> 태그의 텍스트를 활용해서 조건 확인\n",
    "int(res_fin[1].dutytime1c.text) > 2100"
   ]
  },
  {
   "cell_type": "code",
   "execution_count": 44,
   "id": "c07fa56a-19bd-49ea-8619-752ffe5afcdc",
   "metadata": {},
   "outputs": [],
   "source": [
    "# 초기 변수 생성\n",
    "name=[]\n",
    "adr=[]\n",
    "tel=[]\n",
    "c_time_li=[]\n",
    "count=0"
   ]
  },
  {
   "cell_type": "code",
   "execution_count": 45,
   "id": "abd27003-2770-4e63-93fe-dae9f42dba92",
   "metadata": {},
   "outputs": [],
   "source": [
    "for item in res_fin :\n",
    "    tmp_time=item.find('dutytime1c') # 월요일 휴무인 약국은 태그가 없음\n",
    "    if tmp_time != None :\n",
    "        c_time=int(tmp_time.text)\n",
    "        if c_time > 2100 :\n",
    "            count=count+1\n",
    "            name.append(item.find('dutyname').text)\n",
    "            adr.append(item.find('dutyaddr').text)\n",
    "            tel.append(item.find('dutytel1').text)\n",
    "            c_time_li.append(item.find('dutytime1c').text)"
   ]
  },
  {
   "cell_type": "code",
   "execution_count": 47,
   "id": "5f1c3c71-7604-447f-b512-e45b28807a2b",
   "metadata": {},
   "outputs": [
    {
     "data": {
      "text/plain": [
       "(752, 752, 752, 752)"
      ]
     },
     "execution_count": 47,
     "metadata": {},
     "output_type": "execute_result"
    }
   ],
   "source": [
    "count\n",
    "len(name), len(adr), len(tel), len(c_time_li)"
   ]
  },
  {
   "cell_type": "code",
   "execution_count": 48,
   "id": "1dcd6558-338a-4367-9081-a806a479376c",
   "metadata": {},
   "outputs": [
    {
     "data": {
      "text/html": [
       "<div>\n",
       "<style scoped>\n",
       "    .dataframe tbody tr th:only-of-type {\n",
       "        vertical-align: middle;\n",
       "    }\n",
       "\n",
       "    .dataframe tbody tr th {\n",
       "        vertical-align: top;\n",
       "    }\n",
       "\n",
       "    .dataframe thead th {\n",
       "        text-align: right;\n",
       "    }\n",
       "</style>\n",
       "<table border=\"1\" class=\"dataframe\">\n",
       "  <thead>\n",
       "    <tr style=\"text-align: right;\">\n",
       "      <th></th>\n",
       "      <th>약국명</th>\n",
       "      <th>주소</th>\n",
       "      <th>전화번호</th>\n",
       "      <th>종료시간</th>\n",
       "    </tr>\n",
       "  </thead>\n",
       "  <tbody>\n",
       "    <tr>\n",
       "      <th>747</th>\n",
       "      <td>휴베이스하이약국</td>\n",
       "      <td>서울특별시 중구 명동9가길 14, 메트로호텔 1층 (을지로2가)</td>\n",
       "      <td>070-7778-8275</td>\n",
       "      <td>2200</td>\n",
       "    </tr>\n",
       "    <tr>\n",
       "      <th>748</th>\n",
       "      <td>휴베이스하이약국</td>\n",
       "      <td>서울특별시 중구 명동9가길 14, 메트로호텔 1층 (을지로2가)</td>\n",
       "      <td>070-7798-8275</td>\n",
       "      <td>2200</td>\n",
       "    </tr>\n",
       "    <tr>\n",
       "      <th>749</th>\n",
       "      <td>흥명약국</td>\n",
       "      <td>서울특별시 동대문구 고산자로30길 56 (용두동)</td>\n",
       "      <td>02-963-0617</td>\n",
       "      <td>2300</td>\n",
       "    </tr>\n",
       "    <tr>\n",
       "      <th>750</th>\n",
       "      <td>희망약국</td>\n",
       "      <td>서울특별시 관악구 쑥고개로 53, 1층 (봉천동)</td>\n",
       "      <td>02-874-9488</td>\n",
       "      <td>2130</td>\n",
       "    </tr>\n",
       "    <tr>\n",
       "      <th>751</th>\n",
       "      <td>희망약국</td>\n",
       "      <td>서울특별시 노원구 동일로230가길 15, 103호 (상계동, 우방아파트상가)</td>\n",
       "      <td>02-939-9831</td>\n",
       "      <td>2200</td>\n",
       "    </tr>\n",
       "  </tbody>\n",
       "</table>\n",
       "</div>"
      ],
      "text/plain": [
       "          약국명                                          주소           전화번호  종료시간\n",
       "747  휴베이스하이약국         서울특별시 중구 명동9가길 14, 메트로호텔 1층 (을지로2가)  070-7778-8275  2200\n",
       "748  휴베이스하이약국         서울특별시 중구 명동9가길 14, 메트로호텔 1층 (을지로2가)  070-7798-8275  2200\n",
       "749      흥명약국                 서울특별시 동대문구 고산자로30길 56 (용두동)    02-963-0617  2300\n",
       "750      희망약국                 서울특별시 관악구 쑥고개로 53, 1층 (봉천동)    02-874-9488  2130\n",
       "751      희망약국  서울특별시 노원구 동일로230가길 15, 103호 (상계동, 우방아파트상가)    02-939-9831  2200"
      ]
     },
     "execution_count": 48,
     "metadata": {},
     "output_type": "execute_result"
    }
   ],
   "source": [
    "df_mon_night=pd.DataFrame({'약국명':name, '주소':adr, '전화번호':tel, '종료시간':c_time_li})\n",
    "df_mon_night.tail()"
   ]
  },
  {
   "cell_type": "code",
   "execution_count": 49,
   "id": "2dedf220-259a-4d7f-89d4-ab7f5da9298b",
   "metadata": {},
   "outputs": [],
   "source": [
    "df_mon_night.to_csv('./crawl_data/서울시월요일심야영업약국정보.csv')"
   ]
  },
  {
   "cell_type": "markdown",
   "id": "4688b535-9d94-4043-bcf8-44e0b65a7970",
   "metadata": {},
   "source": [
    "### 연습문제\n",
    "- 슬랙으로 코드 제출\n",
    "- 서울시에서 토요일이나 일요일에 영업하는 약국의 정보를 추출후 df 생성 저장\n",
    "    - 약국명, 주소, 전화번호, 토요일영업여부, 일요일영업여부, 토요일종료시간, 일요일종료시간\n",
    "    - 토요일/일요일영업여부값은 : Y/N\n",
    "    - 서울시주말영업약국.csv 로 저장\n",
    "- 서울시 각 구별로 약국의 수를 비교하는 막대그래프 생성"
   ]
  },
  {
   "cell_type": "code",
   "execution_count": 50,
   "id": "de15887a-c018-42ca-97f8-79878c5317d3",
   "metadata": {},
   "outputs": [],
   "source": [
    "name=[]\n",
    "adr=[]\n",
    "tel=[]\n",
    "sat=[]\n",
    "sun=[]\n",
    "sat_c=[]\n",
    "sun_c=[]\n",
    "count=0"
   ]
  },
  {
   "cell_type": "code",
   "execution_count": 51,
   "id": "f775225e-9461-43ed-94ca-0be0d330d44a",
   "metadata": {},
   "outputs": [],
   "source": [
    "for item in res_fin :\n",
    "    st_item = item.find('dutytime6s')\n",
    "    su_item = item.find('dutytime7s')\n",
    "    \n",
    "    if (st_item != None) and (su_item != None) :        \n",
    "            name.append(item.find('dutyname').text)\n",
    "            adr.append(item.find('dutyaddr').text)\n",
    "            tel.append(item.find('dutytel1').text)\n",
    "            sat.append('y')\n",
    "            sun.append('y')\n",
    "            sat_c.append(item.find('dutytime6c').text)\n",
    "            sun_c.append(item.find('dutytime7c').text)\n",
    "    elif su_item != None :\n",
    "            name.append(item.find('dutyname').text)\n",
    "            adr.append(item.find('dutyaddr').text)\n",
    "            tel.append(item.find('dutytel1').text)\n",
    "            sat.append('n')\n",
    "            sun.append('y')\n",
    "            sat_c.append('None')\n",
    "            sun_c.append(item.find('dutytime7c').text)     \n",
    "    elif st_item != None :\n",
    "            name.append(item.find('dutyname').text)\n",
    "            adr.append(item.find('dutyaddr').text)\n",
    "            tel.append(item.find('dutytel1').text)\n",
    "            sat.append('y')\n",
    "            sun.append('n')\n",
    "            sat_c.append(item.find('dutytime6c').text)\n",
    "            sun_c.append('None')"
   ]
  },
  {
   "cell_type": "code",
   "execution_count": 52,
   "id": "518bdf0f-543c-4e1e-8a56-3cf74c2d8213",
   "metadata": {},
   "outputs": [
    {
     "data": {
      "text/plain": [
       "(5210, 5210, 5210, 5210, 5210, 5210, 5210)"
      ]
     },
     "execution_count": 52,
     "metadata": {},
     "output_type": "execute_result"
    }
   ],
   "source": [
    "len(name),len(adr),len(tel),len(sat),len(sun),len(sat_c),len(sun_c)"
   ]
  },
  {
   "cell_type": "code",
   "execution_count": 53,
   "id": "abc73176-73e6-48c5-9c56-8bcd5753a50e",
   "metadata": {},
   "outputs": [],
   "source": [
    "df_fin=pd.DataFrame({'약국명':name,'주소':adr, '전화번호':tel, '토요일영업여부':sat, \n",
    "                     '일요일영업여부':sun, '토요일종료시간':sat_c,'일요일종료시간':sun_c})"
   ]
  },
  {
   "cell_type": "code",
   "execution_count": 54,
   "id": "a4637973-0b13-4dca-ad97-0582c877f08a",
   "metadata": {},
   "outputs": [
    {
     "data": {
      "text/html": [
       "<div>\n",
       "<style scoped>\n",
       "    .dataframe tbody tr th:only-of-type {\n",
       "        vertical-align: middle;\n",
       "    }\n",
       "\n",
       "    .dataframe tbody tr th {\n",
       "        vertical-align: top;\n",
       "    }\n",
       "\n",
       "    .dataframe thead th {\n",
       "        text-align: right;\n",
       "    }\n",
       "</style>\n",
       "<table border=\"1\" class=\"dataframe\">\n",
       "  <thead>\n",
       "    <tr style=\"text-align: right;\">\n",
       "      <th></th>\n",
       "      <th>약국명</th>\n",
       "      <th>주소</th>\n",
       "      <th>전화번호</th>\n",
       "      <th>토요일영업여부</th>\n",
       "      <th>일요일영업여부</th>\n",
       "      <th>토요일종료시간</th>\n",
       "      <th>일요일종료시간</th>\n",
       "    </tr>\n",
       "  </thead>\n",
       "  <tbody>\n",
       "    <tr>\n",
       "      <th>0</th>\n",
       "      <td>100세건강약국</td>\n",
       "      <td>서울특별시 강남구 헌릉로571길 7, 강남레체 1층 101호 (세곡동)</td>\n",
       "      <td>02-445-1460</td>\n",
       "      <td>y</td>\n",
       "      <td>n</td>\n",
       "      <td>1900</td>\n",
       "      <td>None</td>\n",
       "    </tr>\n",
       "    <tr>\n",
       "      <th>1</th>\n",
       "      <td>100세약국</td>\n",
       "      <td>서울특별시 영등포구 양평로 24, (당산동6가)</td>\n",
       "      <td>02-2678-8217</td>\n",
       "      <td>y</td>\n",
       "      <td>n</td>\n",
       "      <td>1700</td>\n",
       "      <td>None</td>\n",
       "    </tr>\n",
       "    <tr>\n",
       "      <th>2</th>\n",
       "      <td>1898광장약국</td>\n",
       "      <td>서울특별시 중구 명동길 74, 카톨릭회관 신관 B113호 (명동2가)</td>\n",
       "      <td>02-0000-0000</td>\n",
       "      <td>y</td>\n",
       "      <td>y</td>\n",
       "      <td>2000</td>\n",
       "      <td>2000</td>\n",
       "    </tr>\n",
       "    <tr>\n",
       "      <th>3</th>\n",
       "      <td>1번약국</td>\n",
       "      <td>서울특별시 관악구 남부순환로 1832 1층</td>\n",
       "      <td>02-872-7583</td>\n",
       "      <td>y</td>\n",
       "      <td>y</td>\n",
       "      <td>1700</td>\n",
       "      <td>1500</td>\n",
       "    </tr>\n",
       "    <tr>\n",
       "      <th>4</th>\n",
       "      <td>1번약국</td>\n",
       "      <td>서울특별시 관악구 남부순환로 1832, 1층 1호 (봉천동)</td>\n",
       "      <td>02-882-7583</td>\n",
       "      <td>y</td>\n",
       "      <td>y</td>\n",
       "      <td>1700</td>\n",
       "      <td>1500</td>\n",
       "    </tr>\n",
       "  </tbody>\n",
       "</table>\n",
       "</div>"
      ],
      "text/plain": [
       "        약국명                                       주소          전화번호 토요일영업여부  \\\n",
       "0  100세건강약국  서울특별시 강남구 헌릉로571길 7, 강남레체 1층 101호 (세곡동)   02-445-1460       y   \n",
       "1    100세약국               서울특별시 영등포구 양평로 24, (당산동6가)  02-2678-8217       y   \n",
       "2  1898광장약국   서울특별시 중구 명동길 74, 카톨릭회관 신관 B113호 (명동2가)  02-0000-0000       y   \n",
       "3      1번약국                  서울특별시 관악구 남부순환로 1832 1층   02-872-7583       y   \n",
       "4      1번약국        서울특별시 관악구 남부순환로 1832, 1층 1호 (봉천동)   02-882-7583       y   \n",
       "\n",
       "  일요일영업여부 토요일종료시간 일요일종료시간  \n",
       "0       n    1900    None  \n",
       "1       n    1700    None  \n",
       "2       y    2000    2000  \n",
       "3       y    1700    1500  \n",
       "4       y    1700    1500  "
      ]
     },
     "execution_count": 54,
     "metadata": {},
     "output_type": "execute_result"
    }
   ],
   "source": [
    "df_fin.head()"
   ]
  },
  {
   "cell_type": "code",
   "execution_count": 55,
   "id": "57049dcd-c7c2-4dd3-8c2b-462230e47010",
   "metadata": {},
   "outputs": [
    {
     "data": {
      "text/html": [
       "<div>\n",
       "<style scoped>\n",
       "    .dataframe tbody tr th:only-of-type {\n",
       "        vertical-align: middle;\n",
       "    }\n",
       "\n",
       "    .dataframe tbody tr th {\n",
       "        vertical-align: top;\n",
       "    }\n",
       "\n",
       "    .dataframe thead th {\n",
       "        text-align: right;\n",
       "    }\n",
       "</style>\n",
       "<table border=\"1\" class=\"dataframe\">\n",
       "  <thead>\n",
       "    <tr style=\"text-align: right;\">\n",
       "      <th></th>\n",
       "      <th>약국명</th>\n",
       "      <th>주소</th>\n",
       "      <th>전화번호</th>\n",
       "      <th>토요일영업여부</th>\n",
       "      <th>일요일영업여부</th>\n",
       "      <th>토요일종료시간</th>\n",
       "      <th>일요일종료시간</th>\n",
       "    </tr>\n",
       "  </thead>\n",
       "  <tbody>\n",
       "    <tr>\n",
       "      <th>5205</th>\n",
       "      <td>힐스테이트솔약국</td>\n",
       "      <td>서울특별시 강서구 강서로 242, 상가동 1층 151호 (화곡동, 강서힐스테이트)</td>\n",
       "      <td>02-2695-6121</td>\n",
       "      <td>y</td>\n",
       "      <td>y</td>\n",
       "      <td>1500</td>\n",
       "      <td>1400</td>\n",
       "    </tr>\n",
       "    <tr>\n",
       "      <th>5206</th>\n",
       "      <td>힘찬약국</td>\n",
       "      <td>서울특별시 도봉구 삼양로 580-4, 1층 101호 (쌍문동, 노스브릭)</td>\n",
       "      <td>02-996-9114</td>\n",
       "      <td>y</td>\n",
       "      <td>y</td>\n",
       "      <td>1800</td>\n",
       "      <td>1800</td>\n",
       "    </tr>\n",
       "    <tr>\n",
       "      <th>5207</th>\n",
       "      <td>힘찬약국</td>\n",
       "      <td>서울특별시 중구 장충단로13길 7, 401호 (을지로6가, 을호빌딩)</td>\n",
       "      <td>02-2279-7588</td>\n",
       "      <td>y</td>\n",
       "      <td>n</td>\n",
       "      <td>1600</td>\n",
       "      <td>None</td>\n",
       "    </tr>\n",
       "    <tr>\n",
       "      <th>5208</th>\n",
       "      <td>힘찬약국</td>\n",
       "      <td>서울특별시 광진구 뚝섬로 631-1, 1층 (자양동)</td>\n",
       "      <td>02-454-1221</td>\n",
       "      <td>y</td>\n",
       "      <td>n</td>\n",
       "      <td>1500</td>\n",
       "      <td>None</td>\n",
       "    </tr>\n",
       "    <tr>\n",
       "      <th>5209</th>\n",
       "      <td>힘챤약국</td>\n",
       "      <td>서울특별시 성북구 보국문로 16-1</td>\n",
       "      <td>02-942-2088</td>\n",
       "      <td>y</td>\n",
       "      <td>n</td>\n",
       "      <td>1400</td>\n",
       "      <td>None</td>\n",
       "    </tr>\n",
       "  </tbody>\n",
       "</table>\n",
       "</div>"
      ],
      "text/plain": [
       "           약국명                                             주소          전화번호  \\\n",
       "5205  힐스테이트솔약국  서울특별시 강서구 강서로 242, 상가동 1층 151호 (화곡동, 강서힐스테이트)  02-2695-6121   \n",
       "5206      힘찬약국       서울특별시 도봉구 삼양로 580-4, 1층 101호 (쌍문동, 노스브릭)   02-996-9114   \n",
       "5207      힘찬약국         서울특별시 중구 장충단로13길 7, 401호 (을지로6가, 을호빌딩)  02-2279-7588   \n",
       "5208      힘찬약국                  서울특별시 광진구 뚝섬로 631-1, 1층 (자양동)   02-454-1221   \n",
       "5209      힘챤약국                            서울특별시 성북구 보국문로 16-1   02-942-2088   \n",
       "\n",
       "     토요일영업여부 일요일영업여부 토요일종료시간 일요일종료시간  \n",
       "5205       y       y    1500    1400  \n",
       "5206       y       y    1800    1800  \n",
       "5207       y       n    1600    None  \n",
       "5208       y       n    1500    None  \n",
       "5209       y       n    1400    None  "
      ]
     },
     "execution_count": 55,
     "metadata": {},
     "output_type": "execute_result"
    }
   ],
   "source": [
    "df_fin.tail()"
   ]
  },
  {
   "cell_type": "code",
   "execution_count": 56,
   "id": "a88ac9ca-82c7-4fdc-b5fd-6ef7a0457cb9",
   "metadata": {},
   "outputs": [],
   "source": [
    "df_fin.to_csv('./crawl_data/서울시주말영업약국.csv')"
   ]
  },
  {
   "cell_type": "code",
   "execution_count": 59,
   "id": "57b52288-f3eb-499d-a127-4e85c7b87e2c",
   "metadata": {},
   "outputs": [
    {
     "name": "stdout",
     "output_type": "stream",
     "text": [
      "Collecting matplotlib\n",
      "  Downloading matplotlib-3.7.4-cp38-cp38-manylinux_2_12_x86_64.manylinux2010_x86_64.whl (9.2 MB)\n",
      "\u001b[K     |████████████████████████████████| 9.2 MB 21.8 MB/s eta 0:00:01\n",
      "\u001b[?25hRequirement already satisfied: numpy<2,>=1.20 in /usr/local/lib/python3.8/dist-packages (from matplotlib) (1.24.4)\n",
      "Requirement already satisfied: importlib-resources>=3.2.0; python_version < \"3.10\" in /usr/local/lib/python3.8/dist-packages (from matplotlib) (6.1.1)\n",
      "Collecting pillow>=6.2.0\n",
      "  Downloading Pillow-10.1.0-cp38-cp38-manylinux_2_17_x86_64.manylinux2014_x86_64.whl (3.5 MB)\n",
      "\u001b[K     |████████████████████████████████| 3.5 MB 48.7 MB/s eta 0:00:01\n",
      "\u001b[?25hCollecting pyparsing>=2.3.1\n",
      "  Downloading pyparsing-3.1.1-py3-none-any.whl (103 kB)\n",
      "\u001b[K     |████████████████████████████████| 103 kB 68.7 MB/s eta 0:00:01\n",
      "\u001b[?25hCollecting cycler>=0.10\n",
      "  Downloading cycler-0.12.1-py3-none-any.whl (8.3 kB)\n",
      "Requirement already satisfied: packaging>=20.0 in /usr/local/lib/python3.8/dist-packages (from matplotlib) (23.2)\n",
      "Collecting contourpy>=1.0.1\n",
      "  Downloading contourpy-1.1.1-cp38-cp38-manylinux_2_17_x86_64.manylinux2014_x86_64.whl (301 kB)\n",
      "\u001b[K     |████████████████████████████████| 301 kB 47.5 MB/s eta 0:00:01\n",
      "\u001b[?25hRequirement already satisfied: python-dateutil>=2.7 in /usr/local/lib/python3.8/dist-packages (from matplotlib) (2.8.2)\n",
      "Collecting fonttools>=4.22.0\n",
      "  Downloading fonttools-4.46.0-cp38-cp38-manylinux_2_17_x86_64.manylinux2014_x86_64.whl (4.7 MB)\n",
      "\u001b[K     |████████████████████████████████| 4.7 MB 36.8 MB/s eta 0:00:01\n",
      "\u001b[?25hCollecting kiwisolver>=1.0.1\n",
      "  Downloading kiwisolver-1.4.5-cp38-cp38-manylinux_2_5_x86_64.manylinux1_x86_64.whl (1.2 MB)\n",
      "\u001b[K     |████████████████████████████████| 1.2 MB 31.2 MB/s eta 0:00:01\n",
      "\u001b[?25hRequirement already satisfied: zipp>=3.1.0; python_version < \"3.10\" in /usr/local/lib/python3.8/dist-packages (from importlib-resources>=3.2.0; python_version < \"3.10\"->matplotlib) (3.17.0)\n",
      "Requirement already satisfied: six>=1.5 in /usr/local/lib/python3.8/dist-packages (from python-dateutil>=2.7->matplotlib) (1.16.0)\n",
      "Installing collected packages: pillow, pyparsing, cycler, contourpy, fonttools, kiwisolver, matplotlib\n",
      "Successfully installed contourpy-1.1.1 cycler-0.12.1 fonttools-4.46.0 kiwisolver-1.4.5 matplotlib-3.7.4 pillow-10.1.0 pyparsing-3.1.1\n"
     ]
    }
   ],
   "source": [
    "!pip install matplotlib"
   ]
  },
  {
   "cell_type": "code",
   "execution_count": 61,
   "id": "d14ae1cc-91cf-496c-bf7a-aab42ee03355",
   "metadata": {},
   "outputs": [],
   "source": [
    "import matplotlib.pyplot as plt\n",
    "import matplotlib.font_manager as fm"
   ]
  },
  {
   "cell_type": "code",
   "execution_count": 65,
   "id": "81690921-47c7-4fcf-9bf8-e8ef63bd2a5a",
   "metadata": {},
   "outputs": [
    {
     "data": {
      "text/plain": [
       "['/usr/local/lib/python3.8/dist-packages/matplotlib/mpl-data/fonts/ttf/DejaVuSans-Oblique.ttf',\n",
       " '/usr/local/lib/python3.8/dist-packages/matplotlib/mpl-data/fonts/ttf/cmmi10.ttf',\n",
       " '/usr/local/lib/python3.8/dist-packages/matplotlib/mpl-data/fonts/ttf/STIXSizFourSymBol.ttf',\n",
       " '/usr/local/lib/python3.8/dist-packages/matplotlib/mpl-data/fonts/ttf/DejaVuSansMono-Oblique.ttf',\n",
       " '/usr/local/lib/python3.8/dist-packages/matplotlib/mpl-data/fonts/ttf/STIXNonUniBolIta.ttf',\n",
       " '/usr/local/lib/python3.8/dist-packages/matplotlib/mpl-data/fonts/ttf/DejaVuSans-Bold.ttf',\n",
       " '/usr/local/lib/python3.8/dist-packages/matplotlib/mpl-data/fonts/ttf/STIXSizTwoSymBol.ttf',\n",
       " '/usr/local/lib/python3.8/dist-packages/matplotlib/mpl-data/fonts/ttf/cmb10.ttf',\n",
       " '/usr/local/lib/python3.8/dist-packages/matplotlib/mpl-data/fonts/ttf/DejaVuSerif-Italic.ttf',\n",
       " '/usr/local/lib/python3.8/dist-packages/matplotlib/mpl-data/fonts/ttf/DejaVuSerif-Bold.ttf',\n",
       " '/usr/local/lib/python3.8/dist-packages/matplotlib/mpl-data/fonts/ttf/DejaVuSans.ttf',\n",
       " '/usr/local/lib/python3.8/dist-packages/matplotlib/mpl-data/fonts/ttf/STIXSizFiveSymReg.ttf',\n",
       " '/usr/local/lib/python3.8/dist-packages/matplotlib/mpl-data/fonts/ttf/DejaVuSansMono-Bold.ttf',\n",
       " '/usr/local/lib/python3.8/dist-packages/matplotlib/mpl-data/fonts/ttf/DejaVuSans-BoldOblique.ttf',\n",
       " '/usr/local/lib/python3.8/dist-packages/matplotlib/mpl-data/fonts/ttf/cmex10.ttf',\n",
       " '/usr/local/lib/python3.8/dist-packages/matplotlib/mpl-data/fonts/ttf/STIXSizTwoSymReg.ttf',\n",
       " '/usr/local/lib/python3.8/dist-packages/matplotlib/mpl-data/fonts/ttf/DejaVuSerif-BoldItalic.ttf',\n",
       " '/usr/local/lib/python3.8/dist-packages/matplotlib/mpl-data/fonts/ttf/cmsy10.ttf',\n",
       " '/usr/local/lib/python3.8/dist-packages/matplotlib/mpl-data/fonts/ttf/cmr10.ttf',\n",
       " '/usr/local/lib/python3.8/dist-packages/matplotlib/mpl-data/fonts/ttf/DejaVuSerifDisplay.ttf',\n",
       " '/usr/local/lib/python3.8/dist-packages/matplotlib/mpl-data/fonts/ttf/STIXNonUni.ttf',\n",
       " '/usr/local/lib/python3.8/dist-packages/matplotlib/mpl-data/fonts/ttf/DejaVuSansDisplay.ttf',\n",
       " '/usr/local/lib/python3.8/dist-packages/matplotlib/mpl-data/fonts/ttf/DejaVuSansMono-BoldOblique.ttf',\n",
       " '/usr/local/lib/python3.8/dist-packages/matplotlib/mpl-data/fonts/ttf/STIXSizThreeSymBol.ttf',\n",
       " '/usr/local/lib/python3.8/dist-packages/matplotlib/mpl-data/fonts/ttf/STIXSizFourSymReg.ttf',\n",
       " '/usr/local/lib/python3.8/dist-packages/matplotlib/mpl-data/fonts/ttf/STIXSizOneSymBol.ttf',\n",
       " '/usr/local/lib/python3.8/dist-packages/matplotlib/mpl-data/fonts/ttf/STIXGeneralBol.ttf',\n",
       " '/usr/local/lib/python3.8/dist-packages/matplotlib/mpl-data/fonts/ttf/STIXGeneral.ttf',\n",
       " '/usr/local/lib/python3.8/dist-packages/matplotlib/mpl-data/fonts/ttf/STIXGeneralBolIta.ttf',\n",
       " '/usr/local/lib/python3.8/dist-packages/matplotlib/mpl-data/fonts/ttf/STIXNonUniBol.ttf',\n",
       " '/usr/local/lib/python3.8/dist-packages/matplotlib/mpl-data/fonts/ttf/STIXSizOneSymReg.ttf',\n",
       " '/usr/local/lib/python3.8/dist-packages/matplotlib/mpl-data/fonts/ttf/STIXGeneralItalic.ttf',\n",
       " '/usr/local/lib/python3.8/dist-packages/matplotlib/mpl-data/fonts/ttf/DejaVuSansMono.ttf',\n",
       " '/usr/local/lib/python3.8/dist-packages/matplotlib/mpl-data/fonts/ttf/STIXNonUniIta.ttf',\n",
       " '/usr/local/lib/python3.8/dist-packages/matplotlib/mpl-data/fonts/ttf/DejaVuSerif.ttf',\n",
       " '/usr/local/lib/python3.8/dist-packages/matplotlib/mpl-data/fonts/ttf/cmss10.ttf',\n",
       " '/usr/local/lib/python3.8/dist-packages/matplotlib/mpl-data/fonts/ttf/cmtt10.ttf',\n",
       " '/usr/local/lib/python3.8/dist-packages/matplotlib/mpl-data/fonts/ttf/STIXSizThreeSymReg.ttf',\n",
       " '/root/.local/share/fonts/D2Coding/D2Coding-Ver1.3.2-20180524.ttf',\n",
       " '/root/.local/share/fonts/D2Coding/D2Coding-Ver1.3.2-20180524.ttc',\n",
       " '/root/.local/share/fonts/D2CodingLigature/D2Coding-Ver1.3.2-20180524-ligature.ttf',\n",
       " '/usr/share/fonts/truetype/dejavu/DejaVuSans-Bold.ttf',\n",
       " '/usr/share/fonts/truetype/dejavu/DejaVuSans.ttf',\n",
       " '/root/.local/share/fonts/D2CodingAll/D2Coding-Ver1.3.2-20180524-all.ttc',\n",
       " '/usr/share/fonts/truetype/dejavu/DejaVuSansMono-Bold.ttf',\n",
       " '/usr/share/fonts/truetype/dejavu/DejaVuSerif.ttf',\n",
       " '/root/.local/share/fonts/D2Coding/D2CodingBold-Ver1.3.2-20180524.ttf',\n",
       " '/usr/share/fonts/truetype/dejavu/DejaVuSerif-Bold.ttf',\n",
       " '/root/.local/share/fonts/D2CodingLigature/D2Coding-Ver1.3.2-20180524-ligature.ttc',\n",
       " '/usr/share/fonts/truetype/dejavu/DejaVuSansMono.ttf',\n",
       " '/root/.local/share/fonts/D2CodingLigature/D2CodingBold-Ver1.3.2-20180524-ligature.ttf']"
      ]
     },
     "execution_count": 65,
     "metadata": {},
     "output_type": "execute_result"
    }
   ],
   "source": [
    "[f.fname for f in fm.fontManager.ttflist]"
   ]
  },
  {
   "cell_type": "code",
   "execution_count": 71,
   "id": "e95d188b-3f49-4f17-add1-4b2a6e8a9257",
   "metadata": {},
   "outputs": [
    {
     "name": "stdout",
     "output_type": "stream",
     "text": [
      "10.0\n",
      "['sans-serif']\n"
     ]
    }
   ],
   "source": [
    "print (plt.rcParams['font.size'] ) \n",
    "print (plt.rcParams['font.family'] )"
   ]
  },
  {
   "cell_type": "code",
   "execution_count": 74,
   "id": "5a5c38c5-1253-4113-8a12-935ed6f541a7",
   "metadata": {},
   "outputs": [],
   "source": [
    "import matplotlib.pyplot as plt\n",
    "plt.rcParams[\"font.family\"] = 'D2Coding'\n",
    "plt.rcParams['font.size'] = 12."
   ]
  },
  {
   "cell_type": "code",
   "execution_count": 76,
   "id": "10682f39-a618-4d4d-a985-afc6f438e66a",
   "metadata": {},
   "outputs": [
    {
     "data": {
      "text/plain": [
       "Text(0.5, 1.0, '서울시 구별 약국수')"
      ]
     },
     "execution_count": 76,
     "metadata": {},
     "output_type": "execute_result"
    },
    {
     "data": {
      "image/png": "[encoded data removed]",
      "text/plain": [
       "<Figure size 640x480 with 1 Axes>"
      ]
     },
     "metadata": {},
     "output_type": "display_data"
    }
   ],
   "source": [
    "import matplotlib.pyplot as plt\n",
    "tmp=[]\n",
    "for v in df_fin['주소'].values :\n",
    "    tmp.append(v.split(\" \")[1])\n",
    "pd.Series(tmp).value_counts().plot(kind='bar')\n",
    "plt.title('서울시 구별 약국수')"
   ]
  },
  {
   "cell_type": "code",
   "execution_count": null,
   "id": "e3ac4a4a-2a00-4a5e-a840-f680aae53234",
   "metadata": {},
   "outputs": [],
   "source": []
  }
 ],
 "metadata": {
  "kernelspec": {
   "display_name": "Python 3 (ipykernel)",
   "language": "python",
   "name": "python3"
  },
  "language_info": {
   "codemirror_mode": {
    "name": "ipython",
    "version": 3
   },
   "file_extension": ".py",
   "mimetype": "text/x-python",
   "name": "python",
   "nbconvert_exporter": "python",
   "pygments_lexer": "ipython3",
   "version": "3.8.10"
  }
 },
 "nbformat": 4,
 "nbformat_minor": 5
}
