{
 "cells": [
  {
   "cell_type": "markdown",
   "id": "b2ac2a19",
   "metadata": {},
   "source": [
    "## 한국 음식 분류 모델"
   ]
  },
  {
   "cell_type": "markdown",
   "id": "7fc5cbad",
   "metadata": {},
   "source": [
    "### 데이터 준비"
   ]
  },
  {
   "cell_type": "code",
   "execution_count": 4,
   "id": "bba9c17f",
   "metadata": {},
   "outputs": [],
   "source": [
    "from sklearn import model_selection\n",
    "from sklearn.model_selection import train_test_split\n",
    "from PIL import Image #이미지파일을 연결하고 변환가능한 객체 생성해주는 라이브러리\n",
    "import os, glob\n",
    "import numpy as np"
   ]
  },
  {
   "cell_type": "code",
   "execution_count": 1,
   "id": "9f898b10",
   "metadata": {},
   "outputs": [],
   "source": [
    "# 분류데이터 로딩을 위한 카테고리 지정\n",
    "# 데이터 저장 기본 폴더\n",
    "# 치킨 이미지는 ./Kfood/Chicken/*.jpg\n",
    "root_dir = \"./kfood/\"\n",
    "# 카테고리 명령 지정 (1)\n",
    "categories = [\"Chicken\", \"Dolsotbab\", \"Jeyugbokkeum\", \"Kimchi\", \n",
    "                \"Samgyeobsal\", \"SoybeanPasteStew\"]\n",
    "nb_classes = len(categories)"
   ]
  },
  {
   "cell_type": "code",
   "execution_count": 2,
   "id": "6144592f",
   "metadata": {},
   "outputs": [],
   "source": [
    "# 이미지 크기 지정 (2)\n"
   ]
  },
  {
   "cell_type": "code",
   "execution_count": 1,
   "id": "9261a800",
   "metadata": {},
   "outputs": [],
   "source": [
    "## 데이터 변수\n",
    "X = [] # 이미지 데이터\n",
    "Y = [] # 레이블 데이터\n",
    "\n",
    "for idx, category in enumerate(categories):\n",
    "    image_dir = root_dir + category\n",
    "    files = glob.glob(image_dir + \"/\" + \"*.jpg\")\n",
    "    print(image_dir + \"/\" +\"*.jpg\")\n",
    "\n",
    "    for i, f in enumerate(files):\n",
    "        # 이미지 로딩 (3)\n",
    "        #이미지 전처리 코드\n",
    "\n"
   ]
  },
  {
   "cell_type": "code",
   "execution_count": 11,
   "id": "af0be4eb",
   "metadata": {},
   "outputs": [],
   "source": [
    "# 이미지 형태 변경(전체 data array로 변경)\n",
    "X = np.array(X)\n",
    "Y = np.array(Y)"
   ]
  },
  {
   "cell_type": "code",
   "execution_count": 23,
   "id": "a6f09864",
   "metadata": {},
   "outputs": [
    {
     "data": {
      "text/plain": [
       "(146, 64, 64, 3)"
      ]
     },
     "execution_count": 23,
     "metadata": {},
     "output_type": "execute_result"
    }
   ],
   "source": [
    "X.shape"
   ]
  },
  {
   "cell_type": "code",
   "execution_count": 24,
   "id": "3c80976d",
   "metadata": {},
   "outputs": [
    {
     "data": {
      "text/plain": [
       "(146,)"
      ]
     },
     "execution_count": 24,
     "metadata": {},
     "output_type": "execute_result"
    }
   ],
   "source": [
    "Y.shape"
   ]
  },
  {
   "cell_type": "code",
   "execution_count": 12,
   "id": "a90b36e3",
   "metadata": {},
   "outputs": [
    {
     "name": "stderr",
     "output_type": "stream",
     "text": [
      "/home/tutor/.local/lib/python3.8/site-packages/numpy/lib/npyio.py:521: VisibleDeprecationWarning: Creating an ndarray from ragged nested sequences (which is a list-or-tuple of lists-or-tuples-or ndarrays with different lengths or shapes) is deprecated. If you meant to do this, you must specify 'dtype=object' when creating the ndarray.\n",
      "  arr = np.asanyarray(arr)\n"
     ]
    }
   ],
   "source": [
    "# 학습 데이터와 테스트 데이터 나누기 (4)\n",
    "X_train, X_test, Y_train, Y_test = train_test_split(X, Y)\n",
    "xy = (X_train, X_test, Y_train, Y_test)\n",
    "# 데이터 파일 저장 (5)\n",
    "\n",
    "np.save(root_dir+\"kfood.npy\",xy) \n",
    "# 대용량 이미지처리 하거나 자연어 처리를 진행 할 경우 중간파일을 저장할 필요가 있음\n",
    "# 자연어처리같은경우는  단어사전을 저장했다가 서비스등에 이용해야 함\n",
    "# 보통 numpy의 array 형식을 가장 많이 사용함\n",
    "# 딕셔너리 저장도 npy 형식으로 저장하면 효율적임"
   ]
  },
  {
   "cell_type": "markdown",
   "id": "a913eefc",
   "metadata": {},
   "source": [
    "### 합성곱 신경망 모델 생성"
   ]
  },
  {
   "cell_type": "code",
   "execution_count": 13,
   "id": "f603fa0e",
   "metadata": {},
   "outputs": [
    {
     "name": "stderr",
     "output_type": "stream",
     "text": [
      "2023-09-01 09:53:16.424537: I tensorflow/core/util/port.cc:110] oneDNN custom operations are on. You may see slightly different numerical results due to floating-point round-off errors from different computation orders. To turn them off, set the environment variable `TF_ENABLE_ONEDNN_OPTS=0`.\n",
      "2023-09-01 09:53:16.996049: I tensorflow/core/platform/cpu_feature_guard.cc:182] This TensorFlow binary is optimized to use available CPU instructions in performance-critical operations.\n",
      "To enable the following instructions: AVX2 AVX512F AVX512_VNNI FMA, in other operations, rebuild TensorFlow with the appropriate compiler flags.\n",
      "2023-09-01 09:53:18.613085: W tensorflow/compiler/tf2tensorrt/utils/py_utils.cc:38] TF-TRT Warning: Could not find TensorRT\n"
     ]
    }
   ],
   "source": [
    "## 사용할 모델 라이브러리 import\n",
    "import sys, os\n",
    "from keras.models import Sequential # 모델 구조를 생성하는 라이브러리\n",
    "from keras.layers import Convolution2D # 합성곱층을 생성하는 라이브러리(2차원 처리)\n",
    "from keras.layers import MaxPooling2D # 합성곱층에서 생성된 특성맵을 단순화하는 층(2차원처리)\n",
    "from keras.layers import Activation # 활성화함수 지정\n",
    "from keras.layers import Dropout # 규제적용 층\n",
    "from keras.layers import Flatten # 데이터를 1차원으로 변환시켜주는 층\n",
    "from keras.layers import Dense # 밀집층\n",
    "from keras.utils import np_utils\n",
    "import numpy as np"
   ]
  },
  {
   "cell_type": "code",
   "execution_count": 14,
   "id": "f3d0db17",
   "metadata": {},
   "outputs": [],
   "source": [
    "## 초기 설정\n",
    "root_dir = \"./kfood/\"\n",
    "categories = [\"Chicken\", \"Dolsotbab\", \"Jeyugbokk-eum\", \"Kimchi\", \n",
    "                \"Samgyeobsal\", \"SoybeanPasteStew\"]\n",
    "nb_classes = len(categories)\n",
    "image_size = 64"
   ]
  },
  {
   "cell_type": "code",
   "execution_count": 17,
   "id": "4fe94195",
   "metadata": {},
   "outputs": [],
   "source": [
    "# 저장해놓은 npy 파일 로드 후 최종 전처리 함수\n",
    "def load_dataset():\n",
    "\n",
    "    return  x_train, x_test, y_train, y_test\n"
   ]
  },
  {
   "cell_type": "code",
   "execution_count": 25,
   "id": "d04d02b4",
   "metadata": {},
   "outputs": [],
   "source": [
    "# 입력 이미지 크기에 따른 모델 구성 함수\n",
    "# 모델은 기본 cnn 모델이며 dropout으로 규제 설정 되어 있음\n",
    "def build_model(in_shape):\n",
    "\n",
    "\n",
    "    return model"
   ]
  },
  {
   "cell_type": "code",
   "execution_count": 2,
   "id": "c3431431",
   "metadata": {},
   "outputs": [],
   "source": [
    "# 입력 이미지 크기에 따른 모델 구성 함수\n",
    "# 모델은 기본 cnn 모델이며 dropout으로 규제 설정 되어 있음\n",
    "def build_model(in_shape):\n",
    "    model = Sequential()\n",
    "    model.add(Convolution2D(64, 3, 3, padding='Same', \n",
    "                input_shape=in_shape))\n",
    "    model.add(Activation('relu'))\n",
    "    model.add(MaxPooling2D(pool_size=(2,2)))\n",
    "#     model.add(Dropout(0.25)) # 25%의 필터를 끔\n",
    "    model.add(Convolution2D(64, 3, 3, padding='same'))\n",
    "    model.add(Activation('relu'))\n",
    "    model.add(Convolution2D(128, 3, 3))\n",
    "    model.add(MaxPooling2D(pool_size=(2,2),padding='same'))\n",
    "#     model.add(Dropout(0.25))\n",
    "    model.add(Flatten())\n",
    "    model.add(Dense(512))\n",
    "    model.add(Activation('relu'))\n",
    "    model.add(Dropout(0.3))\n",
    "    model.add(Dense(nb_classes))\n",
    "    model.add(Activation('softmax'))\n",
    "    model.compile(loss='categorical_crossentropy', \n",
    "                    optimizer='rmsprop', \n",
    "                    metrics=['accuracy'])\n",
    "\n",
    "    return model"
   ]
  },
  {
   "cell_type": "code",
   "execution_count": 26,
   "id": "e1ede81b",
   "metadata": {},
   "outputs": [],
   "source": [
    "# 모델 생성후 학습된 모델 반환하는 함수\n",
    "def model_train(x, y):\n",
    "\n",
    "    return model"
   ]
  },
  {
   "cell_type": "code",
   "execution_count": 39,
   "id": "5e9fc5ab",
   "metadata": {},
   "outputs": [],
   "source": [
    "# 모델 평가함수\n",
    "def model_eval(model, x, y):\n"
   ]
  },
  {
   "cell_type": "code",
   "execution_count": 2,
   "id": "131e0f73",
   "metadata": {},
   "outputs": [],
   "source": [
    "# 모델 학습 및 평가\n"
   ]
  },
  {
   "cell_type": "markdown",
   "id": "bc44269f",
   "metadata": {},
   "source": [
    "### 1차 모델\n",
    "- 과속적합으로 보여짐\n",
    "    - 모델에 dropout을 통해 과한 규제 \n",
    "        - dropout을 제거\n",
    "    - (146,64,64,2)의 학습데이터를 사용 - 딥러닝에 사용하기에 data가 너무 적음\n",
    "    - 위 두 문제가 아니면 층을 추가하고 필터수를 늘림\n",
    "    - 에포크수를 증가시킬 수 있음"
   ]
  },
  {
   "cell_type": "code",
   "execution_count": 41,
   "id": "422112d3",
   "metadata": {},
   "outputs": [],
   "source": [
    "# 모델 저장\n"
   ]
  },
  {
   "cell_type": "markdown",
   "id": "88f90218",
   "metadata": {},
   "source": [
    "### 모델 로드하여 확인하기"
   ]
  },
  {
   "cell_type": "code",
   "execution_count": 42,
   "id": "4da36e7b",
   "metadata": {},
   "outputs": [],
   "source": [
    "import sys, os\n",
    "from keras.models import Sequential\n",
    "from keras.layers import Convolution2D, MaxPooling2D\n",
    "from keras.layers import Activation, Dropout, Flatten, Dense\n",
    "from keras.utils import np_utils\n",
    "from keras.models import load_model\n",
    "from PIL import Image\n",
    "import numpy as np"
   ]
  },
  {
   "cell_type": "code",
   "execution_count": 44,
   "id": "8b1225e6",
   "metadata": {},
   "outputs": [],
   "source": [
    "# 테스트 이미지 목록 (1)\n",
    "image_files = [\"kfood/Chicken/chicken_01.jpg\",\n",
    "               \"kfood/Chicken/chicken_02.jpg\",\n",
    "               \"kfood/Kimchi/kimchi15.jpg\",\n",
    "               \"kfood/Kimchi/kimchi07.jpg\",\n",
    "               \"kfood/Samgyeobsal/Samgyeobsal04.jpg\"]\n",
    "image_size = 64\n",
    "nb_classes = len(image_files)\n",
    "categories = [\"Chicken\", \"Dolsotbab\", \"Jeyugbokk-eum\", \"Kimchi\",\n",
    "              \"Samgyeobsal\", \"SoybeanPasteStew\"]\n"
   ]
  },
  {
   "cell_type": "code",
   "execution_count": 45,
   "id": "37b944e6",
   "metadata": {},
   "outputs": [],
   "source": [
    "image_size = 64\n",
    "X = []\n",
    "files = []\n",
    "# 테스트이미지 전처리\n",
    "for fname in image_files:\n",
    "    img = Image.open(fname)\n",
    "    img = img.convert(\"RGB\")\n",
    "    img = img.resize((image_size, image_size))\n",
    "    in_data = np.asarray(img)\n",
    "    in_data = in_data.astype('flaot')/255\n",
    "    X.append(in_data) #list\n",
    "    files.append(fname)\n",
    "\n",
    "X = np.array(X) #array"
   ]
  },
  {
   "cell_type": "code",
   "execution_count": 50,
   "id": "3cad6c55",
   "metadata": {},
   "outputs": [
    {
     "data": {
      "text/plain": [
       "array([[[[0.56640625, 0.11328125, 0.05078125],\n",
       "         [0.66015625, 0.1796875 , 0.09375   ],\n",
       "         [0.5078125 , 0.1484375 , 0.08984375],\n",
       "         ...,\n",
       "         [0.3515625 , 0.30078125, 0.2421875 ],\n",
       "         [0.296875  , 0.24609375, 0.1953125 ],\n",
       "         [0.3203125 , 0.24609375, 0.18359375]],\n",
       "\n",
       "        [[0.6640625 , 0.10546875, 0.        ],\n",
       "         [0.578125  , 0.0546875 , 0.        ],\n",
       "         [0.421875  , 0.04296875, 0.01953125],\n",
       "         ...,\n",
       "         [0.30859375, 0.234375  , 0.18359375],\n",
       "         [0.30859375, 0.25390625, 0.20703125],\n",
       "         [0.32421875, 0.26171875, 0.20703125]],\n",
       "\n",
       "        [[0.5546875 , 0.21875   , 0.19140625],\n",
       "         [0.3828125 , 0.015625  , 0.0078125 ],\n",
       "         [0.2890625 , 0.015625  , 0.02734375],\n",
       "         ...,\n",
       "         [0.34375   , 0.2890625 , 0.23828125],\n",
       "         [0.3046875 , 0.2421875 , 0.1953125 ],\n",
       "         [0.30859375, 0.2578125 , 0.21484375]],\n",
       "\n",
       "        ...,\n",
       "\n",
       "        [[0.71875   , 0.609375  , 0.5390625 ],\n",
       "         [0.6796875 , 0.55078125, 0.48046875],\n",
       "         [0.64453125, 0.51171875, 0.4375    ],\n",
       "         ...,\n",
       "         [0.29296875, 0.21875   , 0.15625   ],\n",
       "         [0.3515625 , 0.23046875, 0.16015625],\n",
       "         [0.30078125, 0.19921875, 0.140625  ]],\n",
       "\n",
       "        [[0.6953125 , 0.578125  , 0.515625  ],\n",
       "         [0.72265625, 0.578125  , 0.5078125 ],\n",
       "         [0.57421875, 0.44921875, 0.39453125],\n",
       "         ...,\n",
       "         [0.30078125, 0.22265625, 0.16015625],\n",
       "         [0.31640625, 0.21484375, 0.15625   ],\n",
       "         [0.29296875, 0.19921875, 0.140625  ]],\n",
       "\n",
       "        [[0.6875    , 0.56640625, 0.50390625],\n",
       "         [0.734375  , 0.6015625 , 0.5390625 ],\n",
       "         [0.6171875 , 0.48046875, 0.35546875],\n",
       "         ...,\n",
       "         [0.31640625, 0.234375  , 0.1640625 ],\n",
       "         [0.3203125 , 0.22265625, 0.16015625],\n",
       "         [0.31640625, 0.2109375 , 0.1484375 ]]],\n",
       "\n",
       "\n",
       "       [[[0.875     , 0.85546875, 0.87109375],\n",
       "         [0.87890625, 0.859375  , 0.875     ],\n",
       "         [0.875     , 0.85546875, 0.87109375],\n",
       "         ...,\n",
       "         [0.9296875 , 0.890625  , 0.8828125 ],\n",
       "         [0.921875  , 0.8828125 , 0.875     ],\n",
       "         [0.9140625 , 0.890625  , 0.875     ]],\n",
       "\n",
       "        [[0.89453125, 0.890625  , 0.8984375 ],\n",
       "         [0.890625  , 0.88671875, 0.8984375 ],\n",
       "         [0.8828125 , 0.87890625, 0.890625  ],\n",
       "         ...,\n",
       "         [0.92578125, 0.88671875, 0.87890625],\n",
       "         [0.92578125, 0.88671875, 0.87890625],\n",
       "         [0.91796875, 0.89453125, 0.87890625]],\n",
       "\n",
       "        [[0.89453125, 0.89453125, 0.90234375],\n",
       "         [0.890625  , 0.89453125, 0.8984375 ],\n",
       "         [0.8828125 , 0.88671875, 0.890625  ],\n",
       "         ...,\n",
       "         [0.921875  , 0.88671875, 0.87109375],\n",
       "         [0.93359375, 0.89453125, 0.87890625],\n",
       "         [0.92578125, 0.890625  , 0.8828125 ]],\n",
       "\n",
       "        ...,\n",
       "\n",
       "        [[0.41796875, 0.34375   , 0.2890625 ],\n",
       "         [0.39453125, 0.33203125, 0.30078125],\n",
       "         [0.45703125, 0.38671875, 0.34375   ],\n",
       "         ...,\n",
       "         [0.81640625, 0.78125   , 0.76171875],\n",
       "         [0.8203125 , 0.78515625, 0.765625  ],\n",
       "         [0.81640625, 0.78125   , 0.76171875]],\n",
       "\n",
       "        [[0.51953125, 0.3671875 , 0.2734375 ],\n",
       "         [0.46484375, 0.32421875, 0.2421875 ],\n",
       "         [0.39453125, 0.296875  , 0.2421875 ],\n",
       "         ...,\n",
       "         [0.796875  , 0.7578125 , 0.7265625 ],\n",
       "         [0.82421875, 0.78515625, 0.75390625],\n",
       "         [0.8203125 , 0.7890625 , 0.75390625]],\n",
       "\n",
       "        [[0.51171875, 0.36328125, 0.2890625 ],\n",
       "         [0.49609375, 0.3359375 , 0.24609375],\n",
       "         [0.48828125, 0.31640625, 0.21484375],\n",
       "         ...,\n",
       "         [0.8046875 , 0.765625  , 0.73046875],\n",
       "         [0.81640625, 0.77734375, 0.7421875 ],\n",
       "         [0.82421875, 0.78125   , 0.74609375]]],\n",
       "\n",
       "\n",
       "       [[[0.99609375, 0.99609375, 0.99609375],\n",
       "         [0.99609375, 0.99609375, 0.99609375],\n",
       "         [0.99609375, 0.99609375, 0.99609375],\n",
       "         ...,\n",
       "         [0.99609375, 0.99609375, 0.99609375],\n",
       "         [0.99609375, 0.99609375, 0.99609375],\n",
       "         [0.99609375, 0.99609375, 0.99609375]],\n",
       "\n",
       "        [[0.99609375, 0.99609375, 0.99609375],\n",
       "         [0.99609375, 0.99609375, 0.99609375],\n",
       "         [0.99609375, 0.99609375, 0.99609375],\n",
       "         ...,\n",
       "         [0.99609375, 0.99609375, 0.99609375],\n",
       "         [0.99609375, 0.99609375, 0.99609375],\n",
       "         [0.99609375, 0.99609375, 0.99609375]],\n",
       "\n",
       "        [[0.99609375, 0.99609375, 0.99609375],\n",
       "         [0.99609375, 0.99609375, 0.99609375],\n",
       "         [0.99609375, 0.99609375, 0.99609375],\n",
       "         ...,\n",
       "         [0.99609375, 0.99609375, 0.99609375],\n",
       "         [0.99609375, 0.99609375, 0.99609375],\n",
       "         [0.99609375, 0.99609375, 0.99609375]],\n",
       "\n",
       "        ...,\n",
       "\n",
       "        [[0.99609375, 0.99609375, 0.99609375],\n",
       "         [0.99609375, 0.99609375, 0.99609375],\n",
       "         [0.99609375, 0.99609375, 0.99609375],\n",
       "         ...,\n",
       "         [0.99609375, 0.99609375, 0.99609375],\n",
       "         [0.99609375, 0.99609375, 0.99609375],\n",
       "         [0.99609375, 0.99609375, 0.99609375]],\n",
       "\n",
       "        [[0.99609375, 0.99609375, 0.99609375],\n",
       "         [0.99609375, 0.99609375, 0.99609375],\n",
       "         [0.99609375, 0.99609375, 0.99609375],\n",
       "         ...,\n",
       "         [0.99609375, 0.99609375, 0.99609375],\n",
       "         [0.99609375, 0.99609375, 0.99609375],\n",
       "         [0.99609375, 0.99609375, 0.99609375]],\n",
       "\n",
       "        [[0.99609375, 0.99609375, 0.99609375],\n",
       "         [0.99609375, 0.99609375, 0.99609375],\n",
       "         [0.99609375, 0.99609375, 0.99609375],\n",
       "         ...,\n",
       "         [0.99609375, 0.99609375, 0.99609375],\n",
       "         [0.99609375, 0.99609375, 0.99609375],\n",
       "         [0.99609375, 0.99609375, 0.99609375]]],\n",
       "\n",
       "\n",
       "       [[[0.9140625 , 0.9296875 , 0.953125  ],\n",
       "         [0.9140625 , 0.9296875 , 0.95703125],\n",
       "         [0.93359375, 0.9375    , 0.95703125],\n",
       "         ...,\n",
       "         [0.953125  , 0.95703125, 0.97265625],\n",
       "         [0.98828125, 0.98828125, 0.9921875 ],\n",
       "         [0.99609375, 0.99609375, 0.99609375]],\n",
       "\n",
       "        [[0.921875  , 0.9296875 , 0.94921875],\n",
       "         [0.92578125, 0.93359375, 0.95703125],\n",
       "         [0.94140625, 0.9453125 , 0.96484375],\n",
       "         ...,\n",
       "         [0.95703125, 0.95703125, 0.97265625],\n",
       "         [0.98828125, 0.98828125, 0.9921875 ],\n",
       "         [0.99609375, 0.99609375, 0.99609375]],\n",
       "\n",
       "        [[0.9296875 , 0.93359375, 0.94921875],\n",
       "         [0.93359375, 0.93359375, 0.953125  ],\n",
       "         [0.94140625, 0.9453125 , 0.96484375],\n",
       "         ...,\n",
       "         [0.9609375 , 0.96484375, 0.9765625 ],\n",
       "         [0.9921875 , 0.9921875 , 0.9921875 ],\n",
       "         [0.99609375, 0.99609375, 0.99609375]],\n",
       "\n",
       "        ...,\n",
       "\n",
       "        [[0.83203125, 0.86328125, 0.89453125],\n",
       "         [0.828125  , 0.859375  , 0.89453125],\n",
       "         [0.82421875, 0.85546875, 0.890625  ],\n",
       "         ...,\n",
       "         [0.98828125, 0.98828125, 0.98828125],\n",
       "         [0.99609375, 0.99609375, 0.99609375],\n",
       "         [0.99609375, 0.99609375, 0.99609375]],\n",
       "\n",
       "        [[0.8359375 , 0.86328125, 0.8984375 ],\n",
       "         [0.82421875, 0.85546875, 0.89453125],\n",
       "         [0.8203125 , 0.85546875, 0.890625  ],\n",
       "         ...,\n",
       "         [0.98828125, 0.98828125, 0.98828125],\n",
       "         [0.99609375, 0.99609375, 0.99609375],\n",
       "         [0.99609375, 0.99609375, 0.99609375]],\n",
       "\n",
       "        [[0.84765625, 0.86328125, 0.8984375 ],\n",
       "         [0.828125  , 0.859375  , 0.89453125],\n",
       "         [0.82421875, 0.8515625 , 0.88671875],\n",
       "         ...,\n",
       "         [0.98828125, 0.98828125, 0.98828125],\n",
       "         [0.99609375, 0.99609375, 0.99609375],\n",
       "         [0.99609375, 0.99609375, 0.99609375]]],\n",
       "\n",
       "\n",
       "       [[[0.28125   , 0.28515625, 0.265625  ],\n",
       "         [0.20703125, 0.20703125, 0.1796875 ],\n",
       "         [0.1875    , 0.19140625, 0.16796875],\n",
       "         ...,\n",
       "         [0.73828125, 0.2734375 , 0.1484375 ],\n",
       "         [0.734375  , 0.28125   , 0.13671875],\n",
       "         [0.74609375, 0.41796875, 0.234375  ]],\n",
       "\n",
       "        [[0.1875    , 0.18359375, 0.140625  ],\n",
       "         [0.06640625, 0.06640625, 0.0390625 ],\n",
       "         [0.05859375, 0.05859375, 0.03515625],\n",
       "         ...,\n",
       "         [0.67578125, 0.13671875, 0.015625  ],\n",
       "         [0.68359375, 0.140625  , 0.        ],\n",
       "         [0.71484375, 0.23828125, 0.08984375]],\n",
       "\n",
       "        [[0.09765625, 0.09765625, 0.1015625 ],\n",
       "         [0.0234375 , 0.02734375, 0.01953125],\n",
       "         [0.05078125, 0.05078125, 0.0390625 ],\n",
       "         ...,\n",
       "         [0.640625  , 0.1171875 , 0.03125   ],\n",
       "         [0.66015625, 0.125     , 0.01953125],\n",
       "         [0.71484375, 0.21484375, 0.1015625 ]],\n",
       "\n",
       "        ...,\n",
       "\n",
       "        [[0.1875    , 0.17578125, 0.140625  ],\n",
       "         [0.1953125 , 0.1640625 , 0.08984375],\n",
       "         [0.234375  , 0.2109375 , 0.10546875],\n",
       "         ...,\n",
       "         [0.57421875, 0.19140625, 0.01171875],\n",
       "         [0.59375   , 0.25      , 0.00390625],\n",
       "         [0.625     , 0.30859375, 0.1015625 ]],\n",
       "\n",
       "        [[0.078125  , 0.078125  , 0.08203125],\n",
       "         [0.        , 0.        , 0.        ],\n",
       "         [0.015625  , 0.01171875, 0.0078125 ],\n",
       "         ...,\n",
       "         [0.53515625, 0.19140625, 0.00390625],\n",
       "         [0.62890625, 0.265625  , 0.        ],\n",
       "         [0.6484375 , 0.3359375 , 0.0859375 ]],\n",
       "\n",
       "        [[0.21484375, 0.21484375, 0.21875   ],\n",
       "         [0.1328125 , 0.1328125 , 0.13671875],\n",
       "         [0.1328125 , 0.1328125 , 0.1328125 ],\n",
       "         ...,\n",
       "         [0.48046875, 0.26171875, 0.15234375],\n",
       "         [0.66015625, 0.32421875, 0.140625  ],\n",
       "         [0.73046875, 0.45703125, 0.2265625 ]]]])"
      ]
     },
     "execution_count": 50,
     "metadata": {},
     "output_type": "execute_result"
    }
   ],
   "source": [
    "X"
   ]
  },
  {
   "cell_type": "code",
   "execution_count": 47,
   "id": "0f1bc112",
   "metadata": {},
   "outputs": [],
   "source": [
    "# 모델 파일 읽어오기\n"
   ]
  },
  {
   "cell_type": "code",
   "execution_count": 3,
   "id": "7c4db53d",
   "metadata": {},
   "outputs": [],
   "source": [
    "# 예측 실행  (4)\n"
   ]
  },
  {
   "cell_type": "code",
   "execution_count": 5,
   "id": "2137995f",
   "metadata": {},
   "outputs": [],
   "source": [
    "# 예측 결과 출력 (5)\n",
    "for i, p in enumerate(pre):\n"
   ]
  },
  {
   "cell_type": "markdown",
   "id": "205744ca",
   "metadata": {},
   "source": [
    "### 위 테스트 결과는 학습이미지를 이용해서  테스트 한 결과임\n",
    "- 모델성능보다 분류를 잘 할 수 있음"
   ]
  }
 ],
 "metadata": {
  "kernelspec": {
   "display_name": "Python 3 (ipykernel)",
   "language": "python",
   "name": "python3"
  },
  "language_info": {
   "codemirror_mode": {
    "name": "ipython",
    "version": 3
   },
   "file_extension": ".py",
   "mimetype": "text/x-python",
   "name": "python",
   "nbconvert_exporter": "python",
   "pygments_lexer": "ipython3",
   "version": "3.11.5"
  }
 },
 "nbformat": 4,
 "nbformat_minor": 5
}
