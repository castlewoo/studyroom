{
 "cells": [
  {
   "cell_type": "code",
   "execution_count": 1,
   "metadata": {
    "colab": {
     "base_uri": "https://localhost:8080/",
     "height": 35
    },
    "id": "vDohkPU33SJO",
    "outputId": "396580cf-cc2c-4467-8017-60bb92421c11"
   },
   "outputs": [
    {
     "data": {
      "text/plain": [
       "'2.12.0'"
      ]
     },
     "execution_count": 1,
     "metadata": {},
     "output_type": "execute_result"
    }
   ],
   "source": [
    "import tensorflow as tf\n",
    "tf.__version__"
   ]
  },
  {
   "cell_type": "code",
   "execution_count": 2,
   "metadata": {
    "colab": {
     "base_uri": "https://localhost:8080/"
    },
    "id": "c7QL7XFIkirk",
    "outputId": "6ff7b44e-f046-4e9e-edcf-aa63d95e1818"
   },
   "outputs": [],
   "source": [
    "# pip install konlpy"
   ]
  },
  {
   "cell_type": "markdown",
   "metadata": {
    "id": "sOcJ4cagbpzz"
   },
   "source": [
    "# 1. 네이버 영화 리뷰 데이터에 대한 이해와 전처리\n",
    "- 전처리를 강화"
   ]
  },
  {
   "cell_type": "code",
   "execution_count": 1,
   "metadata": {
    "id": "NbRPURtckS0U"
   },
   "outputs": [],
   "source": [
    "import pandas as pd\n",
    "import urllib.request\n",
    "import matplotlib.pyplot as plt\n",
    "import re\n",
    "from konlpy.tag import Okt\n",
    "from tqdm import tqdm\n",
    "from tensorflow.keras.preprocessing.text import Tokenizer\n",
    "import numpy as np\n",
    "from tensorflow.keras.preprocessing.sequence import pad_sequences"
   ]
  },
  {
   "cell_type": "code",
   "execution_count": 4,
   "metadata": {
    "colab": {
     "base_uri": "https://localhost:8080/"
    },
    "id": "WAL6cIYwkNqm",
    "outputId": "a66e0331-51c3-486b-f0b2-7d859d4e77a0"
   },
   "outputs": [
    {
     "data": {
      "text/plain": [
       "('ratings_test.txt', <http.client.HTTPMessage at 0x1b402d4af10>)"
      ]
     },
     "execution_count": 4,
     "metadata": {},
     "output_type": "execute_result"
    }
   ],
   "source": [
    "urllib.request.urlretrieve(\"https://raw.githubusercontent.com/e9t/nsmc/master/ratings_train.txt\", filename=\"ratings_train.txt\")\n",
    "urllib.request.urlretrieve(\"https://raw.githubusercontent.com/e9t/nsmc/master/ratings_test.txt\", filename=\"ratings_test.txt\")"
   ]
  },
  {
   "cell_type": "code",
   "execution_count": 2,
   "metadata": {
    "id": "xUU91wXtkOpr"
   },
   "outputs": [],
   "source": [
    "train_data = pd.read_table('ratings_train.txt')\n",
    "test_data = pd.read_table('ratings_test.txt')"
   ]
  },
  {
   "cell_type": "code",
   "execution_count": 3,
   "metadata": {},
   "outputs": [
    {
     "data": {
      "text/html": [
       "<div>\n",
       "<style scoped>\n",
       "    .dataframe tbody tr th:only-of-type {\n",
       "        vertical-align: middle;\n",
       "    }\n",
       "\n",
       "    .dataframe tbody tr th {\n",
       "        vertical-align: top;\n",
       "    }\n",
       "\n",
       "    .dataframe thead th {\n",
       "        text-align: right;\n",
       "    }\n",
       "</style>\n",
       "<table border=\"1\" class=\"dataframe\">\n",
       "  <thead>\n",
       "    <tr style=\"text-align: right;\">\n",
       "      <th></th>\n",
       "      <th>id</th>\n",
       "      <th>document</th>\n",
       "      <th>label</th>\n",
       "    </tr>\n",
       "  </thead>\n",
       "  <tbody>\n",
       "    <tr>\n",
       "      <th>0</th>\n",
       "      <td>9976970</td>\n",
       "      <td>아 더빙.. 진짜 짜증나네요 목소리</td>\n",
       "      <td>0</td>\n",
       "    </tr>\n",
       "    <tr>\n",
       "      <th>1</th>\n",
       "      <td>3819312</td>\n",
       "      <td>흠...포스터보고 초딩영화줄....오버연기조차 가볍지 않구나</td>\n",
       "      <td>1</td>\n",
       "    </tr>\n",
       "    <tr>\n",
       "      <th>2</th>\n",
       "      <td>10265843</td>\n",
       "      <td>너무재밓었다그래서보는것을추천한다</td>\n",
       "      <td>0</td>\n",
       "    </tr>\n",
       "    <tr>\n",
       "      <th>3</th>\n",
       "      <td>9045019</td>\n",
       "      <td>교도소 이야기구먼 ..솔직히 재미는 없다..평점 조정</td>\n",
       "      <td>0</td>\n",
       "    </tr>\n",
       "    <tr>\n",
       "      <th>4</th>\n",
       "      <td>6483659</td>\n",
       "      <td>사이몬페그의 익살스런 연기가 돋보였던 영화!스파이더맨에서 늙어보이기만 했던 커스틴 ...</td>\n",
       "      <td>1</td>\n",
       "    </tr>\n",
       "  </tbody>\n",
       "</table>\n",
       "</div>"
      ],
      "text/plain": [
       "         id                                           document  label\n",
       "0   9976970                                아 더빙.. 진짜 짜증나네요 목소리      0\n",
       "1   3819312                  흠...포스터보고 초딩영화줄....오버연기조차 가볍지 않구나      1\n",
       "2  10265843                                  너무재밓었다그래서보는것을추천한다      0\n",
       "3   9045019                      교도소 이야기구먼 ..솔직히 재미는 없다..평점 조정      0\n",
       "4   6483659  사이몬페그의 익살스런 연기가 돋보였던 영화!스파이더맨에서 늙어보이기만 했던 커스틴 ...      1"
      ]
     },
     "execution_count": 3,
     "metadata": {},
     "output_type": "execute_result"
    }
   ],
   "source": [
    "train_data.head()"
   ]
  },
  {
   "cell_type": "code",
   "execution_count": 4,
   "metadata": {
    "colab": {
     "base_uri": "https://localhost:8080/"
    },
    "id": "hv2WLeglkV0T",
    "outputId": "93ef0a74-d7a5-4b2e-8961-88eb5da7b572"
   },
   "outputs": [
    {
     "name": "stdout",
     "output_type": "stream",
     "text": [
      "훈련 샘플의 개수 : 150000\n",
      "테스트 샘플의 개수 : 50000\n"
     ]
    }
   ],
   "source": [
    "print('훈련 샘플의 개수 :', len(train_data) ) # 훈련용 리뷰 개수 출력\n",
    "print('테스트 샘플의 개수 :', len(test_data)  ) # 테스트용 리뷰 개수 출력"
   ]
  },
  {
   "cell_type": "code",
   "execution_count": null,
   "metadata": {
    "colab": {
     "base_uri": "https://localhost:8080/",
     "height": 204
    },
    "id": "a3qpECZ5nFX8",
    "outputId": "bbebf888-4abe-4347-8240-1447e874ab4f"
   },
   "outputs": [],
   "source": []
  },
  {
   "cell_type": "markdown",
   "metadata": {},
   "source": [
    "1. 중복확인"
   ]
  },
  {
   "cell_type": "code",
   "execution_count": 5,
   "metadata": {
    "colab": {
     "base_uri": "https://localhost:8080/"
    },
    "id": "lLx7QYcCnGkz",
    "outputId": "f71de5d1-d56f-4e5f-aae0-04cd578c3df8"
   },
   "outputs": [
    {
     "data": {
      "text/plain": [
       "(146182, 2)"
      ]
     },
     "execution_count": 5,
     "metadata": {},
     "output_type": "execute_result"
    }
   ],
   "source": [
    "train_data['document'].nunique(), train_data['label'].nunique()\n",
    "# 150000개 리뷰 중 146182개만 unique하다고 나오므로 중복 리뷰가 있다는 의미"
   ]
  },
  {
   "cell_type": "code",
   "execution_count": 6,
   "metadata": {
    "id": "zLIrjosmnMUD"
   },
   "outputs": [],
   "source": [
    "# 특정 열에서 중복값을 찾아서 해당 값을 포함하는 행을 삭제(1개는 남기고)\n",
    "train_data.drop_duplicates(subset=['document'], inplace=True)\n",
    "# document 열에서 중복인 내용이 있다면 중복 제거"
   ]
  },
  {
   "cell_type": "code",
   "execution_count": 7,
   "metadata": {
    "colab": {
     "base_uri": "https://localhost:8080/"
    },
    "id": "yKGG3kAOnUEL",
    "outputId": "86f2f676-302a-489f-daee-03a423bddb56"
   },
   "outputs": [
    {
     "name": "stdout",
     "output_type": "stream",
     "text": [
      "총 샘플의 수 : 146183\n"
     ]
    }
   ],
   "source": [
    "print('총 샘플의 수 :',len(train_data))"
   ]
  },
  {
   "cell_type": "code",
   "execution_count": 8,
   "metadata": {
    "colab": {
     "base_uri": "https://localhost:8080/",
     "height": 279
    },
    "id": "UjB5MxojnX5L",
    "outputId": "327278b0-b899-4a8f-d56a-442c159e3526"
   },
   "outputs": [
    {
     "data": {
      "text/plain": [
       "<Axes: xlabel='label'>"
      ]
     },
     "execution_count": 8,
     "metadata": {},
     "output_type": "execute_result"
    },
    {
     "data": {
      "image/png": "[encoded data removed]",
      "text/plain": [
       "<Figure size 640x480 with 1 Axes>"
      ]
     },
     "metadata": {},
     "output_type": "display_data"
    }
   ],
   "source": [
    "# 긍정리뷰 부정리뷰 비슷해보임\n",
    "train_data['label'].value_counts().plot(kind='bar')"
   ]
  },
  {
   "cell_type": "code",
   "execution_count": 10,
   "metadata": {
    "colab": {
     "base_uri": "https://localhost:8080/"
    },
    "id": "14xix8ghnagT",
    "outputId": "ca37a95a-1b72-42eb-ee0e-761f973466a1"
   },
   "outputs": [
    {
     "data": {
      "text/html": [
       "<div>\n",
       "<style scoped>\n",
       "    .dataframe tbody tr th:only-of-type {\n",
       "        vertical-align: middle;\n",
       "    }\n",
       "\n",
       "    .dataframe tbody tr th {\n",
       "        vertical-align: top;\n",
       "    }\n",
       "\n",
       "    .dataframe thead th {\n",
       "        text-align: right;\n",
       "    }\n",
       "</style>\n",
       "<table border=\"1\" class=\"dataframe\">\n",
       "  <thead>\n",
       "    <tr style=\"text-align: right;\">\n",
       "      <th></th>\n",
       "      <th>label</th>\n",
       "      <th>count</th>\n",
       "    </tr>\n",
       "  </thead>\n",
       "  <tbody>\n",
       "    <tr>\n",
       "      <th>0</th>\n",
       "      <td>0</td>\n",
       "      <td>73342</td>\n",
       "    </tr>\n",
       "    <tr>\n",
       "      <th>1</th>\n",
       "      <td>1</td>\n",
       "      <td>72841</td>\n",
       "    </tr>\n",
       "  </tbody>\n",
       "</table>\n",
       "</div>"
      ],
      "text/plain": [
       "   label  count\n",
       "0      0  73342\n",
       "1      1  72841"
      ]
     },
     "execution_count": 10,
     "metadata": {},
     "output_type": "execute_result"
    }
   ],
   "source": [
    "# 정확한 수치로 확인(부정리뷰가 약간 많음)\n",
    "train_data.groupby('label').size().reset_index(name='count')"
   ]
  },
  {
   "cell_type": "markdown",
   "metadata": {},
   "source": [
    "2. 결측치 정리"
   ]
  },
  {
   "cell_type": "code",
   "execution_count": 14,
   "metadata": {
    "colab": {
     "base_uri": "https://localhost:8080/"
    },
    "id": "_8yXVmIRnbtb",
    "outputId": "9ea1cd0c-6d10-4711-cabf-86684f8ad293"
   },
   "outputs": [
    {
     "name": "stdout",
     "output_type": "stream",
     "text": [
      "True\n"
     ]
    }
   ],
   "source": [
    "# 결측치 확인\n",
    "print(train_data.isnull().values.any())"
   ]
  },
  {
   "cell_type": "code",
   "execution_count": 15,
   "metadata": {
    "colab": {
     "base_uri": "https://localhost:8080/"
    },
    "id": "PwGZReKineYD",
    "outputId": "766ad8cc-70e8-421c-a2a2-12d3732986ad"
   },
   "outputs": [
    {
     "data": {
      "text/plain": [
       "id          0\n",
       "document    1\n",
       "label       0\n",
       "dtype: int64"
      ]
     },
     "execution_count": 15,
     "metadata": {},
     "output_type": "execute_result"
    }
   ],
   "source": [
    "# 어느 컬럼이 결측치가 있는지 확인 : document 컬럼에 결측치 있음\n",
    "train_data.isnull().sum()"
   ]
  },
  {
   "cell_type": "code",
   "execution_count": 16,
   "metadata": {
    "colab": {
     "base_uri": "https://localhost:8080/",
     "height": 80
    },
    "id": "qzavofy6nfbT",
    "outputId": "259cc4c7-df94-4d86-a353-a27982637cd7"
   },
   "outputs": [
    {
     "data": {
      "text/html": [
       "<div>\n",
       "<style scoped>\n",
       "    .dataframe tbody tr th:only-of-type {\n",
       "        vertical-align: middle;\n",
       "    }\n",
       "\n",
       "    .dataframe tbody tr th {\n",
       "        vertical-align: top;\n",
       "    }\n",
       "\n",
       "    .dataframe thead th {\n",
       "        text-align: right;\n",
       "    }\n",
       "</style>\n",
       "<table border=\"1\" class=\"dataframe\">\n",
       "  <thead>\n",
       "    <tr style=\"text-align: right;\">\n",
       "      <th></th>\n",
       "      <th>id</th>\n",
       "      <th>document</th>\n",
       "      <th>label</th>\n",
       "    </tr>\n",
       "  </thead>\n",
       "  <tbody>\n",
       "    <tr>\n",
       "      <th>25857</th>\n",
       "      <td>2172111</td>\n",
       "      <td>NaN</td>\n",
       "      <td>1</td>\n",
       "    </tr>\n",
       "  </tbody>\n",
       "</table>\n",
       "</div>"
      ],
      "text/plain": [
       "            id document  label\n",
       "25857  2172111      NaN      1"
      ]
     },
     "execution_count": 16,
     "metadata": {},
     "output_type": "execute_result"
    }
   ],
   "source": [
    "# document 컬럼에서 결측치인 컬럼 확인\n",
    "train_data.loc[train_data.document.isnull()]"
   ]
  },
  {
   "cell_type": "code",
   "execution_count": 17,
   "metadata": {
    "colab": {
     "base_uri": "https://localhost:8080/"
    },
    "id": "GuRqUGURnhZj",
    "outputId": "893a6ce2-4ad6-4b33-bc1f-167e20e66e56"
   },
   "outputs": [
    {
     "data": {
      "text/plain": [
       "False"
      ]
     },
     "execution_count": 17,
     "metadata": {},
     "output_type": "execute_result"
    }
   ],
   "source": [
    "# 결측치 행 제거\n",
    "# Null 값이 존재하는 행 제거\n",
    "train_data = train_data.dropna(how='any')\n",
    "train_data.isnull().values.any()"
   ]
  },
  {
   "cell_type": "code",
   "execution_count": 18,
   "metadata": {
    "colab": {
     "base_uri": "https://localhost:8080/"
    },
    "id": "MQmWzwSqnlG7",
    "outputId": "55c413c9-a209-4309-9bf4-4056e889c8ed"
   },
   "outputs": [
    {
     "name": "stdout",
     "output_type": "stream",
     "text": [
      "146182\n"
     ]
    }
   ],
   "source": [
    "print(len(train_data))"
   ]
  },
  {
   "cell_type": "markdown",
   "metadata": {},
   "source": [
    "3. 문자 전처리"
   ]
  },
  {
   "cell_type": "code",
   "execution_count": 21,
   "metadata": {},
   "outputs": [],
   "source": [
    "import re\n",
    "def temp(review) :\n",
    "    return re.sub('[^가-힣ㄱ-ㅎㅏ-ㅣ\\\\s]','',review)"
   ]
  },
  {
   "cell_type": "code",
   "execution_count": 22,
   "metadata": {},
   "outputs": [
    {
     "data": {
      "text/plain": [
       "0                                    아 더빙 진짜 짜증나네요 목소리\n",
       "1                           흠포스터보고 초딩영화줄오버연기조차 가볍지 않구나\n",
       "2                                    너무재밓었다그래서보는것을추천한다\n",
       "3                            교도소 이야기구먼 솔직히 재미는 없다평점 조정\n",
       "4    사이몬페그의 익살스런 연기가 돋보였던 영화스파이더맨에서 늙어보이기만 했던 커스틴 던...\n",
       "Name: document, dtype: object"
      ]
     },
     "execution_count": 22,
     "metadata": {},
     "output_type": "execute_result"
    }
   ],
   "source": [
    "train_data['document'][:5].apply(temp)"
   ]
  },
  {
   "cell_type": "code",
   "execution_count": 23,
   "metadata": {
    "colab": {
     "base_uri": "https://localhost:8080/",
     "height": 204
    },
    "id": "yP6uj9BxnmNj",
    "outputId": "5a6ec096-5883-4bd2-9cab-571cf0484a90"
   },
   "outputs": [
    {
     "data": {
      "text/html": [
       "<div>\n",
       "<style scoped>\n",
       "    .dataframe tbody tr th:only-of-type {\n",
       "        vertical-align: middle;\n",
       "    }\n",
       "\n",
       "    .dataframe tbody tr th {\n",
       "        vertical-align: top;\n",
       "    }\n",
       "\n",
       "    .dataframe thead th {\n",
       "        text-align: right;\n",
       "    }\n",
       "</style>\n",
       "<table border=\"1\" class=\"dataframe\">\n",
       "  <thead>\n",
       "    <tr style=\"text-align: right;\">\n",
       "      <th></th>\n",
       "      <th>id</th>\n",
       "      <th>document</th>\n",
       "      <th>label</th>\n",
       "    </tr>\n",
       "  </thead>\n",
       "  <tbody>\n",
       "    <tr>\n",
       "      <th>0</th>\n",
       "      <td>9976970</td>\n",
       "      <td>아 더빙 진짜 짜증나네요 목소리</td>\n",
       "      <td>0</td>\n",
       "    </tr>\n",
       "    <tr>\n",
       "      <th>1</th>\n",
       "      <td>3819312</td>\n",
       "      <td>흠포스터보고 초딩영화줄오버연기조차 가볍지 않구나</td>\n",
       "      <td>1</td>\n",
       "    </tr>\n",
       "    <tr>\n",
       "      <th>2</th>\n",
       "      <td>10265843</td>\n",
       "      <td>너무재밓었다그래서보는것을추천한다</td>\n",
       "      <td>0</td>\n",
       "    </tr>\n",
       "    <tr>\n",
       "      <th>3</th>\n",
       "      <td>9045019</td>\n",
       "      <td>교도소 이야기구먼 솔직히 재미는 없다평점 조정</td>\n",
       "      <td>0</td>\n",
       "    </tr>\n",
       "    <tr>\n",
       "      <th>4</th>\n",
       "      <td>6483659</td>\n",
       "      <td>사이몬페그의 익살스런 연기가 돋보였던 영화스파이더맨에서 늙어보이기만 했던 커스틴 던...</td>\n",
       "      <td>1</td>\n",
       "    </tr>\n",
       "  </tbody>\n",
       "</table>\n",
       "</div>"
      ],
      "text/plain": [
       "         id                                           document  label\n",
       "0   9976970                                  아 더빙 진짜 짜증나네요 목소리      0\n",
       "1   3819312                         흠포스터보고 초딩영화줄오버연기조차 가볍지 않구나      1\n",
       "2  10265843                                  너무재밓었다그래서보는것을추천한다      0\n",
       "3   9045019                          교도소 이야기구먼 솔직히 재미는 없다평점 조정      0\n",
       "4   6483659  사이몬페그의 익살스런 연기가 돋보였던 영화스파이더맨에서 늙어보이기만 했던 커스틴 던...      1"
      ]
     },
     "execution_count": 23,
     "metadata": {},
     "output_type": "execute_result"
    }
   ],
   "source": [
    "train_data['document'] =train_data['document'].apply(temp)\n",
    "# 한글과 공백을 제외하고 모두 제거\n",
    "train_data[:5]"
   ]
  },
  {
   "cell_type": "code",
   "execution_count": 25,
   "metadata": {
    "colab": {
     "base_uri": "https://localhost:8080/"
    },
    "id": "W1VTEzepnrDL",
    "outputId": "69e6d923-a0b5-4e92-a7e5-1fd9f8009e2a"
   },
   "outputs": [
    {
     "data": {
      "text/plain": [
       "id          0\n",
       "document    0\n",
       "label       0\n",
       "dtype: int64"
      ]
     },
     "execution_count": 25,
     "metadata": {},
     "output_type": "execute_result"
    }
   ],
   "source": [
    "train_data.isnull().sum()"
   ]
  },
  {
   "cell_type": "code",
   "execution_count": 28,
   "metadata": {
    "colab": {
     "base_uri": "https://localhost:8080/"
    },
    "id": "al5ilRRDodDy",
    "outputId": "b25f8bdd-6f5b-4fc1-8733-4ce26bd81cfc"
   },
   "outputs": [],
   "source": [
    "# 테스트데이터 전처리\n",
    "test_data.drop_duplicates(subset = ['document'], inplace=True) # document 열에서 중복인 내용이 있다면 중복 제거\n",
    "test_data = test_data.dropna(how='any') # Null 값 제거"
   ]
  },
  {
   "cell_type": "code",
   "execution_count": 29,
   "metadata": {
    "colab": {
     "base_uri": "https://localhost:8080/"
    },
    "id": "al5ilRRDodDy",
    "outputId": "b25f8bdd-6f5b-4fc1-8733-4ce26bd81cfc"
   },
   "outputs": [
    {
     "name": "stdout",
     "output_type": "stream",
     "text": [
      "전처리 후 테스트용 샘플의 개수 : 49157\n"
     ]
    }
   ],
   "source": [
    "test_data['document'] =test_data['document'].apply(temp) # 한글과 공백 제외 제거\n",
    "print('전처리 후 테스트용 샘플의 개수 :',len(test_data))"
   ]
  },
  {
   "cell_type": "code",
   "execution_count": 32,
   "metadata": {
    "id": "UPPf9sPjoBq7"
   },
   "outputs": [],
   "source": [
    "stopwords = ['의','가','이','은','들','는','좀','잘','걍','과','도','를','으로','자','에','와','한','하다']"
   ]
  },
  {
   "cell_type": "markdown",
   "metadata": {},
   "source": [
    "4. 토큰화 및 stopwords 제거"
   ]
  },
  {
   "cell_type": "code",
   "execution_count": 33,
   "metadata": {
    "id": "fjfQaubRofR-"
   },
   "outputs": [],
   "source": [
    "okt = Okt()"
   ]
  },
  {
   "cell_type": "code",
   "execution_count": 34,
   "metadata": {
    "colab": {
     "base_uri": "https://localhost:8080/"
    },
    "id": "dcsq7xc4obAj",
    "outputId": "4752315e-4abd-4593-ac3e-c35c369c9f16"
   },
   "outputs": [
    {
     "name": "stderr",
     "output_type": "stream",
     "text": [
      "100%|█████████████████████████████████████████████████████████████████████████| 146182/146182 [05:02<00:00, 483.22it/s]\n"
     ]
    }
   ],
   "source": [
    "X_train = []\n",
    "for sentence in tqdm(train_data['document']):\n",
    "    tok_sen = okt.morphs(sentence, stem=True) # 형태소 추출\n",
    "    stop_rm_tok = [word for word in tok_sen if not word in stopwords] # 불용어 제거\n",
    "    X_train.append(stop_rm_tok)\n"
   ]
  },
  {
   "cell_type": "code",
   "execution_count": 36,
   "metadata": {},
   "outputs": [],
   "source": [
    "# X_train[:5]"
   ]
  },
  {
   "cell_type": "code",
   "execution_count": 88,
   "metadata": {},
   "outputs": [
    {
     "data": {
      "text/plain": [
       "'굳 ㅋ'"
      ]
     },
     "execution_count": 88,
     "metadata": {},
     "output_type": "execute_result"
    }
   ],
   "source": [
    "test_data['document'][0]"
   ]
  },
  {
   "cell_type": "code",
   "execution_count": 37,
   "metadata": {
    "colab": {
     "base_uri": "https://localhost:8080/"
    },
    "id": "S-QH3hiAomYB",
    "outputId": "ca56c857-d1b0-44ec-8e70-46fe691b2f3f"
   },
   "outputs": [
    {
     "name": "stderr",
     "output_type": "stream",
     "text": [
      "100%|███████████████████████████████████████████████████████████████████████████| 49157/49157 [01:59<00:00, 412.41it/s]\n"
     ]
    }
   ],
   "source": [
    "X_test = []\n",
    "for sentence in tqdm(test_data['document']):\n",
    "    tokenized_sentence = okt.morphs(sentence, stem=True) # 토큰화\n",
    "    stopwords_removed_sentence = [word for word in tokenized_sentence if not word in stopwords] # 불용어 제거\n",
    "    X_test.append(stopwords_removed_sentence)"
   ]
  },
  {
   "cell_type": "code",
   "execution_count": 39,
   "metadata": {
    "colab": {
     "base_uri": "https://localhost:8080/"
    },
    "id": "AzPvb8HLpiQv",
    "outputId": "b4a8509c-caee-4f04-eb6e-04133c6609b1"
   },
   "outputs": [
    {
     "name": "stdout",
     "output_type": "stream",
     "text": [
      "전처리 후 테스트용 샘플의 개수 : 49157\n",
      "전처리 후 학습용 샘플의 개수 : 146182\n"
     ]
    }
   ],
   "source": [
    "print('전처리 후 테스트용 샘플의 개수 :',len(X_test))\n",
    "print('전처리 후 학습용 샘플의 개수 :',len(X_train))"
   ]
  },
  {
   "cell_type": "markdown",
   "metadata": {},
   "source": [
    "### 토큰화 시간이 오래 걸리므로 임시변수 저장"
   ]
  },
  {
   "cell_type": "code",
   "execution_count": 40,
   "metadata": {},
   "outputs": [],
   "source": [
    "tokenizer=Tokenizer()\n",
    "tokenizer.fit_on_texts(X_train)"
   ]
  },
  {
   "cell_type": "code",
   "execution_count": 42,
   "metadata": {},
   "outputs": [
    {
     "data": {
      "text/plain": [
       "43752"
      ]
     },
     "execution_count": 42,
     "metadata": {},
     "output_type": "execute_result"
    }
   ],
   "source": [
    "len(tokenizer.word_index)"
   ]
  },
  {
   "cell_type": "markdown",
   "metadata": {},
   "source": [
    "5. 토큰화된 학습 데이터 활용 단어사전 생성\n",
    "- keras Tokenizer() 활용"
   ]
  },
  {
   "cell_type": "markdown",
   "metadata": {},
   "source": [
    "### 단어의 등장빈도수를 활용해 등장빈도수가 낮은 단어들은 제거"
   ]
  },
  {
   "cell_type": "code",
   "execution_count": 44,
   "metadata": {},
   "outputs": [],
   "source": [
    "# tokenizer.word_counts.items()"
   ]
  },
  {
   "cell_type": "code",
   "execution_count": 46,
   "metadata": {
    "id": "vT71wLflpRVy"
   },
   "outputs": [],
   "source": [
    "threshold = 3\n",
    "total_cnt=len(tokenizer.word_index) # 단어수\n",
    "rare_cnt=0 # 단어의 빈도수가 threshold보다 작은 단어의 수\n",
    "total_freq=0 # 훈련데이터의 전체 단어 빈도수 총 합\n",
    "rare_freq=0 # 등장빈도수가  threshold보다 작은 단어들의 빈도수 합"
   ]
  },
  {
   "cell_type": "code",
   "execution_count": 47,
   "metadata": {
    "colab": {
     "base_uri": "https://localhost:8080/"
    },
    "id": "hPfo_5xcqJcB",
    "outputId": "06a5ba4c-8b6e-4331-d2bd-b55db83770b6"
   },
   "outputs": [],
   "source": [
    "for key,value in tokenizer.word_counts.items() :\n",
    "    total_freq = total_freq + value\n",
    "    \n",
    "    # 단어 각각의 빈도수가 threshold보다 작으면\n",
    "    if(value < threshold) :\n",
    "        rare_cnt = rare_cnt + 1\n",
    "        rare_freq = rare_freq + value"
   ]
  },
  {
   "cell_type": "code",
   "execution_count": 48,
   "metadata": {
    "colab": {
     "base_uri": "https://localhost:8080/"
    },
    "id": "UsHlGUSepYHk",
    "outputId": "2d383448-e3f1-427c-8204-ae9108a1e9d1"
   },
   "outputs": [
    {
     "name": "stdout",
     "output_type": "stream",
     "text": [
      "단어 집합(vocabulary)의 크기 : 43752\n",
      "등장 빈도가 2번 이하인 희귀 단어의 수: 24337\n",
      "단어 집합에서 희귀 단어의 비율: 55.62488571950996\n",
      "전체 등장 빈도에서 희귀 단어 등장 빈도 비율: 1.8715872104872904\n"
     ]
    }
   ],
   "source": [
    "print('단어 집합(vocabulary)의 크기 :',total_cnt)\n",
    "print('등장 빈도가 %s번 이하인 희귀 단어의 수: %s'%(threshold - 1, rare_cnt))\n",
    "print(\"단어 집합에서 희귀 단어의 비율:\", (rare_cnt / total_cnt)*100)\n",
    "print(\"전체 등장 빈도에서 희귀 단어 등장 빈도 비율:\", (rare_freq / total_freq)*100)"
   ]
  },
  {
   "cell_type": "code",
   "execution_count": 49,
   "metadata": {
    "colab": {
     "base_uri": "https://localhost:8080/"
    },
    "id": "yWBE_pZlszWu",
    "outputId": "2df02d1c-2823-4ef5-eb7d-2177ef6b0ea2"
   },
   "outputs": [
    {
     "data": {
      "text/plain": [
       "19416"
      ]
     },
     "execution_count": 49,
     "metadata": {},
     "output_type": "execute_result"
    }
   ],
   "source": [
    "# 사용할 단어 수 결정\n",
    "vocab_size = total_cnt - rare_cnt + 1\n",
    "vocab_size # 단어의 출연 빈도수가 높은 (3번이상 나오는) 단어의 수\n",
    "# 이 만큼만 단어사전 생성"
   ]
  },
  {
   "cell_type": "markdown",
   "metadata": {},
   "source": [
    "### Tokenizer(num_words)\n",
    "- 단어 빈도에 따라 유지할 최대 단어 수. 가장 일반적인 단어만 보관됨\n",
    "- num_words-1 만큼의 단어만 유지\n",
    "- 그래서, 위 셀에서 total_cnt - rare_cnt + 1 연산 시 +1을 함"
   ]
  },
  {
   "cell_type": "markdown",
   "metadata": {},
   "source": [
    "- 위에서 전체 단어수에서 단어빈도가 2 이하인 단어수는 제외시켰으므로 \n",
    "    - 전체 단어 중 빈도수가 2이하인 단어는 제외됨\n",
    "- fit_on_texts() 진행 시 빈도가 많은 단어부터 사전화 진행 함\n",
    "    - 빈도수 2 이하인 단어는 제거(vocab size를 한정해서 제거의 효과를 냄)\n",
    "- 빈도수 2 이하인 단어를 제외하고 단어사전 다시 만들어야 함"
   ]
  },
  {
   "cell_type": "code",
   "execution_count": 50,
   "metadata": {
    "id": "pFPM7drbqGEz"
   },
   "outputs": [],
   "source": [
    "tokenizer = Tokenizer(vocab_size)\n",
    "tokenizer.fit_on_texts(X_train)"
   ]
  },
  {
   "cell_type": "code",
   "execution_count": 51,
   "metadata": {},
   "outputs": [],
   "source": [
    "X_train = tokenizer.texts_to_sequences(X_train)\n",
    "X_test = tokenizer.texts_to_sequences(X_test)"
   ]
  },
  {
   "cell_type": "code",
   "execution_count": 52,
   "metadata": {},
   "outputs": [
    {
     "data": {
      "text/plain": [
       "[[50, 454, 16, 260, 659], [933, 457, 41, 602, 1, 214, 1449, 24, 961, 675, 19]]"
      ]
     },
     "execution_count": 52,
     "metadata": {},
     "output_type": "execute_result"
    }
   ],
   "source": [
    "X_train[:2]"
   ]
  },
  {
   "cell_type": "code",
   "execution_count": 53,
   "metadata": {
    "id": "9pAvQvpo_Acb"
   },
   "outputs": [],
   "source": [
    "# label 데이터 생성\n",
    "y_train = np.array(train_data['label'])\n",
    "y_test = np.array(test_data['label'])"
   ]
  },
  {
   "cell_type": "code",
   "execution_count": 54,
   "metadata": {
    "colab": {
     "base_uri": "https://localhost:8080/"
    },
    "id": "MGCTzFOJ_tpC",
    "outputId": "bebd7e24-e756-44e5-8dff-385026bf9865"
   },
   "outputs": [
    {
     "name": "stdout",
     "output_type": "stream",
     "text": [
      "146182\n",
      "146182\n"
     ]
    }
   ],
   "source": [
    "print(len(X_train))\n",
    "print(len(y_train))"
   ]
  },
  {
   "cell_type": "code",
   "execution_count": 102,
   "metadata": {
    "colab": {
     "base_uri": "https://localhost:8080/"
    },
    "id": "T-jxCOg4ra7i",
    "outputId": "7289a4ad-0843-4919-c08b-33a325e5a998"
   },
   "outputs": [
    {
     "name": "stdout",
     "output_type": "stream",
     "text": [
      "[[50, 454, 16, 260, 659], [933, 457, 41, 602, 1, 214, 1449, 24, 961, 675, 19], [386, 2444, 2315, 5671, 2, 222, 9]]\n"
     ]
    }
   ],
   "source": [
    "print(X_train[:3])"
   ]
  },
  {
   "cell_type": "markdown",
   "metadata": {},
   "source": [
    "- 빈도수가 2 이하인 단어는 사전에서 제외했으므로\n",
    "    - 빈도수 2 이하로만 이루어진 리뷰 문장은 sentence가 비게됨"
   ]
  },
  {
   "cell_type": "code",
   "execution_count": 56,
   "metadata": {},
   "outputs": [],
   "source": [
    "# for index, sentence in enumerate(X_train) :\n",
    "#     print(index)"
   ]
  },
  {
   "cell_type": "code",
   "execution_count": 66,
   "metadata": {},
   "outputs": [
    {
     "data": {
      "text/plain": [
       "1020"
      ]
     },
     "execution_count": 66,
     "metadata": {},
     "output_type": "execute_result"
    }
   ],
   "source": [
    "drop_train = []\n",
    "for idx, sentence in enumerate(X_train) :\n",
    "    if len(sentence) < 1 :\n",
    "        drop_train.append(idx)\n",
    "        \n",
    "        \n",
    "len(drop_train)"
   ]
  },
  {
   "cell_type": "code",
   "execution_count": 67,
   "metadata": {},
   "outputs": [
    {
     "data": {
      "text/plain": [
       "0"
      ]
     },
     "execution_count": 67,
     "metadata": {},
     "output_type": "execute_result"
    }
   ],
   "source": [
    "drop_test = []\n",
    "for idx, sentence in enumerate(X_test) :\n",
    "    if len(sentence) < 1 :\n",
    "        drop_train.append(idx)\n",
    "        \n",
    "        \n",
    "len(drop_test)"
   ]
  },
  {
   "cell_type": "code",
   "execution_count": 58,
   "metadata": {
    "id": "M_k8SQCH9BLY"
   },
   "outputs": [],
   "source": [
    "# token화 후 sentence의 길이가 1보다 작은 즉 비어있는 리뷰 제거\n",
    "# drop_train = [index for index, sentence in enumerate(X_train) if len(sentence)< 1]\n",
    "# drop_test = [index for index, sentence in enumerate(X_test) if len(sentence)< 1]"
   ]
  },
  {
   "cell_type": "code",
   "execution_count": 68,
   "metadata": {
    "colab": {
     "base_uri": "https://localhost:8080/"
    },
    "id": "Aq_nvde69G-n",
    "outputId": "06590ae2-4347-4eb9-b666-32b6f8da9195"
   },
   "outputs": [
    {
     "name": "stdout",
     "output_type": "stream",
     "text": [
      "[28, 404, 412, 416, 470, 584, 593, 638, 668, 1156, 1309, 1355, 1545, 1555, 1582, 1721, 1834, 2065, 2206, 2287, 2319, 2336, 2360, 2447, 2639, 2824, 2857, 2958, 3459, 3550, 3871, 3898, 3933, 4115, 4313, 4464, 4637, 4708, 4732, 4836, 4846, 4873, 4874, 4949, 5002, 5053, 5088, 5108, 5193, 5276, 5398, 5741, 5760, 5826, 6218, 6422, 6455, 6822, 7021, 7106, 7135, 7187, 7527, 7837, 8202, 8370, 8571, 8726, 8915, 9178, 9444, 9507, 9554, 9563, 9599, 9614, 9652, 9720, 10298, 10356, 10389, 10453, 10634, 10661, 10670, 11039, 11098, 11208, 11386, 11658, 11739, 11933, 12041, 12160, 12294, 12423, 12662, 12736, 12799, 12843, 12973, 13085, 13648, 13777, 13782, 13790, 13870, 13972, 14025, 14233, 14302, 14484, 14584, 14701, 14719, 15211, 15260, 15519, 15611, 15686, 15925, 16096, 16210, 16233, 16396, 16881, 16974, 17590, 17659, 17848, 17985, 18001, 18107, 18575, 18704, 18733, 18948, 19386, 19395, 19487, 19636, 19714, 19728, 19767, 19810, 19960, 20259, 20520, 20529, 20676, 20869, 20904, 21032, 21192, 21380, 21422, 21784, 21862, 21874, 22274, 22385, 22444, 22548, 22563, 22841, 22876, 22893, 22913, 22938, 23055, 23091, 23143, 23176, 24090, 24186, 24321, 24496, 24728, 24762, 24773, 24916, 25019, 25179, 25288, 25310, 25948, 26011, 26223, 26351, 26452, 26467, 26563, 26652, 26693, 26769, 26967, 27269, 27528, 27602, 27642, 27659, 27888, 27943, 28329, 28434, 28439, 28579, 28642, 28693, 28769, 28793, 28980, 29109, 29245, 29361, 29730, 29743, 29744, 29772, 29785, 29795, 30092, 30295, 30322, 30367, 30460, 30577, 30592, 30667, 30679, 30808, 31011, 31094, 31244, 31269, 31423, 31513, 31629, 31692, 31717, 31789, 32169, 32221, 32415, 32659, 32755, 32960, 33008, 33022, 33075, 33086, 33124, 33391, 33543, 33579, 33646, 33907, 34037, 34117, 34152, 34226, 34307, 34323, 34427, 34582, 34735, 34803, 35133, 35288, 35396, 35540, 35589, 35723, 35742, 35840, 36269, 36476, 36518, 36977, 37320, 37324, 37449, 37487, 37708, 37792, 37940, 37951, 38053, 38128, 38332, 38366, 38457, 38946, 39110, 39139, 39151, 39181, 39499, 39549, 39796, 39812, 39836, 39893, 39906, 40256, 40280, 40362, 40612, 40703, 40914, 40953, 41084, 41115, 41130, 41182, 41356, 41785, 41890, 41929, 41984, 42126, 42136, 42635, 42926, 43454, 43471, 43576, 43674, 43677, 43778, 44082, 44105, 44189, 44251, 44359, 44362, 44403, 44539, 44681, 44731, 44901, 45034, 45071, 45074, 45143, 45212, 45446, 45452, 45667, 45755, 46035, 46268, 46576, 46642, 46869, 46948, 47073, 47194, 47257, 47335, 47446, 47570, 47687, 47746, 47838, 47979, 48157, 48244, 48294, 48499, 48678, 48680, 48781, 48810, 48932, 49004, 49127, 49181, 49282, 49311, 49576, 49835, 50369, 50414, 50607, 51116, 51403, 51503, 52043, 52050, 52319, 52356, 52470, 52572, 52700, 52706, 52809, 52918, 52967, 53079, 53099, 53169, 53300, 53303, 53421, 53469, 53890, 54406, 54439, 54482, 54719, 54969, 55037, 55091, 55206, 55350, 55373, 55799, 55804, 55854, 55880, 55919, 55973, 56078, 56345, 56614, 56624, 56856, 56984, 57044, 57045, 57074, 57264, 57300, 57319, 57384, 57625, 57739, 57844, 57972, 58080, 58130, 58235, 58324, 58328, 58568, 58909, 59130, 59248, 59540, 59566, 59877, 60135, 60279, 60434, 60704, 60787, 60805, 60832, 61057, 61086, 61367, 61445, 61448, 61976, 62155, 62321, 62376, 62479, 62840, 62966, 63050, 63112, 63253, 63462, 63815, 63865, 64010, 64127, 64239, 64423, 64613, 64628, 64714, 64790, 64920, 65180, 65569, 65816, 65867, 66049, 66139, 66193, 66300, 66373, 66434, 66441, 66512, 66612, 66690, 66846, 67061, 67098, 67533, 67545, 67647, 68097, 68328, 68449, 68567, 68660, 68950, 69223, 69245, 69618, 69884, 70091, 70165, 70166, 70417, 70548, 70809, 70921, 71051, 71127, 71139, 71198, 71332, 71660, 71732, 71804, 72056, 72204, 72210, 72550, 72556, 72618, 72909, 73005, 73126, 73207, 73297, 73501, 73684, 73880, 74100, 74360, 74440, 74618, 74728, 74894, 74913, 74952, 75020, 75091, 75133, 75258, 75447, 75962, 76098, 76238, 76325, 76365, 76789, 76925, 76944, 77152, 77541, 77691, 77800, 77869, 77974, 77994, 78086, 78101, 78194, 78321, 78483, 78507, 78588, 78768, 78784, 78875, 79080, 79347, 79442, 79631, 79756, 80069, 80117, 80218, 80372, 80425, 80752, 80911, 80959, 80996, 81020, 81132, 81263, 81399, 81489, 81536, 81883, 81917, 82242, 82263, 82326, 82416, 82849, 83234, 83319, 83340, 83881, 83970, 84213, 84247, 84332, 84536, 84612, 84896, 85011, 85072, 85142, 85143, 85434, 85452, 85485, 86114, 86310, 86568, 86638, 87230, 87604, 87776, 87843, 87883, 87992, 87999, 88182, 88210, 88573, 88807, 89211, 89287, 89528, 89798, 89881, 89917, 89934, 90557, 90975, 90985, 91007, 91079, 91547, 91564, 91659, 91674, 91714, 91842, 92547, 92835, 92872, 92897, 92899, 92920, 93073, 93263, 93326, 93569, 93891, 93955, 94061, 94111, 94134, 94218, 94376, 94411, 94483, 94545, 94548, 94596, 94735, 94811, 94842, 95099, 95125, 95189, 95519, 95573, 95652, 96307, 96362, 96389, 96470, 96599, 96609, 96894, 97096, 97199, 97665, 97746, 98102, 98211, 98259, 98398, 98624, 98695, 98755, 98830, 98837, 98902, 98929, 98965, 99385, 99549, 100132, 100186, 100243, 100355, 100382, 100401, 100429, 100465, 100476, 100526, 100704, 101205, 101696, 101710, 101811, 101818, 101857, 102004, 102364, 102586, 102663, 102887, 102973, 103217, 103231, 103479, 103818, 103849, 103963, 104050, 104400, 104824, 104827, 104957, 105027, 105041, 105085, 105425, 105823, 106830, 106848, 106912, 106924, 107223, 107237, 107305, 107393, 107534, 107547, 107662, 107693, 107733, 107735, 107894, 108271, 108355, 108359, 108840, 108953, 109517, 109555, 109709, 109746, 109800, 109896, 109955, 110088, 110140, 110593, 110691, 111084, 111262, 111492, 111642, 111650, 111903, 112060, 112426, 112876, 113220, 113447, 113502, 113529, 113547, 113570, 113616, 113842, 114207, 114287, 114348, 114431, 114493, 114772, 114774, 114788, 115036, 115181, 115184, 115194, 115346, 115617, 115737, 115976, 116225, 116258, 116277, 116475, 116547, 116648, 116938, 117059, 117212, 117327, 117603, 117645, 117691, 118133, 118283, 118505, 118635, 118705, 118776, 118792, 118901, 118920, 118945, 119033, 119176, 119241, 119335, 119966, 120029, 120677, 120736, 120950, 121071, 121488, 121781, 121814, 121817, 122139, 122495, 122602, 122754, 122795, 122819, 122948, 123144, 123247, 123361, 123380, 123567, 123876, 123886, 124168, 124277, 124309, 124442, 124568, 124589, 124758, 125004, 125091, 125155, 125531, 125539, 125685, 125820, 126055, 126244, 126378, 126486, 126686, 126760, 126952, 127115, 127185, 127223, 127376, 127421, 127546, 127874, 128193, 128311, 128418, 128427, 128549, 128732, 128809, 129087, 129236, 129279, 129323, 129461, 129831, 129894, 129912, 130044, 130077, 130172, 130254, 130439, 130567, 130905, 131091, 131272, 131835, 132036, 132163, 132175, 132269, 132338, 132418, 132499, 132514, 132662, 133061, 133136, 133305, 133469, 133817, 133876, 133884, 133891, 133894, 134100, 134185, 134205, 134357, 134367, 134418, 134510, 134550, 134642, 134646, 134732, 135022, 135098, 135137, 135527, 135600, 135615, 135661, 135684, 135813, 135987, 136116, 136307, 136313, 136566, 136784, 136801, 137202, 137210, 137382, 137443, 137558, 137813, 137856, 137858, 137909, 138137, 138144, 138182, 138406, 138972, 139000, 139454, 139526, 139760, 140229, 140709, 140715, 140951, 140977, 140993, 141058, 141354, 141357, 141465, 141548, 141715, 141719, 141863, 142366, 142860, 142895, 143313, 143336, 143383, 143987, 144241, 144505, 144543, 144786, 144787, 144801, 145525, 145571, 145577, 145657, 145830, 145968, 1, 116, 174, 254, 468, 504, 558, 712, 743, 814, 877, 880, 884, 937, 998, 1156, 1183, 1209, 1297, 1305, 1355, 1528, 1570, 1718, 1908, 2260, 2304, 2359, 2398, 2412, 2559, 2611, 2662, 2686, 3054, 3248, 3302, 3514, 3523, 3753, 3788, 3850, 3884, 3988, 4075, 4112, 4127, 4233, 4515, 4524, 4527, 4804, 4966, 4997, 5216, 5239, 5720, 5954, 5960, 5973, 6144, 6147, 6154, 6164, 6246, 6323, 6495, 6595, 6688, 6726, 6756, 6892, 6917, 6992, 7015, 7173, 7212, 7702, 7830, 7885, 7978, 8008, 8080, 8354, 8465, 8483, 8599, 8627, 8814, 9007, 9400, 9456, 9515, 9539, 9775, 9859, 10103, 10243, 10585, 10634, 10675, 10807, 10921, 11001, 11069, 11127, 11449, 11523, 11712, 11768, 11979, 12501, 12516, 12702, 12716, 12855, 12934, 12964, 13078, 13131, 13246, 13326, 13486, 13518, 13604, 13691, 13710, 13779, 13873, 13953, 13987, 14175, 14361, 14424, 14546, 14553, 14720, 15256, 15271, 15295, 15454, 15489, 15820, 15879, 15910, 15966, 16001, 16101, 16371, 16449, 16616, 16854, 16993, 17032, 17081, 17083, 17342, 17471, 17593, 17596, 17680, 17692, 17732, 17832, 17835, 18110, 18950, 19018, 19393, 19395, 19407, 19518, 19622, 19797, 20147, 20153, 20251, 20476, 20572, 20605, 20705, 20917, 21172, 21456, 21482, 21557, 21719, 21794, 21819, 21845, 22005, 22020, 22079, 22256, 22536, 22549, 22820, 22861, 23178, 23362, 23403, 23424, 23450, 23816, 23932, 23977, 24098, 24161, 24292, 24460, 24472, 24476, 24607, 24717, 25064, 25327, 25519, 25610, 25633, 25922, 25960, 26024, 26147, 26276, 26386, 26520, 26811, 26877, 26973, 27068, 27338, 27450, 27466, 27682, 27738, 27745, 27874, 28006, 28009, 28014, 28230, 28274, 28318, 28532, 28533, 28638, 29039, 29182, 29207, 29585, 29875, 30049, 30174, 30408, 30481, 30578, 30622, 30805, 30950, 30987, 31181, 31211, 31212, 31342, 31463, 31483, 31731, 31792, 31842, 32500, 32503, 32517, 32555, 32567, 32849, 33615, 33623, 33640, 33708, 33812, 33825, 33832, 33890, 33982, 34040, 34171, 34278, 34371, 34442, 34513, 34593, 34651, 35204, 35387, 35434, 35467, 35507, 35529, 35597, 35681, 35714, 35736, 36117, 36170, 36433, 36488, 36493, 36621, 36720, 36773, 37165, 37305, 37386, 37757, 37791, 37805, 38173, 38365, 38634, 38796, 38962, 39019, 39146, 39147, 39186, 39196, 39265, 39339, 39484, 39581, 39655, 39667, 39767, 39999, 40235, 40318, 40358, 41164, 41288, 41471, 41969, 41986, 42155, 42201, 42265, 42388, 42422, 42429, 42430, 42474, 42484, 42491, 42702, 42998, 43002, 43053, 43081, 43166, 43236, 43416, 43648, 43753, 43851, 44021, 44029, 44040, 44048, 44153, 44201, 44372, 44426, 44489, 44495, 44533, 44830, 44917, 45086, 45102, 45174, 45188, 45296, 45523, 45551, 45647, 45675, 45687, 45721, 45934, 46082, 46141, 46178, 46284, 46416, 46715, 46748, 47298, 47343, 47508, 47687, 47693, 48042, 48047, 48125, 48269, 48453, 48582, 48589, 48628, 48962, 49029, 49110, 49135]\n"
     ]
    }
   ],
   "source": [
    "# 리뷰 단어가 하나도 없어 제거될 리뷰 index\n",
    "print(drop_train)"
   ]
  },
  {
   "cell_type": "code",
   "execution_count": 70,
   "metadata": {
    "colab": {
     "base_uri": "https://localhost:8080/"
    },
    "id": "G-iV5ZGw9Luf",
    "outputId": "aa4bae80-7324-4ae9-927a-7828eb938e29"
   },
   "outputs": [
    {
     "data": {
      "text/plain": [
       "numpy.ndarray"
      ]
     },
     "execution_count": 70,
     "metadata": {},
     "output_type": "execute_result"
    }
   ],
   "source": [
    "type(y_train)"
   ]
  },
  {
   "cell_type": "code",
   "execution_count": 71,
   "metadata": {
    "colab": {
     "base_uri": "https://localhost:8080/"
    },
    "id": "AwHbwYxP9NN9",
    "outputId": "e2af9ce3-3dd0-43d6-c7c6-936ee04e4c8e"
   },
   "outputs": [],
   "source": [
    "# 해당 index 제거\n",
    "X_train = np.delete(np.array(X_train,dtype=object), drop_train, axis=0).tolist()\n",
    "y_train = np.delete(y_train, drop_train, axis=0)"
   ]
  },
  {
   "cell_type": "code",
   "execution_count": 72,
   "metadata": {
    "colab": {
     "base_uri": "https://localhost:8080/"
    },
    "id": "s3YMzyGM_DAf",
    "outputId": "cc5cbeea-2e30-4671-c8f8-0505cfb5a0ae"
   },
   "outputs": [
    {
     "name": "stdout",
     "output_type": "stream",
     "text": [
      "144755\n",
      "144755\n"
     ]
    }
   ],
   "source": [
    "print(len(X_train))\n",
    "print(len(y_train))"
   ]
  },
  {
   "cell_type": "code",
   "execution_count": 73,
   "metadata": {
    "colab": {
     "base_uri": "https://localhost:8080/"
    },
    "id": "yqRWvf59J-Tk",
    "outputId": "605865aa-12aa-4acd-85a1-3aae94506aae"
   },
   "outputs": [
    {
     "name": "stdout",
     "output_type": "stream",
     "text": [
      "49157\n",
      "49157\n"
     ]
    }
   ],
   "source": [
    "print(len(X_test))\n",
    "print(len(y_test))"
   ]
  },
  {
   "cell_type": "code",
   "execution_count": 112,
   "metadata": {
    "colab": {
     "base_uri": "https://localhost:8080/"
    },
    "id": "B7A7iBA0KBpR",
    "outputId": "be01b9c3-b913-4d8c-89c1-3afdc75c894d"
   },
   "outputs": [],
   "source": [
    "# X_test = np.delete(X_test, drop_test, axis=0)\n",
    "# y_test = np.delete(y_test, drop_test, axis=0)"
   ]
  },
  {
   "cell_type": "code",
   "execution_count": 14,
   "metadata": {
    "colab": {
     "base_uri": "https://localhost:8080/"
    },
    "id": "y1mB7XX_KF09",
    "outputId": "06d5dea3-c98b-4e72-dbea-f4bdab04e9e0"
   },
   "outputs": [],
   "source": [
    "# print(len(X_test))\n",
    "# print(len(y_test))"
   ]
  },
  {
   "cell_type": "markdown",
   "metadata": {},
   "source": [
    "### 패딩 수를 결정하기 위해 \n",
    "- 학습데이터 길이 확인"
   ]
  },
  {
   "cell_type": "code",
   "execution_count": 74,
   "metadata": {
    "colab": {
     "base_uri": "https://localhost:8080/",
     "height": 314
    },
    "id": "j6kcy8AKreKv",
    "outputId": "8c220290-b2a2-433f-e9c9-919746612d50"
   },
   "outputs": [
    {
     "name": "stdout",
     "output_type": "stream",
     "text": [
      "리뷰의 최대 길이 : 69\n",
      "리뷰의 평균 길이 : 10.81281475596698\n"
     ]
    },
    {
     "data": {
      "image/png": "[encoded data removed]",
      "text/plain": [
       "<Figure size 640x480 with 1 Axes>"
      ]
     },
     "metadata": {},
     "output_type": "display_data"
    }
   ],
   "source": [
    "print('리뷰의 최대 길이 :',max(len(l) for l in X_train))\n",
    "print('리뷰의 평균 길이 :',sum(map(len, X_train))/len(X_train))\n",
    "plt.hist([len(s) for s in X_train], bins=50)\n",
    "plt.xlabel('length of samples')\n",
    "plt.ylabel('number of samples')\n",
    "plt.show()"
   ]
  },
  {
   "cell_type": "markdown",
   "metadata": {},
   "source": [
    "### 샘플의 길이차이가 많으므로 샘플 길이를 30으로 맞춤\n",
    "- 샘플길이가 일정 수 이하인 비율 계산하는 함수 작성 후 확인하고 진행"
   ]
  },
  {
   "cell_type": "code",
   "execution_count": 75,
   "metadata": {
    "id": "yFDDvQy2FlZK"
   },
   "outputs": [],
   "source": [
    "# 샘플길이가 파라미터 max_len 이하인 샘플 비율 확인 함수\n",
    "def below_threshold_len(max_len, nested_list):\n",
    "    cnt = 0\n",
    "    for s in nested_list:\n",
    "        if(len(s) <= max_len):\n",
    "            cnt = cnt + 1\n",
    "    print('전체 샘플 중 길이가 %s 이하인 샘플의 비율: %s'%(max_len, (cnt / len(nested_list))*100))"
   ]
  },
  {
   "cell_type": "code",
   "execution_count": 76,
   "metadata": {
    "colab": {
     "base_uri": "https://localhost:8080/"
    },
    "id": "x0njO96tFw1f",
    "outputId": "f4039cb4-45b1-45fa-b9bc-170df6217374"
   },
   "outputs": [
    {
     "name": "stdout",
     "output_type": "stream",
     "text": [
      "전체 샘플 중 길이가 30 이하인 샘플의 비율: 94.31729473938724\n"
     ]
    }
   ],
   "source": [
    "max_len = 30\n",
    "below_threshold_len(max_len, X_train)"
   ]
  },
  {
   "cell_type": "code",
   "execution_count": 77,
   "metadata": {
    "id": "iIgJvzh2rhug"
   },
   "outputs": [],
   "source": [
    "# 전체 데이터의 길이는 30으로 맞춘다. 패딩 진행\n",
    "X_train = pad_sequences(X_train, maxlen=max_len)\n",
    "X_test = pad_sequences(X_test, maxlen=max_len)"
   ]
  },
  {
   "cell_type": "code",
   "execution_count": 78,
   "metadata": {},
   "outputs": [
    {
     "data": {
      "text/plain": [
       "array([  0,   0,   0,   0,   0,   0,   0,   0,   0,   0,   0,   0,   0,\n",
       "         0,   0,   0,   0,   0,   0,   0,   0,   0,   0,   0,   0,  50,\n",
       "       454,  16, 260, 659])"
      ]
     },
     "execution_count": 78,
     "metadata": {},
     "output_type": "execute_result"
    }
   ],
   "source": [
    "X_train[0]"
   ]
  },
  {
   "cell_type": "markdown",
   "metadata": {},
   "source": [
    "## 학습 데이터 전처리 완성"
   ]
  },
  {
   "cell_type": "markdown",
   "metadata": {},
   "source": [
    "<hr/>"
   ]
  },
  {
   "cell_type": "markdown",
   "metadata": {
    "id": "FtGXGgP2bua5"
   },
   "source": [
    "# 2. LSTM으로 네이버 영화 리뷰 감성 분류하기"
   ]
  },
  {
   "cell_type": "code",
   "execution_count": 79,
   "metadata": {
    "id": "NColEfDn5C_K"
   },
   "outputs": [],
   "source": [
    "from tensorflow.keras.layers import Embedding, Dense, LSTM\n",
    "from tensorflow.keras.models import Sequential\n",
    "from tensorflow.keras.models import load_model\n",
    "from tensorflow.keras.callbacks import EarlyStopping, ModelCheckpoint"
   ]
  },
  {
   "cell_type": "markdown",
   "metadata": {},
   "source": [
    "### 조기종료 및 체크포인트 결정"
   ]
  },
  {
   "cell_type": "markdown",
   "metadata": {},
   "source": [
    "### EarlyStopping\n",
    "- mode : 관찰 항목에 대해 개선이 없다고 판단하기 위한 기준을 지정\n",
    "    - 예를 들어 관찰 항목이 ‘val_loss’인 경우에는 감소되는 것이 멈출 때 종료되어야 하므로, ‘min’으로 설정\n",
    "    - auto : 관찰하는 이름에 따라 자동으로 지정\n",
    "    - min : 관찰하고 있는 항목이 감소되는 것을 멈출 때 종료\n",
    "    - max : 관찰하고 있는 항목이 증가되는 것을 멈출 때 종료"
   ]
  },
  {
   "cell_type": "code",
   "execution_count": 80,
   "metadata": {
    "id": "3aGOyv985GYH"
   },
   "outputs": [],
   "source": [
    "es = EarlyStopping(monitor='val_loss', mode='min', verbose=1, patience=4)\n",
    "mc = ModelCheckpoint('./model/best_model.h5', monitor='val_acc', mode='max', verbose=1, save_best_only=True)"
   ]
  },
  {
   "cell_type": "markdown",
   "metadata": {},
   "source": [
    "### 모델 구성"
   ]
  },
  {
   "cell_type": "code",
   "execution_count": 81,
   "metadata": {
    "id": "B6nEH8bdvzFt"
   },
   "outputs": [],
   "source": [
    "embedding_dim=100 #1개 단어에 대한 밀집벡터 사이즈\n",
    "hidden_units=128 #LSTM의 뉴런 수"
   ]
  },
  {
   "cell_type": "code",
   "execution_count": 82,
   "metadata": {},
   "outputs": [],
   "source": [
    "model=Sequential()\n",
    "model.add(Embedding(vocab_size,embedding_dim ))\n",
    "model.add(LSTM(hidden_units))\n",
    "model.add(Dense(1, activation='sigmoid'))"
   ]
  },
  {
   "cell_type": "code",
   "execution_count": 83,
   "metadata": {
    "colab": {
     "base_uri": "https://localhost:8080/"
    },
    "id": "7SHHUilxFB3Z",
    "outputId": "66637a24-c134-4b39-d24e-0dbba6f93bcf"
   },
   "outputs": [
    {
     "name": "stdout",
     "output_type": "stream",
     "text": [
      "Epoch 1/20\n",
      "1809/1810 [============================>.] - ETA: 0s - loss: 0.3899 - acc: 0.8231\n",
      "Epoch 1: val_acc improved from -inf to 0.84080, saving model to ./model\\best_model.h5\n",
      "1810/1810 [==============================] - 20s 9ms/step - loss: 0.3899 - acc: 0.8231 - val_loss: 0.3573 - val_acc: 0.8408\n",
      "Epoch 2/20\n",
      "1810/1810 [==============================] - ETA: 0s - loss: 0.3279 - acc: 0.8579\n",
      "Epoch 2: val_acc improved from 0.84080 to 0.85569, saving model to ./model\\best_model.h5\n",
      "1810/1810 [==============================] - 14s 8ms/step - loss: 0.3279 - acc: 0.8579 - val_loss: 0.3360 - val_acc: 0.8557\n",
      "Epoch 3/20\n",
      "1805/1810 [============================>.] - ETA: 0s - loss: 0.3029 - acc: 0.8715\n",
      "Epoch 3: val_acc improved from 0.85569 to 0.85824, saving model to ./model\\best_model.h5\n",
      "1810/1810 [==============================] - 14s 8ms/step - loss: 0.3030 - acc: 0.8714 - val_loss: 0.3270 - val_acc: 0.8582\n",
      "Epoch 4/20\n",
      "1810/1810 [==============================] - ETA: 0s - loss: 0.2845 - acc: 0.8816\n",
      "Epoch 4: val_acc did not improve from 0.85824\n",
      "1810/1810 [==============================] - 14s 8ms/step - loss: 0.2845 - acc: 0.8816 - val_loss: 0.3290 - val_acc: 0.8577\n",
      "Epoch 5/20\n",
      "1806/1810 [============================>.] - ETA: 0s - loss: 0.2682 - acc: 0.8898\n",
      "Epoch 5: val_acc improved from 0.85824 to 0.85842, saving model to ./model\\best_model.h5\n",
      "1810/1810 [==============================] - 14s 8ms/step - loss: 0.2682 - acc: 0.8898 - val_loss: 0.3287 - val_acc: 0.8584\n",
      "Epoch 6/20\n",
      "1803/1810 [============================>.] - ETA: 0s - loss: 0.2538 - acc: 0.8977\n",
      "Epoch 6: val_acc did not improve from 0.85842\n",
      "1810/1810 [==============================] - 14s 8ms/step - loss: 0.2539 - acc: 0.8977 - val_loss: 0.3352 - val_acc: 0.8553\n",
      "Epoch 7/20\n",
      "1807/1810 [============================>.] - ETA: 0s - loss: 0.2387 - acc: 0.9042\n",
      "Epoch 7: val_acc did not improve from 0.85842\n",
      "1810/1810 [==============================] - 14s 8ms/step - loss: 0.2386 - acc: 0.9042 - val_loss: 0.3459 - val_acc: 0.8567\n",
      "Epoch 7: early stopping\n"
     ]
    }
   ],
   "source": [
    "model.compile(optimizer='rmsprop', loss='binary_crossentropy', metrics=['acc'])\n",
    "history = model.fit(X_train, y_train, epochs=20, callbacks=[es, mc], batch_size=64, validation_split=0.2)"
   ]
  },
  {
   "cell_type": "code",
   "execution_count": 128,
   "metadata": {
    "id": "Iva8x8Gr-W7w"
   },
   "outputs": [],
   "source": [
    "# loaded_model = load_model('./model/best_model.h5')"
   ]
  },
  {
   "cell_type": "code",
   "execution_count": 85,
   "metadata": {
    "colab": {
     "base_uri": "https://localhost:8080/"
    },
    "id": "eOenyOoS_Qt5",
    "outputId": "b61eed5c-237b-48a1-f8bd-f6f737274a1b"
   },
   "outputs": [
    {
     "name": "stdout",
     "output_type": "stream",
     "text": [
      "1537/1537 [==============================] - 5s 3ms/step - loss: 0.3579 - acc: 0.8513\n",
      "\n",
      " 테스트 정확도: 0.8513\n"
     ]
    }
   ],
   "source": [
    "print(\"\\n 테스트 정확도: %.4f\" % (model.evaluate(X_test, y_test)[1]))"
   ]
  },
  {
   "cell_type": "code",
   "execution_count": null,
   "metadata": {},
   "outputs": [],
   "source": [
    "# word_index 대신 tokenizer 객체 저장\n",
    "with open('tokenizer.pickle', 'wb') as handle :\n",
    "    pickle.dump(tokenizer, handle)\n",
    "    \n",
    "with open('tokenizer.pickle', 'rb') as handle :\n",
    "    tokenizer = pickle.load(handle)    "
   ]
  },
  {
   "cell_type": "markdown",
   "metadata": {
    "id": "ucyY3JVpbwxK"
   },
   "source": [
    "# 3. 리뷰 예측해보기"
   ]
  },
  {
   "cell_type": "code",
   "execution_count": 87,
   "metadata": {
    "id": "vbvk5X3PPExa"
   },
   "outputs": [],
   "source": [
    "# 새로운 문장 전처리 및 예측 함수\n",
    "def sentiment_predict(new_sentence):\n",
    "    new_sentence = re.sub(r'[^ㄱ-ㅎㅏ-ㅣ가-힣 ]','', new_sentence)\n",
    "    new_sentence = okt.morphs(new_sentence, stem=True) # 토큰화\n",
    "    new_sentence = [word for word in new_sentence if not word in stopwords] # 불용어 제거\n",
    "    encoded = tokenizer.texts_to_sequences([new_sentence]) # 정수 인코딩\n",
    "    pad_new = pad_sequences(encoded, maxlen = max_len) # 패딩\n",
    "    score = float(model.predict(pad_new)) # 예측\n",
    "    if(score > 0.5):\n",
    "        print(\"{:.2f}% 확률로 긍정 리뷰입니다.\\n\".format(score * 100))\n",
    "    else:\n",
    "        print(\"{:.2f}% 확률로 부정 리뷰입니다.\\n\".format((1 - score) * 100))"
   ]
  },
  {
   "cell_type": "code",
   "execution_count": 89,
   "metadata": {},
   "outputs": [
    {
     "name": "stdout",
     "output_type": "stream",
     "text": [
      "감성분석할 문장을 입력해 주세요.: 이 영화 개꿀잼\n",
      "1/1 [==============================] - 0s 160ms/step\n",
      "89.85% 확률로 긍정 리뷰입니다.\n",
      "\n"
     ]
    },
    {
     "name": "stderr",
     "output_type": "stream",
     "text": [
      "C:\\Users\\USER\\AppData\\Local\\Temp\\ipykernel_24164\\1715698064.py:8: DeprecationWarning: Conversion of an array with ndim > 0 to a scalar is deprecated, and will error in future. Ensure you extract a single element from your array before performing this operation. (Deprecated NumPy 1.25.)\n",
      "  score = float(model.predict(pad_new)) # 예측\n"
     ]
    }
   ],
   "source": [
    "sentence = input('감성분석할 문장을 입력해 주세요.: ')\n",
    "sentiment_predict(sentence)"
   ]
  },
  {
   "cell_type": "code",
   "execution_count": null,
   "metadata": {},
   "outputs": [],
   "source": []
  }
 ],
 "metadata": {
  "accelerator": "GPU",
  "colab": {
   "collapsed_sections": [],
   "name": "Naver Movie Review Sentiment Analysis.ipynb",
   "provenance": []
  },
  "kernelspec": {
   "display_name": "tf",
   "language": "python",
   "name": "tf"
  },
  "language_info": {
   "codemirror_mode": {
    "name": "ipython",
    "version": 3
   },
   "file_extension": ".py",
   "mimetype": "text/x-python",
   "name": "python",
   "nbconvert_exporter": "python",
   "pygments_lexer": "ipython3",
   "version": "3.9.0"
  }
 },
 "nbformat": 4,
 "nbformat_minor": 1
}
