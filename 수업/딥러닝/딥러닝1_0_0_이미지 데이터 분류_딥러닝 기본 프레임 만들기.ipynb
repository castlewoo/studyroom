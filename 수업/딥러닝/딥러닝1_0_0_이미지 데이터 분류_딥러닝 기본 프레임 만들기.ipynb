{
 "cells": [
  {
   "cell_type": "markdown",
   "metadata": {},
   "source": [
    "## 이미지 데이터 분류 : MNIST - 딥러닝 기본 프레임 만들기"
   ]
  },
  {
   "cell_type": "markdown",
   "metadata": {},
   "source": [
    "- 총 60,000개의 학습셋과 10,000개의 테스트셋을 불러와 속성 값을 지닌 X, 클래스 값을 지닌 Y로 구분하는 작업"
   ]
  },
  {
   "cell_type": "markdown",
   "metadata": {},
   "source": [
    "딥러닝 모델 구현  \n",
    "(1) 모델 설정  \n",
    "(2) 모델 컴파일  \n",
    "(3) 모델 실행(학습)  \n",
    "(4) 모델 평가\n",
    "\n",
    "ModelCheckpoint() : 모델 성과 저장/로드   \n",
    "EarlyStopping : 모델 최적화 단계에서 학습 자동 중단 설정     \n",
    "모델 저장/로드"
   ]
  },
  {
   "cell_type": "code",
   "execution_count": 3,
   "metadata": {},
   "outputs": [],
   "source": [
    "# 이미지 데이터 로드 및 전처리\n",
    "\n",
    "from keras.datasets import mnist\n",
    "from tensorflow.keras.utils import to_categorical\n",
    "\n",
    "(X_train, Y_train), (X_test, Y_test) = mnist.load_data()\n",
    "\n",
    "# 정규화\n",
    "X_train = X_train.reshape(X_train.shape[0], 784).astype('float32') / 255\n",
    "X_test = X_test.reshape(X_test.shape[0], 784).astype('float32') / 255\n",
    "\n",
    "# 원-핫 인코딩 (바이너리화)\n",
    "Y_train = to_categorical(Y_train, 10)\n",
    "Y_test = to_categorical(Y_test, 10)"
   ]
  },
  {
   "cell_type": "markdown",
   "metadata": {},
   "source": [
    "**딥러닝 적용(프레임 설정)**"
   ]
  },
  {
   "cell_type": "code",
   "execution_count": 4,
   "metadata": {},
   "outputs": [],
   "source": [
    "from tensorflow.keras.models import Sequential\n",
    "from tensorflow.keras.layers import Dense\n",
    "\n",
    "\n",
    "# (1) 모델 설정\n",
    "model = Sequential()\n",
    "model.add(Dense(512, input_shape = (784,), activation = 'relu')) # 은닉층\n",
    "model.add(Dense(10, activation = 'softmax'))"
   ]
  },
  {
   "cell_type": "markdown",
   "metadata": {},
   "source": [
    "##### 활성화 함수\n",
    "- 은닉층 : relu\n",
    "- 출력층 : softmax\n",
    "\n",
    "    - relu 함수\n",
    "        - x가 0보다 작을 때는 모든 값을 0으로 처리하고\n",
    "        - 0보다 클 때는 x를 그대로 사용\n",
    "\n",
    "    - softmax 함수 \n",
    "        - 3개 이상으로 분류하는 다중 클래스 분류에서 사용하는 활성화 함수"
   ]
  },
  {
   "cell_type": "code",
   "execution_count": 5,
   "metadata": {},
   "outputs": [],
   "source": [
    "# (2) 모델 컴파일\n",
    "# 결정값ㅇ ㅣ원핫인코딩되어 있으므로\n",
    "# 손실 함수(오차 함수) : categorical_crossentropy\n",
    "model.compile(loss = 'categorical_crossentropy', optimizer = 'adam', metrics = ['accuracy'])\n",
    "# 최적화 알고리즘 : adam \n",
    "# Adam(Adaptive Moment Estimation)\n",
    "# 각 파라미터마다 다른 크기의 업데이트를 적용하는 방법"
   ]
  },
  {
   "cell_type": "markdown",
   "metadata": {},
   "source": [
    "##### 모델 성과 저장\n",
    "- 모델의 최적화 단계에서 학습 자동 중단\n",
    "- 10회 이상 모델의 성과 향상이 없으면 자동으로 학습을 중단함"
   ]
  },
  {
   "cell_type": "code",
   "execution_count": 6,
   "metadata": {},
   "outputs": [],
   "source": [
    "from keras.callbacks import ModelCheckpoint, EarlyStopping\n",
    "import os\n",
    "\n",
    "# 모델 저장할 디렉터리 생성\n",
    "# 현재 디렉터리에 model 디렉터리 생성\n",
    "# 존재하지 않으면 생성\n",
    "MODEL_DIR = './model'\n",
    "if not os.path.exists(MODEL_DIR) : \n",
    "    os.mkdir(MODEL_DIR)\n",
    "# 파일명 : epoch-val_loss.hdf5\n",
    "modelpath=\"./model/{epoch:02d}-{val_loss:.4f}.hdf5\"\n",
    "\n",
    "# 10회 이상 모델의 성과 향상이 없으면 자동으로 학습을 중단함\n",
    "checkpointer = ModelCheckpoint(filepath = modelpath, \n",
    "                               monitor = 'val_loss',\n",
    "                               verbose = 1,\n",
    "                               save_best_only = True)\n",
    "\n",
    "early_stopping_clbk = EarlyStopping(monitor = 'val_loss', patience = 10)\n",
    "# 여기까지 실행하면 model 폴더만 생성되고\n",
    "# 아직 파일 저장 안 됨"
   ]
  },
  {
   "cell_type": "code",
   "execution_count": 7,
   "metadata": {},
   "outputs": [
    {
     "name": "stdout",
     "output_type": "stream",
     "text": [
      "Epoch 1/30\n",
      "292/300 [============================>.] - ETA: 0s - loss: 0.3092 - accuracy: 0.9134\n",
      "Epoch 1: val_loss improved from inf to 0.16002, saving model to ./model\\01-0.1600.hdf5\n",
      "300/300 [==============================] - 3s 7ms/step - loss: 0.3055 - accuracy: 0.9144 - val_loss: 0.1600 - val_accuracy: 0.9535\n",
      "Epoch 2/30\n",
      " 28/300 [=>............................] - ETA: 1s - loss: 0.1429 - accuracy: 0.9604"
     ]
    },
    {
     "name": "stderr",
     "output_type": "stream",
     "text": [
      "C:\\Anaconda3\\Lib\\site-packages\\keras\\src\\engine\\training.py:3079: UserWarning: You are saving your model as an HDF5 file via `model.save()`. This file format is considered legacy. We recommend using instead the native Keras format, e.g. `model.save('my_model.keras')`.\n",
      "  saving_api.save_model(\n"
     ]
    },
    {
     "name": "stdout",
     "output_type": "stream",
     "text": [
      "295/300 [============================>.] - ETA: 0s - loss: 0.1272 - accuracy: 0.9632\n",
      "Epoch 2: val_loss improved from 0.16002 to 0.10438, saving model to ./model\\02-0.1044.hdf5\n",
      "300/300 [==============================] - 2s 6ms/step - loss: 0.1269 - accuracy: 0.9633 - val_loss: 0.1044 - val_accuracy: 0.9687\n",
      "Epoch 3/30\n",
      "293/300 [============================>.] - ETA: 0s - loss: 0.0867 - accuracy: 0.9748\n",
      "Epoch 3: val_loss improved from 0.10438 to 0.08456, saving model to ./model\\03-0.0846.hdf5\n",
      "300/300 [==============================] - 2s 6ms/step - loss: 0.0861 - accuracy: 0.9749 - val_loss: 0.0846 - val_accuracy: 0.9744\n",
      "Epoch 4/30\n",
      "300/300 [==============================] - ETA: 0s - loss: 0.0608 - accuracy: 0.9825\n",
      "Epoch 4: val_loss improved from 0.08456 to 0.08285, saving model to ./model\\04-0.0828.hdf5\n",
      "300/300 [==============================] - 2s 6ms/step - loss: 0.0608 - accuracy: 0.9825 - val_loss: 0.0828 - val_accuracy: 0.9749\n",
      "Epoch 5/30\n",
      "295/300 [============================>.] - ETA: 0s - loss: 0.0467 - accuracy: 0.9866\n",
      "Epoch 5: val_loss improved from 0.08285 to 0.06890, saving model to ./model\\05-0.0689.hdf5\n",
      "300/300 [==============================] - 2s 6ms/step - loss: 0.0467 - accuracy: 0.9866 - val_loss: 0.0689 - val_accuracy: 0.9782\n",
      "Epoch 6/30\n",
      "297/300 [============================>.] - ETA: 0s - loss: 0.0348 - accuracy: 0.9902\n",
      "Epoch 6: val_loss did not improve from 0.06890\n",
      "300/300 [==============================] - 2s 6ms/step - loss: 0.0349 - accuracy: 0.9901 - val_loss: 0.0692 - val_accuracy: 0.9785\n",
      "Epoch 7/30\n",
      "296/300 [============================>.] - ETA: 0s - loss: 0.0267 - accuracy: 0.9932\n",
      "Epoch 7: val_loss improved from 0.06890 to 0.06303, saving model to ./model\\07-0.0630.hdf5\n",
      "300/300 [==============================] - 2s 6ms/step - loss: 0.0267 - accuracy: 0.9932 - val_loss: 0.0630 - val_accuracy: 0.9800\n",
      "Epoch 8/30\n",
      "299/300 [============================>.] - ETA: 0s - loss: 0.0223 - accuracy: 0.9946\n",
      "Epoch 8: val_loss did not improve from 0.06303\n",
      "300/300 [==============================] - 2s 6ms/step - loss: 0.0224 - accuracy: 0.9946 - val_loss: 0.0668 - val_accuracy: 0.9805\n",
      "Epoch 9/30\n",
      "296/300 [============================>.] - ETA: 0s - loss: 0.0169 - accuracy: 0.9958\n",
      "Epoch 9: val_loss improved from 0.06303 to 0.06274, saving model to ./model\\09-0.0627.hdf5\n",
      "300/300 [==============================] - 2s 6ms/step - loss: 0.0169 - accuracy: 0.9959 - val_loss: 0.0627 - val_accuracy: 0.9803\n",
      "Epoch 10/30\n",
      "293/300 [============================>.] - ETA: 0s - loss: 0.0121 - accuracy: 0.9974\n",
      "Epoch 10: val_loss improved from 0.06274 to 0.06156, saving model to ./model\\10-0.0616.hdf5\n",
      "300/300 [==============================] - 2s 6ms/step - loss: 0.0121 - accuracy: 0.9974 - val_loss: 0.0616 - val_accuracy: 0.9810\n",
      "Epoch 11/30\n",
      "299/300 [============================>.] - ETA: 0s - loss: 0.0098 - accuracy: 0.9981\n",
      "Epoch 11: val_loss did not improve from 0.06156\n",
      "300/300 [==============================] - 2s 6ms/step - loss: 0.0097 - accuracy: 0.9981 - val_loss: 0.0617 - val_accuracy: 0.9808\n",
      "Epoch 12/30\n",
      "296/300 [============================>.] - ETA: 0s - loss: 0.0074 - accuracy: 0.9986\n",
      "Epoch 12: val_loss improved from 0.06156 to 0.05905, saving model to ./model\\12-0.0591.hdf5\n",
      "300/300 [==============================] - 2s 6ms/step - loss: 0.0075 - accuracy: 0.9986 - val_loss: 0.0591 - val_accuracy: 0.9823\n",
      "Epoch 13/30\n",
      "299/300 [============================>.] - ETA: 0s - loss: 0.0058 - accuracy: 0.9992\n",
      "Epoch 13: val_loss did not improve from 0.05905\n",
      "300/300 [==============================] - 2s 6ms/step - loss: 0.0058 - accuracy: 0.9992 - val_loss: 0.0629 - val_accuracy: 0.9815\n",
      "Epoch 14/30\n",
      "297/300 [============================>.] - ETA: 0s - loss: 0.0059 - accuracy: 0.9991\n",
      "Epoch 14: val_loss did not improve from 0.05905\n",
      "300/300 [==============================] - 2s 6ms/step - loss: 0.0059 - accuracy: 0.9991 - val_loss: 0.0606 - val_accuracy: 0.9828\n",
      "Epoch 15/30\n",
      "298/300 [============================>.] - ETA: 0s - loss: 0.0043 - accuracy: 0.9993\n",
      "Epoch 15: val_loss did not improve from 0.05905\n",
      "300/300 [==============================] - 2s 6ms/step - loss: 0.0043 - accuracy: 0.9993 - val_loss: 0.0661 - val_accuracy: 0.9804\n",
      "Epoch 16/30\n",
      "292/300 [============================>.] - ETA: 0s - loss: 0.0055 - accuracy: 0.9988\n",
      "Epoch 16: val_loss did not improve from 0.05905\n",
      "300/300 [==============================] - 2s 6ms/step - loss: 0.0055 - accuracy: 0.9988 - val_loss: 0.0694 - val_accuracy: 0.9807\n",
      "Epoch 17/30\n",
      "292/300 [============================>.] - ETA: 0s - loss: 0.0032 - accuracy: 0.9996\n",
      "Epoch 17: val_loss did not improve from 0.05905\n",
      "300/300 [==============================] - 2s 6ms/step - loss: 0.0031 - accuracy: 0.9996 - val_loss: 0.0655 - val_accuracy: 0.9821\n",
      "Epoch 18/30\n",
      "292/300 [============================>.] - ETA: 0s - loss: 0.0020 - accuracy: 0.9998\n",
      "Epoch 18: val_loss did not improve from 0.05905\n",
      "300/300 [==============================] - 2s 6ms/step - loss: 0.0020 - accuracy: 0.9998 - val_loss: 0.0666 - val_accuracy: 0.9822\n",
      "Epoch 19/30\n",
      "297/300 [============================>.] - ETA: 0s - loss: 0.0012 - accuracy: 1.0000\n",
      "Epoch 19: val_loss did not improve from 0.05905\n",
      "300/300 [==============================] - 2s 6ms/step - loss: 0.0012 - accuracy: 1.0000 - val_loss: 0.0651 - val_accuracy: 0.9820\n",
      "Epoch 20/30\n",
      "292/300 [============================>.] - ETA: 0s - loss: 7.5687e-04 - accuracy: 1.0000\n",
      "Epoch 20: val_loss did not improve from 0.05905\n",
      "300/300 [==============================] - 2s 6ms/step - loss: 7.6034e-04 - accuracy: 1.0000 - val_loss: 0.0648 - val_accuracy: 0.9826\n",
      "Epoch 21/30\n",
      "296/300 [============================>.] - ETA: 0s - loss: 5.8841e-04 - accuracy: 1.0000\n",
      "Epoch 21: val_loss did not improve from 0.05905\n",
      "300/300 [==============================] - 2s 6ms/step - loss: 5.8648e-04 - accuracy: 1.0000 - val_loss: 0.0666 - val_accuracy: 0.9830\n",
      "Epoch 22/30\n",
      "294/300 [============================>.] - ETA: 0s - loss: 5.0755e-04 - accuracy: 1.0000\n",
      "Epoch 22: val_loss did not improve from 0.05905\n",
      "300/300 [==============================] - 2s 6ms/step - loss: 5.0716e-04 - accuracy: 1.0000 - val_loss: 0.0667 - val_accuracy: 0.9827\n"
     ]
    }
   ],
   "source": [
    "# (3) 모델 실행 (학습)\n",
    "# 새로운 콜백 사용해서 모델 훈련\n",
    "history = model.fit(X_train, Y_train,\n",
    "                   validation_data = (X_test, Y_test),\n",
    "                   epochs = 30, batch_size = 200,\n",
    "                   callbacks = [early_stopping_clbk, checkpointer])\n",
    "\n",
    "\n",
    "# model 폴더 확인 ; 12-0.0614.hdf5 파일까지 저장"
   ]
  },
  {
   "cell_type": "code",
   "execution_count": 8,
   "metadata": {},
   "outputs": [
    {
     "name": "stdout",
     "output_type": "stream",
     "text": [
      "313/313 [==============================] - 1s 2ms/step - loss: 0.0667 - accuracy: 0.9827\n"
     ]
    },
    {
     "data": {
      "text/plain": [
       "[0.06669639050960541, 0.982699990272522]"
      ]
     },
     "execution_count": 8,
     "metadata": {},
     "output_type": "execute_result"
    }
   ],
   "source": [
    "# (4) 모델 평가\n",
    "# 테스트 정확도 출력\n",
    "model.evaluate(X_test, Y_test)"
   ]
  },
  {
   "cell_type": "code",
   "execution_count": 10,
   "metadata": {},
   "outputs": [],
   "source": [
    "import matplotlib.pyplot as plt\n",
    "%matplotlib inline"
   ]
  },
  {
   "cell_type": "code",
   "execution_count": 11,
   "metadata": {},
   "outputs": [
    {
     "data": {
      "image/png": "[encoded data removed]",
      "text/plain": [
       "<Figure size 640x480 with 1 Axes>"
      ]
     },
     "metadata": {},
     "output_type": "display_data"
    }
   ],
   "source": [
    "# val_loss와 loss 그래프로 표현\n",
    "import matplotlib.pyplot as plt\n",
    "import numpy\n",
    "\n",
    "# 테스트 셋의 오차\n",
    "y_vloss = history.history['val_loss']\n",
    "\n",
    "# 학습셋의 오차\n",
    "y_loss = history.history['loss']\n",
    "\n",
    "# 그래프로 표현\n",
    "\n",
    "plt.plot(y_vloss, marker = '.', c = 'red', label = 'val_loss')\n",
    "plt.plot(y_loss, marker = '.', c = 'blue', label = 'train_loss')\n",
    "# 그래프에 그리드를 주고 레이블을 표시\n",
    "plt.legend(loc = 'upper right')\n",
    "# plt.axis([0, 20, 0, 0.35])\n",
    "plt.grid()\n",
    "plt.xlabel('epoch')\n",
    "plt.ylabel('loss')\n",
    "plt.show()\n"
   ]
  },
  {
   "cell_type": "code",
   "execution_count": null,
   "metadata": {},
   "outputs": [],
   "source": []
  },
  {
   "cell_type": "markdown",
   "metadata": {},
   "source": [
    "# 모델의 가중치 저장 및 로드"
   ]
  },
  {
   "cell_type": "code",
   "execution_count": 14,
   "metadata": {},
   "outputs": [],
   "source": []
  },
  {
   "cell_type": "code",
   "execution_count": null,
   "metadata": {},
   "outputs": [],
   "source": []
  },
  {
   "cell_type": "code",
   "execution_count": null,
   "metadata": {},
   "outputs": [],
   "source": []
  },
  {
   "cell_type": "code",
   "execution_count": 4,
   "metadata": {},
   "outputs": [],
   "source": [
    "# 전체 모델 저장\n",
    "from tensorflow.keras.models import load_model\n",
    "\n",
    "# 모델 저장\n"
   ]
  },
  {
   "cell_type": "code",
   "execution_count": 18,
   "metadata": {},
   "outputs": [],
   "source": [
    "# 저장된 모델 불러오기\n"
   ]
  },
  {
   "cell_type": "code",
   "execution_count": 5,
   "metadata": {},
   "outputs": [],
   "source": [
    "# 복원된 모델 평가\n"
   ]
  },
  {
   "cell_type": "code",
   "execution_count": 22,
   "metadata": {},
   "outputs": [],
   "source": []
  },
  {
   "cell_type": "code",
   "execution_count": null,
   "metadata": {},
   "outputs": [],
   "source": []
  },
  {
   "cell_type": "markdown",
   "metadata": {},
   "source": [
    "### 모델은 hdf5 나 h5로 보통 저장함"
   ]
  }
 ],
 "metadata": {
  "kernelspec": {
   "display_name": "Python 3 (ipykernel)",
   "language": "python",
   "name": "python3"
  },
  "language_info": {
   "codemirror_mode": {
    "name": "ipython",
    "version": 3
   },
   "file_extension": ".py",
   "mimetype": "text/x-python",
   "name": "python",
   "nbconvert_exporter": "python",
   "pygments_lexer": "ipython3",
   "version": "3.11.5"
  }
 },
 "nbformat": 4,
 "nbformat_minor": 2
}
