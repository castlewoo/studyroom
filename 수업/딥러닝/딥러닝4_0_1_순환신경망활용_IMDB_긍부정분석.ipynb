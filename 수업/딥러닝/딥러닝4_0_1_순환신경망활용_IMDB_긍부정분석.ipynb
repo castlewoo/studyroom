{
 "cells": [
  {
   "cell_type": "markdown",
   "metadata": {},
   "source": [
    "# 순환 신경망으로 IMDB 리뷰 분류하기"
   ]
  },
  {
   "cell_type": "markdown",
   "metadata": {},
   "source": [
    "## IMDB 리뷰 데이터셋"
   ]
  },
  {
   "cell_type": "markdown",
   "metadata": {},
   "source": [
    "### 텍스트  데이터 처리\n",
    "- 텍스트 데이터 자체를 신경망에 전달할 수는 없음\n",
    "    - 컴퓨터에서 처리하는 모든 것은 어떤 숫자 데이터 임\n",
    "    - 이미지는 그 자체가 픽셀값(수치)으로 표현되어 있어 변환이 필요 없음\n",
    "    - 텍스트는 단어를 숫자로 바꿔 줘야 함\n",
    "    - 가장 생각하기 쉬운 단어를 숫자로 바꾸는 방법은?\n",
    "        - 단어마다 고유한 정수를 부여하는 방법        \n",
    "        - 동일한 단어는 동일한 정수에 매핑되고 정수들은 어떠한 관계도 없음(물론, 크기 차이도 의미 없음)\n",
    "        - 일반적으로 영어 문장은 모두 소문자로 바꾸로 구둣점 삭제 후 공백을 기준으로 분리\n",
    "            - 이렇게 분리된 단어를 토큰이라고 함\n",
    "            - **샘플은 여러개의 단어로 이루어져있고 1개의 토큰은 하나의 타임스탬프**\n",
    "            - 정수에 사용되는 값 중 일부는 고유한 값으로 예약되어 있음\n",
    "- 어휘 사전 : 훈련세트에서 고유한 단어를 뽑아만든 목록"
   ]
  },
  {
   "cell_type": "markdown",
   "metadata": {},
   "source": [
    "### IMDB 데이터 셋\n",
    "- 텍스트의 전처리가 완료된 dataset\n",
    "    - voca(어휘사전)도 완료되어 있음\n",
    "- 텐서플로가 제공하는 데이터 셋은 이미 정수로 바꾼 데이터 셋이 포함되어 있음"
   ]
  },
  {
   "cell_type": "code",
   "execution_count": 1,
   "metadata": {
    "execution": {
     "iopub.execute_input": "2020-10-12T01:18:41.979392Z",
     "iopub.status.busy": "2020-10-12T01:18:41.978299Z",
     "iopub.status.idle": "2020-10-12T01:18:52.473300Z",
     "shell.execute_reply": "2020-10-12T01:18:52.471703Z"
    }
   },
   "outputs": [],
   "source": [
    "from tensorflow.keras.datasets import imdb\n",
    "\n",
    "(train_input, train_target), (test_input, test_target) = imdb.load_data(num_words=500)\n",
    "# 어휘사전에는 500개의 단어만 입력해서 사용함\n",
    "# 즉, 빈도수가 높은 500개의 단어만 이용 load 했다는 의미이므로\n",
    "# 문장에서 빈도수가 낮은 단어는 500개에 없는 단어는 모두 2로 처리되어 있음\n",
    "# 리뷰문장도 어휘사전에 있는 500개 단어에 대해서는 고유번호가 매핑되어 있음"
   ]
  },
  {
   "cell_type": "code",
   "execution_count": 2,
   "metadata": {
    "execution": {
     "iopub.execute_input": "2020-10-12T01:18:52.481400Z",
     "iopub.status.busy": "2020-10-12T01:18:52.479645Z",
     "iopub.status.idle": "2020-10-12T01:18:52.485658Z",
     "shell.execute_reply": "2020-10-12T01:18:52.486465Z"
    }
   },
   "outputs": [
    {
     "name": "stdout",
     "output_type": "stream",
     "text": [
      "(25000,) (25000,)\n"
     ]
    }
   ],
   "source": [
    "print(train_input.shape, test_input.shape)"
   ]
  },
  {
   "cell_type": "code",
   "execution_count": 4,
   "metadata": {
    "scrolled": true
   },
   "outputs": [
    {
     "data": {
      "text/plain": [
       "[1,\n",
       " 14,\n",
       " 22,\n",
       " 16,\n",
       " 43,\n",
       " 2,\n",
       " 2,\n",
       " 2,\n",
       " 2,\n",
       " 65,\n",
       " 458,\n",
       " 2,\n",
       " 66,\n",
       " 2,\n",
       " 4,\n",
       " 173,\n",
       " 36,\n",
       " 256,\n",
       " 5,\n",
       " 25,\n",
       " 100,\n",
       " 43,\n",
       " 2,\n",
       " 112,\n",
       " 50,\n",
       " 2,\n",
       " 2,\n",
       " 9,\n",
       " 35,\n",
       " 480,\n",
       " 284,\n",
       " 5,\n",
       " 150,\n",
       " 4,\n",
       " 172,\n",
       " 112,\n",
       " 167,\n",
       " 2,\n",
       " 336,\n",
       " 385,\n",
       " 39,\n",
       " 4,\n",
       " 172,\n",
       " 2,\n",
       " 2,\n",
       " 17,\n",
       " 2,\n",
       " 38,\n",
       " 13,\n",
       " 447,\n",
       " 4,\n",
       " 192,\n",
       " 50,\n",
       " 16,\n",
       " 6,\n",
       " 147,\n",
       " 2,\n",
       " 19,\n",
       " 14,\n",
       " 22,\n",
       " 4,\n",
       " 2,\n",
       " 2,\n",
       " 469,\n",
       " 4,\n",
       " 22,\n",
       " 71,\n",
       " 87,\n",
       " 12,\n",
       " 16,\n",
       " 43,\n",
       " 2,\n",
       " 38,\n",
       " 76,\n",
       " 15,\n",
       " 13,\n",
       " 2,\n",
       " 4,\n",
       " 22,\n",
       " 17,\n",
       " 2,\n",
       " 17,\n",
       " 12,\n",
       " 16,\n",
       " 2,\n",
       " 18,\n",
       " 2,\n",
       " 5,\n",
       " 62,\n",
       " 386,\n",
       " 12,\n",
       " 8,\n",
       " 316,\n",
       " 8,\n",
       " 106,\n",
       " 5,\n",
       " 4,\n",
       " 2,\n",
       " 2,\n",
       " 16,\n",
       " 480,\n",
       " 66,\n",
       " 2,\n",
       " 33,\n",
       " 4,\n",
       " 130,\n",
       " 12,\n",
       " 16,\n",
       " 38,\n",
       " 2,\n",
       " 5,\n",
       " 25,\n",
       " 124,\n",
       " 51,\n",
       " 36,\n",
       " 135,\n",
       " 48,\n",
       " 25,\n",
       " 2,\n",
       " 33,\n",
       " 6,\n",
       " 22,\n",
       " 12,\n",
       " 215,\n",
       " 28,\n",
       " 77,\n",
       " 52,\n",
       " 5,\n",
       " 14,\n",
       " 407,\n",
       " 16,\n",
       " 82,\n",
       " 2,\n",
       " 8,\n",
       " 4,\n",
       " 107,\n",
       " 117,\n",
       " 2,\n",
       " 15,\n",
       " 256,\n",
       " 4,\n",
       " 2,\n",
       " 7,\n",
       " 2,\n",
       " 5,\n",
       " 2,\n",
       " 36,\n",
       " 71,\n",
       " 43,\n",
       " 2,\n",
       " 476,\n",
       " 26,\n",
       " 400,\n",
       " 317,\n",
       " 46,\n",
       " 7,\n",
       " 4,\n",
       " 2,\n",
       " 2,\n",
       " 13,\n",
       " 104,\n",
       " 88,\n",
       " 4,\n",
       " 381,\n",
       " 15,\n",
       " 297,\n",
       " 98,\n",
       " 32,\n",
       " 2,\n",
       " 56,\n",
       " 26,\n",
       " 141,\n",
       " 6,\n",
       " 194,\n",
       " 2,\n",
       " 18,\n",
       " 4,\n",
       " 226,\n",
       " 22,\n",
       " 21,\n",
       " 134,\n",
       " 476,\n",
       " 26,\n",
       " 480,\n",
       " 5,\n",
       " 144,\n",
       " 30,\n",
       " 2,\n",
       " 18,\n",
       " 51,\n",
       " 36,\n",
       " 28,\n",
       " 224,\n",
       " 92,\n",
       " 25,\n",
       " 104,\n",
       " 4,\n",
       " 226,\n",
       " 65,\n",
       " 16,\n",
       " 38,\n",
       " 2,\n",
       " 88,\n",
       " 12,\n",
       " 16,\n",
       " 283,\n",
       " 5,\n",
       " 16,\n",
       " 2,\n",
       " 113,\n",
       " 103,\n",
       " 32,\n",
       " 15,\n",
       " 16,\n",
       " 2,\n",
       " 19,\n",
       " 178,\n",
       " 32]"
      ]
     },
     "execution_count": 4,
     "metadata": {},
     "output_type": "execute_result"
    }
   ],
   "source": [
    "train_input[0]"
   ]
  },
  {
   "cell_type": "code",
   "execution_count": 3,
   "metadata": {
    "execution": {
     "iopub.execute_input": "2020-10-12T01:18:52.493608Z",
     "iopub.status.busy": "2020-10-12T01:18:52.492625Z",
     "iopub.status.idle": "2020-10-12T01:18:52.496804Z",
     "shell.execute_reply": "2020-10-12T01:18:52.497722Z"
    }
   },
   "outputs": [
    {
     "name": "stdout",
     "output_type": "stream",
     "text": [
      "218\n"
     ]
    }
   ],
   "source": [
    "print(len(train_input[0]))\n",
    "# 첫번째 리뷰 문장 길이(단어 갯수)"
   ]
  },
  {
   "cell_type": "code",
   "execution_count": 5,
   "metadata": {
    "execution": {
     "iopub.execute_input": "2020-10-12T01:18:52.504933Z",
     "iopub.status.busy": "2020-10-12T01:18:52.503811Z",
     "iopub.status.idle": "2020-10-12T01:18:52.508252Z",
     "shell.execute_reply": "2020-10-12T01:18:52.509172Z"
    }
   },
   "outputs": [
    {
     "name": "stdout",
     "output_type": "stream",
     "text": [
      "189\n"
     ]
    }
   ],
   "source": [
    "print(len(train_input[1]))\n",
    "# 두번째 리뷰의 문장 길이"
   ]
  },
  {
   "cell_type": "code",
   "execution_count": 6,
   "metadata": {
    "execution": {
     "iopub.execute_input": "2020-10-12T01:18:52.516102Z",
     "iopub.status.busy": "2020-10-12T01:18:52.515014Z",
     "iopub.status.idle": "2020-10-12T01:18:52.520096Z",
     "shell.execute_reply": "2020-10-12T01:18:52.520972Z"
    }
   },
   "outputs": [
    {
     "name": "stdout",
     "output_type": "stream",
     "text": [
      "[1, 14, 22, 16, 43, 2, 2, 2, 2, 65, 458, 2, 66, 2, 4, 173, 36, 256, 5, 25, 100, 43, 2, 112, 50, 2, 2, 9, 35, 480, 284, 5, 150, 4, 172, 112, 167, 2, 336, 385, 39, 4, 172, 2, 2, 17, 2, 38, 13, 447, 4, 192, 50, 16, 6, 147, 2, 19, 14, 22, 4, 2, 2, 469, 4, 22, 71, 87, 12, 16, 43, 2, 38, 76, 15, 13, 2, 4, 22, 17, 2, 17, 12, 16, 2, 18, 2, 5, 62, 386, 12, 8, 316, 8, 106, 5, 4, 2, 2, 16, 480, 66, 2, 33, 4, 130, 12, 16, 38, 2, 5, 25, 124, 51, 36, 135, 48, 25, 2, 33, 6, 22, 12, 215, 28, 77, 52, 5, 14, 407, 16, 82, 2, 8, 4, 107, 117, 2, 15, 256, 4, 2, 7, 2, 5, 2, 36, 71, 43, 2, 476, 26, 400, 317, 46, 7, 4, 2, 2, 13, 104, 88, 4, 381, 15, 297, 98, 32, 2, 56, 26, 141, 6, 194, 2, 18, 4, 226, 22, 21, 134, 476, 26, 480, 5, 144, 30, 2, 18, 51, 36, 28, 224, 92, 25, 104, 4, 226, 65, 16, 38, 2, 88, 12, 16, 283, 5, 16, 2, 113, 103, 32, 15, 16, 2, 19, 178, 32]\n"
     ]
    }
   ],
   "source": [
    "print(train_input[0])\n",
    "# 첫번째 리뷰 : 2는 어휘사전에 없는단어(빈도수가 낮은 단어)"
   ]
  },
  {
   "cell_type": "code",
   "execution_count": 7,
   "metadata": {
    "execution": {
     "iopub.execute_input": "2020-10-12T01:18:52.528598Z",
     "iopub.status.busy": "2020-10-12T01:18:52.527510Z",
     "iopub.status.idle": "2020-10-12T01:18:52.532011Z",
     "shell.execute_reply": "2020-10-12T01:18:52.532936Z"
    }
   },
   "outputs": [
    {
     "name": "stdout",
     "output_type": "stream",
     "text": [
      "[1 0 0 1 0 0 1 0 1 0 1 0 0 0 0 0 1 1 0 1]\n"
     ]
    }
   ],
   "source": [
    "print(train_target[:20])\n",
    "# 리뷰가 긍정인지 부정인지 판단"
   ]
  },
  {
   "cell_type": "markdown",
   "metadata": {},
   "source": [
    "### train data를 train과  val data로 분할"
   ]
  },
  {
   "cell_type": "code",
   "execution_count": 8,
   "metadata": {
    "execution": {
     "iopub.execute_input": "2020-10-12T01:18:52.541031Z",
     "iopub.status.busy": "2020-10-12T01:18:52.539873Z",
     "iopub.status.idle": "2020-10-12T01:18:52.812559Z",
     "shell.execute_reply": "2020-10-12T01:18:52.810985Z"
    }
   },
   "outputs": [],
   "source": [
    "from sklearn.model_selection import train_test_split\n",
    "\n",
    "train_input, val_input, train_target, val_target = train_test_split(\n",
    "    train_input, train_target, test_size=0.2, random_state=42)"
   ]
  },
  {
   "cell_type": "markdown",
   "metadata": {},
   "source": [
    "###  train data 확인\n",
    "- 분포 확인\n",
    "    - 제일 많이 분포되어 있는 단어수만큼만 사용\n",
    "- 모자라는 문장은 패딩 처리"
   ]
  },
  {
   "cell_type": "code",
   "execution_count": 9,
   "metadata": {
    "execution": {
     "iopub.execute_input": "2020-10-12T01:18:52.833360Z",
     "iopub.status.busy": "2020-10-12T01:18:52.831841Z",
     "iopub.status.idle": "2020-10-12T01:18:52.834920Z",
     "shell.execute_reply": "2020-10-12T01:18:52.836117Z"
    }
   },
   "outputs": [],
   "source": [
    "# 각 리뷰길이 계산\n",
    "import numpy as np\n",
    "lengths = np.array([len(x) for x in train_input])"
   ]
  },
  {
   "cell_type": "code",
   "execution_count": 10,
   "metadata": {},
   "outputs": [
    {
     "data": {
      "text/plain": [
       "20000"
      ]
     },
     "execution_count": 10,
     "metadata": {},
     "output_type": "execute_result"
    }
   ],
   "source": [
    "len(lengths)"
   ]
  },
  {
   "cell_type": "code",
   "execution_count": 11,
   "metadata": {
    "execution": {
     "iopub.execute_input": "2020-10-12T01:18:52.843759Z",
     "iopub.status.busy": "2020-10-12T01:18:52.842297Z",
     "iopub.status.idle": "2020-10-12T01:18:52.847506Z",
     "shell.execute_reply": "2020-10-12T01:18:52.848361Z"
    }
   },
   "outputs": [
    {
     "data": {
      "text/plain": [
       "1854"
      ]
     },
     "execution_count": 11,
     "metadata": {},
     "output_type": "execute_result"
    }
   ],
   "source": [
    "max(lengths)"
   ]
  },
  {
   "cell_type": "code",
   "execution_count": 12,
   "metadata": {},
   "outputs": [
    {
     "data": {
      "text/plain": [
       "11"
      ]
     },
     "execution_count": 12,
     "metadata": {},
     "output_type": "execute_result"
    }
   ],
   "source": [
    "min(lengths)"
   ]
  },
  {
   "cell_type": "code",
   "execution_count": 9,
   "metadata": {},
   "outputs": [
    {
     "data": {
      "text/plain": [
       "259"
      ]
     },
     "execution_count": 9,
     "metadata": {},
     "output_type": "execute_result"
    }
   ],
   "source": [
    "lengths[0] # 첫번째 학습리뷰 단어수"
   ]
  },
  {
   "cell_type": "code",
   "execution_count": 14,
   "metadata": {},
   "outputs": [
    {
     "data": {
      "text/plain": [
       "(239.00925, 178.0)"
      ]
     },
     "execution_count": 14,
     "metadata": {},
     "output_type": "execute_result"
    }
   ],
   "source": [
    "# 평균길이와 길이의 중간값\n",
    "np.mean(lengths), np.median(lengths)"
   ]
  },
  {
   "cell_type": "markdown",
   "metadata": {},
   "source": [
    "#### 평균 단어 갯수와 중간값의 차이가 좀 있어보임\n",
    "- 분포는 한쪽으로 치우쳤을 것으로 예측"
   ]
  },
  {
   "cell_type": "code",
   "execution_count": 15,
   "metadata": {
    "execution": {
     "iopub.execute_input": "2020-10-12T01:18:52.874891Z",
     "iopub.status.busy": "2020-10-12T01:18:52.873857Z",
     "iopub.status.idle": "2020-10-12T01:18:53.042560Z",
     "shell.execute_reply": "2020-10-12T01:18:53.040898Z"
    }
   },
   "outputs": [
    {
     "data": {
      "image/png": "[encoded data removed]",
      "text/plain": [
       "<Figure size 640x480 with 1 Axes>"
      ]
     },
     "metadata": {},
     "output_type": "display_data"
    }
   ],
   "source": [
    "import matplotlib.pyplot as plt\n",
    "plt.hist(lengths)\n",
    "plt.xlabel('length')\n",
    "plt.ylabel('frequency')\n",
    "plt.show()"
   ]
  },
  {
   "cell_type": "markdown",
   "metadata": {},
   "source": [
    "- 대부분의 리뷰 길이는 300 미만\n",
    "    - 평균이 중간값보다 높은 이유는 오른쪽 끝에 아주 긴 리뷰가 있기 때문임\n",
    "    - 많은 리뷰들이 100개 단어 이하로 분포되어 있음\n",
    "    - 모든 리뷰의 단어를 다 사용하지 않고 100 단어 까지만 사용\n",
    "        - 단어길이가 가장 많은 리뷰에 맞추려면 패딩을 많이 주입해야 함(불필요한 타임스텝의 증가)"
   ]
  },
  {
   "cell_type": "code",
   "execution_count": 16,
   "metadata": {
    "execution": {
     "iopub.execute_input": "2020-10-12T01:18:53.056410Z",
     "iopub.status.busy": "2020-10-12T01:18:53.054676Z",
     "iopub.status.idle": "2020-10-12T01:18:53.509881Z",
     "shell.execute_reply": "2020-10-12T01:18:53.507938Z"
    }
   },
   "outputs": [],
   "source": [
    "# 리뷰 단어가 100보다 작은것도 있으므로 패딩을 이용해 단어 갯수를 100으로 맞춤\n",
    "from tensorflow.keras.preprocessing.sequence import pad_sequences\n",
    "train_seq = pad_sequences(train_input, maxlen = 100)"
   ]
  },
  {
   "cell_type": "code",
   "execution_count": 17,
   "metadata": {
    "execution": {
     "iopub.execute_input": "2020-10-12T01:18:53.516113Z",
     "iopub.status.busy": "2020-10-12T01:18:53.514858Z",
     "iopub.status.idle": "2020-10-12T01:18:53.519062Z",
     "shell.execute_reply": "2020-10-12T01:18:53.520171Z"
    }
   },
   "outputs": [
    {
     "name": "stdout",
     "output_type": "stream",
     "text": [
      "(20000, 100)\n"
     ]
    }
   ],
   "source": [
    "print(train_seq.shape)"
   ]
  },
  {
   "cell_type": "code",
   "execution_count": 18,
   "metadata": {
    "execution": {
     "iopub.execute_input": "2020-10-12T01:18:53.529088Z",
     "iopub.status.busy": "2020-10-12T01:18:53.527775Z",
     "iopub.status.idle": "2020-10-12T01:18:53.532885Z",
     "shell.execute_reply": "2020-10-12T01:18:53.533957Z"
    }
   },
   "outputs": [
    {
     "name": "stdout",
     "output_type": "stream",
     "text": [
      "[ 10   4  20   9   2 364 352   5  45   6   2   2  33 269   8   2 142   2\n",
      "   5   2  17  73  17 204   5   2  19  55   2   2  92  66 104  14  20  93\n",
      "  76   2 151  33   4  58  12 188   2 151  12 215  69 224 142  73 237   6\n",
      "   2   7   2   2 188   2 103  14  31  10  10 451   7   2   5   2  80  91\n",
      "   2  30   2  34  14  20 151  50  26 131  49   2  84  46  50  37  80  79\n",
      "   6   2  46   7  14  20  10  10 470 158]\n"
     ]
    }
   ],
   "source": [
    "print(train_seq[0]) # 첫번째 리뷰\n",
    "# 샘플의 앞뒤에 0이 없음 - 100 단어 이상 리뷰였을 것임"
   ]
  },
  {
   "cell_type": "markdown",
   "metadata": {},
   "source": [
    "- 100단어 이상되는 리뷰는 앞 뒤 어디가 잘렸는지 확인"
   ]
  },
  {
   "cell_type": "code",
   "execution_count": 19,
   "metadata": {
    "execution": {
     "iopub.execute_input": "2020-10-12T01:18:53.541335Z",
     "iopub.status.busy": "2020-10-12T01:18:53.540161Z",
     "iopub.status.idle": "2020-10-12T01:18:53.544735Z",
     "shell.execute_reply": "2020-10-12T01:18:53.545765Z"
    },
    "scrolled": true
   },
   "outputs": [
    {
     "name": "stdout",
     "output_type": "stream",
     "text": [
      "[6, 2, 46, 7, 14, 20, 10, 10, 470, 158]\n"
     ]
    }
   ],
   "source": [
    "# 원본 리뷰의 끝 10단어와 비교\n",
    "print(train_input[0][-10:])"
   ]
  },
  {
   "cell_type": "markdown",
   "metadata": {},
   "source": [
    "- train_seq[0](패딩된 data) 과 train_input[0](load data) 의 마지막 단어 값들이 동일하므로 앞단어가 잘림\n",
    "    - 뒤로 갈수록 중요단어가 있다는 것을 기대하기 때문임\n",
    "        - 시퀀스 뒷부분을 잘라내고 싶다면 pad_sequence(truncation='post')로 설정"
   ]
  },
  {
   "cell_type": "code",
   "execution_count": 16,
   "metadata": {
    "execution": {
     "iopub.execute_input": "2020-10-12T01:18:53.553993Z",
     "iopub.status.busy": "2020-10-12T01:18:53.552689Z",
     "iopub.status.idle": "2020-10-12T01:18:53.557009Z",
     "shell.execute_reply": "2020-10-12T01:18:53.558118Z"
    },
    "scrolled": true
   },
   "outputs": [
    {
     "name": "stdout",
     "output_type": "stream",
     "text": [
      "[  0   0   0   0   1   2 195  19  49   2   2 190   4   2 352   2 183  10\n",
      "  10  13  82  79   4   2  36  71 269   8   2  25  19  49   7   4   2   2\n",
      "   2   2   2  10  10  48  25  40   2  11   2   2  40   2   2   5   4   2\n",
      "   2  95  14 238  56 129   2  10  10  21   2  94 364 352   2   2  11 190\n",
      "  24 484   2   7  94 205 405  10  10  87   2  34  49   2   7   2   2   2\n",
      "   2   2 290   2  46  48  64  18   4   2]\n"
     ]
    }
   ],
   "source": [
    "print(train_seq[5])\n",
    "# 6번째 샘플을 보면 패딩이 되어 있음"
   ]
  },
  {
   "cell_type": "markdown",
   "metadata": {},
   "source": [
    "### 검증세트도 훈련세트와 동일하게 패딩 진행"
   ]
  },
  {
   "cell_type": "code",
   "execution_count": 21,
   "metadata": {
    "execution": {
     "iopub.execute_input": "2020-10-12T01:18:53.568279Z",
     "iopub.status.busy": "2020-10-12T01:18:53.566949Z",
     "iopub.status.idle": "2020-10-12T01:18:53.688571Z",
     "shell.execute_reply": "2020-10-12T01:18:53.687412Z"
    }
   },
   "outputs": [],
   "source": [
    "val_seq = pad_sequences(val_input, maxlen = 100)"
   ]
  },
  {
   "cell_type": "markdown",
   "metadata": {},
   "source": [
    "## 순환 신경망 만들기\n",
    "- 케라스의 가장 간단한 순환 신경망 알고리즘\n",
    "    - SimpleRNN(뉴런갯수,입력차원)\n",
    "    - 입력차원 : 100->100개의 단어로 맞춤 500->500개의 빈도 높은 단어만 사용\n",
    "        - 단어를 한줄로 입력하면 단어의 정수값(의미없는)이 큰 단어는 큰 출력을 만들어 내버림\n",
    "        - 그런 이유로 단어마다 동일한 가중치를 갖도록  one-hot 인코딩 해야 함\n",
    "            - 임베딩이 아닌 one-hot 인코딩 방식으로 먼저 진행"
   ]
  },
  {
   "cell_type": "code",
   "execution_count": 22,
   "metadata": {
    "execution": {
     "iopub.execute_input": "2020-10-12T01:18:53.702727Z",
     "iopub.status.busy": "2020-10-12T01:18:53.694374Z",
     "iopub.status.idle": "2020-10-12T01:18:55.997285Z",
     "shell.execute_reply": "2020-10-12T01:18:55.995617Z"
    }
   },
   "outputs": [],
   "source": [
    "from tensorflow import keras\n",
    "\n",
    "model = keras.Sequential()\n",
    "model.add(keras.layers.SimpleRNN(8, input_shape = (100, 500))) # 순환 신경망 층\n",
    "model.add(keras.layers.Dense(1, activation = 'sigmoid'))"
   ]
  },
  {
   "cell_type": "code",
   "execution_count": 23,
   "metadata": {},
   "outputs": [
    {
     "name": "stdout",
     "output_type": "stream",
     "text": [
      "Model: \"sequential\"\n",
      "_________________________________________________________________\n",
      " Layer (type)                Output Shape              Param #   \n",
      "=================================================================\n",
      " simple_rnn (SimpleRNN)      (None, 8)                 4072      \n",
      "                                                                 \n",
      " dense (Dense)               (None, 1)                 9         \n",
      "                                                                 \n",
      "=================================================================\n",
      "Total params: 4081 (15.94 KB)\n",
      "Trainable params: 4081 (15.94 KB)\n",
      "Non-trainable params: 0 (0.00 Byte)\n",
      "_________________________________________________________________\n"
     ]
    }
   ],
   "source": [
    "model.summary()"
   ]
  },
  {
   "cell_type": "markdown",
   "metadata": {},
   "source": [
    "### 패딩된 seq 데이터를 one-hot 인코딩 변환 후 모델 학습"
   ]
  },
  {
   "cell_type": "code",
   "execution_count": 24,
   "metadata": {
    "execution": {
     "iopub.execute_input": "2020-10-12T01:18:56.004523Z",
     "iopub.status.busy": "2020-10-12T01:18:56.002786Z",
     "iopub.status.idle": "2020-10-12T01:18:57.766487Z",
     "shell.execute_reply": "2020-10-12T01:18:57.764928Z"
    }
   },
   "outputs": [],
   "source": [
    "# one-hot 인코딩 변환\n",
    "train_oh = keras.utils.to_categorical(train_seq)"
   ]
  },
  {
   "cell_type": "code",
   "execution_count": 25,
   "metadata": {
    "execution": {
     "iopub.execute_input": "2020-10-12T01:18:57.774226Z",
     "iopub.status.busy": "2020-10-12T01:18:57.772482Z",
     "iopub.status.idle": "2020-10-12T01:18:57.777731Z",
     "shell.execute_reply": "2020-10-12T01:18:57.778538Z"
    }
   },
   "outputs": [
    {
     "name": "stdout",
     "output_type": "stream",
     "text": [
      "(20000, 100, 500)\n"
     ]
    }
   ],
   "source": [
    "print(train_oh.shape)"
   ]
  },
  {
   "cell_type": "code",
   "execution_count": 22,
   "metadata": {
    "execution": {
     "iopub.execute_input": "2020-10-12T01:18:57.786369Z",
     "iopub.status.busy": "2020-10-12T01:18:57.785416Z",
     "iopub.status.idle": "2020-10-12T01:18:57.790217Z",
     "shell.execute_reply": "2020-10-12T01:18:57.791183Z"
    }
   },
   "outputs": [
    {
     "name": "stdout",
     "output_type": "stream",
     "text": [
      "[0. 0. 0. 0. 0. 0. 0. 0. 0. 0. 1. 0.]\n"
     ]
    }
   ],
   "source": [
    "print(train_oh[0][0][:12])"
   ]
  },
  {
   "cell_type": "code",
   "execution_count": 26,
   "metadata": {
    "execution": {
     "iopub.execute_input": "2020-10-12T01:18:57.810383Z",
     "iopub.status.busy": "2020-10-12T01:18:57.809293Z",
     "iopub.status.idle": "2020-10-12T01:18:58.247989Z",
     "shell.execute_reply": "2020-10-12T01:18:58.248931Z"
    }
   },
   "outputs": [],
   "source": [
    "# 검증데이터도 변환\n",
    "val_oh = keras.utils.to_categorical(val_seq)"
   ]
  },
  {
   "cell_type": "code",
   "execution_count": 27,
   "metadata": {
    "execution": {
     "iopub.execute_input": "2020-10-12T01:18:58.256367Z",
     "iopub.status.busy": "2020-10-12T01:18:58.255252Z",
     "iopub.status.idle": "2020-10-12T01:18:58.261986Z",
     "shell.execute_reply": "2020-10-12T01:18:58.262846Z"
    }
   },
   "outputs": [
    {
     "name": "stdout",
     "output_type": "stream",
     "text": [
      "Model: \"sequential\"\n",
      "_________________________________________________________________\n",
      " Layer (type)                Output Shape              Param #   \n",
      "=================================================================\n",
      " simple_rnn (SimpleRNN)      (None, 8)                 4072      \n",
      "                                                                 \n",
      " dense (Dense)               (None, 1)                 9         \n",
      "                                                                 \n",
      "=================================================================\n",
      "Total params: 4081 (15.94 KB)\n",
      "Trainable params: 4081 (15.94 KB)\n",
      "Non-trainable params: 0 (0.00 Byte)\n",
      "_________________________________________________________________\n"
     ]
    }
   ],
   "source": [
    "model.summary()"
   ]
  },
  {
   "cell_type": "markdown",
   "metadata": {},
   "source": [
    "- 마지막 타임 스텝의 은닉상태만 출력 : 출력크기는 8\n",
    "- 파라미터 크기 : 500차원의 입력층 * 뉴런 8 + 은닉층크기(뉴런수*뉴런수) 8 * 8 + 절편 8 => 4000+64+8 => 4072"
   ]
  },
  {
   "cell_type": "markdown",
   "metadata": {},
   "source": [
    "## 순환 신경망 훈련하기\n",
    "- 훈련 방법은 다른 알고리즘과 동일"
   ]
  },
  {
   "cell_type": "code",
   "execution_count": 28,
   "metadata": {
    "execution": {
     "iopub.execute_input": "2020-10-12T01:18:58.286672Z",
     "iopub.status.busy": "2020-10-12T01:18:58.285571Z",
     "iopub.status.idle": "2020-10-12T01:30:36.157752Z",
     "shell.execute_reply": "2020-10-12T01:30:36.159280Z"
    },
    "scrolled": false
   },
   "outputs": [
    {
     "name": "stdout",
     "output_type": "stream",
     "text": [
      "Epoch 1/100\n",
      "311/313 [============================>.] - ETA: 0s - loss: 0.6881 - accuracy: 0.5469"
     ]
    },
    {
     "name": "stderr",
     "output_type": "stream",
     "text": [
      "C:\\Anaconda3\\Lib\\site-packages\\keras\\src\\engine\\training.py:3079: UserWarning: You are saving your model as an HDF5 file via `model.save()`. This file format is considered legacy. We recommend using instead the native Keras format, e.g. `model.save('my_model.keras')`.\n",
      "  saving_api.save_model(\n"
     ]
    },
    {
     "name": "stdout",
     "output_type": "stream",
     "text": [
      "313/313 [==============================] - 14s 39ms/step - loss: 0.6880 - accuracy: 0.5472 - val_loss: 0.6797 - val_accuracy: 0.5732\n",
      "Epoch 2/100\n",
      "313/313 [==============================] - 5s 16ms/step - loss: 0.6664 - accuracy: 0.6050 - val_loss: 0.6634 - val_accuracy: 0.6092\n",
      "Epoch 3/100\n",
      "313/313 [==============================] - 5s 15ms/step - loss: 0.6499 - accuracy: 0.6373 - val_loss: 0.6501 - val_accuracy: 0.6326\n",
      "Epoch 4/100\n",
      "313/313 [==============================] - 5s 15ms/step - loss: 0.6335 - accuracy: 0.6654 - val_loss: 0.6351 - val_accuracy: 0.6538\n",
      "Epoch 5/100\n",
      "313/313 [==============================] - 5s 15ms/step - loss: 0.6176 - accuracy: 0.6870 - val_loss: 0.6198 - val_accuracy: 0.6760\n",
      "Epoch 6/100\n",
      "313/313 [==============================] - 5s 15ms/step - loss: 0.6021 - accuracy: 0.7013 - val_loss: 0.6064 - val_accuracy: 0.6936\n",
      "Epoch 7/100\n",
      "313/313 [==============================] - 5s 15ms/step - loss: 0.5872 - accuracy: 0.7175 - val_loss: 0.5959 - val_accuracy: 0.6994\n",
      "Epoch 8/100\n",
      "313/313 [==============================] - 5s 16ms/step - loss: 0.5729 - accuracy: 0.7305 - val_loss: 0.5799 - val_accuracy: 0.7192\n",
      "Epoch 9/100\n",
      "313/313 [==============================] - 5s 15ms/step - loss: 0.5600 - accuracy: 0.7427 - val_loss: 0.5688 - val_accuracy: 0.7274\n",
      "Epoch 10/100\n",
      "313/313 [==============================] - 5s 15ms/step - loss: 0.5481 - accuracy: 0.7509 - val_loss: 0.5592 - val_accuracy: 0.7346\n",
      "Epoch 11/100\n",
      "313/313 [==============================] - 5s 15ms/step - loss: 0.5377 - accuracy: 0.7580 - val_loss: 0.5501 - val_accuracy: 0.7444\n",
      "Epoch 12/100\n",
      "313/313 [==============================] - 5s 15ms/step - loss: 0.5275 - accuracy: 0.7645 - val_loss: 0.5431 - val_accuracy: 0.7456\n",
      "Epoch 13/100\n",
      "313/313 [==============================] - 7s 21ms/step - loss: 0.5185 - accuracy: 0.7685 - val_loss: 0.5336 - val_accuracy: 0.7494\n",
      "Epoch 14/100\n",
      "313/313 [==============================] - 5s 15ms/step - loss: 0.5096 - accuracy: 0.7754 - val_loss: 0.5267 - val_accuracy: 0.7518\n",
      "Epoch 15/100\n",
      "313/313 [==============================] - 5s 15ms/step - loss: 0.5010 - accuracy: 0.7783 - val_loss: 0.5190 - val_accuracy: 0.7558\n",
      "Epoch 16/100\n",
      "313/313 [==============================] - 5s 15ms/step - loss: 0.4933 - accuracy: 0.7827 - val_loss: 0.5127 - val_accuracy: 0.7592\n",
      "Epoch 17/100\n",
      "313/313 [==============================] - 5s 15ms/step - loss: 0.4862 - accuracy: 0.7872 - val_loss: 0.5085 - val_accuracy: 0.7592\n",
      "Epoch 18/100\n",
      "313/313 [==============================] - 5s 15ms/step - loss: 0.4796 - accuracy: 0.7894 - val_loss: 0.5016 - val_accuracy: 0.7646\n",
      "Epoch 19/100\n",
      "313/313 [==============================] - 5s 15ms/step - loss: 0.4734 - accuracy: 0.7918 - val_loss: 0.4996 - val_accuracy: 0.7670\n",
      "Epoch 20/100\n",
      "313/313 [==============================] - 5s 15ms/step - loss: 0.4674 - accuracy: 0.7954 - val_loss: 0.4927 - val_accuracy: 0.7676\n",
      "Epoch 21/100\n",
      "313/313 [==============================] - 5s 16ms/step - loss: 0.4624 - accuracy: 0.7979 - val_loss: 0.4901 - val_accuracy: 0.7734\n",
      "Epoch 22/100\n",
      "313/313 [==============================] - 5s 15ms/step - loss: 0.4569 - accuracy: 0.8011 - val_loss: 0.4842 - val_accuracy: 0.7704\n",
      "Epoch 23/100\n",
      "313/313 [==============================] - 5s 15ms/step - loss: 0.4524 - accuracy: 0.8030 - val_loss: 0.4807 - val_accuracy: 0.7728\n",
      "Epoch 24/100\n",
      "313/313 [==============================] - 5s 15ms/step - loss: 0.4482 - accuracy: 0.8055 - val_loss: 0.4814 - val_accuracy: 0.7708\n",
      "Epoch 25/100\n",
      "313/313 [==============================] - 5s 15ms/step - loss: 0.4438 - accuracy: 0.8077 - val_loss: 0.4750 - val_accuracy: 0.7772\n",
      "Epoch 26/100\n",
      "313/313 [==============================] - 5s 15ms/step - loss: 0.4404 - accuracy: 0.8091 - val_loss: 0.4749 - val_accuracy: 0.7766\n",
      "Epoch 27/100\n",
      "313/313 [==============================] - 5s 16ms/step - loss: 0.4368 - accuracy: 0.8088 - val_loss: 0.4718 - val_accuracy: 0.7802\n",
      "Epoch 28/100\n",
      "313/313 [==============================] - 5s 16ms/step - loss: 0.4339 - accuracy: 0.8094 - val_loss: 0.4703 - val_accuracy: 0.7802\n",
      "Epoch 29/100\n",
      "313/313 [==============================] - 8s 27ms/step - loss: 0.4308 - accuracy: 0.8127 - val_loss: 0.4688 - val_accuracy: 0.7794\n",
      "Epoch 30/100\n",
      "313/313 [==============================] - 7s 24ms/step - loss: 0.4276 - accuracy: 0.8133 - val_loss: 0.4660 - val_accuracy: 0.7824\n",
      "Epoch 31/100\n",
      "313/313 [==============================] - 5s 15ms/step - loss: 0.4252 - accuracy: 0.8148 - val_loss: 0.4645 - val_accuracy: 0.7824\n",
      "Epoch 32/100\n",
      "313/313 [==============================] - 5s 15ms/step - loss: 0.4227 - accuracy: 0.8162 - val_loss: 0.4643 - val_accuracy: 0.7826\n",
      "Epoch 33/100\n",
      "313/313 [==============================] - 5s 15ms/step - loss: 0.4204 - accuracy: 0.8158 - val_loss: 0.4642 - val_accuracy: 0.7824\n",
      "Epoch 34/100\n",
      "313/313 [==============================] - 5s 16ms/step - loss: 0.4176 - accuracy: 0.8169 - val_loss: 0.4646 - val_accuracy: 0.7824\n",
      "Epoch 35/100\n",
      "313/313 [==============================] - 5s 17ms/step - loss: 0.4158 - accuracy: 0.8185 - val_loss: 0.4604 - val_accuracy: 0.7856\n",
      "Epoch 36/100\n",
      "313/313 [==============================] - 5s 16ms/step - loss: 0.4138 - accuracy: 0.8196 - val_loss: 0.4622 - val_accuracy: 0.7828\n",
      "Epoch 37/100\n",
      "313/313 [==============================] - 5s 15ms/step - loss: 0.4117 - accuracy: 0.8203 - val_loss: 0.4636 - val_accuracy: 0.7828\n",
      "Epoch 38/100\n",
      "313/313 [==============================] - 5s 15ms/step - loss: 0.4100 - accuracy: 0.8213 - val_loss: 0.4615 - val_accuracy: 0.7844\n"
     ]
    }
   ],
   "source": [
    "rmsprop = keras.optimizers.RMSprop(learning_rate=1e-4) # adam 사용할 수 있음\n",
    "model.compile(optimizer=rmsprop, loss='binary_crossentropy', \n",
    "              metrics=['accuracy'])\n",
    "\n",
    "checkpoint_cb = keras.callbacks.ModelCheckpoint('best-simplernn-model.h5')\n",
    "early_stopping_cb = keras.callbacks.EarlyStopping(patience=3,\n",
    "                                                  restore_best_weights=True)\n",
    "\n",
    "history = model.fit(train_oh, train_target, epochs=100, batch_size=64,\n",
    "                    validation_data=(val_oh, val_target),\n",
    "                    callbacks=[checkpoint_cb, early_stopping_cb])\n",
    "# 20000개의 샘플을 한번에 64개씩 끊어서 훈련 -> 313이 나옴"
   ]
  },
  {
   "cell_type": "markdown",
   "metadata": {},
   "source": [
    "- 38번째 에포크에서 조기 종료\n",
    "    - 3번 더 학습하고 조기종료 했으므로 39번째가 best 에포크\n",
    "    - val_loss : 0.44, 정확도 79%\n",
    "    - 아주 뛰어나지는 않지만 어느정도 성과는 있어보임"
   ]
  },
  {
   "cell_type": "code",
   "execution_count": 29,
   "metadata": {
    "execution": {
     "iopub.execute_input": "2020-10-12T01:30:36.190161Z",
     "iopub.status.busy": "2020-10-12T01:30:36.175046Z",
     "iopub.status.idle": "2020-10-12T01:30:36.782577Z",
     "shell.execute_reply": "2020-10-12T01:30:36.784046Z"
    }
   },
   "outputs": [
    {
     "data": {
      "image/png": "[encoded data removed]",
      "text/plain": [
       "<Figure size 640x480 with 1 Axes>"
      ]
     },
     "metadata": {},
     "output_type": "display_data"
    }
   ],
   "source": [
    "plt.plot(history.history['loss'])\n",
    "plt.plot(history.history['val_loss'])\n",
    "plt.xlabel('epoch')\n",
    "plt.ylabel('loss')\n",
    "plt.legend(['train', 'val'])\n",
    "plt.show()"
   ]
  },
  {
   "cell_type": "markdown",
   "metadata": {},
   "source": [
    "- 검증 손실은 대략 20번째 에포크에서 둔해지고 있음\n",
    "- 이모델의 단점은 입력데이터가 엄청 커진다는데 있음"
   ]
  },
  {
   "cell_type": "code",
   "execution_count": 30,
   "metadata": {},
   "outputs": [
    {
     "name": "stdout",
     "output_type": "stream",
     "text": [
      "8000000 4000000000\n"
     ]
    }
   ],
   "source": [
    "print(train_seq.nbytes, train_oh.nbytes)"
   ]
  },
  {
   "cell_type": "markdown",
   "metadata": {},
   "source": [
    "## 단어 임베딩을 사용하기\n",
    "- 임베딩 \n",
    "    - 문장에서 단어가 나타는 패턴을 고려해서 유사성이 높은 단어들은 비슷한 수치의 단어로 생성하자\n",
    "        - 크기가 일정 범위(-1~+1 정도)의 숫자 n개를 활용해서 해당 단어를 표현\n",
    "        - cat과 dog가 나타나는 문장 패턴을 확인했을 때 love단어 house라는 단어와 주로 같이 나타난다 라고 판단되면\n",
    "            - 이 두 단어는 유사성이 있다라고 판단하고 n개의 수치 중 일부를 동일하게 처리\n",
    "       - 이 작업을 모델에 embedding층을 추가해서 에포크가 한번 반복될 때 마다 유사성을 반영하도록 모델을 구성"
   ]
  },
  {
   "cell_type": "code",
   "execution_count": 31,
   "metadata": {
    "execution": {
     "iopub.execute_input": "2020-10-12T01:30:36.795147Z",
     "iopub.status.busy": "2020-10-12T01:30:36.793959Z",
     "iopub.status.idle": "2020-10-12T01:30:37.414822Z",
     "shell.execute_reply": "2020-10-12T01:30:37.417021Z"
    }
   },
   "outputs": [
    {
     "name": "stdout",
     "output_type": "stream",
     "text": [
      "Model: \"sequential_1\"\n",
      "_________________________________________________________________\n",
      " Layer (type)                Output Shape              Param #   \n",
      "=================================================================\n",
      " embedding (Embedding)       (None, 100, 16)           8000      \n",
      "                                                                 \n",
      " simple_rnn_1 (SimpleRNN)    (None, 8)                 200       \n",
      "                                                                 \n",
      " dense_1 (Dense)             (None, 1)                 9         \n",
      "                                                                 \n",
      "=================================================================\n",
      "Total params: 8209 (32.07 KB)\n",
      "Trainable params: 8209 (32.07 KB)\n",
      "Non-trainable params: 0 (0.00 Byte)\n",
      "_________________________________________________________________\n"
     ]
    }
   ],
   "source": [
    "model2 = keras.Sequential()\n",
    "model2.add(keras.layers.Embedding(500, 16, input_length = 100))\n",
    "model2.add(keras.layers.SimpleRNN(8))\n",
    "model2.add(keras.layers.Dense(1, activation = 'sigmoid'))\n",
    "model2.summary()"
   ]
  },
  {
   "cell_type": "markdown",
   "metadata": {},
   "source": [
    "- 임베딩 파라미터 : 500개의 단어 하나당 16개의 값을 갖는 벡터를 만들게되므로 \n",
    "    - 500 * 16 = 8000\n",
    "- rnn : 임베딩 벡터크기 16 * 뉴런수 + 은닉층크기(뉴런수x뉴런수=64) + 절편 8\n",
    "    - 16*8 + 64 + 8 = 200"
   ]
  },
  {
   "cell_type": "markdown",
   "metadata": {},
   "source": [
    "- 모델 훈련"
   ]
  },
  {
   "cell_type": "code",
   "execution_count": 32,
   "metadata": {
    "execution": {
     "iopub.execute_input": "2020-10-12T01:30:37.439013Z",
     "iopub.status.busy": "2020-10-12T01:30:37.437655Z",
     "iopub.status.idle": "2020-10-12T01:40:38.584921Z",
     "shell.execute_reply": "2020-10-12T01:40:38.586340Z"
    }
   },
   "outputs": [],
   "source": [
    "rmsprop = keras.optimizers.RMSprop(learning_rate=1e-4)\n",
    "model2.compile(optimizer=rmsprop, loss='binary_crossentropy', \n",
    "               metrics=['accuracy'])\n",
    "\n",
    "checkpoint_cb = keras.callbacks.ModelCheckpoint('best-embedding-model.h5')\n",
    "early_stopping_cb = keras.callbacks.EarlyStopping(patience=3,\n",
    "                                                  restore_best_weights=True)"
   ]
  },
  {
   "cell_type": "code",
   "execution_count": 33,
   "metadata": {
    "execution": {
     "iopub.execute_input": "2020-10-12T01:30:37.439013Z",
     "iopub.status.busy": "2020-10-12T01:30:37.437655Z",
     "iopub.status.idle": "2020-10-12T01:40:38.584921Z",
     "shell.execute_reply": "2020-10-12T01:40:38.586340Z"
    }
   },
   "outputs": [
    {
     "name": "stdout",
     "output_type": "stream",
     "text": [
      "Epoch 1/100\n",
      "313/313 [==============================] - 6s 13ms/step - loss: 0.6933 - accuracy: 0.5178 - val_loss: 0.6883 - val_accuracy: 0.5400\n",
      "Epoch 2/100\n",
      " 16/313 [>.............................] - ETA: 3s - loss: 0.6814 - accuracy: 0.5508"
     ]
    },
    {
     "name": "stderr",
     "output_type": "stream",
     "text": [
      "C:\\Anaconda3\\Lib\\site-packages\\keras\\src\\engine\\training.py:3079: UserWarning: You are saving your model as an HDF5 file via `model.save()`. This file format is considered legacy. We recommend using instead the native Keras format, e.g. `model.save('my_model.keras')`.\n",
      "  saving_api.save_model(\n"
     ]
    },
    {
     "name": "stdout",
     "output_type": "stream",
     "text": [
      "313/313 [==============================] - 4s 13ms/step - loss: 0.6818 - accuracy: 0.5650 - val_loss: 0.6772 - val_accuracy: 0.5802\n",
      "Epoch 3/100\n",
      "313/313 [==============================] - 4s 13ms/step - loss: 0.6529 - accuracy: 0.6441 - val_loss: 0.6292 - val_accuracy: 0.6884\n",
      "Epoch 4/100\n",
      "313/313 [==============================] - 4s 13ms/step - loss: 0.6131 - accuracy: 0.7039 - val_loss: 0.6078 - val_accuracy: 0.7130\n",
      "Epoch 5/100\n",
      "313/313 [==============================] - 4s 13ms/step - loss: 0.5922 - accuracy: 0.7250 - val_loss: 0.5869 - val_accuracy: 0.7374\n",
      "Epoch 6/100\n",
      "313/313 [==============================] - 4s 13ms/step - loss: 0.5754 - accuracy: 0.7390 - val_loss: 0.5778 - val_accuracy: 0.7302\n",
      "Epoch 7/100\n",
      "313/313 [==============================] - 4s 13ms/step - loss: 0.5616 - accuracy: 0.7451 - val_loss: 0.5797 - val_accuracy: 0.7238\n",
      "Epoch 8/100\n",
      "313/313 [==============================] - 4s 13ms/step - loss: 0.5496 - accuracy: 0.7503 - val_loss: 0.5653 - val_accuracy: 0.7330\n",
      "Epoch 9/100\n",
      "313/313 [==============================] - 4s 13ms/step - loss: 0.5407 - accuracy: 0.7553 - val_loss: 0.5440 - val_accuracy: 0.7496\n",
      "Epoch 10/100\n",
      "313/313 [==============================] - 4s 13ms/step - loss: 0.5305 - accuracy: 0.7599 - val_loss: 0.5438 - val_accuracy: 0.7452\n",
      "Epoch 11/100\n",
      "313/313 [==============================] - 4s 13ms/step - loss: 0.5228 - accuracy: 0.7628 - val_loss: 0.5386 - val_accuracy: 0.7452\n",
      "Epoch 12/100\n",
      "313/313 [==============================] - 4s 13ms/step - loss: 0.5168 - accuracy: 0.7636 - val_loss: 0.5432 - val_accuracy: 0.7396\n",
      "Epoch 13/100\n",
      "313/313 [==============================] - 4s 13ms/step - loss: 0.5096 - accuracy: 0.7692 - val_loss: 0.5278 - val_accuracy: 0.7540\n",
      "Epoch 14/100\n",
      "313/313 [==============================] - 4s 13ms/step - loss: 0.5022 - accuracy: 0.7729 - val_loss: 0.5182 - val_accuracy: 0.7630\n",
      "Epoch 15/100\n",
      "313/313 [==============================] - 4s 13ms/step - loss: 0.5004 - accuracy: 0.7732 - val_loss: 0.5273 - val_accuracy: 0.7478\n",
      "Epoch 16/100\n",
      "313/313 [==============================] - 4s 13ms/step - loss: 0.4971 - accuracy: 0.7752 - val_loss: 0.5183 - val_accuracy: 0.7552\n",
      "Epoch 17/100\n",
      "313/313 [==============================] - 4s 13ms/step - loss: 0.4897 - accuracy: 0.7804 - val_loss: 0.5131 - val_accuracy: 0.7604\n",
      "Epoch 18/100\n",
      "313/313 [==============================] - 4s 13ms/step - loss: 0.4844 - accuracy: 0.7824 - val_loss: 0.5147 - val_accuracy: 0.7588\n",
      "Epoch 19/100\n",
      "313/313 [==============================] - 4s 13ms/step - loss: 0.4830 - accuracy: 0.7825 - val_loss: 0.5181 - val_accuracy: 0.7554\n",
      "Epoch 20/100\n",
      "313/313 [==============================] - 4s 13ms/step - loss: 0.4779 - accuracy: 0.7843 - val_loss: 0.5027 - val_accuracy: 0.7670\n",
      "Epoch 21/100\n",
      "313/313 [==============================] - 4s 13ms/step - loss: 0.4728 - accuracy: 0.7890 - val_loss: 0.5206 - val_accuracy: 0.7480\n",
      "Epoch 22/100\n",
      "313/313 [==============================] - 4s 13ms/step - loss: 0.4696 - accuracy: 0.7891 - val_loss: 0.5266 - val_accuracy: 0.7442\n",
      "Epoch 23/100\n",
      "313/313 [==============================] - 4s 12ms/step - loss: 0.4636 - accuracy: 0.7938 - val_loss: 0.4996 - val_accuracy: 0.7646\n",
      "Epoch 24/100\n",
      "313/313 [==============================] - 4s 13ms/step - loss: 0.4600 - accuracy: 0.7950 - val_loss: 0.4932 - val_accuracy: 0.7726\n",
      "Epoch 25/100\n",
      "313/313 [==============================] - 4s 13ms/step - loss: 0.4563 - accuracy: 0.7995 - val_loss: 0.4923 - val_accuracy: 0.7712\n",
      "Epoch 26/100\n",
      "313/313 [==============================] - 4s 13ms/step - loss: 0.4525 - accuracy: 0.7995 - val_loss: 0.4872 - val_accuracy: 0.7720\n",
      "Epoch 27/100\n",
      "313/313 [==============================] - 4s 13ms/step - loss: 0.4478 - accuracy: 0.8023 - val_loss: 0.4960 - val_accuracy: 0.7688\n",
      "Epoch 28/100\n",
      "313/313 [==============================] - 4s 13ms/step - loss: 0.4449 - accuracy: 0.8045 - val_loss: 0.4835 - val_accuracy: 0.7776\n",
      "Epoch 29/100\n",
      "313/313 [==============================] - 4s 13ms/step - loss: 0.4414 - accuracy: 0.8069 - val_loss: 0.4795 - val_accuracy: 0.7812\n",
      "Epoch 30/100\n",
      "313/313 [==============================] - 4s 12ms/step - loss: 0.4375 - accuracy: 0.8081 - val_loss: 0.4824 - val_accuracy: 0.7776\n",
      "Epoch 31/100\n",
      "313/313 [==============================] - 4s 12ms/step - loss: 0.4352 - accuracy: 0.8079 - val_loss: 0.4785 - val_accuracy: 0.7784\n",
      "Epoch 32/100\n",
      "313/313 [==============================] - 4s 13ms/step - loss: 0.4313 - accuracy: 0.8105 - val_loss: 0.4819 - val_accuracy: 0.7774\n",
      "Epoch 33/100\n",
      "313/313 [==============================] - 4s 12ms/step - loss: 0.4284 - accuracy: 0.8123 - val_loss: 0.4770 - val_accuracy: 0.7782\n",
      "Epoch 34/100\n",
      "313/313 [==============================] - 4s 13ms/step - loss: 0.4254 - accuracy: 0.8133 - val_loss: 0.4746 - val_accuracy: 0.7808\n",
      "Epoch 35/100\n",
      "313/313 [==============================] - 4s 12ms/step - loss: 0.4225 - accuracy: 0.8148 - val_loss: 0.4739 - val_accuracy: 0.7800\n",
      "Epoch 36/100\n",
      "313/313 [==============================] - 4s 12ms/step - loss: 0.4188 - accuracy: 0.8195 - val_loss: 0.4729 - val_accuracy: 0.7810\n",
      "Epoch 37/100\n",
      "313/313 [==============================] - 4s 12ms/step - loss: 0.4161 - accuracy: 0.8205 - val_loss: 0.4701 - val_accuracy: 0.7844\n",
      "Epoch 38/100\n",
      "313/313 [==============================] - 4s 13ms/step - loss: 0.4137 - accuracy: 0.8217 - val_loss: 0.4712 - val_accuracy: 0.7836\n",
      "Epoch 39/100\n",
      "313/313 [==============================] - 4s 12ms/step - loss: 0.4115 - accuracy: 0.8221 - val_loss: 0.4702 - val_accuracy: 0.7812\n",
      "Epoch 40/100\n",
      "313/313 [==============================] - 4s 12ms/step - loss: 0.4090 - accuracy: 0.8245 - val_loss: 0.4688 - val_accuracy: 0.7820\n",
      "Epoch 41/100\n",
      "313/313 [==============================] - 4s 12ms/step - loss: 0.4062 - accuracy: 0.8242 - val_loss: 0.4726 - val_accuracy: 0.7788\n",
      "Epoch 42/100\n",
      "313/313 [==============================] - 4s 12ms/step - loss: 0.4043 - accuracy: 0.8264 - val_loss: 0.4709 - val_accuracy: 0.7820\n",
      "Epoch 43/100\n",
      "313/313 [==============================] - 4s 13ms/step - loss: 0.4021 - accuracy: 0.8281 - val_loss: 0.4684 - val_accuracy: 0.7834\n",
      "Epoch 44/100\n",
      "313/313 [==============================] - 4s 12ms/step - loss: 0.3995 - accuracy: 0.8282 - val_loss: 0.4689 - val_accuracy: 0.7836\n",
      "Epoch 45/100\n",
      "313/313 [==============================] - 4s 13ms/step - loss: 0.3979 - accuracy: 0.8293 - val_loss: 0.4684 - val_accuracy: 0.7828\n",
      "Epoch 46/100\n",
      "313/313 [==============================] - 4s 13ms/step - loss: 0.3964 - accuracy: 0.8292 - val_loss: 0.4676 - val_accuracy: 0.7854\n",
      "Epoch 47/100\n",
      "313/313 [==============================] - 4s 12ms/step - loss: 0.3940 - accuracy: 0.8296 - val_loss: 0.4718 - val_accuracy: 0.7824\n",
      "Epoch 48/100\n",
      "313/313 [==============================] - 4s 13ms/step - loss: 0.3919 - accuracy: 0.8314 - val_loss: 0.4688 - val_accuracy: 0.7838\n",
      "Epoch 49/100\n",
      "313/313 [==============================] - 4s 13ms/step - loss: 0.3901 - accuracy: 0.8335 - val_loss: 0.4696 - val_accuracy: 0.7820\n"
     ]
    }
   ],
   "source": [
    "history = model2.fit(train_seq, train_target, epochs=100, batch_size=64,\n",
    "                     validation_data=(val_seq, val_target),\n",
    "                     callbacks=[checkpoint_cb, early_stopping_cb])"
   ]
  },
  {
   "cell_type": "markdown",
   "metadata": {},
   "source": [
    "- one-hot 인코딩과 비슷한 성능을 내지만 훈련세트 크기도 줄이고, 가중치의 개수도 훨씬 작음(더 가벼운 모델)    "
   ]
  },
  {
   "cell_type": "code",
   "execution_count": 34,
   "metadata": {
    "execution": {
     "iopub.execute_input": "2020-10-12T01:40:38.604725Z",
     "iopub.status.busy": "2020-10-12T01:40:38.602954Z",
     "iopub.status.idle": "2020-10-12T01:40:39.220316Z",
     "shell.execute_reply": "2020-10-12T01:40:39.221611Z"
    }
   },
   "outputs": [
    {
     "data": {
      "image/png": "[encoded data removed]",
      "text/plain": [
       "<Figure size 640x480 with 1 Axes>"
      ]
     },
     "metadata": {},
     "output_type": "display_data"
    }
   ],
   "source": [
    "plt.plot(history.history['loss'])\n",
    "plt.plot(history.history['val_loss'])\n",
    "plt.xlabel('epoch')\n",
    "plt.ylabel('loss')\n",
    "plt.legend(['train', 'val'])\n",
    "plt.show()"
   ]
  },
  {
   "cell_type": "code",
   "execution_count": null,
   "metadata": {},
   "outputs": [],
   "source": []
  }
 ],
 "metadata": {
  "kernelspec": {
   "display_name": "Python 3 (ipykernel)",
   "language": "python",
   "name": "python3"
  },
  "language_info": {
   "codemirror_mode": {
    "name": "ipython",
    "version": 3
   },
   "file_extension": ".py",
   "mimetype": "text/x-python",
   "name": "python",
   "nbconvert_exporter": "python",
   "pygments_lexer": "ipython3",
   "version": "3.11.5"
  }
 },
 "nbformat": 4,
 "nbformat_minor": 4
}
