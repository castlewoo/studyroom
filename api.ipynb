{
 "cells": [
  {
   "cell_type": "code",
   "execution_count": 31,
   "id": "24a78c58",
   "metadata": {},
   "outputs": [],
   "source": [
    "# 필요한 패키지 설치\n",
    "\n",
    "from bs4 import BeautifulSoup\n",
    "import pandas as pd\n",
    "import urllib.request"
   ]
  },
  {
   "cell_type": "code",
   "execution_count": null,
   "id": "8d355adb",
   "metadata": {},
   "outputs": [],
   "source": [
    "# open api 불러와보기"
   ]
  },
  {
   "cell_type": "code",
   "execution_count": 52,
   "id": "2d05a6d3",
   "metadata": {},
   "outputs": [
    {
     "data": {
      "text/html": [
       "<div>\n",
       "<style scoped>\n",
       "    .dataframe tbody tr th:only-of-type {\n",
       "        vertical-align: middle;\n",
       "    }\n",
       "\n",
       "    .dataframe tbody tr th {\n",
       "        vertical-align: top;\n",
       "    }\n",
       "\n",
       "    .dataframe thead th {\n",
       "        text-align: right;\n",
       "    }\n",
       "</style>\n",
       "<table border=\"1\" class=\"dataframe\">\n",
       "  <thead>\n",
       "    <tr style=\"text-align: right;\">\n",
       "      <th></th>\n",
       "    </tr>\n",
       "  </thead>\n",
       "  <tbody>\n",
       "  </tbody>\n",
       "</table>\n",
       "</div>"
      ],
      "text/plain": [
       "Empty DataFrame\n",
       "Columns: []\n",
       "Index: []"
      ]
     },
     "execution_count": 52,
     "metadata": {},
     "output_type": "execute_result"
    }
   ],
   "source": [
    "req = urllib.request\n",
    "\n",
    "def getRTMSDataSvcAptTrade(LAWD_CD,DEAL_YMD,serviceKey): \n",
    "    url=\"http://openapi.molit.go.kr:8081/OpenAPI_ToolInstallPackage/service/rest/RTMSOBJSvc/getRTMSDataSvcRHRent\" \n",
    "    url=url+\"?&LAWD_CD=\"+LAWD_CD\n",
    "    url=url+\"&DEAL_YMD=\"+DEAL_YMD\n",
    "    url=url+\"&serviceKey=\"+serviceKey\n",
    "    \n",
    "    xml = req.urlopen(url)\n",
    "    result = xml.read()\n",
    "    soup = BeautifulSoup(result, 'lxml-xml')    \n",
    "    \n",
    "    items = soup.findAll(\"item\")\n",
    "    aptTrade = pd.DataFrame()\n",
    "    \n",
    "    for item in items:\n",
    "        BuildYear          = item.find(\"건축년도\").text\n",
    "        Contract_Type           = item.find(\"계약구분\").text\n",
    "        Term_of_Contract            = item.find(\"계약기간\").text\n",
    "        DealYear                = item.find(\"년\").text\n",
    "        Dong       = item.find(\"법정동\").text\n",
    "        Deposit           = item.find(\"보증금액\").text\n",
    "        Apartment_Name             = item.find(\"연립다세대\").text\n",
    "        DealMonth = item.find(\"월\").text\n",
    "        Monthly_Rent               = item.find(\"월세금액\").text\n",
    "        DealDay        = item.find(\"일\").text\n",
    "        Area_for_ExclusiveUse               = item.find(\"전용면적\").text\n",
    "        Previous_Deposit           = item.find(\"종전계약보증금\").text\n",
    "        Previous_MonthlyRent           = item.find(\"종전계약월세\").text\n",
    "        Jibun           = item.find(\"지번\").text\n",
    "        Regional_Code           = item.find(\"지역코드\").text\n",
    "        Floor           = item.find(\"층\").text\n",
    "        \n",
    "        temp = pd.DataFrame(([[BuildYear, Contract_Type, Term_of_Contract, DealYear, Dong, Deposit, Apartment_Name, DealMonth, Monthly_Rent, DealDay, Area_for_ExclusiveUse, Previous_Deposit, Previous_MonthlyRent, Jibun, Regional_Code, Floor]]), \n",
    "                            columns = ['BuildYear', 'ContractType', 'Term_of_Contract', 'DealYear', 'Dong', 'Deposit', 'Apartment_Name', 'DealMonth', 'Monthly_Rent', 'DealDay', 'Area_for_ExclusiveUse', 'Previous_Deposit', 'Previous_MonthlyRent', 'Jibun', 'Regional_Code', 'Floor']) \n",
    "        aptTrade=pd.concat([aptTrade,temp])\n",
    "    \n",
    "    aptTrade=aptTrade.reset_index(drop=True)\n",
    "    return aptTrade\n",
    "\n",
    "getRTMSDataSvcAptTrade('11110','202001','2V08h3mjqiNVH9GzYJLR4PtpvMW2hQv5xGNOL0Pmmyqn8AqFvZxfhYBhjMgAM3X3exnhiVhkFnmBLifoiVAM%2BA%3D%3D')"
   ]
  },
  {
   "cell_type": "code",
   "execution_count": null,
   "id": "018c9c46",
   "metadata": {},
   "outputs": [],
   "source": [
    "# 필요한 부분만 남기기"
   ]
  },
  {
   "cell_type": "code",
   "execution_count": 51,
   "id": "72238e78",
   "metadata": {},
   "outputs": [
    {
     "data": {
      "text/html": [
       "<div>\n",
       "<style scoped>\n",
       "    .dataframe tbody tr th:only-of-type {\n",
       "        vertical-align: middle;\n",
       "    }\n",
       "\n",
       "    .dataframe tbody tr th {\n",
       "        vertical-align: top;\n",
       "    }\n",
       "\n",
       "    .dataframe thead th {\n",
       "        text-align: right;\n",
       "    }\n",
       "</style>\n",
       "<table border=\"1\" class=\"dataframe\">\n",
       "  <thead>\n",
       "    <tr style=\"text-align: right;\">\n",
       "      <th></th>\n",
       "    </tr>\n",
       "  </thead>\n",
       "  <tbody>\n",
       "  </tbody>\n",
       "</table>\n",
       "</div>"
      ],
      "text/plain": [
       "Empty DataFrame\n",
       "Columns: []\n",
       "Index: []"
      ]
     },
     "execution_count": 51,
     "metadata": {},
     "output_type": "execute_result"
    }
   ],
   "source": [
    "req = urllib.request\n",
    "\n",
    "def getRTMSDataSvcAptTrade(LAWD_CD,DEAL_YMD,serviceKey): \n",
    "    url=\"http://openapi.molit.go.kr:8081/OpenAPI_ToolInstallPackage/service/rest/RTMSOBJSvc/getRTMSDataSvcRHRent\" \n",
    "    url=url+\"?&LAWD_CD=\"+LAWD_CD\n",
    "    url=url+\"&DEAL_YMD=\"+DEAL_YMD\n",
    "    url=url+\"&serviceKey=\"+serviceKey\n",
    "    \n",
    "    xml = req.urlopen(url)\n",
    "    result = xml.read()\n",
    "    soup = BeautifulSoup(result, 'lxml-xml')    \n",
    "    \n",
    "    items = soup.findAll(\"item\")\n",
    "    aptTrade = pd.DataFrame()\n",
    "    \n",
    "    for item in items:\n",
    "        BuildYear          = item.find(\"건축년도\").text\n",
    "        DealYear                = item.find(\"년\").text\n",
    "        DealMonth = item.find(\"월\").text\n",
    "        DealDay        = item.find(\"일\").text\n",
    "        Dong       = item.find(\"법정동\").text\n",
    "        Jibun           = item.find(\"지번\").text\n",
    "        Deposit           = item.find(\"보증금액\").text\n",
    "        Apartment_Name             = item.find(\"연립다세대\").text\n",
    "        Monthly_Rent               = item.find(\"월세금액\").text\n",
    "        Area_for_ExclusiveUse               = item.find(\"전용면적\").text\n",
    "        Regional_Code           = item.find(\"지역코드\").text\n",
    "        Floor           = item.find(\"층\").text\n",
    "        \n",
    "        temp = pd.DataFrame(([[BuildYear, DealYear, DealMonth, DealDay, Dong, Jibun, Deposit, Apartment_Name, Monthly_Rent, Area_for_ExclusiveUse, Regional_Code, Floor]]), \n",
    "                            columns = ['BuildYear', 'DealYear', 'DealMonth', 'DealDay', 'Dong', 'Jibun', 'Deposit', 'Apartment_Name', 'Monthly_Rent', 'Area_for_ExclusiveUse', 'Regional_Code', 'Floor']) \n",
    "        aptTrade=pd.concat([aptTrade,temp])\n",
    "    \n",
    "    aptTrade=aptTrade.reset_index(drop=True)\n",
    "    return aptTrade\n",
    "\n",
    "Seoul_Data = getRTMSDataSvcAptTrade('11110','202001','vfY4VBbDDWnxBlsur1HG1qugKmYTCVY1e5g/8DvvKUsrqH2D/tDAqtT3VHoNq8zIXWmS5iFYfgGBBGBe5W/oOQ==')\n",
    "Seoul_Data"
   ]
  }
 ],
 "metadata": {
  "kernelspec": {
   "display_name": "Python 3 (ipykernel)",
   "language": "python",
   "name": "python3"
  },
  "language_info": {
   "codemirror_mode": {
    "name": "ipython",
    "version": 3
   },
   "file_extension": ".py",
   "mimetype": "text/x-python",
   "name": "python",
   "nbconvert_exporter": "python",
   "pygments_lexer": "ipython3",
   "version": "3.11.5"
  }
 },
 "nbformat": 4,
 "nbformat_minor": 5
}
