{
 "cells": [
  {
   "cell_type": "markdown",
   "id": "4ac6df9c",
   "metadata": {},
   "source": [
    "### cctv와 인구분석 2\n",
    "- 전처리되어져서 저장된 데이터 불러오기\n",
    "- cctv와 인구와의 관계를 scatter plot으로 표현하고\n",
    "- 관계 데이터를 기반으로 한 대표직선(회귀직선)을 수동으로 표현\n",
    "- 직선이 의미하는 인구대비 적정 cctv 대수를 자치구별로 파악\n",
    "    - 적정 cctv 대수와 절대값으로 오차가 큰 10개 자치기구를 scatter에 표현"
   ]
  },
  {
   "cell_type": "code",
   "execution_count": 1,
   "id": "1b713d68",
   "metadata": {},
   "outputs": [],
   "source": [
    "import pandas as pd\n",
    "import numpy as np\n",
    "import matplotlib.pyplot as plt\n",
    "%matplotlib inline"
   ]
  },
  {
   "cell_type": "code",
   "execution_count": 2,
   "id": "5e3643c7",
   "metadata": {},
   "outputs": [],
   "source": [
    "from IPython.core.interactiveshell import InteractiveShell\n",
    "InteractiveShell.ast_node_interactivity=\"all\""
   ]
  },
  {
   "cell_type": "code",
   "execution_count": 3,
   "id": "a39ccc44",
   "metadata": {},
   "outputs": [],
   "source": [
    "# 한글 문제\n",
    "# matplotlit의 기본 폰트에서 한글 지원되지 않기 때문에\n",
    "# matplotlib의 폰트 변경 필요\n",
    "import platform\n",
    "\n",
    "from matplotlib import font_manager, rc\n",
    "plt.rcParams['axes.unicode_minus'] = False\n",
    "\n",
    "if platform.system() == 'Darwin':  # 맥OS \n",
    "    rc('font', family='AppleGothic')\n",
    "elif platform.system() == 'Windows':  # 윈도우\n",
    "    path = \"c:/Windows/Fonts/malgun.ttf\"\n",
    "    font_name = font_manager.FontProperties(fname=path).get_name()\n",
    "    rc('font', family=font_name)\n",
    "else:\n",
    "    print('Unknown system...  sorry~~~')"
   ]
  },
  {
   "cell_type": "code",
   "execution_count": 5,
   "id": "fd712033",
   "metadata": {},
   "outputs": [
    {
     "data": {
      "text/html": [
       "<div>\n",
       "<style scoped>\n",
       "    .dataframe tbody tr th:only-of-type {\n",
       "        vertical-align: middle;\n",
       "    }\n",
       "\n",
       "    .dataframe tbody tr th {\n",
       "        vertical-align: top;\n",
       "    }\n",
       "\n",
       "    .dataframe thead th {\n",
       "        text-align: right;\n",
       "    }\n",
       "</style>\n",
       "<table border=\"1\" class=\"dataframe\">\n",
       "  <thead>\n",
       "    <tr style=\"text-align: right;\">\n",
       "      <th></th>\n",
       "      <th>구별</th>\n",
       "      <th>소계</th>\n",
       "      <th>최근증가율</th>\n",
       "      <th>인구수</th>\n",
       "      <th>한국인</th>\n",
       "      <th>외국인</th>\n",
       "      <th>고령자</th>\n",
       "      <th>외국인비율</th>\n",
       "      <th>고령자비율</th>\n",
       "      <th>cctv비율</th>\n",
       "    </tr>\n",
       "  </thead>\n",
       "  <tbody>\n",
       "    <tr>\n",
       "      <th>0</th>\n",
       "      <td>강남구</td>\n",
       "      <td>3238</td>\n",
       "      <td>150.619195</td>\n",
       "      <td>570500.0</td>\n",
       "      <td>565550.0</td>\n",
       "      <td>4950.0</td>\n",
       "      <td>63167.0</td>\n",
       "      <td>0.867660</td>\n",
       "      <td>11.072217</td>\n",
       "      <td>0.567572</td>\n",
       "    </tr>\n",
       "    <tr>\n",
       "      <th>1</th>\n",
       "      <td>강동구</td>\n",
       "      <td>1010</td>\n",
       "      <td>166.490765</td>\n",
       "      <td>453233.0</td>\n",
       "      <td>449019.0</td>\n",
       "      <td>4214.0</td>\n",
       "      <td>54622.0</td>\n",
       "      <td>0.929765</td>\n",
       "      <td>12.051638</td>\n",
       "      <td>0.222843</td>\n",
       "    </tr>\n",
       "    <tr>\n",
       "      <th>2</th>\n",
       "      <td>강북구</td>\n",
       "      <td>831</td>\n",
       "      <td>125.203252</td>\n",
       "      <td>330192.0</td>\n",
       "      <td>326686.0</td>\n",
       "      <td>3506.0</td>\n",
       "      <td>54813.0</td>\n",
       "      <td>1.061806</td>\n",
       "      <td>16.600342</td>\n",
       "      <td>0.251672</td>\n",
       "    </tr>\n",
       "    <tr>\n",
       "      <th>3</th>\n",
       "      <td>강서구</td>\n",
       "      <td>911</td>\n",
       "      <td>134.793814</td>\n",
       "      <td>603772.0</td>\n",
       "      <td>597248.0</td>\n",
       "      <td>6524.0</td>\n",
       "      <td>72548.0</td>\n",
       "      <td>1.080540</td>\n",
       "      <td>12.015794</td>\n",
       "      <td>0.150885</td>\n",
       "    </tr>\n",
       "    <tr>\n",
       "      <th>4</th>\n",
       "      <td>관악구</td>\n",
       "      <td>2109</td>\n",
       "      <td>149.290780</td>\n",
       "      <td>525515.0</td>\n",
       "      <td>507203.0</td>\n",
       "      <td>18312.0</td>\n",
       "      <td>68082.0</td>\n",
       "      <td>3.484582</td>\n",
       "      <td>12.955291</td>\n",
       "      <td>0.401321</td>\n",
       "    </tr>\n",
       "  </tbody>\n",
       "</table>\n",
       "</div>"
      ],
      "text/plain": [
       "    구별    소계       최근증가율       인구수       한국인      외국인      고령자     외국인비율  \\\n",
       "0  강남구  3238  150.619195  570500.0  565550.0   4950.0  63167.0  0.867660   \n",
       "1  강동구  1010  166.490765  453233.0  449019.0   4214.0  54622.0  0.929765   \n",
       "2  강북구   831  125.203252  330192.0  326686.0   3506.0  54813.0  1.061806   \n",
       "3  강서구   911  134.793814  603772.0  597248.0   6524.0  72548.0  1.080540   \n",
       "4  관악구  2109  149.290780  525515.0  507203.0  18312.0  68082.0  3.484582   \n",
       "\n",
       "       고령자비율    cctv비율  \n",
       "0  11.072217  0.567572  \n",
       "1  12.051638  0.222843  \n",
       "2  16.600342  0.251672  \n",
       "3  12.015794  0.150885  \n",
       "4  12.955291  0.401321  "
      ]
     },
     "execution_count": 5,
     "metadata": {},
     "output_type": "execute_result"
    }
   ],
   "source": [
    "# 전처리된 저장 데이터 load\n",
    "cctv_res = pd.read_csv('./data/data_result.csv')\n",
    "cctv_res.head()"
   ]
  },
  {
   "cell_type": "code",
   "execution_count": 8,
   "id": "9e242eef",
   "metadata": {},
   "outputs": [],
   "source": [
    "cctv_res.set_index('구별', inplace = True)"
   ]
  },
  {
   "cell_type": "code",
   "execution_count": 9,
   "id": "82f28807",
   "metadata": {},
   "outputs": [
    {
     "data": {
      "text/html": [
       "<div>\n",
       "<style scoped>\n",
       "    .dataframe tbody tr th:only-of-type {\n",
       "        vertical-align: middle;\n",
       "    }\n",
       "\n",
       "    .dataframe tbody tr th {\n",
       "        vertical-align: top;\n",
       "    }\n",
       "\n",
       "    .dataframe thead th {\n",
       "        text-align: right;\n",
       "    }\n",
       "</style>\n",
       "<table border=\"1\" class=\"dataframe\">\n",
       "  <thead>\n",
       "    <tr style=\"text-align: right;\">\n",
       "      <th></th>\n",
       "      <th>소계</th>\n",
       "      <th>최근증가율</th>\n",
       "      <th>인구수</th>\n",
       "      <th>한국인</th>\n",
       "      <th>외국인</th>\n",
       "      <th>고령자</th>\n",
       "      <th>외국인비율</th>\n",
       "      <th>고령자비율</th>\n",
       "      <th>cctv비율</th>\n",
       "    </tr>\n",
       "    <tr>\n",
       "      <th>구별</th>\n",
       "      <th></th>\n",
       "      <th></th>\n",
       "      <th></th>\n",
       "      <th></th>\n",
       "      <th></th>\n",
       "      <th></th>\n",
       "      <th></th>\n",
       "      <th></th>\n",
       "      <th></th>\n",
       "    </tr>\n",
       "  </thead>\n",
       "  <tbody>\n",
       "    <tr>\n",
       "      <th>강남구</th>\n",
       "      <td>3238</td>\n",
       "      <td>150.619195</td>\n",
       "      <td>570500.0</td>\n",
       "      <td>565550.0</td>\n",
       "      <td>4950.0</td>\n",
       "      <td>63167.0</td>\n",
       "      <td>0.867660</td>\n",
       "      <td>11.072217</td>\n",
       "      <td>0.567572</td>\n",
       "    </tr>\n",
       "    <tr>\n",
       "      <th>강동구</th>\n",
       "      <td>1010</td>\n",
       "      <td>166.490765</td>\n",
       "      <td>453233.0</td>\n",
       "      <td>449019.0</td>\n",
       "      <td>4214.0</td>\n",
       "      <td>54622.0</td>\n",
       "      <td>0.929765</td>\n",
       "      <td>12.051638</td>\n",
       "      <td>0.222843</td>\n",
       "    </tr>\n",
       "  </tbody>\n",
       "</table>\n",
       "</div>"
      ],
      "text/plain": [
       "       소계       최근증가율       인구수       한국인     외국인      고령자     외국인비율  \\\n",
       "구별                                                                     \n",
       "강남구  3238  150.619195  570500.0  565550.0  4950.0  63167.0  0.867660   \n",
       "강동구  1010  166.490765  453233.0  449019.0  4214.0  54622.0  0.929765   \n",
       "\n",
       "         고령자비율    cctv비율  \n",
       "구별                        \n",
       "강남구  11.072217  0.567572  \n",
       "강동구  12.051638  0.222843  "
      ]
     },
     "execution_count": 9,
     "metadata": {},
     "output_type": "execute_result"
    }
   ],
   "source": [
    "cctv_res.head(2)"
   ]
  },
  {
   "cell_type": "markdown",
   "id": "7937b573",
   "metadata": {},
   "source": [
    "### cctv와 인구수 관계 표현"
   ]
  },
  {
   "cell_type": "code",
   "execution_count": 13,
   "id": "8049eec3",
   "metadata": {},
   "outputs": [
    {
     "data": {
      "text/plain": [
       "<Figure size 800x800 with 0 Axes>"
      ]
     },
     "execution_count": 13,
     "metadata": {},
     "output_type": "execute_result"
    },
    {
     "data": {
      "text/plain": [
       "<matplotlib.collections.PathCollection at 0x18dba0a4b50>"
      ]
     },
     "execution_count": 13,
     "metadata": {},
     "output_type": "execute_result"
    },
    {
     "data": {
      "text/plain": [
       "Text(0.5, 0, '인구수')"
      ]
     },
     "execution_count": 13,
     "metadata": {},
     "output_type": "execute_result"
    },
    {
     "data": {
      "text/plain": [
       "Text(0, 0.5, '구별 cctv 수')"
      ]
     },
     "execution_count": 13,
     "metadata": {},
     "output_type": "execute_result"
    },
    {
     "data": {
      "image/png": "[encoded data removed]",
      "text/plain": [
       "<Figure size 800x800 with 1 Axes>"
      ]
     },
     "metadata": {},
     "output_type": "display_data"
    }
   ],
   "source": [
    "# 산점도\n",
    "plt.figure(figsize = (8, 8))\n",
    "plt.scatter(cctv_res['인구수'], cctv_res['소계'], s=50) # s는 점 크기 조절\n",
    "plt.xlabel('인구수')\n",
    "plt.ylabel('구별 cctv 수')\n",
    "plt.grid()\n",
    "plt.show() # 주피터노트북에서는 코드 상관없이 실행\n",
    "# 코드 전체에 대해 한번에 인터프리티 적용시 그래프 출력시 반드시 필요"
   ]
  },
  {
   "cell_type": "markdown",
   "id": "95201608",
   "metadata": {},
   "source": [
    "### 구별 인구수와 구별 cctv 수의 관계를 대표하는 직선 그리기\n",
    "- x와 y가 data가 주어졌을 때 x와 y의 관계를 이용해서 직선방정식을 생성\n",
    "    - x와 y의 관계에 대한 기울기와 절편\n",
    "        - np.polyfit(data1, data2, 차수) 사용\n",
    "    - 방정식 생성 함수\n",
    "        - np.poly1d([기울기, 절편])"
   ]
  },
  {
   "cell_type": "code",
   "execution_count": 16,
   "id": "1d6c260e",
   "metadata": {},
   "outputs": [
    {
     "data": {
      "text/plain": [
       "array([1.15151285e-03, 1.04561312e+03])"
      ]
     },
     "execution_count": 16,
     "metadata": {},
     "output_type": "execute_result"
    }
   ],
   "source": [
    "poly_fit = np.polyfit(cctv_res.인구수, cctv_res.소계, 1)\n",
    "poly_fit"
   ]
  },
  {
   "cell_type": "markdown",
   "id": "635aa72f",
   "metadata": {},
   "source": [
    "- 적정cctv수 = 0.00115151285 X 인구수 + 1045.61312"
   ]
  },
  {
   "cell_type": "code",
   "execution_count": 17,
   "id": "b69f35e3",
   "metadata": {},
   "outputs": [
    {
     "data": {
      "text/plain": [
       "poly1d([1.15151285e-03, 1.04561312e+03])"
      ]
     },
     "execution_count": 17,
     "metadata": {},
     "output_type": "execute_result"
    }
   ],
   "source": [
    "# 1차 직선 방정식을 생성\n",
    "poly_1d = np.poly1d(poly_fit)\n",
    "poly_1d"
   ]
  },
  {
   "cell_type": "code",
   "execution_count": 18,
   "id": "34d82c90",
   "metadata": {},
   "outputs": [
    {
     "data": {
      "text/html": [
       "<div>\n",
       "<style scoped>\n",
       "    .dataframe tbody tr th:only-of-type {\n",
       "        vertical-align: middle;\n",
       "    }\n",
       "\n",
       "    .dataframe tbody tr th {\n",
       "        vertical-align: top;\n",
       "    }\n",
       "\n",
       "    .dataframe thead th {\n",
       "        text-align: right;\n",
       "    }\n",
       "</style>\n",
       "<table border=\"1\" class=\"dataframe\">\n",
       "  <thead>\n",
       "    <tr style=\"text-align: right;\">\n",
       "      <th></th>\n",
       "      <th>소계</th>\n",
       "      <th>최근증가율</th>\n",
       "      <th>인구수</th>\n",
       "      <th>한국인</th>\n",
       "      <th>외국인</th>\n",
       "      <th>고령자</th>\n",
       "      <th>외국인비율</th>\n",
       "      <th>고령자비율</th>\n",
       "      <th>cctv비율</th>\n",
       "    </tr>\n",
       "    <tr>\n",
       "      <th>구별</th>\n",
       "      <th></th>\n",
       "      <th></th>\n",
       "      <th></th>\n",
       "      <th></th>\n",
       "      <th></th>\n",
       "      <th></th>\n",
       "      <th></th>\n",
       "      <th></th>\n",
       "      <th></th>\n",
       "    </tr>\n",
       "  </thead>\n",
       "  <tbody>\n",
       "    <tr>\n",
       "      <th>강남구</th>\n",
       "      <td>3238</td>\n",
       "      <td>150.619195</td>\n",
       "      <td>570500.0</td>\n",
       "      <td>565550.0</td>\n",
       "      <td>4950.0</td>\n",
       "      <td>63167.0</td>\n",
       "      <td>0.86766</td>\n",
       "      <td>11.072217</td>\n",
       "      <td>0.567572</td>\n",
       "    </tr>\n",
       "  </tbody>\n",
       "</table>\n",
       "</div>"
      ],
      "text/plain": [
       "       소계       최근증가율       인구수       한국인     외국인      고령자    외국인비율  \\\n",
       "구별                                                                    \n",
       "강남구  3238  150.619195  570500.0  565550.0  4950.0  63167.0  0.86766   \n",
       "\n",
       "         고령자비율    cctv비율  \n",
       "구별                        \n",
       "강남구  11.072217  0.567572  "
      ]
     },
     "execution_count": 18,
     "metadata": {},
     "output_type": "execute_result"
    }
   ],
   "source": [
    "cctv_res.head(1)"
   ]
  },
  {
   "cell_type": "code",
   "execution_count": 19,
   "id": "ec9c10f0",
   "metadata": {},
   "outputs": [
    {
     "data": {
      "text/plain": [
       "1702.551198573436"
      ]
     },
     "execution_count": 19,
     "metadata": {},
     "output_type": "execute_result"
    }
   ],
   "source": [
    "poly_1d(570500)"
   ]
  },
  {
   "cell_type": "code",
   "execution_count": null,
   "id": "ee3e5796",
   "metadata": {},
   "outputs": [],
   "source": [
    "- 직선 data 생성"
   ]
  },
  {
   "cell_type": "code",
   "execution_count": 24,
   "id": "51b9c8fc",
   "metadata": {},
   "outputs": [
    {
     "data": {
      "text/plain": [
       "array([133240.        , 144142.91836735, 155045.83673469, 165948.75510204,\n",
       "       176851.67346939, 187754.59183673, 198657.51020408, 209560.42857143,\n",
       "       220463.34693878, 231366.26530612, 242269.18367347, 253172.10204082,\n",
       "       264075.02040816, 274977.93877551, 285880.85714286, 296783.7755102 ,\n",
       "       307686.69387755, 318589.6122449 , 329492.53061224, 340395.44897959,\n",
       "       351298.36734694, 362201.28571429, 373104.20408163, 384007.12244898,\n",
       "       394910.04081633, 405812.95918367, 416715.87755102, 427618.79591837,\n",
       "       438521.71428571, 449424.63265306, 460327.55102041, 471230.46938776,\n",
       "       482133.3877551 , 493036.30612245, 503939.2244898 , 514842.14285714,\n",
       "       525745.06122449, 536647.97959184, 547550.89795918, 558453.81632653,\n",
       "       569356.73469388, 580259.65306122, 591162.57142857, 602065.48979592,\n",
       "       612968.40816327, 623871.32653061, 634774.24489796, 645677.16326531,\n",
       "       656580.08163265, 667483.        ])"
      ]
     },
     "execution_count": 24,
     "metadata": {},
     "output_type": "execute_result"
    }
   ],
   "source": [
    "# 임의의 인구수 50개 생성\n",
    "xs = np.linspace(cctv_res.인구수.min(), cctv_res.인구수.max())\n",
    "xs"
   ]
  },
  {
   "cell_type": "code",
   "execution_count": 23,
   "id": "99ab2b06",
   "metadata": {},
   "outputs": [
    {
     "data": {
      "text/plain": [
       "array([1199.04069124, 1211.59554181, 1224.15039238, 1236.70524294,\n",
       "       1249.26009351, 1261.81494407, 1274.36979464, 1286.92464521,\n",
       "       1299.47949577, 1312.03434634, 1324.5891969 , 1337.14404747,\n",
       "       1349.69889804, 1362.2537486 , 1374.80859917, 1387.36344973,\n",
       "       1399.9183003 , 1412.47315087, 1425.02800143, 1437.582852  ,\n",
       "       1450.13770256, 1462.69255313, 1475.2474037 , 1487.80225426,\n",
       "       1500.35710483, 1512.9119554 , 1525.46680596, 1538.02165653,\n",
       "       1550.57650709, 1563.13135766, 1575.68620823, 1588.24105879,\n",
       "       1600.79590936, 1613.35075992, 1625.90561049, 1638.46046106,\n",
       "       1651.01531162, 1663.57016219, 1676.12501275, 1688.67986332,\n",
       "       1701.23471389, 1713.78956445, 1726.34441502, 1738.89926558,\n",
       "       1751.45411615, 1764.00896672, 1776.56381728, 1789.11866785,\n",
       "       1801.67351841, 1814.22836898])"
      ]
     },
     "execution_count": 23,
     "metadata": {},
     "output_type": "execute_result"
    }
   ],
   "source": [
    "# 1차 방정식을 이용하여\n",
    "# xs(임의의 인구수)에 대응하는 ys(적정 cctv 대수)\n",
    "ys = poly_1d(xs)\n",
    "ys"
   ]
  },
  {
   "cell_type": "code",
   "execution_count": 30,
   "id": "a9c4bb9b",
   "metadata": {},
   "outputs": [
    {
     "data": {
      "text/plain": [
       "<Figure size 800x800 with 0 Axes>"
      ]
     },
     "execution_count": 30,
     "metadata": {},
     "output_type": "execute_result"
    },
    {
     "data": {
      "text/plain": [
       "<matplotlib.collections.PathCollection at 0x18dbdfe0290>"
      ]
     },
     "execution_count": 30,
     "metadata": {},
     "output_type": "execute_result"
    },
    {
     "data": {
      "text/plain": [
       "[<matplotlib.lines.Line2D at 0x18dbdfd0b10>]"
      ]
     },
     "execution_count": 30,
     "metadata": {},
     "output_type": "execute_result"
    },
    {
     "data": {
      "text/plain": [
       "Text(0.5, 0, '인구수')"
      ]
     },
     "execution_count": 30,
     "metadata": {},
     "output_type": "execute_result"
    },
    {
     "data": {
      "text/plain": [
       "Text(0, 0.5, '구별 cctv 수')"
      ]
     },
     "execution_count": 30,
     "metadata": {},
     "output_type": "execute_result"
    },
    {
     "data": {
      "text/plain": [
       "<matplotlib.legend.Legend at 0x18dbdf7b390>"
      ]
     },
     "execution_count": 30,
     "metadata": {},
     "output_type": "execute_result"
    },
    {
     "data": {
      "image/png": "[encoded data removed]",
      "text/plain": [
       "<Figure size 800x800 with 1 Axes>"
      ]
     },
     "metadata": {},
     "output_type": "display_data"
    }
   ],
   "source": [
    "# 직선을 포함한 그래프 생성\n",
    "plt.figure(figsize = (8, 8))\n",
    "plt.scatter(cctv_res['인구수'], cctv_res['소계'], s=50, label = 'cctv vs pop') # s는 점 크기 조절\n",
    "plt.plot(xs, ys, color = 'red',\n",
    "        label = f'{poly_fit[1] : .2f} + {poly_fit[0] : 4}x')\n",
    "plt.xlabel('인구수')\n",
    "plt.ylabel('구별 cctv 수')\n",
    "plt.legend(loc = 'upper left')\n",
    "plt.grid()\n",
    "plt.show()"
   ]
  },
  {
   "cell_type": "markdown",
   "id": "33847e1e",
   "metadata": {},
   "source": [
    "### 그래프 직선의 의미\n",
    "- 인구수 400000이면 적정 cctv 대수는 1500로 추정한다\n",
    "- 직선 위에 표현된 자치구는 적정 cctv 대수 이상을 보유\n",
    "- 직선 아래에 표현된 자치구는 적정 cctv 대수를 보유하지 못한 구"
   ]
  },
  {
   "cell_type": "code",
   "execution_count": 31,
   "id": "fe3e9e59",
   "metadata": {},
   "outputs": [
    {
     "data": {
      "text/plain": [
       "array([1702.55119857, 1567.51674158, 1425.83344942, 1740.86433401,\n",
       "       1650.75039317, 1474.16474662, 1561.34578424, 1339.34331951,\n",
       "       1701.26611024, 1447.08346749, 1471.09251034, 1520.63519906,\n",
       "       1494.29894874, 1422.34551701, 1564.15086953, 1404.014584  ,\n",
       "       1576.7599352 , 1814.22836898, 1598.31395267, 1509.65552407,\n",
       "       1326.81601125, 1614.90725279, 1233.10244125, 1199.04069124,\n",
       "       1522.91864903])"
      ]
     },
     "execution_count": 31,
     "metadata": {},
     "output_type": "execute_result"
    }
   ],
   "source": [
    "# 각 자치구별 적정 cctv 대수 추정\n",
    "save_cctv = poly_1d(cctv_res.인구수)\n",
    "save_cctv"
   ]
  },
  {
   "cell_type": "code",
   "execution_count": 33,
   "id": "123793d4",
   "metadata": {},
   "outputs": [
    {
     "data": {
      "text/html": [
       "<div>\n",
       "<style scoped>\n",
       "    .dataframe tbody tr th:only-of-type {\n",
       "        vertical-align: middle;\n",
       "    }\n",
       "\n",
       "    .dataframe tbody tr th {\n",
       "        vertical-align: top;\n",
       "    }\n",
       "\n",
       "    .dataframe thead th {\n",
       "        text-align: right;\n",
       "    }\n",
       "</style>\n",
       "<table border=\"1\" class=\"dataframe\">\n",
       "  <thead>\n",
       "    <tr style=\"text-align: right;\">\n",
       "      <th></th>\n",
       "      <th>소계</th>\n",
       "      <th>최근증가율</th>\n",
       "      <th>인구수</th>\n",
       "      <th>한국인</th>\n",
       "      <th>외국인</th>\n",
       "      <th>고령자</th>\n",
       "      <th>외국인비율</th>\n",
       "      <th>고령자비율</th>\n",
       "      <th>cctv비율</th>\n",
       "      <th>적정cctv수</th>\n",
       "    </tr>\n",
       "    <tr>\n",
       "      <th>구별</th>\n",
       "      <th></th>\n",
       "      <th></th>\n",
       "      <th></th>\n",
       "      <th></th>\n",
       "      <th></th>\n",
       "      <th></th>\n",
       "      <th></th>\n",
       "      <th></th>\n",
       "      <th></th>\n",
       "      <th></th>\n",
       "    </tr>\n",
       "  </thead>\n",
       "  <tbody>\n",
       "    <tr>\n",
       "      <th>강남구</th>\n",
       "      <td>3238</td>\n",
       "      <td>150.619195</td>\n",
       "      <td>570500.0</td>\n",
       "      <td>565550.0</td>\n",
       "      <td>4950.0</td>\n",
       "      <td>63167.0</td>\n",
       "      <td>0.867660</td>\n",
       "      <td>11.072217</td>\n",
       "      <td>0.567572</td>\n",
       "      <td>1702.551199</td>\n",
       "    </tr>\n",
       "    <tr>\n",
       "      <th>강동구</th>\n",
       "      <td>1010</td>\n",
       "      <td>166.490765</td>\n",
       "      <td>453233.0</td>\n",
       "      <td>449019.0</td>\n",
       "      <td>4214.0</td>\n",
       "      <td>54622.0</td>\n",
       "      <td>0.929765</td>\n",
       "      <td>12.051638</td>\n",
       "      <td>0.222843</td>\n",
       "      <td>1567.516742</td>\n",
       "    </tr>\n",
       "    <tr>\n",
       "      <th>강북구</th>\n",
       "      <td>831</td>\n",
       "      <td>125.203252</td>\n",
       "      <td>330192.0</td>\n",
       "      <td>326686.0</td>\n",
       "      <td>3506.0</td>\n",
       "      <td>54813.0</td>\n",
       "      <td>1.061806</td>\n",
       "      <td>16.600342</td>\n",
       "      <td>0.251672</td>\n",
       "      <td>1425.833449</td>\n",
       "    </tr>\n",
       "    <tr>\n",
       "      <th>강서구</th>\n",
       "      <td>911</td>\n",
       "      <td>134.793814</td>\n",
       "      <td>603772.0</td>\n",
       "      <td>597248.0</td>\n",
       "      <td>6524.0</td>\n",
       "      <td>72548.0</td>\n",
       "      <td>1.080540</td>\n",
       "      <td>12.015794</td>\n",
       "      <td>0.150885</td>\n",
       "      <td>1740.864334</td>\n",
       "    </tr>\n",
       "    <tr>\n",
       "      <th>관악구</th>\n",
       "      <td>2109</td>\n",
       "      <td>149.290780</td>\n",
       "      <td>525515.0</td>\n",
       "      <td>507203.0</td>\n",
       "      <td>18312.0</td>\n",
       "      <td>68082.0</td>\n",
       "      <td>3.484582</td>\n",
       "      <td>12.955291</td>\n",
       "      <td>0.401321</td>\n",
       "      <td>1650.750393</td>\n",
       "    </tr>\n",
       "  </tbody>\n",
       "</table>\n",
       "</div>"
      ],
      "text/plain": [
       "       소계       최근증가율       인구수       한국인      외국인      고령자     외국인비율  \\\n",
       "구별                                                                      \n",
       "강남구  3238  150.619195  570500.0  565550.0   4950.0  63167.0  0.867660   \n",
       "강동구  1010  166.490765  453233.0  449019.0   4214.0  54622.0  0.929765   \n",
       "강북구   831  125.203252  330192.0  326686.0   3506.0  54813.0  1.061806   \n",
       "강서구   911  134.793814  603772.0  597248.0   6524.0  72548.0  1.080540   \n",
       "관악구  2109  149.290780  525515.0  507203.0  18312.0  68082.0  3.484582   \n",
       "\n",
       "         고령자비율    cctv비율      적정cctv수  \n",
       "구별                                     \n",
       "강남구  11.072217  0.567572  1702.551199  \n",
       "강동구  12.051638  0.222843  1567.516742  \n",
       "강북구  16.600342  0.251672  1425.833449  \n",
       "강서구  12.015794  0.150885  1740.864334  \n",
       "관악구  12.955291  0.401321  1650.750393  "
      ]
     },
     "execution_count": 33,
     "metadata": {},
     "output_type": "execute_result"
    }
   ],
   "source": [
    "cctv_res['적정cctv수'] = save_cctv\n",
    "cctv_res.head()"
   ]
  },
  {
   "cell_type": "code",
   "execution_count": 36,
   "id": "b3c86468",
   "metadata": {},
   "outputs": [
    {
     "data": {
      "text/plain": [
       "구별\n",
       "강남구    1535.448801\n",
       "양천구     883.686047\n",
       "강서구     829.864334\n",
       "용산구     769.183989\n",
       "송파구     733.228369\n",
       "서초구     732.849130\n",
       "도봉구     622.083467\n",
       "중랑구     606.918649\n",
       "광진구     596.164747\n",
       "강북구     594.833449\n",
       "dtype: float64"
      ]
     },
     "execution_count": 36,
     "metadata": {},
     "output_type": "execute_result"
    }
   ],
   "source": [
    " (cctv_res['적정cctv수'] - cctv_res['소계']).abs().sort_values(ascending = False).head(10)"
   ]
  },
  {
   "cell_type": "code",
   "execution_count": 37,
   "id": "3614cc44",
   "metadata": {},
   "outputs": [
    {
     "data": {
      "text/html": [
       "<div>\n",
       "<style scoped>\n",
       "    .dataframe tbody tr th:only-of-type {\n",
       "        vertical-align: middle;\n",
       "    }\n",
       "\n",
       "    .dataframe tbody tr th {\n",
       "        vertical-align: top;\n",
       "    }\n",
       "\n",
       "    .dataframe thead th {\n",
       "        text-align: right;\n",
       "    }\n",
       "</style>\n",
       "<table border=\"1\" class=\"dataframe\">\n",
       "  <thead>\n",
       "    <tr style=\"text-align: right;\">\n",
       "      <th></th>\n",
       "      <th>소계</th>\n",
       "      <th>최근증가율</th>\n",
       "      <th>인구수</th>\n",
       "      <th>한국인</th>\n",
       "      <th>외국인</th>\n",
       "      <th>고령자</th>\n",
       "      <th>외국인비율</th>\n",
       "      <th>고령자비율</th>\n",
       "      <th>cctv비율</th>\n",
       "      <th>적정cctv수</th>\n",
       "      <th>오차</th>\n",
       "    </tr>\n",
       "    <tr>\n",
       "      <th>구별</th>\n",
       "      <th></th>\n",
       "      <th></th>\n",
       "      <th></th>\n",
       "      <th></th>\n",
       "      <th></th>\n",
       "      <th></th>\n",
       "      <th></th>\n",
       "      <th></th>\n",
       "      <th></th>\n",
       "      <th></th>\n",
       "      <th></th>\n",
       "    </tr>\n",
       "  </thead>\n",
       "  <tbody>\n",
       "    <tr>\n",
       "      <th>강남구</th>\n",
       "      <td>3238</td>\n",
       "      <td>150.619195</td>\n",
       "      <td>570500.0</td>\n",
       "      <td>565550.0</td>\n",
       "      <td>4950.0</td>\n",
       "      <td>63167.0</td>\n",
       "      <td>0.867660</td>\n",
       "      <td>11.072217</td>\n",
       "      <td>0.567572</td>\n",
       "      <td>1702.551199</td>\n",
       "      <td>1535.448801</td>\n",
       "    </tr>\n",
       "    <tr>\n",
       "      <th>강동구</th>\n",
       "      <td>1010</td>\n",
       "      <td>166.490765</td>\n",
       "      <td>453233.0</td>\n",
       "      <td>449019.0</td>\n",
       "      <td>4214.0</td>\n",
       "      <td>54622.0</td>\n",
       "      <td>0.929765</td>\n",
       "      <td>12.051638</td>\n",
       "      <td>0.222843</td>\n",
       "      <td>1567.516742</td>\n",
       "      <td>557.516742</td>\n",
       "    </tr>\n",
       "    <tr>\n",
       "      <th>강북구</th>\n",
       "      <td>831</td>\n",
       "      <td>125.203252</td>\n",
       "      <td>330192.0</td>\n",
       "      <td>326686.0</td>\n",
       "      <td>3506.0</td>\n",
       "      <td>54813.0</td>\n",
       "      <td>1.061806</td>\n",
       "      <td>16.600342</td>\n",
       "      <td>0.251672</td>\n",
       "      <td>1425.833449</td>\n",
       "      <td>594.833449</td>\n",
       "    </tr>\n",
       "    <tr>\n",
       "      <th>강서구</th>\n",
       "      <td>911</td>\n",
       "      <td>134.793814</td>\n",
       "      <td>603772.0</td>\n",
       "      <td>597248.0</td>\n",
       "      <td>6524.0</td>\n",
       "      <td>72548.0</td>\n",
       "      <td>1.080540</td>\n",
       "      <td>12.015794</td>\n",
       "      <td>0.150885</td>\n",
       "      <td>1740.864334</td>\n",
       "      <td>829.864334</td>\n",
       "    </tr>\n",
       "    <tr>\n",
       "      <th>관악구</th>\n",
       "      <td>2109</td>\n",
       "      <td>149.290780</td>\n",
       "      <td>525515.0</td>\n",
       "      <td>507203.0</td>\n",
       "      <td>18312.0</td>\n",
       "      <td>68082.0</td>\n",
       "      <td>3.484582</td>\n",
       "      <td>12.955291</td>\n",
       "      <td>0.401321</td>\n",
       "      <td>1650.750393</td>\n",
       "      <td>458.249607</td>\n",
       "    </tr>\n",
       "  </tbody>\n",
       "</table>\n",
       "</div>"
      ],
      "text/plain": [
       "       소계       최근증가율       인구수       한국인      외국인      고령자     외국인비율  \\\n",
       "구별                                                                      \n",
       "강남구  3238  150.619195  570500.0  565550.0   4950.0  63167.0  0.867660   \n",
       "강동구  1010  166.490765  453233.0  449019.0   4214.0  54622.0  0.929765   \n",
       "강북구   831  125.203252  330192.0  326686.0   3506.0  54813.0  1.061806   \n",
       "강서구   911  134.793814  603772.0  597248.0   6524.0  72548.0  1.080540   \n",
       "관악구  2109  149.290780  525515.0  507203.0  18312.0  68082.0  3.484582   \n",
       "\n",
       "         고령자비율    cctv비율      적정cctv수           오차  \n",
       "구별                                                  \n",
       "강남구  11.072217  0.567572  1702.551199  1535.448801  \n",
       "강동구  12.051638  0.222843  1567.516742   557.516742  \n",
       "강북구  16.600342  0.251672  1425.833449   594.833449  \n",
       "강서구  12.015794  0.150885  1740.864334   829.864334  \n",
       "관악구  12.955291  0.401321  1650.750393   458.249607  "
      ]
     },
     "execution_count": 37,
     "metadata": {},
     "output_type": "execute_result"
    }
   ],
   "source": [
    "cctv_res['오차'] = np.abs(cctv_res['적정cctv수'] - cctv_res['소계'])\n",
    "cctv_res.head()"
   ]
  },
  {
   "cell_type": "code",
   "execution_count": 39,
   "id": "9578dc27",
   "metadata": {},
   "outputs": [
    {
     "data": {
      "text/html": [
       "<div>\n",
       "<style scoped>\n",
       "    .dataframe tbody tr th:only-of-type {\n",
       "        vertical-align: middle;\n",
       "    }\n",
       "\n",
       "    .dataframe tbody tr th {\n",
       "        vertical-align: top;\n",
       "    }\n",
       "\n",
       "    .dataframe thead th {\n",
       "        text-align: right;\n",
       "    }\n",
       "</style>\n",
       "<table border=\"1\" class=\"dataframe\">\n",
       "  <thead>\n",
       "    <tr style=\"text-align: right;\">\n",
       "      <th></th>\n",
       "      <th>소계</th>\n",
       "      <th>최근증가율</th>\n",
       "      <th>인구수</th>\n",
       "      <th>한국인</th>\n",
       "      <th>외국인</th>\n",
       "      <th>고령자</th>\n",
       "      <th>외국인비율</th>\n",
       "      <th>고령자비율</th>\n",
       "      <th>cctv비율</th>\n",
       "      <th>적정cctv수</th>\n",
       "      <th>오차</th>\n",
       "    </tr>\n",
       "    <tr>\n",
       "      <th>구별</th>\n",
       "      <th></th>\n",
       "      <th></th>\n",
       "      <th></th>\n",
       "      <th></th>\n",
       "      <th></th>\n",
       "      <th></th>\n",
       "      <th></th>\n",
       "      <th></th>\n",
       "      <th></th>\n",
       "      <th></th>\n",
       "      <th></th>\n",
       "    </tr>\n",
       "  </thead>\n",
       "  <tbody>\n",
       "    <tr>\n",
       "      <th>강남구</th>\n",
       "      <td>3238</td>\n",
       "      <td>150.619195</td>\n",
       "      <td>570500.0</td>\n",
       "      <td>565550.0</td>\n",
       "      <td>4950.0</td>\n",
       "      <td>63167.0</td>\n",
       "      <td>0.867660</td>\n",
       "      <td>11.072217</td>\n",
       "      <td>0.567572</td>\n",
       "      <td>1702.551199</td>\n",
       "      <td>1535.448801</td>\n",
       "    </tr>\n",
       "    <tr>\n",
       "      <th>양천구</th>\n",
       "      <td>2482</td>\n",
       "      <td>34.671731</td>\n",
       "      <td>479978.0</td>\n",
       "      <td>475949.0</td>\n",
       "      <td>4029.0</td>\n",
       "      <td>52975.0</td>\n",
       "      <td>0.839413</td>\n",
       "      <td>11.036964</td>\n",
       "      <td>0.517107</td>\n",
       "      <td>1598.313953</td>\n",
       "      <td>883.686047</td>\n",
       "    </tr>\n",
       "    <tr>\n",
       "      <th>강서구</th>\n",
       "      <td>911</td>\n",
       "      <td>134.793814</td>\n",
       "      <td>603772.0</td>\n",
       "      <td>597248.0</td>\n",
       "      <td>6524.0</td>\n",
       "      <td>72548.0</td>\n",
       "      <td>1.080540</td>\n",
       "      <td>12.015794</td>\n",
       "      <td>0.150885</td>\n",
       "      <td>1740.864334</td>\n",
       "      <td>829.864334</td>\n",
       "    </tr>\n",
       "    <tr>\n",
       "      <th>용산구</th>\n",
       "      <td>2096</td>\n",
       "      <td>53.216374</td>\n",
       "      <td>244203.0</td>\n",
       "      <td>229456.0</td>\n",
       "      <td>14747.0</td>\n",
       "      <td>36231.0</td>\n",
       "      <td>6.038828</td>\n",
       "      <td>14.836427</td>\n",
       "      <td>0.858302</td>\n",
       "      <td>1326.816011</td>\n",
       "      <td>769.183989</td>\n",
       "    </tr>\n",
       "    <tr>\n",
       "      <th>송파구</th>\n",
       "      <td>1081</td>\n",
       "      <td>104.347826</td>\n",
       "      <td>667483.0</td>\n",
       "      <td>660584.0</td>\n",
       "      <td>6899.0</td>\n",
       "      <td>72506.0</td>\n",
       "      <td>1.033584</td>\n",
       "      <td>10.862599</td>\n",
       "      <td>0.161952</td>\n",
       "      <td>1814.228369</td>\n",
       "      <td>733.228369</td>\n",
       "    </tr>\n",
       "    <tr>\n",
       "      <th>서초구</th>\n",
       "      <td>2297</td>\n",
       "      <td>63.371266</td>\n",
       "      <td>450310.0</td>\n",
       "      <td>445994.0</td>\n",
       "      <td>4316.0</td>\n",
       "      <td>51733.0</td>\n",
       "      <td>0.958451</td>\n",
       "      <td>11.488308</td>\n",
       "      <td>0.510093</td>\n",
       "      <td>1564.150870</td>\n",
       "      <td>732.849130</td>\n",
       "    </tr>\n",
       "    <tr>\n",
       "      <th>도봉구</th>\n",
       "      <td>825</td>\n",
       "      <td>246.638655</td>\n",
       "      <td>348646.0</td>\n",
       "      <td>346629.0</td>\n",
       "      <td>2017.0</td>\n",
       "      <td>51312.0</td>\n",
       "      <td>0.578524</td>\n",
       "      <td>14.717507</td>\n",
       "      <td>0.236630</td>\n",
       "      <td>1447.083467</td>\n",
       "      <td>622.083467</td>\n",
       "    </tr>\n",
       "    <tr>\n",
       "      <th>중랑구</th>\n",
       "      <td>916</td>\n",
       "      <td>79.960707</td>\n",
       "      <td>414503.0</td>\n",
       "      <td>409882.0</td>\n",
       "      <td>4621.0</td>\n",
       "      <td>56774.0</td>\n",
       "      <td>1.114829</td>\n",
       "      <td>13.696885</td>\n",
       "      <td>0.220988</td>\n",
       "      <td>1522.918649</td>\n",
       "      <td>606.918649</td>\n",
       "    </tr>\n",
       "    <tr>\n",
       "      <th>광진구</th>\n",
       "      <td>878</td>\n",
       "      <td>53.228621</td>\n",
       "      <td>372164.0</td>\n",
       "      <td>357211.0</td>\n",
       "      <td>14953.0</td>\n",
       "      <td>42214.0</td>\n",
       "      <td>4.017852</td>\n",
       "      <td>11.342849</td>\n",
       "      <td>0.235917</td>\n",
       "      <td>1474.164747</td>\n",
       "      <td>596.164747</td>\n",
       "    </tr>\n",
       "    <tr>\n",
       "      <th>강북구</th>\n",
       "      <td>831</td>\n",
       "      <td>125.203252</td>\n",
       "      <td>330192.0</td>\n",
       "      <td>326686.0</td>\n",
       "      <td>3506.0</td>\n",
       "      <td>54813.0</td>\n",
       "      <td>1.061806</td>\n",
       "      <td>16.600342</td>\n",
       "      <td>0.251672</td>\n",
       "      <td>1425.833449</td>\n",
       "      <td>594.833449</td>\n",
       "    </tr>\n",
       "  </tbody>\n",
       "</table>\n",
       "</div>"
      ],
      "text/plain": [
       "       소계       최근증가율       인구수       한국인      외국인      고령자     외국인비율  \\\n",
       "구별                                                                      \n",
       "강남구  3238  150.619195  570500.0  565550.0   4950.0  63167.0  0.867660   \n",
       "양천구  2482   34.671731  479978.0  475949.0   4029.0  52975.0  0.839413   \n",
       "강서구   911  134.793814  603772.0  597248.0   6524.0  72548.0  1.080540   \n",
       "용산구  2096   53.216374  244203.0  229456.0  14747.0  36231.0  6.038828   \n",
       "송파구  1081  104.347826  667483.0  660584.0   6899.0  72506.0  1.033584   \n",
       "서초구  2297   63.371266  450310.0  445994.0   4316.0  51733.0  0.958451   \n",
       "도봉구   825  246.638655  348646.0  346629.0   2017.0  51312.0  0.578524   \n",
       "중랑구   916   79.960707  414503.0  409882.0   4621.0  56774.0  1.114829   \n",
       "광진구   878   53.228621  372164.0  357211.0  14953.0  42214.0  4.017852   \n",
       "강북구   831  125.203252  330192.0  326686.0   3506.0  54813.0  1.061806   \n",
       "\n",
       "         고령자비율    cctv비율      적정cctv수           오차  \n",
       "구별                                                  \n",
       "강남구  11.072217  0.567572  1702.551199  1535.448801  \n",
       "양천구  11.036964  0.517107  1598.313953   883.686047  \n",
       "강서구  12.015794  0.150885  1740.864334   829.864334  \n",
       "용산구  14.836427  0.858302  1326.816011   769.183989  \n",
       "송파구  10.862599  0.161952  1814.228369   733.228369  \n",
       "서초구  11.488308  0.510093  1564.150870   732.849130  \n",
       "도봉구  14.717507  0.236630  1447.083467   622.083467  \n",
       "중랑구  13.696885  0.220988  1522.918649   606.918649  \n",
       "광진구  11.342849  0.235917  1474.164747   596.164747  \n",
       "강북구  16.600342  0.251672  1425.833449   594.833449  "
      ]
     },
     "execution_count": 39,
     "metadata": {},
     "output_type": "execute_result"
    }
   ],
   "source": [
    "# 오차열 기준으로 내림차순 정렬한 df 생성\n",
    "df_sort = cctv_res.sort_values(by = '오차', ascending = False)\n",
    "df_sort.head(10)"
   ]
  },
  {
   "cell_type": "markdown",
   "id": "f73cb3b9",
   "metadata": {},
   "source": [
    "### 오차가 큰 상위 10개도시 표시\n",
    "- 그래프에 글자(text)출력 함수\n",
    "    - plt.text(x좌표, y좌표, 표시글자, fontsize)\n",
    "    - scatter보다 약간 오른쪽 아래에 출력되도록 좌표를 변경\n",
    "        - x좌표(인구수) * 1.02, y좌표(소계) X 0.98"
   ]
  },
  {
   "cell_type": "code",
   "execution_count": 50,
   "id": "12fe9787",
   "metadata": {},
   "outputs": [
    {
     "data": {
      "text/plain": [
       "<Figure size 800x800 with 0 Axes>"
      ]
     },
     "execution_count": 50,
     "metadata": {},
     "output_type": "execute_result"
    },
    {
     "data": {
      "text/plain": [
       "<matplotlib.collections.PathCollection at 0x18dc1ab60d0>"
      ]
     },
     "execution_count": 50,
     "metadata": {},
     "output_type": "execute_result"
    },
    {
     "data": {
      "text/plain": [
       "[<matplotlib.lines.Line2D at 0x18dc2317310>]"
      ]
     },
     "execution_count": 50,
     "metadata": {},
     "output_type": "execute_result"
    },
    {
     "data": {
      "text/plain": [
       "Text(581910.0, 3173.24, '강남구')"
      ]
     },
     "execution_count": 50,
     "metadata": {},
     "output_type": "execute_result"
    },
    {
     "data": {
      "text/plain": [
       "Text(489577.56, 2432.36, '양천구')"
      ]
     },
     "execution_count": 50,
     "metadata": {},
     "output_type": "execute_result"
    },
    {
     "data": {
      "text/plain": [
       "Text(615847.4400000001, 892.78, '강서구')"
      ]
     },
     "execution_count": 50,
     "metadata": {},
     "output_type": "execute_result"
    },
    {
     "data": {
      "text/plain": [
       "Text(249087.06, 2054.08, '용산구')"
      ]
     },
     "execution_count": 50,
     "metadata": {},
     "output_type": "execute_result"
    },
    {
     "data": {
      "text/plain": [
       "Text(680832.66, 1059.3799999999999, '송파구')"
      ]
     },
     "execution_count": 50,
     "metadata": {},
     "output_type": "execute_result"
    },
    {
     "data": {
      "text/plain": [
       "Text(459316.2, 2251.06, '서초구')"
      ]
     },
     "execution_count": 50,
     "metadata": {},
     "output_type": "execute_result"
    },
    {
     "data": {
      "text/plain": [
       "Text(355618.92, 808.5, '도봉구')"
      ]
     },
     "execution_count": 50,
     "metadata": {},
     "output_type": "execute_result"
    },
    {
     "data": {
      "text/plain": [
       "Text(422793.06, 897.68, '중랑구')"
      ]
     },
     "execution_count": 50,
     "metadata": {},
     "output_type": "execute_result"
    },
    {
     "data": {
      "text/plain": [
       "Text(379607.28, 860.4399999999999, '광진구')"
      ]
     },
     "execution_count": 50,
     "metadata": {},
     "output_type": "execute_result"
    },
    {
     "data": {
      "text/plain": [
       "Text(336795.84, 814.38, '강북구')"
      ]
     },
     "execution_count": 50,
     "metadata": {},
     "output_type": "execute_result"
    },
    {
     "data": {
      "text/plain": [
       "Text(0.5, 0, '인구수')"
      ]
     },
     "execution_count": 50,
     "metadata": {},
     "output_type": "execute_result"
    },
    {
     "data": {
      "text/plain": [
       "Text(0, 0.5, '구별 cctv 수')"
      ]
     },
     "execution_count": 50,
     "metadata": {},
     "output_type": "execute_result"
    },
    {
     "data": {
      "text/plain": [
       "<matplotlib.legend.Legend at 0x18dc166d210>"
      ]
     },
     "execution_count": 50,
     "metadata": {},
     "output_type": "execute_result"
    },
    {
     "data": {
      "text/plain": [
       "<matplotlib.colorbar.Colorbar at 0x18dc233c710>"
      ]
     },
     "execution_count": 50,
     "metadata": {},
     "output_type": "execute_result"
    },
    {
     "data": {
      "image/png": "[encoded data removed]",
      "text/plain": [
       "<Figure size 800x800 with 2 Axes>"
      ]
     },
     "metadata": {},
     "output_type": "display_data"
    }
   ],
   "source": [
    "# 직선을 포함한 그래프 생성 - 오차가 큰 자치구 표시\n",
    "plt.figure(figsize = (8, 8))\n",
    "plt.scatter(cctv_res['인구수'], cctv_res['소계'], s=50, label = 'cctv vs pop', c = cctv_res['오차'])\n",
    "# s는 점 크기 조절, c는 색상 조절 \n",
    "plt.plot(xs, ys, \n",
    "         ls = 'dashed', lw = 3, color = 'g',\n",
    "         label = f'{poly_fit[1] : .2f} + {poly_fit[0] : 4}x')\n",
    "\n",
    "for n in range(10): # 오차가 큰 상위 10개 자치구 표시\n",
    "    plt.text(df_sort['인구수'][n] * 1.02, df_sort['소계'][n] * 0.98, df_sort.index[n], fontsize = 10)\n",
    "plt.xlabel('인구수')\n",
    "\n",
    "plt.ylabel('구별 cctv 수')\n",
    "plt.legend(loc = 'upper left')\n",
    "plt.colorbar(label = '오차')\n",
    "plt.grid()\n",
    "plt.show()"
   ]
  }
 ],
 "metadata": {
  "kernelspec": {
   "display_name": "Python 3 (ipykernel)",
   "language": "python",
   "name": "python3"
  },
  "language_info": {
   "codemirror_mode": {
    "name": "ipython",
    "version": 3
   },
   "file_extension": ".py",
   "mimetype": "text/x-python",
   "name": "python",
   "nbconvert_exporter": "python",
   "pygments_lexer": "ipython3",
   "version": "3.11.5"
  }
 },
 "nbformat": 4,
 "nbformat_minor": 5
}
