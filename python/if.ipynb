{
 "cells": [
  {
   "cell_type": "markdown",
   "metadata": {},
   "source": [
    "# if 구문"
   ]
  },
  {
   "cell_type": "code",
   "execution_count": 1,
   "metadata": {},
   "outputs": [
    {
     "name": "stdout",
     "output_type": "stream",
     "text": [
      "<class 'bool'>\n",
      "<class 'bool'>\n"
     ]
    }
   ],
   "source": [
    "# 기본 형식\n",
    "print(type(True)) # 0이 아닌 수, 'abc', [1, 2, 3] ...\n",
    "print(type(False)) # 0, \"\", [], (), {} ..."
   ]
  },
  {
   "cell_type": "code",
   "execution_count": 4,
   "metadata": {},
   "outputs": [
    {
     "name": "stdout",
     "output_type": "stream",
     "text": [
      "good\n"
     ]
    }
   ],
   "source": [
    "# if 조건식 :\n",
    "    # print()\n",
    "\n",
    "if 'a':\n",
    "    print('good')\n",
    "\n",
    "if False:\n",
    "    print('bad')  # False라 출력이 안됨"
   ]
  },
  {
   "cell_type": "code",
   "execution_count": 5,
   "metadata": {},
   "outputs": [
    {
     "name": "stdout",
     "output_type": "stream",
     "text": [
      "Good\n"
     ]
    }
   ],
   "source": [
    "if False :\n",
    "    print('Bad')\n",
    "else :\n",
    "    print('Good')"
   ]
  },
  {
   "cell_type": "code",
   "execution_count": 8,
   "metadata": {},
   "outputs": [
    {
     "name": "stdout",
     "output_type": "stream",
     "text": [
      "False\n",
      "True\n",
      "True\n",
      "True\n",
      "False\n",
      "False\n"
     ]
    }
   ],
   "source": [
    "# 관계 연산자\n",
    "# >, >=, <, <=, ==, !=\n",
    "\n",
    "x = 15\n",
    "y = 10\n",
    "\n",
    "# 양 변이 같을때 True\n",
    "print(x == y)\n",
    "\n",
    "# 양 변이 다를 때 True\n",
    "print(x != y)\n",
    "\n",
    "print(x > y)\n",
    "\n",
    "print(x >= y)\n",
    "\n",
    "print(x < y)\n",
    "\n",
    "print( x <= y)\n"
   ]
  },
  {
   "cell_type": "code",
   "execution_count": 9,
   "metadata": {},
   "outputs": [
    {
     "name": "stdout",
     "output_type": "stream",
     "text": [
      "Please enter your city\n"
     ]
    }
   ],
   "source": [
    "city = \"\"\n",
    "\n",
    "if city :\n",
    "    print(\"You are in:\", city)\n",
    "else :\n",
    "    print(\"Please enter your city\")"
   ]
  },
  {
   "cell_type": "code",
   "execution_count": 11,
   "metadata": {},
   "outputs": [
    {
     "name": "stdout",
     "output_type": "stream",
     "text": [
      "You are in: Incheon\n"
     ]
    }
   ],
   "source": [
    "city2 = \"Incheon\"\n",
    "\n",
    "if city2 :\n",
    "    print(\"You are in:\", city2)\n",
    "else :\n",
    "    print(\"Please enter your city\")"
   ]
  },
  {
   "cell_type": "code",
   "execution_count": 15,
   "metadata": {},
   "outputs": [
    {
     "name": "stdout",
     "output_type": "stream",
     "text": [
      "and : True\n",
      "or : True\n",
      "not : False\n",
      "False\n"
     ]
    }
   ],
   "source": [
    "# 논리 연산자\n",
    "# and, or, not\n",
    "\n",
    "a = 75\n",
    "b = 40\n",
    "c = 10\n",
    "\n",
    "print('and :', a > b and b > c) # a > b > c \n",
    "print('or :', a > b or b > c)\n",
    "print('not :', not a > b) # 반대로 출력\n",
    "print(not True)"
   ]
  },
  {
   "cell_type": "code",
   "execution_count": 23,
   "metadata": {},
   "outputs": [
    {
     "name": "stdout",
     "output_type": "stream",
     "text": [
      "e1 : True\n",
      "e2 : False\n",
      "e3 : True\n",
      "e4 : False\n"
     ]
    }
   ],
   "source": [
    "# 산술, 관계, 논리 우선순위\n",
    "print('e1 :', 3+12 > 7+3)\n",
    "print('e2 :', 5 + 10 * 3 > 7 + 3 * 20)\n",
    "print('e3 :', 5 + 10 > 3 and 7 + 3 == 10)\n",
    "print('e4 :', 5 + 10 > 0 and not 7 + 3 == 10)"
   ]
  },
  {
   "cell_type": "code",
   "execution_count": 24,
   "metadata": {},
   "outputs": [
    {
     "name": "stdout",
     "output_type": "stream",
     "text": [
      "Pass\n"
     ]
    }
   ],
   "source": [
    "score1 = 90\n",
    "score2 = 'A'\n",
    "\n",
    "# 복수의 조건이 모두 참일 경우에 실행\n",
    "if score1 >= 90 and score2 == 'A' :\n",
    "    print('Pass')\n",
    "else :\n",
    "    print('Fail')"
   ]
  },
  {
   "cell_type": "code",
   "execution_count": 26,
   "metadata": {},
   "outputs": [
    {
     "name": "stdout",
     "output_type": "stream",
     "text": [
      "관리자 입장\n",
      "최상위 관리자\n"
     ]
    }
   ],
   "source": [
    "id1 = 'vip'\n",
    "id2 = 'admin'\n",
    "grade = 'platinum'\n",
    "\n",
    "if id1 == 'vip' or id2 == 'admin' :\n",
    "    print('관리자 입장')\n",
    "\n",
    "\n",
    "if id2 == 'admin' and grade == 'platinum' :\n",
    "    print('최상위 관리자')"
   ]
  },
  {
   "cell_type": "code",
   "execution_count": 28,
   "metadata": {},
   "outputs": [
    {
     "name": "stdout",
     "output_type": "stream",
     "text": [
      "Grade : F\n"
     ]
    }
   ],
   "source": [
    "# 다중 조건문\n",
    "\n",
    "num = 60\n",
    "\n",
    "if num >= 90 :\n",
    "    print('Grade : A')\n",
    "elif num >= 80 :\n",
    "    print('Grade : B')\n",
    "elif num >= 70 :\n",
    "    print('Grade : C')\n",
    "else:\n",
    "    print('Grade : F')"
   ]
  },
  {
   "cell_type": "code",
   "execution_count": 32,
   "metadata": {},
   "outputs": [
    {
     "name": "stdout",
     "output_type": "stream",
     "text": [
      "장학금 50%\n"
     ]
    }
   ],
   "source": [
    "# 중첩 조건문\n",
    "\n",
    "grade = 'A'\n",
    "total = 75\n",
    "\n",
    "if grade == 'A' :\n",
    "    if total >= 90 :\n",
    "        print('장학금 100%')\n",
    "    elif total >= 80 :\n",
    "        print('장학금 80%')\n",
    "    else :\n",
    "        print('장학금 50%')\n",
    "else :\n",
    "    print('장학금 0%')"
   ]
  },
  {
   "cell_type": "code",
   "execution_count": 43,
   "metadata": {},
   "outputs": [
    {
     "name": "stdout",
     "output_type": "stream",
     "text": [
      "False\n",
      "True\n",
      "False\n",
      "True\n",
      "True\n"
     ]
    }
   ],
   "source": [
    "# in, not in\n",
    "\n",
    "q = [10, 20, 30]\n",
    "w = {70, 80, 90, 100}\n",
    "e = {'name' : 'sungwoo',\n",
    "     'city' : 'incheon',\n",
    "     'grade' : 'A'}\n",
    "r = (10, 12, 14)\n",
    "\n",
    "print(15 in q)\n",
    "print(90 in w)\n",
    "print(12 not in r)\n",
    "print('name' in e)\n",
    "print('incheon' in e.values())"
   ]
  }
 ],
 "metadata": {
  "kernelspec": {
   "display_name": "Python 3",
   "language": "python",
   "name": "python3"
  },
  "language_info": {
   "codemirror_mode": {
    "name": "ipython",
    "version": 3
   },
   "file_extension": ".py",
   "mimetype": "text/x-python",
   "name": "python",
   "nbconvert_exporter": "python",
   "pygments_lexer": "ipython3",
   "version": "3.10.10"
  }
 },
 "nbformat": 4,
 "nbformat_minor": 2
}
