{
 "cells": [
  {
   "cell_type": "markdown",
   "metadata": {},
   "source": [
    "# 파이썬 리스트\n",
    "- 자료구조에서 중요\n",
    "- 리스트 자료형(순서O, 중복O, 수정O, 삭제O)"
   ]
  },
  {
   "cell_type": "code",
   "execution_count": 47,
   "metadata": {},
   "outputs": [
    {
     "name": "stdout",
     "output_type": "stream",
     "text": [
      "<class 'list'>\n",
      "4\n"
     ]
    }
   ],
   "source": [
    "# 선언\n",
    "a = []\n",
    "b = list()\n",
    "print(type(a))\n",
    "\n",
    "c = [70, 75, 80, 85] # 0부터 3까지\n",
    "print(len(c))\n",
    "\n",
    "d = [1000, 10000, 'Ace', 'Base', 'Captine']\n",
    "e = [1000, 10000, ['Ace', 'Base', 'Captine']] # 리스트 안에 리스트\n",
    "f = [21.42, 'sungwoo', 3, 4, False, 3.14159]"
   ]
  },
  {
   "cell_type": "code",
   "execution_count": 14,
   "metadata": {},
   "outputs": [
    {
     "name": "stdout",
     "output_type": "stream",
     "text": [
      "d =  <class 'list'>\n",
      "d[1] =  10000\n",
      "d[0] + d[1] =  11000\n",
      "e -  Base\n",
      "e -  <class 'str'>\n",
      "e -  ['B', 'a', 's', 'e']\n"
     ]
    }
   ],
   "source": [
    "# 인덱싱\n",
    "print('d = ', type(d))\n",
    "print('d[1] = ', d[1])\n",
    "print('d[0] + d[1] = ', d[0] + d[1])\n",
    "\n",
    "print('e - ', e[-1][1])\n",
    "print('e - ', type(e[-1][1]))\n",
    "print('e - ', list(e[-1][1]))"
   ]
  },
  {
   "cell_type": "code",
   "execution_count": 19,
   "metadata": {},
   "outputs": [
    {
     "name": "stdout",
     "output_type": "stream",
     "text": [
      "d -  [1000, 10000, 'Ace']\n",
      "d -  ['Ace', 'Base', 'Captine']\n",
      "e -  ['Base', 'Captine']\n"
     ]
    }
   ],
   "source": [
    "# 슬라이싱\n",
    "print('d - ', d[0:3])\n",
    "print('d - ', d[2:])\n",
    "print('e - ', e[-1][1:3])"
   ]
  },
  {
   "cell_type": "code",
   "execution_count": 26,
   "metadata": {},
   "outputs": [
    {
     "name": "stdout",
     "output_type": "stream",
     "text": [
      "c + d =  [70, 75, 80, 85, 1000, 10000, 'Ace', 'Base', 'Captine']\n",
      "c * 3 =  [70, 75, 80, 85, 70, 75, 80, 85, 70, 75, 80, 85]\n",
      "'Test' + c[0] Test70\n"
     ]
    }
   ],
   "source": [
    "# 리스트 연산\n",
    "print('c + d = ', c + d)\n",
    "print('c * 3 = ', c * 3)\n",
    "# print(\"'Test' + c[0]\", \"Test\" + c[0])  TypeError: can only concatenate str (not \"int\") to str 앞에는 문자라 오류가 난다\n",
    "print(\"'Test' + c[0]\", \"Test\" + str(c[0]))"
   ]
  },
  {
   "cell_type": "code",
   "execution_count": 31,
   "metadata": {},
   "outputs": [
    {
     "name": "stdout",
     "output_type": "stream",
     "text": [
      "True\n",
      "[70, 75, 80, 85]\n",
      "[70, 75, 80, 85]\n"
     ]
    }
   ],
   "source": [
    "# 값 비교\n",
    "print(c == c[:3] + c[3:])\n",
    "print(c)\n",
    "print(c[:3] + c[3:])"
   ]
  },
  {
   "cell_type": "code",
   "execution_count": 36,
   "metadata": {},
   "outputs": [
    {
     "name": "stdout",
     "output_type": "stream",
     "text": [
      "[70, 75, 80, 85] [70, 75, 80, 85]\n",
      "1463899070528\n",
      "1463899070528\n"
     ]
    }
   ],
   "source": [
    "# Identity(id)\n",
    "temp = c\n",
    "print(temp, c)\n",
    "print(id(temp))\n",
    "print(id(c))"
   ]
  },
  {
   "cell_type": "code",
   "execution_count": 49,
   "metadata": {},
   "outputs": [
    {
     "name": "stdout",
     "output_type": "stream",
     "text": [
      "c =  [4, ['a', 'b', 'c'], 'b', 'c', 80, 85]\n",
      "c =  [4, 'a', 'b', 'c', 'b', 'c', 80, 85]\n",
      "c =  [4, ['a', 'b', 'c'], 'b', 'c', 'b', 'c', 80, 85]\n",
      "[4, ['a', 'b', 'c'], 'c', 'b', 'c', 80, 85]\n"
     ]
    }
   ],
   "source": [
    "# 리스트 수정, 삭제\n",
    "c[0] = 4 # 수정\n",
    "print('c = ', c)\n",
    "\n",
    "c[1:2] = ['a', 'b', 'c'] # 아래와 차이점은 구조가 다르다\n",
    "print('c = ', c)\n",
    "\n",
    "c[1] = ['a', 'b', 'c']\n",
    "print('c = ', c)\n"
   ]
  },
  {
   "cell_type": "code",
   "execution_count": 69,
   "metadata": {},
   "outputs": [
    {
     "name": "stdout",
     "output_type": "stream",
     "text": [
      "a = [5, 2, 3, 1, 4]\n",
      "a = [5, 2, 3, 1, 4, 10]\n",
      "a = [1, 2, 3, 4, 5, 10]\n",
      "a = [10, 5, 4, 3, 2, 1]\n",
      "a = 3\n",
      "a = [10, 5, 7, 4, 3, 2, 1]\n",
      "a = [5, 7, 4, 3, 2, 1]\n",
      "1\n",
      "a = [5, 7, 4, 3, 2]\n",
      "1\n"
     ]
    }
   ],
   "source": [
    "# 리스트 함수\n",
    "a = [5, 2, 3, 1, 4]\n",
    "\n",
    "print('a =', a)\n",
    "\n",
    "a.append(10) # append() 끝부분에 추가시키는 함수\n",
    "print('a =', a)\n",
    "\n",
    "a.sort() # 오름차순으로 정렬\n",
    "print('a =', a)\n",
    "\n",
    "a.reverse() # 반대로 위치를 바꿈\n",
    "print('a =', a)\n",
    "\n",
    "print('a =', a.index(3))\n",
    "\n",
    "a.insert(2, 7) # 3번째 위치에 7 삽입하고 뒤로 밀림\n",
    "print('a =', a) \n",
    "\n",
    "a.remove(10) # 제거\n",
    "print('a =', a)\n",
    "\n",
    "print( a.pop()) # pop() 끝에 있는 원소를 꺼내오고 기존의 리스트에서 그것을 제거한다.\n",
    "print('a =', a)\n",
    "\n",
    "print( a.count(4)) # 4의 갯수"
   ]
  },
  {
   "cell_type": "code",
   "execution_count": 70,
   "metadata": {},
   "outputs": [
    {
     "name": "stdout",
     "output_type": "stream",
     "text": [
      "a = [5, 7, 4, 3, 2, 8, 9]\n"
     ]
    }
   ],
   "source": [
    "ex = [8, 9]\n",
    "a.extend(ex) # 새로 삽입\n",
    "print('a =', a)\n",
    "\n",
    "# 삭제 : remove, pop, del 이중에선 remove를 가장 많이 사용"
   ]
  },
  {
   "cell_type": "code",
   "execution_count": 71,
   "metadata": {},
   "outputs": [
    {
     "name": "stdout",
     "output_type": "stream",
     "text": [
      "9\n",
      "8\n",
      "2\n",
      "3\n",
      "4\n",
      "7\n",
      "5\n"
     ]
    }
   ],
   "source": [
    "# 반복문 활용\n",
    "while a :\n",
    "    data = a.pop()\n",
    "    print(data)"
   ]
  }
 ],
 "metadata": {
  "kernelspec": {
   "display_name": "Python 3",
   "language": "python",
   "name": "python3"
  },
  "language_info": {
   "codemirror_mode": {
    "name": "ipython",
    "version": 3
   },
   "file_extension": ".py",
   "mimetype": "text/x-python",
   "name": "python",
   "nbconvert_exporter": "python",
   "pygments_lexer": "ipython3",
   "version": "3.10.10"
  }
 },
 "nbformat": 4,
 "nbformat_minor": 2
}
