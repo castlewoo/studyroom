{
 "cells": [
  {
   "cell_type": "markdown",
   "metadata": {},
   "source": [
    "# 파이썬 문자형(character)"
   ]
  },
  {
   "cell_type": "code",
   "execution_count": 5,
   "metadata": {},
   "outputs": [
    {
     "name": "stdout",
     "output_type": "stream",
     "text": [
      "<class 'str'> <class 'str'> <class 'str'>\n",
      "18 6 5\n"
     ]
    }
   ],
   "source": [
    "# 문자열 생성\n",
    "str1 = 'My name is SungWoo'\n",
    "str2 = 'Python'\n",
    "str3 = '''hello'''\n",
    "\n",
    "print(type(str1), type(str2), type(str3))\n",
    "print(len(str1), len(str2), len(str3)) # 공백 포함"
   ]
  },
  {
   "cell_type": "code",
   "execution_count": 6,
   "metadata": {},
   "outputs": [
    {
     "name": "stdout",
     "output_type": "stream",
     "text": [
      "<class 'str'> 0\n",
      "<class 'str'> 0\n"
     ]
    }
   ],
   "source": [
    "# 빈 문자열\n",
    "str_t1 = ''\n",
    "str_t2 = str()\n",
    "\n",
    "print(type(str_t1), len(str_t1))\n",
    "print(type(str_t2), len(str_t2))"
   ]
  },
  {
   "cell_type": "markdown",
   "metadata": {},
   "source": [
    "## 이스케이프 문자 사용\n",
    "```\n",
    "참고 : Escape 코드\n",
    "\n",
    "\\n : 개행\n",
    "\\t : 탭\n",
    "\\\\ : 문자\n",
    "\\' : 문자\n",
    "\\\" : 문자\n",
    "\\000 : 널 문자\n",
    "```"
   ]
  },
  {
   "cell_type": "code",
   "execution_count": 23,
   "metadata": {},
   "outputs": [
    {
     "name": "stdout",
     "output_type": "stream",
     "text": [
      "I'm Boy\n",
      "I'm Boy\n",
      "a \t b\n",
      "a \n",
      "b\n",
      "a \"\" b\n",
      "Do you have a \"money\"?\n",
      "Who's he?\n"
     ]
    }
   ],
   "source": [
    "# 이스케이프 문자 사용\n",
    "# I'm Boy\n",
    "\n",
    "print(\"I'm Boy\")\n",
    "# print('I'm Boy') 이렇게 하면 오류날수도 있어서 아래와 같이 역슬래쉬로 표현\n",
    "print('I\\'m Boy')\n",
    "\n",
    "print('a \\t b') # 탭만큼 벌어진다\n",
    "print('a \\nb') # 띄워쓰기\n",
    "print('a \\\"\\\" b')\n",
    "\n",
    "escape_str1 = \"Do you have a \\\"money\\\"?\"\n",
    "print(escape_str1)\n",
    "\n",
    "escape_str2 = \"Who\\'s he?\"\n",
    "print(escape_str2)"
   ]
  },
  {
   "cell_type": "code",
   "execution_count": 24,
   "metadata": {},
   "outputs": [
    {
     "name": "stdout",
     "output_type": "stream",
     "text": [
      "Click \t start!\n",
      "New Line \n",
      " Check!\n"
     ]
    }
   ],
   "source": [
    "t_s1 = \"Click \\t start!\"\n",
    "t_s2 = \"New Line \\n Check!\"\n",
    "\n",
    "print(t_s1)\n",
    "print(t_s2)"
   ]
  },
  {
   "cell_type": "code",
   "execution_count": 25,
   "metadata": {},
   "outputs": [
    {
     "name": "stdout",
     "output_type": "stream",
     "text": [
      "D:\\python\\test\n"
     ]
    }
   ],
   "source": [
    "# Raw String\n",
    "raw_s1 = r'D:\\python\\test'\n",
    "\n",
    "print(raw_s1)"
   ]
  },
  {
   "cell_type": "code",
   "execution_count": 27,
   "metadata": {},
   "outputs": [
    {
     "name": "stdout",
     "output_type": "stream",
     "text": [
      "\n",
      "문자열\n",
      "멀티라인 입력\n",
      "테스트\n",
      "\n"
     ]
    }
   ],
   "source": [
    "# 멀티라인 입력\n",
    "multi_str = \\ \n",
    "'''\n",
    "문자열\n",
    "멀티라인 입력\n",
    "테스트\n",
    "'''\n",
    "#  \\ 역슬랙시로 줄바꿈해서\n",
    "print(multi_str)"
   ]
  },
  {
   "cell_type": "code",
   "execution_count": 51,
   "metadata": {},
   "outputs": [
    {
     "name": "stdout",
     "output_type": "stream",
     "text": [
      "hihihi\n",
      "hipython\n",
      "True\n",
      "True\n",
      "True\n"
     ]
    }
   ],
   "source": [
    "# 문자열 연산\n",
    "str_o1 = \"hi\"\n",
    "str_o2 = \"python\"\n",
    "str_o3 = \"nice guy\"\n",
    "str_o4 = \"sungwoo\"\n",
    "str_o5 = \"a b c d e\"\n",
    "\n",
    "print(str_o1 * 3)\n",
    "print(str_o1 + str_o2)\n",
    "print('i' in str_o1) # str_o1안에 i가 있어? (없어서 False)\n",
    "print('guy' in str_o3)\n",
    "print('a' not in str_o2) # 안에 a가 없어? (없어서 True)"
   ]
  },
  {
   "cell_type": "code",
   "execution_count": 52,
   "metadata": {},
   "outputs": [
    {
     "name": "stdout",
     "output_type": "stream",
     "text": [
      "66 <class 'str'>\n",
      "10.1 <class 'str'>\n",
      "True <class 'str'>\n"
     ]
    }
   ],
   "source": [
    "# 문자열 형 변환\n",
    "print(str(66), type(str(66)))\n",
    "print(str(10.1), type(str(10.1)))\n",
    "print(str(True), type(str(True)))"
   ]
  },
  {
   "cell_type": "code",
   "execution_count": 53,
   "metadata": {},
   "outputs": [
    {
     "name": "stdout",
     "output_type": "stream",
     "text": [
      "Capitalize :  Hi\n",
      "endswith? :  False\n",
      "endswith? :  True\n",
      "replace :  good guy\n",
      "sorted :  ['g', 'n', 'o', 'o', 's', 'u', 'w']\n",
      "split :  ['nice', 'guy']\n"
     ]
    }
   ],
   "source": [
    "# 문자열 함수(upperm isalnum, startswith, count, endswith, ...)\n",
    "\n",
    "print(\"Capitalize : \", str_o1.capitalize()) # capitalize()는 첫 번째 시작 글자를 대문자로\n",
    "print(\"endswith? : \", str_o2.endswith(\"a\")) # endswith()는 마지막 글자가 맞는지 확인할 때\n",
    "print(\"endswith? : \", str_o2.endswith(\"n\"))\n",
    "print(\"replace : \", str_o3.replace(\"nice\", \"good\")) # replace(a, b) a를 찾아서 b로 바꿔줘\n",
    "print(\"sorted : \", sorted(str_o4)) # sorted()는 정렬해서 리스트 형태로 반환한다 \n",
    "print(\"split : \", str_o3.split(' ')) # split() 띄워쓰기를 안에 넣으면 띄워쓰기 기준으로 분리해준다"
   ]
  },
  {
   "cell_type": "code",
   "execution_count": 55,
   "metadata": {},
   "outputs": [
    {
     "name": "stdout",
     "output_type": "stream",
     "text": [
      "['__add__', '__class__', '__contains__', '__delattr__', '__dir__', '__doc__', '__eq__', '__format__', '__ge__', '__getattribute__', '__getitem__', '__getnewargs__', '__gt__', '__hash__', '__init__', '__init_subclass__', '__iter__', '__le__', '__len__', '__lt__', '__mod__', '__mul__', '__ne__', '__new__', '__reduce__', '__reduce_ex__', '__repr__', '__rmod__', '__rmul__', '__setattr__', '__sizeof__', '__str__', '__subclasshook__', 'capitalize', 'casefold', 'center', 'count', 'encode', 'endswith', 'expandtabs', 'find', 'format', 'format_map', 'index', 'isalnum', 'isalpha', 'isascii', 'isdecimal', 'isdigit', 'isidentifier', 'islower', 'isnumeric', 'isprintable', 'isspace', 'istitle', 'isupper', 'join', 'ljust', 'lower', 'lstrip', 'maketrans', 'partition', 'removeprefix', 'removesuffix', 'replace', 'rfind', 'rindex', 'rjust', 'rpartition', 'rsplit', 'rstrip', 'split', 'splitlines', 'startswith', 'strip', 'swapcase', 'title', 'translate', 'upper', 'zfill']\n",
      "G\n",
      "o\n",
      "o\n",
      "d\n",
      " \n",
      "n\n",
      "i\n",
      "g\n",
      "h\n",
      "t\n",
      "!\n"
     ]
    }
   ],
   "source": [
    "# 반복(시퀀스)\n",
    "im_str = \"Good night!\"\n",
    "\n",
    "print(dir(im_str)) # __iter__\n",
    "\n",
    "# 출력\n",
    "for i in im_str : # 슬라이싱 처리를 할 수 있다\n",
    "    print(i) "
   ]
  },
  {
   "cell_type": "code",
   "execution_count": 77,
   "metadata": {},
   "outputs": [
    {
     "name": "stdout",
     "output_type": "stream",
     "text": [
      "Kim\n",
      "SungWoo\n",
      "Kim SungWoo\n",
      "Kim SungWo\n",
      "i ug\n",
      "ngWoo\n",
      "im SungW\n",
      "KmSnWo\n",
      "ooWgnuS miK\n"
     ]
    }
   ],
   "source": [
    "# 슬라이싱\n",
    "str_sl = \"Kim SungWoo\"\n",
    "\n",
    "# print(len(str_sl))\n",
    "print(str_sl[0:3]) # 0 1 2 번 나옴\n",
    "print(str_sl[4:])  # [4:11]\n",
    "print(str_sl[:len(str_sl)]) # str_sl[:11]\n",
    "print(str_sl[:-1])\n",
    "print(str_sl[1:9:2])\n",
    "print(str_sl[-5:])\n",
    "print(str_sl[1:-2])\n",
    "print(str_sl[::2])\n",
    "print(str_sl[::-1])"
   ]
  },
  {
   "cell_type": "code",
   "execution_count": 79,
   "metadata": {},
   "outputs": [
    {
     "name": "stdout",
     "output_type": "stream",
     "text": [
      "122\n",
      "z\n"
     ]
    }
   ],
   "source": [
    "# 아스키 코드(또는 유니코드)\n",
    "a = 'z'\n",
    "\n",
    "print(ord(a)) # 아스키 코드로\n",
    "print(chr(122)) # 문자로"
   ]
  }
 ],
 "metadata": {
  "kernelspec": {
   "display_name": "Python 3",
   "language": "python",
   "name": "python3"
  },
  "language_info": {
   "codemirror_mode": {
    "name": "ipython",
    "version": 3
   },
   "file_extension": ".py",
   "mimetype": "text/x-python",
   "name": "python",
   "nbconvert_exporter": "python",
   "pygments_lexer": "ipython3",
   "version": "3.10.10"
  }
 },
 "nbformat": 4,
 "nbformat_minor": 2
}
