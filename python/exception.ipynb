{
 "cells": [
  {
   "cell_type": "markdown",
   "metadata": {},
   "source": [
    "# 예외(Exception)\n",
    "- SyntaxError, TypeError, NameError, IndexError, ValueError, KeyError ...\n",
    "- 문법이 틀렸을때, 서로 더할 수 없는거, 없는 변수, 세개인 인덱스인데 4번을 접근할 때 ...\n",
    "- 문법적으로는 예외가 없지만, 코드 실행 프로세스(단계)발생하는 예외도 중요하다\n",
    "1. 예외는 반드시 처리\n",
    "2. 로그는 반드시 남긴다\n",
    "3. 예외는 던져진다\n",
    "4. 예외 무시"
   ]
  },
  {
   "cell_type": "code",
   "execution_count": 2,
   "metadata": {},
   "outputs": [
    {
     "ename": "SyntaxError",
     "evalue": "unterminated string literal (detected at line 2) (2858983565.py, line 2)",
     "output_type": "error",
     "traceback": [
      "\u001b[1;36m  Cell \u001b[1;32mIn[2], line 2\u001b[1;36m\u001b[0m\n\u001b[1;33m    print('error)\u001b[0m\n\u001b[1;37m          ^\u001b[0m\n\u001b[1;31mSyntaxError\u001b[0m\u001b[1;31m:\u001b[0m unterminated string literal (detected at line 2)\n"
     ]
    }
   ],
   "source": [
    "# SyntaxError : 문법 오류\n",
    "\n",
    "print('error)\n",
    "# SyntaxError: unterminated string literal (detected at line 2)"
   ]
  },
  {
   "cell_type": "code",
   "execution_count": 3,
   "metadata": {},
   "outputs": [
    {
     "ename": "SyntaxError",
     "evalue": "expected ':' (3861307186.py, line 1)",
     "output_type": "error",
     "traceback": [
      "\u001b[1;36m  Cell \u001b[1;32mIn[3], line 1\u001b[1;36m\u001b[0m\n\u001b[1;33m    if True\u001b[0m\n\u001b[1;37m           ^\u001b[0m\n\u001b[1;31mSyntaxError\u001b[0m\u001b[1;31m:\u001b[0m expected ':'\n"
     ]
    }
   ],
   "source": [
    "if True\n",
    "    pass\n",
    "# SyntaxError: expected ':'"
   ]
  },
  {
   "cell_type": "code",
   "execution_count": 4,
   "metadata": {},
   "outputs": [
    {
     "ename": "NameError",
     "evalue": "name 'c' is not defined",
     "output_type": "error",
     "traceback": [
      "\u001b[1;31m---------------------------------------------------------------------------\u001b[0m",
      "\u001b[1;31mNameError\u001b[0m                                 Traceback (most recent call last)",
      "\u001b[1;32mc:\\Users\\82105\\TIL\\python\\exception.ipynb 셀 4\u001b[0m line \u001b[0;36m4\n\u001b[0;32m      <a href='vscode-notebook-cell:/c%3A/Users/82105/TIL/python/exception.ipynb#W4sZmlsZQ%3D%3D?line=1'>2</a>\u001b[0m a \u001b[39m=\u001b[39m \u001b[39m10\u001b[39m\n\u001b[0;32m      <a href='vscode-notebook-cell:/c%3A/Users/82105/TIL/python/exception.ipynb#W4sZmlsZQ%3D%3D?line=2'>3</a>\u001b[0m b \u001b[39m=\u001b[39m \u001b[39m15\u001b[39m\n\u001b[1;32m----> <a href='vscode-notebook-cell:/c%3A/Users/82105/TIL/python/exception.ipynb#W4sZmlsZQ%3D%3D?line=3'>4</a>\u001b[0m \u001b[39mprint\u001b[39m(c)\n",
      "\u001b[1;31mNameError\u001b[0m: name 'c' is not defined"
     ]
    }
   ],
   "source": [
    "# NameError : 참조 없음\n",
    "\n",
    "a = 10\n",
    "b = 15\n",
    "print(c)\n",
    "# NameError: name 'c' is not defined"
   ]
  },
  {
   "cell_type": "code",
   "execution_count": 5,
   "metadata": {},
   "outputs": [
    {
     "ename": "ZeroDivisionError",
     "evalue": "division by zero",
     "output_type": "error",
     "traceback": [
      "\u001b[1;31m---------------------------------------------------------------------------\u001b[0m",
      "\u001b[1;31mZeroDivisionError\u001b[0m                         Traceback (most recent call last)",
      "\u001b[1;32mc:\\Users\\82105\\TIL\\python\\exception.ipynb 셀 5\u001b[0m line \u001b[0;36m3\n\u001b[0;32m      <a href='vscode-notebook-cell:/c%3A/Users/82105/TIL/python/exception.ipynb#W5sZmlsZQ%3D%3D?line=0'>1</a>\u001b[0m \u001b[39m# ZeroDivisionError\u001b[39;00m\n\u001b[1;32m----> <a href='vscode-notebook-cell:/c%3A/Users/82105/TIL/python/exception.ipynb#W5sZmlsZQ%3D%3D?line=2'>3</a>\u001b[0m \u001b[39mprint\u001b[39m(\u001b[39m100\u001b[39;49m \u001b[39m/\u001b[39;49m \u001b[39m0\u001b[39;49m)\n",
      "\u001b[1;31mZeroDivisionError\u001b[0m: division by zero"
     ]
    }
   ],
   "source": [
    "# ZeroDivisionError\n",
    "\n",
    "print(100 / 0)\n",
    "# ZeroDivisionError: division by zero"
   ]
  },
  {
   "cell_type": "code",
   "execution_count": 6,
   "metadata": {},
   "outputs": [
    {
     "name": "stdout",
     "output_type": "stream",
     "text": [
      "70\n"
     ]
    },
    {
     "ename": "IndexError",
     "evalue": "list index out of range",
     "output_type": "error",
     "traceback": [
      "\u001b[1;31m---------------------------------------------------------------------------\u001b[0m",
      "\u001b[1;31mIndexError\u001b[0m                                Traceback (most recent call last)",
      "\u001b[1;32mc:\\Users\\82105\\TIL\\python\\exception.ipynb 셀 6\u001b[0m line \u001b[0;36m4\n\u001b[0;32m      <a href='vscode-notebook-cell:/c%3A/Users/82105/TIL/python/exception.ipynb#W6sZmlsZQ%3D%3D?line=1'>2</a>\u001b[0m x \u001b[39m=\u001b[39m [\u001b[39m50\u001b[39m, \u001b[39m70\u001b[39m, \u001b[39m90\u001b[39m]\n\u001b[0;32m      <a href='vscode-notebook-cell:/c%3A/Users/82105/TIL/python/exception.ipynb#W6sZmlsZQ%3D%3D?line=2'>3</a>\u001b[0m \u001b[39mprint\u001b[39m(x[\u001b[39m1\u001b[39m])\n\u001b[1;32m----> <a href='vscode-notebook-cell:/c%3A/Users/82105/TIL/python/exception.ipynb#W6sZmlsZQ%3D%3D?line=3'>4</a>\u001b[0m \u001b[39mprint\u001b[39m(x[\u001b[39m5\u001b[39;49m])\n",
      "\u001b[1;31mIndexError\u001b[0m: list index out of range"
     ]
    }
   ],
   "source": [
    "# IndexError\n",
    "\n",
    "x = [50, 70, 90]\n",
    "print(x[1])\n",
    "print(x[5])\n",
    "# IndexError: list index out of range "
   ]
  },
  {
   "cell_type": "code",
   "execution_count": 7,
   "metadata": {},
   "outputs": [
    {
     "name": "stdout",
     "output_type": "stream",
     "text": [
      "90\n",
      "70\n",
      "50\n"
     ]
    },
    {
     "ename": "IndexError",
     "evalue": "pop from empty list",
     "output_type": "error",
     "traceback": [
      "\u001b[1;31m---------------------------------------------------------------------------\u001b[0m",
      "\u001b[1;31mIndexError\u001b[0m                                Traceback (most recent call last)",
      "\u001b[1;32mc:\\Users\\82105\\TIL\\python\\exception.ipynb 셀 7\u001b[0m line \u001b[0;36m4\n\u001b[0;32m      <a href='vscode-notebook-cell:/c%3A/Users/82105/TIL/python/exception.ipynb#X10sZmlsZQ%3D%3D?line=1'>2</a>\u001b[0m \u001b[39mprint\u001b[39m(x\u001b[39m.\u001b[39mpop())\n\u001b[0;32m      <a href='vscode-notebook-cell:/c%3A/Users/82105/TIL/python/exception.ipynb#X10sZmlsZQ%3D%3D?line=2'>3</a>\u001b[0m \u001b[39mprint\u001b[39m(x\u001b[39m.\u001b[39mpop())\n\u001b[1;32m----> <a href='vscode-notebook-cell:/c%3A/Users/82105/TIL/python/exception.ipynb#X10sZmlsZQ%3D%3D?line=3'>4</a>\u001b[0m \u001b[39mprint\u001b[39m(x\u001b[39m.\u001b[39;49mpop())\n",
      "\u001b[1;31mIndexError\u001b[0m: pop from empty list"
     ]
    }
   ],
   "source": [
    "print(x.pop())\n",
    "print(x.pop())\n",
    "print(x.pop())\n",
    "print(x.pop())\n",
    "# IndexError: pop from empty list"
   ]
  },
  {
   "cell_type": "code",
   "execution_count": 14,
   "metadata": {},
   "outputs": [
    {
     "name": "stdout",
     "output_type": "stream",
     "text": [
      "None\n"
     ]
    },
    {
     "ename": "KeyError",
     "evalue": "'hobby'",
     "output_type": "error",
     "traceback": [
      "\u001b[1;31m---------------------------------------------------------------------------\u001b[0m",
      "\u001b[1;31mKeyError\u001b[0m                                  Traceback (most recent call last)",
      "\u001b[1;32mc:\\Users\\82105\\TIL\\python\\exception.ipynb 셀 8\u001b[0m line \u001b[0;36m9\n\u001b[0;32m      <a href='vscode-notebook-cell:/c%3A/Users/82105/TIL/python/exception.ipynb#X11sZmlsZQ%3D%3D?line=2'>3</a>\u001b[0m dic \u001b[39m=\u001b[39m {\\\n\u001b[0;32m      <a href='vscode-notebook-cell:/c%3A/Users/82105/TIL/python/exception.ipynb#X11sZmlsZQ%3D%3D?line=3'>4</a>\u001b[0m     \u001b[39m'\u001b[39m\u001b[39mname\u001b[39m\u001b[39m'\u001b[39m : \u001b[39m'\u001b[39m\u001b[39mkim\u001b[39m\u001b[39m'\u001b[39m,\n\u001b[0;32m      <a href='vscode-notebook-cell:/c%3A/Users/82105/TIL/python/exception.ipynb#X11sZmlsZQ%3D%3D?line=4'>5</a>\u001b[0m     \u001b[39m'\u001b[39m\u001b[39mage\u001b[39m\u001b[39m'\u001b[39m : \u001b[39m26\u001b[39m,\n\u001b[0;32m      <a href='vscode-notebook-cell:/c%3A/Users/82105/TIL/python/exception.ipynb#X11sZmlsZQ%3D%3D?line=5'>6</a>\u001b[0m     \u001b[39m'\u001b[39m\u001b[39mcity\u001b[39m\u001b[39m'\u001b[39m : \u001b[39m'\u001b[39m\u001b[39mincheon\u001b[39m\u001b[39m'\u001b[39m}\n\u001b[0;32m      <a href='vscode-notebook-cell:/c%3A/Users/82105/TIL/python/exception.ipynb#X11sZmlsZQ%3D%3D?line=6'>7</a>\u001b[0m \u001b[39mprint\u001b[39m(dic\u001b[39m.\u001b[39mget(\u001b[39m'\u001b[39m\u001b[39mhobby\u001b[39m\u001b[39m'\u001b[39m))\n\u001b[1;32m----> <a href='vscode-notebook-cell:/c%3A/Users/82105/TIL/python/exception.ipynb#X11sZmlsZQ%3D%3D?line=8'>9</a>\u001b[0m \u001b[39mprint\u001b[39m(dic[\u001b[39m'\u001b[39;49m\u001b[39mhobby\u001b[39;49m\u001b[39m'\u001b[39;49m])\n\u001b[0;32m     <a href='vscode-notebook-cell:/c%3A/Users/82105/TIL/python/exception.ipynb#X11sZmlsZQ%3D%3D?line=9'>10</a>\u001b[0m \u001b[39m# KeyError: 'hobby'\u001b[39;00m\n",
      "\u001b[1;31mKeyError\u001b[0m: 'hobby'"
     ]
    }
   ],
   "source": [
    "# KeyError 주로 딕셔너리에서 발생\n",
    "\n",
    "dic = {\\\n",
    "    'name' : 'kim',\n",
    "    'age' : 26,\n",
    "    'city' : 'incheon'}\n",
    "\n",
    "print(dic.get('hobby')) # None 으로 가져온다\n",
    "\n",
    "print(dic['hobby'])\n",
    "# KeyError: 'hobby'\n"
   ]
  },
  {
   "cell_type": "markdown",
   "metadata": {},
   "source": [
    "- 예외 없는 것을 가정하고 프로그램 작성 -> 런탕미 예외 발생 시 예외 처리 권장(EAFP)"
   ]
  },
  {
   "cell_type": "code",
   "execution_count": 15,
   "metadata": {},
   "outputs": [
    {
     "ename": "AttributeError",
     "evalue": "module 'time' has no attribute 'time2'",
     "output_type": "error",
     "traceback": [
      "\u001b[1;31m---------------------------------------------------------------------------\u001b[0m",
      "\u001b[1;31mAttributeError\u001b[0m                            Traceback (most recent call last)",
      "\u001b[1;32mc:\\Users\\82105\\TIL\\python\\exception.ipynb 셀 10\u001b[0m line \u001b[0;36m3\n\u001b[0;32m      <a href='vscode-notebook-cell:/c%3A/Users/82105/TIL/python/exception.ipynb#X13sZmlsZQ%3D%3D?line=0'>1</a>\u001b[0m \u001b[39m# AttributeError : 모듈, 클래스에 있는 잘못된 속성 사용 예외\u001b[39;00m\n\u001b[0;32m      <a href='vscode-notebook-cell:/c%3A/Users/82105/TIL/python/exception.ipynb#X13sZmlsZQ%3D%3D?line=1'>2</a>\u001b[0m \u001b[39mimport\u001b[39;00m \u001b[39mtime\u001b[39;00m\n\u001b[1;32m----> <a href='vscode-notebook-cell:/c%3A/Users/82105/TIL/python/exception.ipynb#X13sZmlsZQ%3D%3D?line=2'>3</a>\u001b[0m \u001b[39mprint\u001b[39m(time\u001b[39m.\u001b[39;49mtime2())\n",
      "\u001b[1;31mAttributeError\u001b[0m: module 'time' has no attribute 'time2'"
     ]
    }
   ],
   "source": [
    "# AttributeError : 모듈, 클래스에 있는 잘못된 속성 사용 예외\n",
    "\n",
    "import time\n",
    "print(time.time2())\n",
    "# AttributeError: module 'time' has no attribute 'time2'"
   ]
  },
  {
   "cell_type": "code",
   "execution_count": 16,
   "metadata": {},
   "outputs": [
    {
     "name": "stdout",
     "output_type": "stream",
     "text": [
      "[10, 90]\n"
     ]
    },
    {
     "ename": "ValueError",
     "evalue": "list.remove(x): x not in list",
     "output_type": "error",
     "traceback": [
      "\u001b[1;31m---------------------------------------------------------------------------\u001b[0m",
      "\u001b[1;31mValueError\u001b[0m                                Traceback (most recent call last)",
      "\u001b[1;32mc:\\Users\\82105\\TIL\\python\\exception.ipynb 셀 11\u001b[0m line \u001b[0;36m6\n\u001b[0;32m      <a href='vscode-notebook-cell:/c%3A/Users/82105/TIL/python/exception.ipynb#X15sZmlsZQ%3D%3D?line=3'>4</a>\u001b[0m x\u001b[39m.\u001b[39mremove(\u001b[39m50\u001b[39m)\n\u001b[0;32m      <a href='vscode-notebook-cell:/c%3A/Users/82105/TIL/python/exception.ipynb#X15sZmlsZQ%3D%3D?line=4'>5</a>\u001b[0m \u001b[39mprint\u001b[39m(x)\n\u001b[1;32m----> <a href='vscode-notebook-cell:/c%3A/Users/82105/TIL/python/exception.ipynb#X15sZmlsZQ%3D%3D?line=5'>6</a>\u001b[0m x\u001b[39m.\u001b[39;49mremove(\u001b[39m200\u001b[39;49m)\n",
      "\u001b[1;31mValueError\u001b[0m: list.remove(x): x not in list"
     ]
    }
   ],
   "source": [
    "# ValueError : 시퀀스 자료형 안에서 참고하려 하는데 존재하지 않을때\n",
    "\n",
    "x = [10, 50, 90]\n",
    "x.remove(50)\n",
    "print(x)\n",
    "x.remove(200)\n",
    "# ValueError: list.remove(x): x not in list"
   ]
  },
  {
   "cell_type": "code",
   "execution_count": 17,
   "metadata": {},
   "outputs": [
    {
     "ename": "FileNotFoundError",
     "evalue": "[Errno 2] No such file or directory: 'test.txt'",
     "output_type": "error",
     "traceback": [
      "\u001b[1;31m---------------------------------------------------------------------------\u001b[0m",
      "\u001b[1;31mFileNotFoundError\u001b[0m                         Traceback (most recent call last)",
      "\u001b[1;32mc:\\Users\\82105\\TIL\\python\\exception.ipynb 셀 12\u001b[0m line \u001b[0;36m3\n\u001b[0;32m      <a href='vscode-notebook-cell:/c%3A/Users/82105/TIL/python/exception.ipynb#X16sZmlsZQ%3D%3D?line=0'>1</a>\u001b[0m \u001b[39m# FileNotFoundError\u001b[39;00m\n\u001b[1;32m----> <a href='vscode-notebook-cell:/c%3A/Users/82105/TIL/python/exception.ipynb#X16sZmlsZQ%3D%3D?line=2'>3</a>\u001b[0m f \u001b[39m=\u001b[39m \u001b[39mopen\u001b[39;49m(\u001b[39m'\u001b[39;49m\u001b[39mtest.txt\u001b[39;49m\u001b[39m'\u001b[39;49m)\n",
      "File \u001b[1;32mc:\\Users\\82105\\AppData\\Local\\Programs\\Python\\Python310\\lib\\site-packages\\IPython\\core\\interactiveshell.py:284\u001b[0m, in \u001b[0;36m_modified_open\u001b[1;34m(file, *args, **kwargs)\u001b[0m\n\u001b[0;32m    277\u001b[0m \u001b[39mif\u001b[39;00m file \u001b[39min\u001b[39;00m {\u001b[39m0\u001b[39m, \u001b[39m1\u001b[39m, \u001b[39m2\u001b[39m}:\n\u001b[0;32m    278\u001b[0m     \u001b[39mraise\u001b[39;00m \u001b[39mValueError\u001b[39;00m(\n\u001b[0;32m    279\u001b[0m         \u001b[39mf\u001b[39m\u001b[39m\"\u001b[39m\u001b[39mIPython won\u001b[39m\u001b[39m'\u001b[39m\u001b[39mt let you open fd=\u001b[39m\u001b[39m{\u001b[39;00mfile\u001b[39m}\u001b[39;00m\u001b[39m by default \u001b[39m\u001b[39m\"\u001b[39m\n\u001b[0;32m    280\u001b[0m         \u001b[39m\"\u001b[39m\u001b[39mas it is likely to crash IPython. If you know what you are doing, \u001b[39m\u001b[39m\"\u001b[39m\n\u001b[0;32m    281\u001b[0m         \u001b[39m\"\u001b[39m\u001b[39myou can use builtins\u001b[39m\u001b[39m'\u001b[39m\u001b[39m open.\u001b[39m\u001b[39m\"\u001b[39m\n\u001b[0;32m    282\u001b[0m     )\n\u001b[1;32m--> 284\u001b[0m \u001b[39mreturn\u001b[39;00m io_open(file, \u001b[39m*\u001b[39margs, \u001b[39m*\u001b[39m\u001b[39m*\u001b[39mkwargs)\n",
      "\u001b[1;31mFileNotFoundError\u001b[0m: [Errno 2] No such file or directory: 'test.txt'"
     ]
    }
   ],
   "source": [
    "# FileNotFoundError : 파일이 없거나 찾지 못할 때\n",
    "\n",
    "f = open('test.txt')\n",
    "\n",
    "# FileNotFoundError: [Errno 2] No such file or directory: 'test.txt'"
   ]
  },
  {
   "cell_type": "code",
   "execution_count": 23,
   "metadata": {},
   "outputs": [
    {
     "name": "stdout",
     "output_type": "stream",
     "text": [
      "[1, 2, 1, 2]\n",
      "[1, 2, 't', 'e', 's', 't']\n"
     ]
    },
    {
     "ename": "TypeError",
     "evalue": "can only concatenate list (not \"tuple\") to list",
     "output_type": "error",
     "traceback": [
      "\u001b[1;31m---------------------------------------------------------------------------\u001b[0m",
      "\u001b[1;31mTypeError\u001b[0m                                 Traceback (most recent call last)",
      "\u001b[1;32mc:\\Users\\82105\\TIL\\python\\exception.ipynb 셀 13\u001b[0m line \u001b[0;36m9\n\u001b[0;32m      <a href='vscode-notebook-cell:/c%3A/Users/82105/TIL/python/exception.ipynb#X20sZmlsZQ%3D%3D?line=5'>6</a>\u001b[0m \u001b[39mprint\u001b[39m(x \u001b[39m+\u001b[39m \u001b[39mlist\u001b[39m(y)) \u001b[39m# 리스트로 형변환\u001b[39;00m\n\u001b[0;32m      <a href='vscode-notebook-cell:/c%3A/Users/82105/TIL/python/exception.ipynb#X20sZmlsZQ%3D%3D?line=6'>7</a>\u001b[0m \u001b[39mprint\u001b[39m(\u001b[39mlist\u001b[39m(y) \u001b[39m+\u001b[39m \u001b[39mlist\u001b[39m(z))\n\u001b[1;32m----> <a href='vscode-notebook-cell:/c%3A/Users/82105/TIL/python/exception.ipynb#X20sZmlsZQ%3D%3D?line=8'>9</a>\u001b[0m \u001b[39mprint\u001b[39m(x \u001b[39m+\u001b[39;49m y)\n\u001b[0;32m     <a href='vscode-notebook-cell:/c%3A/Users/82105/TIL/python/exception.ipynb#X20sZmlsZQ%3D%3D?line=9'>10</a>\u001b[0m \u001b[39m# TypeError: can only concatenate list (not \"tuple\") to list\u001b[39;00m\n",
      "\u001b[1;31mTypeError\u001b[0m: can only concatenate list (not \"tuple\") to list"
     ]
    }
   ],
   "source": [
    "# TypeError : 자료형에 맞지 않는 연산을 수행 할 경우\n",
    "x = [1, 2]\n",
    "y = (1, 2)\n",
    "z = 'test'\n",
    "\n",
    "print(x + list(y)) # 리스트로 형변환\n",
    "print(list(y) + list(z))\n",
    "\n",
    "print(x + y)\n",
    "# TypeError: can only concatenate list (not \"tuple\") to list"
   ]
  },
  {
   "cell_type": "markdown",
   "metadata": {},
   "source": [
    "## **예외 처리**\n",
    "- try : 에러가 발생 할 가능성이 있는 코드 실행\n",
    "- except 에러명1: 여러개 가능\n",
    "- except 에러명2:\n",
    "- else : try 블록의 에러가 없을 경우 실행\n",
    "- finally : 항상 실행"
   ]
  },
  {
   "cell_type": "code",
   "execution_count": 35,
   "metadata": {},
   "outputs": [
    {
     "name": "stdout",
     "output_type": "stream",
     "text": [
      "Kim Found it! 1 in name\n",
      "Ok! else.\n"
     ]
    }
   ],
   "source": [
    "name = ['Kim', 'Lee', 'Park']\n",
    "\n",
    "try : \n",
    "    z = 'Kim' # 'Kim'\n",
    "    x = name.index(z)\n",
    "    print('{} Found it! {} in name'.format(z, x + 1))\n",
    "except ValueError :\n",
    "    print('Not Found it! - Occurred ValueError')\n",
    "else : # 예외가 발생 하지 않을 때 실행된다\n",
    "    print('Ok! else.')"
   ]
  },
  {
   "cell_type": "code",
   "execution_count": 31,
   "metadata": {},
   "outputs": [
    {
     "name": "stdout",
     "output_type": "stream",
     "text": [
      "Kim Found it! 1 in name\n",
      "Ok! else.\n"
     ]
    }
   ],
   "source": [
    "try : \n",
    "    z = 'Kim' # 'Kim'\n",
    "    x = name.index(z)\n",
    "    print('{} Found it! {} in name'.format(z, x + 1))\n",
    "except Exception : # 어떤 에러가 날지 모를때 포괄적으로 씀\n",
    "    print('Not Found it! - Occurred ValueError')\n",
    "else : # 예외가 발생 하지 않을 때 실행된다\n",
    "    print('Ok! else.')"
   ]
  },
  {
   "cell_type": "code",
   "execution_count": 34,
   "metadata": {},
   "outputs": [
    {
     "name": "stdout",
     "output_type": "stream",
     "text": [
      "'Ki' is not in list\n",
      "Not Found it! - Occurred ValueError\n",
      "ok! finally!\n"
     ]
    }
   ],
   "source": [
    "try : \n",
    "    z = 'Ki' # 'Kim'\n",
    "    x = name.index(z)\n",
    "    print('{} Found it! {} in name'.format(z, x + 1))\n",
    "except Exception as e: # 어떤 에러가 날지 모를때 포괄적으로 씀\n",
    "    print(e) # 어떤 에러인지 확인 할 때\n",
    "    print('Not Found it! - Occurred ValueError')\n",
    "else : # 예외가 발생 하지 않을 때 실행 된다\n",
    "    print('Ok! else.')\n",
    "finally : # 예외가 발생했어도 실행 된다\n",
    "    print('ok! finally!')"
   ]
  },
  {
   "cell_type": "code",
   "execution_count": 38,
   "metadata": {},
   "outputs": [
    {
     "name": "stdout",
     "output_type": "stream",
     "text": [
      "Occurred! Expection!\n"
     ]
    }
   ],
   "source": [
    "# 예외를 일부로 발생 : raise\n",
    "# raise 키워드로 예외 직접 발생\n",
    "# 들어오면 안되는 값이 들어올 때 응용 하거나 여러가지 상황에서 사용가능 하다\n",
    "try : \n",
    "    a = 'Park'\n",
    "    if a == 'Kim' :\n",
    "        print('OK! Pass!')\n",
    "    else :\n",
    "        raise ValueError\n",
    "except ValueError :\n",
    "    print('Occurred! Expection!')\n",
    "else :\n",
    "    print('Ok! else!')\n"
   ]
  }
 ],
 "metadata": {
  "kernelspec": {
   "display_name": "Python 3",
   "language": "python",
   "name": "python3"
  },
  "language_info": {
   "codemirror_mode": {
    "name": "ipython",
    "version": 3
   },
   "file_extension": ".py",
   "mimetype": "text/x-python",
   "name": "python",
   "nbconvert_exporter": "python",
   "pygments_lexer": "ipython3",
   "version": "3.10.10"
  }
 },
 "nbformat": 4,
 "nbformat_minor": 2
}
