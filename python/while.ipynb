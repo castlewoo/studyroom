{
 "cells": [
  {
   "cell_type": "markdown",
   "metadata": {},
   "source": [
    "# while 구문"
   ]
  },
  {
   "cell_type": "code",
   "execution_count": null,
   "metadata": {},
   "outputs": [],
   "source": [
    "# while <expr> :\n",
    "    # <statement(s)>"
   ]
  },
  {
   "cell_type": "code",
   "execution_count": 5,
   "metadata": {},
   "outputs": [
    {
     "name": "stdout",
     "output_type": "stream",
     "text": [
      "4\n",
      "3\n",
      "2\n",
      "1\n",
      "0\n",
      "5\n",
      "4\n",
      "3\n",
      "2\n",
      "1\n"
     ]
    }
   ],
   "source": [
    "n = 5\n",
    "while n > 0 :\n",
    "    n -= 1\n",
    "    print(n)\n",
    "\n",
    "n = 5\n",
    "while n > 0 :\n",
    "    print(n)\n",
    "    n -= 1"
   ]
  },
  {
   "cell_type": "code",
   "execution_count": 8,
   "metadata": {},
   "outputs": [
    {
     "name": "stdout",
     "output_type": "stream",
     "text": [
      "baz\n",
      "bar\n",
      "foo\n"
     ]
    }
   ],
   "source": [
    "a = ['foo', 'bar', 'baz']\n",
    "\n",
    "while a :\n",
    "    print(a.pop()) # 뒤에꺼를 꺼내온다"
   ]
  },
  {
   "cell_type": "code",
   "execution_count": 13,
   "metadata": {},
   "outputs": [
    {
     "name": "stdout",
     "output_type": "stream",
     "text": [
      "4\n",
      "3\n",
      "Loop Ended.\n",
      "\n",
      "4\n",
      "3\n",
      "1\n",
      "0\n",
      "Loop Ended.\n"
     ]
    }
   ],
   "source": [
    "# break, continue\n",
    "\n",
    "n = 5\n",
    "while n > 0 :\n",
    "    n -= 1\n",
    "    if n == 2 :\n",
    "        break\n",
    "    print(n)\n",
    "print('Loop Ended.')\n",
    "\n",
    "print()\n",
    "\n",
    "m = 5\n",
    "while m > 0 :\n",
    "    m -= 1\n",
    "    if m == 2 :\n",
    "        continue\n",
    "    print(m)\n",
    "print('Loop Ended.')"
   ]
  },
  {
   "cell_type": "code",
   "execution_count": 14,
   "metadata": {},
   "outputs": [
    {
     "name": "stdout",
     "output_type": "stream",
     "text": [
      "i 1\n",
      "i 2\n",
      "i 3\n",
      "i 4\n",
      "i 5\n",
      "i 6\n"
     ]
    }
   ],
   "source": [
    "# if 중첩\n",
    "i = 1\n",
    "\n",
    "while i <= 10 :\n",
    "    print('i', i)\n",
    "    if i == 6 :\n",
    "        break\n",
    "    i += 1"
   ]
  },
  {
   "cell_type": "code",
   "execution_count": 15,
   "metadata": {},
   "outputs": [
    {
     "name": "stdout",
     "output_type": "stream",
     "text": [
      "9\n",
      "8\n",
      "7\n",
      "6\n",
      "5\n"
     ]
    }
   ],
   "source": [
    "# while - else \n",
    "n = 10\n",
    "\n",
    "while n > 0 :\n",
    "    n -= 1\n",
    "    print(n)\n",
    "    if n == 5 :\n",
    "        break\n",
    "else :\n",
    "    print('else out')"
   ]
  },
  {
   "cell_type": "code",
   "execution_count": 17,
   "metadata": {},
   "outputs": [],
   "source": [
    "a = ['foo', 'bar', 'baz', 'qux']\n",
    "s = 'qux'\n",
    "\n",
    "i = 0\n",
    "\n",
    "while i < len(a) :\n",
    "    if a[i] == s :\n",
    "        break\n",
    "    i += 1\n",
    "else :\n",
    "    print(s, 'not found in list.')\n",
    "\n",
    "# 찾았기 때문에 안나온다"
   ]
  },
  {
   "cell_type": "code",
   "execution_count": null,
   "metadata": {},
   "outputs": [],
   "source": [
    "# 무한반복\n",
    "# while True:\n",
    "#     print('foo')"
   ]
  },
  {
   "cell_type": "code",
   "execution_count": 19,
   "metadata": {},
   "outputs": [
    {
     "name": "stdout",
     "output_type": "stream",
     "text": [
      "qux\n",
      "baz\n",
      "bar\n",
      "foo\n"
     ]
    }
   ],
   "source": [
    "a = ['foo', 'bar', 'baz', 'qux']\n",
    "\n",
    "while True :\n",
    "    if not a :\n",
    "        break\n",
    "    print(a.pop())"
   ]
  }
 ],
 "metadata": {
  "kernelspec": {
   "display_name": "Python 3",
   "language": "python",
   "name": "python3"
  },
  "language_info": {
   "codemirror_mode": {
    "name": "ipython",
    "version": 3
   },
   "file_extension": ".py",
   "mimetype": "text/x-python",
   "name": "python",
   "nbconvert_exporter": "python",
   "pygments_lexer": "ipython3",
   "version": "3.10.10"
  }
 },
 "nbformat": 4,
 "nbformat_minor": 2
}
