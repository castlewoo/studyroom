{
 "cells": [
  {
   "cell_type": "markdown",
   "metadata": {},
   "source": [
    "# 집합(Sets) 특징\n",
    "- 집합 자료형(순서X, 중복X) "
   ]
  },
  {
   "cell_type": "code",
   "execution_count": 4,
   "metadata": {},
   "outputs": [
    {
     "name": "stdout",
     "output_type": "stream",
     "text": [
      "<class 'set'>\n"
     ]
    }
   ],
   "source": [
    "# 선언\n",
    "a = set()\n",
    "print(type(a))\n",
    "\n",
    "b = set([1, 2, 3, 4, 4, 4, 4, 4])\n",
    "c = set([1, 4, 5, 6])\n",
    "d = set([1, 2, 'Pen', 'Cap', 'Plate'])\n",
    "e = {'foo', 'bar', 'baz', 'foo', 'qux'} # 키가 없으면 가능\n",
    "f = {42, 'foo', (1, 2, 3), 3.14159}"
   ]
  },
  {
   "cell_type": "code",
   "execution_count": 5,
   "metadata": {},
   "outputs": [
    {
     "name": "stdout",
     "output_type": "stream",
     "text": [
      "a =  <class 'set'> set()\n",
      "b =  <class 'set'> {1, 2, 3, 4}\n",
      "c =  <class 'set'> {1, 4, 5, 6}\n",
      "d =  <class 'set'> {'Plate', 1, 2, 'Cap', 'Pen'}\n",
      "e =  <class 'set'> {'bar', 'foo', 'baz', 'qux'}\n"
     ]
    }
   ],
   "source": [
    "print('a = ', type(a), a)\n",
    "print('b = ', type(b), b)\n",
    "print('c = ', type(c), c)\n",
    "print('d = ', type(d), d)\n",
    "print('e = ', type(e), e)"
   ]
  },
  {
   "cell_type": "code",
   "execution_count": 8,
   "metadata": {},
   "outputs": [
    {
     "name": "stdout",
     "output_type": "stream",
     "text": [
      "<class 'tuple'> (1, 2, 3, 4)\n",
      "1 (2, 3)\n",
      "[1, 4, 5, 6]\n",
      "['bar', 'foo', 'baz', 'qux']\n"
     ]
    }
   ],
   "source": [
    "# 튜플 변환(set -> tuple)\n",
    "t = tuple(b)\n",
    "print(type(t), t)\n",
    "print(t[0], t[1:3])\n",
    "\n",
    "# 리스트 변환(set -> list)\n",
    "l = list(c)\n",
    "l2 = list(e)\n",
    "\n",
    "print(l)\n",
    "print(l2)"
   ]
  },
  {
   "cell_type": "code",
   "execution_count": 9,
   "metadata": {},
   "outputs": [
    {
     "name": "stdout",
     "output_type": "stream",
     "text": [
      "0\n",
      "4\n",
      "4\n",
      "5\n",
      "4\n",
      "4\n"
     ]
    }
   ],
   "source": [
    "# 길이\n",
    "print(len(a))\n",
    "print(len(b))\n",
    "print(len(c))\n",
    "print(len(d))\n",
    "print(len(e))\n",
    "print(len(f))"
   ]
  },
  {
   "cell_type": "code",
   "execution_count": 19,
   "metadata": {},
   "outputs": [],
   "source": [
    "# 집합 자료형 활용\n",
    "s1 = set([1, 2, 3, 4, 5, 6])\n",
    "s2 = set([4, 5, 6, 7, 8, 9])"
   ]
  },
  {
   "cell_type": "code",
   "execution_count": null,
   "metadata": {},
   "outputs": [],
   "source": [
    "\n",
    "print('s1 & s2 :', s1 & s2)\n",
    "print('s1 & s2 :', s1.intersection(s2)) #intersection() 교집합 함수\n",
    "\n",
    "print('s1 | s2 :', s1 | s2) \n",
    "print('s1 | s2 :', s1.union(s2)) # union() 합집합 함수\n",
    "\n",
    "print('s1 - s2 :', s1 - s2)\n",
    "print('s1 - s2 :', s1.difference(s2)) # difference() 차집합 함수  "
   ]
  },
  {
   "cell_type": "code",
   "execution_count": 18,
   "metadata": {},
   "outputs": [
    {
     "name": "stdout",
     "output_type": "stream",
     "text": [
      "s1 & s2 : False\n",
      "False\n",
      "False\n"
     ]
    }
   ],
   "source": [
    "# 중복 원소 확인\n",
    "print('s1 & s2 :', s1.isdisjoint(s2)) # isidsjoint() 함수는 교집합이 있으면 False 없으면 Treue\n",
    "\n",
    "# 부분 집합 확인\n",
    "print(s1.issubset(s2))\n",
    "print(s1.issuperset(s2))"
   ]
  },
  {
   "cell_type": "code",
   "execution_count": 23,
   "metadata": {},
   "outputs": [
    {
     "name": "stdout",
     "output_type": "stream",
     "text": [
      "{1, 2, 3, 4, 5}\n",
      "{1, 3, 4, 5}\n",
      "{1, 4, 5}\n",
      "set()\n"
     ]
    }
   ],
   "source": [
    "# 추가, 제거\n",
    "s1 = set([1, 2, 3, 4])\n",
    "\n",
    "s1.add(5) # 추가\n",
    "print(s1)\n",
    "\n",
    "s1.remove(2) # 제거\n",
    "print(s1)\n",
    "\n",
    "s1.discard(3) # 제거 (없는 값을 넣어도 에러가 나지 않는다)\n",
    "print(s1)\n",
    "\n",
    "s1.clear() # 전체 제거\n",
    "print(s1)"
   ]
  }
 ],
 "metadata": {
  "kernelspec": {
   "display_name": "Python 3",
   "language": "python",
   "name": "python3"
  },
  "language_info": {
   "codemirror_mode": {
    "name": "ipython",
    "version": 3
   },
   "file_extension": ".py",
   "mimetype": "text/x-python",
   "name": "python",
   "nbconvert_exporter": "python",
   "pygments_lexer": "ipython3",
   "version": "3.10.10"
  }
 },
 "nbformat": 4,
 "nbformat_minor": 2
}
