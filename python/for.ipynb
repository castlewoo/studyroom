{
 "cells": [
  {
   "cell_type": "markdown",
   "metadata": {},
   "source": [
    "# for 흐름제어\n",
    "# for in <collection>\n",
    "#    <Loop body>"
   ]
  },
  {
   "cell_type": "code",
   "execution_count": 2,
   "metadata": {},
   "outputs": [
    {
     "name": "stdout",
     "output_type": "stream",
     "text": [
      "v1 is : 0\n",
      "v1 is : 1\n",
      "v1 is : 2\n",
      "v1 is : 3\n",
      "v1 is : 4\n",
      "v1 is : 5\n",
      "v1 is : 6\n",
      "v1 is : 7\n",
      "v1 is : 8\n",
      "v1 is : 9\n"
     ]
    }
   ],
   "source": [
    "for v1 in range(10) :\n",
    "    print('v1 is :', v1) "
   ]
  },
  {
   "cell_type": "code",
   "execution_count": 9,
   "metadata": {},
   "outputs": [
    {
     "name": "stdout",
     "output_type": "stream",
     "text": [
      "v2 is : 1\n",
      "v2 is : 2\n",
      "v2 is : 3\n",
      "v2 is : 4\n",
      "v2 is : 5\n",
      "v2 is : 6\n",
      "v2 is : 7\n",
      "v2 is : 8\n",
      "v2 is : 9\n",
      "v2 is : 10\n"
     ]
    }
   ],
   "source": [
    "for v2 in range(1, 11) :\n",
    "    print('v2 is :', v2)"
   ]
  },
  {
   "cell_type": "code",
   "execution_count": 11,
   "metadata": {},
   "outputs": [
    {
     "name": "stdout",
     "output_type": "stream",
     "text": [
      "v3 : 1\n",
      "v3 : 3\n",
      "v3 : 5\n",
      "v3 : 7\n",
      "v3 : 9\n"
     ]
    }
   ],
   "source": [
    "for v3 in range(1, 11, 2) :\n",
    "    print('v3 :', v3)"
   ]
  },
  {
   "cell_type": "code",
   "execution_count": 18,
   "metadata": {},
   "outputs": [
    {
     "name": "stdout",
     "output_type": "stream",
     "text": [
      "1 ~ 1000 sum : 500500\n",
      "1 ~ 1000 sum : 500500\n"
     ]
    }
   ],
   "source": [
    "sum1 = 0\n",
    "\n",
    "for v in range(1, 1001) :\n",
    "    sum1 += v\n",
    "\n",
    "print('1 ~ 1000 sum :', sum1)\n",
    "\n",
    "\n",
    "print('1 ~ 1000 sum :', sum(range(1, 1001)))"
   ]
  },
  {
   "cell_type": "code",
   "execution_count": 20,
   "metadata": {},
   "outputs": [
    {
     "name": "stdout",
     "output_type": "stream",
     "text": [
      "1 ~ 1000 4의 배수의 함 : 124750\n"
     ]
    }
   ],
   "source": [
    "print('1 ~ 1000 4의 배수의 함 :', sum(range(1, 1001, 4)))"
   ]
  },
  {
   "cell_type": "code",
   "execution_count": 27,
   "metadata": {},
   "outputs": [
    {
     "name": "stdout",
     "output_type": "stream",
     "text": [
      "You are : Kim\n",
      "You are : Park\n",
      "You are : Cho\n",
      "You are : Lee\n",
      "You are : Choi\n",
      "You are : Yoo\n",
      "로또 번호 : 11\n",
      "로또 번호 : 14\n",
      "로또 번호 : 45\n",
      "로또 번호 : 35\n",
      "로또 번호 : 24\n",
      "로또 번호 : 40\n",
      "word : B\n",
      "word : e\n",
      "word : a\n",
      "word : u\n",
      "word : t\n",
      "word : i\n",
      "word : f\n",
      "word : u\n",
      "word : l\n"
     ]
    }
   ],
   "source": [
    "# Iterables 자료형 반복\n",
    "# 문자열, 리스트, 튜플, 집합, 사전\n",
    "# Iterables 리턴 함수 : range, reversed, enumerate, filter, map, zip\n",
    "\n",
    "names = ['Kim', 'Park', 'Cho', 'Lee', 'Choi', 'Yoo'] # 리스트\n",
    "\n",
    "for name in names :\n",
    "    print('You are :', name)\n",
    "\n",
    "lotto_numbers = [11, 14, 45, 35, 24, 40]\n",
    "\n",
    "for n in lotto_numbers :\n",
    "    print(\"로또 번호 :\", n)\n",
    "\n",
    "\n",
    "word = \"Beautiful\"\n",
    "\n",
    "for s in word :\n",
    "    print('word :',s)"
   ]
  },
  {
   "cell_type": "code",
   "execution_count": 37,
   "metadata": {},
   "outputs": [
    {
     "name": "stdout",
     "output_type": "stream",
     "text": [
      "key : name\n",
      "key : Age\n",
      "key : city\n",
      "key : Kim\n",
      "key : 26\n",
      "key : incheon\n",
      "key : Kim\n",
      "key : 26\n",
      "key : incheon\n"
     ]
    }
   ],
   "source": [
    "my_info = {\\\n",
    "           \"name\" : 'Kim',\n",
    "           \"Age\" : 26,\n",
    "           \"city\" : 'incheon'\n",
    "}\n",
    "\n",
    "\n",
    "for k in my_info :  # key를 가져올 때\n",
    "    print('key :', k)\n",
    "\n",
    "for key in my_info :  # value를 가져올 때\n",
    "    print('key :', my_info[key])\n",
    "\n",
    "for key in my_info :\n",
    "    print('key :', my_info.get(key))"
   ]
  },
  {
   "cell_type": "code",
   "execution_count": 38,
   "metadata": {},
   "outputs": [
    {
     "name": "stdout",
     "output_type": "stream",
     "text": [
      "value : Kim\n",
      "value : 26\n",
      "value : incheon\n"
     ]
    }
   ],
   "source": [
    "for v in my_info.values() :\n",
    "    print('value :', v)"
   ]
  },
  {
   "cell_type": "code",
   "execution_count": 39,
   "metadata": {},
   "outputs": [
    {
     "name": "stdout",
     "output_type": "stream",
     "text": [
      "P\n",
      "I\n",
      "N\n",
      "E\n",
      "A\n",
      "P\n",
      "P\n",
      "L\n",
      "E\n"
     ]
    }
   ],
   "source": [
    "name = 'PineApPle'\n",
    "\n",
    "for n in name :\n",
    "    if n.isupper() :  # 대문자 이라면\n",
    "        print(n)\n",
    "    else :\n",
    "        print(n.upper()) # 대문자로 만드는거"
   ]
  },
  {
   "cell_type": "code",
   "execution_count": 53,
   "metadata": {},
   "outputs": [
    {
     "name": "stdout",
     "output_type": "stream",
     "text": [
      "Not Found : 14\n",
      "Not Found : 3\n",
      "Not Found : 7\n",
      "Not Found : 10\n",
      "Not Found : 54\n",
      "Not Found : 74\n",
      "Not Found : 35\n",
      "Not Found : 2\n",
      "Not Found : 24\n",
      "Found : 34!\n"
     ]
    }
   ],
   "source": [
    "# break\n",
    "\n",
    "numbers = [14, 3, 7, 10, 54, 74, 35, 2, 24, 34, 69, 88]\n",
    "\n",
    "for n in numbers :\n",
    "    if n == 34 :\n",
    "        print('Found : 34!')\n",
    "        break   # 34 이후에는 출력되지 않고 멈추게 한다\n",
    "    else :\n",
    "        print('Not Found :', n)"
   ]
  },
  {
   "cell_type": "code",
   "execution_count": 47,
   "metadata": {},
   "outputs": [
    {
     "name": "stdout",
     "output_type": "stream",
     "text": [
      "current type : <class 'str'>\n",
      "multiply by 2 111\n",
      "current type : <class 'int'>\n",
      "multiply by 2 6\n",
      "current type : <class 'int'>\n",
      "multiply by 2 15\n",
      "current type : <class 'float'>\n",
      "multiply by 2 12.899999999999999\n",
      "current type : <class 'complex'>\n",
      "multiply by 2 0j\n"
     ]
    }
   ],
   "source": [
    "# continue\n",
    "# 어떠한 조건안에서 continue를 만나면 다시 검사를 진행함\n",
    "\n",
    "lt = [\"1\", 2, 5, True, 4.3, complex()]\n",
    "\n",
    "for v in lt :\n",
    "    if type(v) is bool :\n",
    "        continue   # bool형을 스킵 시킨다\n",
    "    print(\"current type :\", type(v))\n",
    "    print(\"multiply by 2\", v * 3)"
   ]
  },
  {
   "cell_type": "code",
   "execution_count": 51,
   "metadata": {},
   "outputs": [
    {
     "name": "stdout",
     "output_type": "stream",
     "text": [
      "Not Found : 99\n"
     ]
    }
   ],
   "source": [
    "# for - else\n",
    "\n",
    "numbers = [14, 3, 7, 10, 54, 74, 35, 2, 24, 34, 69, 88]\n",
    "\n",
    "for num in numbers :\n",
    "    if num == 99 :\n",
    "        print(\"Found : 99\")\n",
    "        break\n",
    "else :\n",
    "    print(\"Not Found : 99\")"
   ]
  },
  {
   "cell_type": "code",
   "execution_count": 56,
   "metadata": {},
   "outputs": [
    {
     "name": "stdout",
     "output_type": "stream",
     "text": [
      "   2   4   6   8  10  12  14  16  18\n",
      "   3   6   9  12  15  18  21  24  27\n",
      "   4   8  12  16  20  24  28  32  36\n",
      "   5  10  15  20  25  30  35  40  45\n",
      "   6  12  18  24  30  36  42  48  54\n",
      "   7  14  21  28  35  42  49  56  63\n",
      "   8  16  24  32  40  48  56  64  72\n",
      "   9  18  27  36  45  54  63  72  81\n"
     ]
    }
   ],
   "source": [
    "for i in range(2, 10) :\n",
    "    for j in range(1, 10) :\n",
    "        print('{:4d}'.format(i*j), end = '') # end = '' 줄바꿈 \n",
    "    print() # 줄 바꿈"
   ]
  },
  {
   "cell_type": "code",
   "execution_count": 64,
   "metadata": {},
   "outputs": [
    {
     "name": "stdout",
     "output_type": "stream",
     "text": [
      "Reversed <reversed object at 0x000001FE7675F220>\n",
      "List ['n', 'a', 'm', 'e', 'c', 'A']\n",
      "Tuple ('n', 'a', 'm', 'e', 'c', 'A')\n",
      "Set {'e', 'c', 'a', 'n', 'A', 'm'}\n"
     ]
    }
   ],
   "source": [
    "name2 = 'Aceman'\n",
    "\n",
    "print('Reversed', reversed(name2))\n",
    "print('List', list(reversed(name2)))\n",
    "print('Tuple', tuple(reversed(name2)))\n",
    "print('Set', set(reversed(name2)))"
   ]
  }
 ],
 "metadata": {
  "kernelspec": {
   "display_name": "Python 3",
   "language": "python",
   "name": "python3"
  },
  "language_info": {
   "codemirror_mode": {
    "name": "ipython",
    "version": 3
   },
   "file_extension": ".py",
   "mimetype": "text/x-python",
   "name": "python",
   "nbconvert_exporter": "python",
   "pygments_lexer": "ipython3",
   "version": "3.10.10"
  }
 },
 "nbformat": 4,
 "nbformat_minor": 2
}
