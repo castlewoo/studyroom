{
 "cells": [
  {
   "cell_type": "markdown",
   "metadata": {},
   "source": [
    "# print() 함수를 사용해서 여러가지 예를 만들어보자.\n",
    "    - 가장 기본적인 함수\n",
    "    - 어떤식으로 나오는지만 간단하게 보기"
   ]
  },
  {
   "cell_type": "code",
   "execution_count": 6,
   "metadata": {},
   "outputs": [
    {
     "name": "stdout",
     "output_type": "stream",
     "text": [
      "python start!\n",
      "python start!\n",
      "\n",
      "python start!\n",
      "python start!\n"
     ]
    }
   ],
   "source": [
    "# 기본 출력\n",
    "print('python start!')\n",
    "print(\"python start!\")\n",
    "print() # 띄워쓰기로 사용도 가능\n",
    "print('''python start!''')\n",
    "print(\"\"\"python start!\"\"\")\n",
    "# 네개는 똑같은 값을 출력한다"
   ]
  },
  {
   "cell_type": "code",
   "execution_count": 13,
   "metadata": {},
   "outputs": [
    {
     "name": "stdout",
     "output_type": "stream",
     "text": [
      "p y t h o n\n",
      "python\n",
      "p,y,t,h,o,n\n",
      "010-5780-9833\n",
      "kile16@naver.com\n"
     ]
    }
   ],
   "source": [
    "# separator 옵션\n",
    "print('p', 'y', 't', 'h', 'o', 'n')\n",
    "print('p', 'y', 't', 'h', 'o', 'n', sep = '')\n",
    "print('p', 'y', 't', 'h', 'o', 'n', sep = ',')\n",
    "print('010', '5780', '9833', sep = '-') # 내 전화번호를 하이퍼를 넣어서 출력\n",
    "print('kile16', 'naver.com', sep = '@')"
   ]
  },
  {
   "cell_type": "code",
   "execution_count": 20,
   "metadata": {},
   "outputs": [
    {
     "name": "stdout",
     "output_type": "stream",
     "text": [
      "Welcome toIT News    Welcome toIT News\n"
     ]
    }
   ],
   "source": [
    "# end 옵션\n",
    "print('Welcome to', end = '')\n",
    "print('IT News', end = '    ')\n",
    "# 기존 print() 함수를 쓰면 줄바꿈이 되지만, end 옵션에 '' 빈칸이면 다음 출력값이 붙어서 나온다.\n",
    "\n",
    "print('Welcome to', end = '')\n",
    "print('IT News')"
   ]
  },
  {
   "cell_type": "code",
   "execution_count": 23,
   "metadata": {},
   "outputs": [
    {
     "name": "stdout",
     "output_type": "stream",
     "text": [
      "Learn Python\n"
     ]
    }
   ],
   "source": [
    "# file 옵션\n",
    "import sys \n",
    "\n",
    "print('Learn Python', file = sys.stdout)"
   ]
  },
  {
   "cell_type": "code",
   "execution_count": 28,
   "metadata": {},
   "outputs": [
    {
     "name": "stdout",
     "output_type": "stream",
     "text": [
      "one two\n",
      "one two\n",
      "two one\n"
     ]
    }
   ],
   "source": [
    "# format 사용(d : 3, s : 'python', f : 3.14)      d = 정수, s = 문자열, f = 실수\n",
    "print('%s %s' % ('one', 'two'))  # %s 문자열 두개 대체 할 수 있음 (다리 같은 역활)\n",
    "print('{} {}'.format('one', 'two'))\n",
    "print('{1} {0}'.format('one', 'two')) # 0인 one이 먼저오고, 1인 two가 두번째로 온다. python은 0부터 시작"
   ]
  },
  {
   "cell_type": "code",
   "execution_count": 41,
   "metadata": {},
   "outputs": [
    {
     "name": "stdout",
     "output_type": "stream",
     "text": [
      "      nice\n",
      "      nice\n",
      "nice      \n",
      "nice      \n",
      "______nice\n",
      "$$$$$$nice\n",
      "   nice   \n",
      "nice\n",
      "sungw\n",
      "sungwoo\n",
      "sungw     \n"
     ]
    }
   ],
   "source": [
    "# %s 문자열  s생략 가능\n",
    "print('%10s' % ('nice')) # 자리가 10개인걸 출력하고 마지막에 nice가 온다\n",
    "print('{:>10}'.format('nice'))\n",
    "\n",
    "print('%-10s' % ('nice')) # 반대로\n",
    "print('{:10}'.format('nice'))\n",
    "\n",
    "print('{:_>10}'.format('nice')) # 밑줄로 표시하기\n",
    "print('{:$>10}'.format('nice'))\n",
    "print('{:^10}'.format('nice')) # 중앙 정렬\n",
    "\n",
    "print('%.5s' % ('nice'))\n",
    "print('%.5s' % ('sungwoo')) # 5글자 까지만 \n",
    "print('%5s' % ('sungwoo'))\n",
    "\n",
    "print('{:10.5}'.format('sungwoonice'))"
   ]
  },
  {
   "cell_type": "code",
   "execution_count": 46,
   "metadata": {},
   "outputs": [
    {
     "name": "stdout",
     "output_type": "stream",
     "text": [
      "1 2\n",
      "1 2\n",
      "  42\n",
      "  42\n"
     ]
    }
   ],
   "source": [
    "# %d 정수\n",
    "print('%d %d' % (1, 2))\n",
    "print('{} {}'.format(1, 2))\n",
    "\n",
    "print('%4d' % (42))\n",
    "print('{:4d}'.format(42))"
   ]
  },
  {
   "cell_type": "code",
   "execution_count": 56,
   "metadata": {},
   "outputs": [
    {
     "name": "stdout",
     "output_type": "stream",
     "text": [
      "3.14343432\n",
      "3.143434\n",
      "003.14\n",
      "003.14\n"
     ]
    }
   ],
   "source": [
    "# %f \n",
    "print('%1.8f' % (3.1434343242343)) # 정수는 1자리, 소수부분은 8자리 까지 출력\n",
    "print('{:f}'.format((3.1434343242343))) # 기본은 소수 6자리 까지\n",
    "\n",
    "print('%06.2f' % (3.141592653589793)) # 총 6자리인데 소수는 2자리 설정이라 14가 나오고 나머지 4자리를 채워야하기 때문에 003.이 나온다.\n",
    "print('{:06.2f}'.format(3.141592653589793))"
   ]
  }
 ],
 "metadata": {
  "kernelspec": {
   "display_name": "Python 3",
   "language": "python",
   "name": "python3"
  },
  "language_info": {
   "codemirror_mode": {
    "name": "ipython",
    "version": 3
   },
   "file_extension": ".py",
   "mimetype": "text/x-python",
   "name": "python",
   "nbconvert_exporter": "python",
   "pygments_lexer": "ipython3",
   "version": "3.10.10"
  }
 },
 "nbformat": 4,
 "nbformat_minor": 2
}
