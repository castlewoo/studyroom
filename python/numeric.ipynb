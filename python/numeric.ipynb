{
 "cells": [
  {
   "cell_type": "markdown",
   "metadata": {},
   "source": [
    "# 숫자형(numeric)"
   ]
  },
  {
   "cell_type": "markdown",
   "metadata": {},
   "source": [
    "## 파이썬 지원 자료형\n",
    "```\n",
    "int : 정수\n",
    "float : 실수\n",
    "xomplex : 복소수\n",
    "bool : 불린 (참/거짓)\n",
    "str : 문자열(시퀀스)\n",
    "list : 리스트(시퀀스)\n",
    "tuple : 튜플(시퀀스)\n",
    "set : 집합\n",
    "dict : 사전\n",
    "```"
   ]
  },
  {
   "cell_type": "markdown",
   "metadata": {},
   "source": [
    "### 숫자형 연산자\n",
    "```\n",
    "+\n",
    "-\n",
    "*\n",
    "/\n",
    "// : 몫\n",
    "% : 나머지\n",
    "abs(x) : x의 절대값\n",
    "pow(x, y) : x ** y\n",
    "```"
   ]
  },
  {
   "cell_type": "code",
   "execution_count": 22,
   "metadata": {},
   "outputs": [
    {
     "name": "stdout",
     "output_type": "stream",
     "text": [
      "<class 'list'>\n"
     ]
    }
   ],
   "source": [
    "# 데이터 타입\n",
    "str1 = 'sungwoo'\n",
    "str2 = 'Python'\n",
    "bool_a = True\n",
    "float_a = 10.0 # 10 == 10.0 같지 않다\n",
    "int_a = 7\n",
    "list_a = [str1, str2]\n",
    "\n",
    "print(list)\n",
    "\n",
    "dict_a = {\n",
    "    'name' : 'sungwoo',\n",
    "    'age' : 26\n",
    "} \n",
    "\n",
    "tuple_a = (7, 8 ,9)\n",
    "set_a = {1, 2, 3}"
   ]
  },
  {
   "cell_type": "code",
   "execution_count": 23,
   "metadata": {},
   "outputs": [
    {
     "name": "stdout",
     "output_type": "stream",
     "text": [
      "<class 'str'>\n",
      "<class 'str'>\n",
      "<class 'bool'>\n",
      "<class 'float'>\n",
      "<class 'int'>\n",
      "<class 'dict'>\n",
      "<class 'tuple'>\n",
      "<class 'set'>\n"
     ]
    }
   ],
   "source": [
    "# 데이터 타입 출력\n",
    "print(type(str1))\n",
    "print(type(str2))\n",
    "print(type(bool_a))\n",
    "print(type(float_a))\n",
    "print(type(int_a))\n",
    "print(type(dict_a))\n",
    "print(type(tuple_a))\n",
    "print(type(set_a))"
   ]
  },
  {
   "cell_type": "code",
   "execution_count": 24,
   "metadata": {},
   "outputs": [
    {
     "name": "stdout",
     "output_type": "stream",
     "text": [
      "77\n",
      "-14\n",
      "111111111111111111111111111111111111111111111111111\n"
     ]
    }
   ],
   "source": [
    "# 정수 선언\n",
    "i = 77\n",
    "i2 = -14\n",
    "big_int = 111111111111111111111111111111111111111111111111111\n",
    "\n",
    "# 정수 출력\n",
    "print(i)\n",
    "print(i2)\n",
    "print(big_int)"
   ]
  },
  {
   "cell_type": "code",
   "execution_count": 25,
   "metadata": {},
   "outputs": [
    {
     "name": "stdout",
     "output_type": "stream",
     "text": [
      "0.9999\n",
      "3.141592\n",
      "-3.9\n",
      "0.3333333333333333\n"
     ]
    }
   ],
   "source": [
    "# 실수 선언\n",
    "f = 0.9999\n",
    "f2 = 3.141592\n",
    "f3 = -3.9\n",
    "f4 = 3/9\n",
    "\n",
    "# 실수 출력\n",
    "print(f)\n",
    "print(f2)\n",
    "print(f3)\n",
    "print(f4)"
   ]
  },
  {
   "cell_type": "code",
   "execution_count": 26,
   "metadata": {},
   "outputs": [
    {
     "name": "stdout",
     "output_type": "stream",
     "text": [
      ">>>>>>>+\n",
      "i1 + i2 : 34\n",
      "f1 + f2 : 5.4635312\n",
      "big_int1 + big_int2 : 11111115326013416109346093501\n",
      "<class 'float'>\n"
     ]
    }
   ],
   "source": [
    "# 연산\n",
    "i1 = 14\n",
    "i2 = 20\n",
    "big_int1 = 11111111111111111111111111111\n",
    "big_int2 = 4214902304998234982390\n",
    "\n",
    "f1 = 1.2312312\n",
    "f2 = 4.2323\n",
    "\n",
    "print(\">>>>>>>+\")\n",
    "print(\"i1 + i2 :\", i1 + i2)\n",
    "print(\"f1 + f2 :\", f1 + f2)\n",
    "print(\"big_int1 + big_int2 :\", big_int1 + big_int2)\n",
    "\n",
    "\n",
    "a = 3 + 1.0\n",
    "print(type(a)) # 실수로 형변환"
   ]
  },
  {
   "cell_type": "code",
   "execution_count": null,
   "metadata": {},
   "outputs": [
    {
     "name": "stdout",
     "output_type": "stream",
     "text": [
      "7\n",
      "12 4\n",
      "125 125\n"
     ]
    }
   ],
   "source": [
    "# 수치 연산 함수\n",
    "print(abs(-7))\n",
    "\n",
    "x , y = divmod(100, 8) # 몫과 나머지 출력\n",
    "print(x, y) \n",
    "\n",
    "print(pow(5, 3), 5 ** 3)"
   ]
  },
  {
   "cell_type": "code",
   "execution_count": 27,
   "metadata": {},
   "outputs": [
    {
     "name": "stdout",
     "output_type": "stream",
     "text": [
      "<class 'float'> <class 'int'> <class 'float'> <class 'float'>\n",
      "6.0\n",
      "0\n",
      "12\n",
      "1\n",
      "0.0\n",
      "(3+0j)\n",
      "(3+0j)\n",
      "0j\n"
     ]
    }
   ],
   "source": [
    "# 할당\n",
    "a = 3.   # 3.0\n",
    "b = 6\n",
    "c = .7   # 0.7\n",
    "d = 12.5\n",
    "\n",
    "# 타입 출력\n",
    "print(type(a) , type(b), type(c), type(d))\n",
    "\n",
    "# 형 변환\n",
    "print(float(b))\n",
    "print(int(c))\n",
    "print(int(d)) # 소수 하위는 잘림\n",
    "print(int(True)) # True는 1, False는 0\n",
    "print(float(False))\n",
    "print(complex(3))\n",
    "print(complex('3')) # 문자형 -> 숫자형\n",
    "print(complex(False))"
   ]
  },
  {
   "cell_type": "code",
   "execution_count": 21,
   "metadata": {},
   "outputs": [
    {
     "name": "stdout",
     "output_type": "stream",
     "text": [
      "6\n",
      "-5\n",
      "3.141592653589793\n"
     ]
    }
   ],
   "source": [
    "# 외부 모듈\n",
    "import math\n",
    "\n",
    "print(math.ceil(5.1)) # x 이상의 수 중에서 가장 작은 정수\n",
    "print(math.ceil(-5.1))\n",
    "print(math.pi)"
   ]
  }
 ],
 "metadata": {
  "kernelspec": {
   "display_name": "Python 3",
   "language": "python",
   "name": "python3"
  },
  "language_info": {
   "codemirror_mode": {
    "name": "ipython",
    "version": 3
   },
   "file_extension": ".py",
   "mimetype": "text/x-python",
   "name": "python",
   "nbconvert_exporter": "python",
   "pygments_lexer": "ipython3",
   "version": "3.10.10"
  }
 },
 "nbformat": 4,
 "nbformat_minor": 2
}
