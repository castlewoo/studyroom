{
 "cells": [
  {
   "cell_type": "markdown",
   "metadata": {},
   "source": [
    "# 파이썬 변수"
   ]
  },
  {
   "cell_type": "code",
   "execution_count": 4,
   "metadata": {},
   "outputs": [
    {
     "name": "stdout",
     "output_type": "stream",
     "text": [
      "1000\n",
      "<class 'int'>\n"
     ]
    }
   ],
   "source": [
    "# 기본 선언\n",
    "n = 1000\n",
    "\n",
    "# 출력\n",
    "print(1000)\n",
    "print(type(n)) # n에 할당되어 있는 자료형을 보여준다. n은 1000이라 int인 정수형이 나옴"
   ]
  },
  {
   "cell_type": "code",
   "execution_count": 5,
   "metadata": {},
   "outputs": [
    {
     "name": "stdout",
     "output_type": "stream",
     "text": [
      "1500 1500 1500\n"
     ]
    }
   ],
   "source": [
    "# 동시 선언\n",
    "x = y = z = 1500\n",
    "print(x, y, z)"
   ]
  },
  {
   "cell_type": "code",
   "execution_count": 7,
   "metadata": {},
   "outputs": [
    {
     "name": "stdout",
     "output_type": "stream",
     "text": [
      "change value\n",
      "<class 'str'>\n"
     ]
    }
   ],
   "source": [
    "# 선언\n",
    "var = 70\n",
    "\n",
    "# 재선언\n",
    "var = 'change value'\n",
    "\n",
    "print(var) # 마지막에 할당되는 값으로 출력됨\n",
    "print(type(var)) # str은 문자형"
   ]
  },
  {
   "cell_type": "code",
   "execution_count": 12,
   "metadata": {},
   "outputs": [
    {
     "name": "stdout",
     "output_type": "stream",
     "text": [
      "300\n",
      "300\n",
      "123 <class 'int'>\n",
      "123 123\n",
      "<class 'int'> <class 'int'>\n"
     ]
    }
   ],
   "source": [
    "# object References\n",
    "# 변수 값 할당 상태\n",
    "# 1. 타입에 맞는 오브젝트 생성\n",
    "# 2. 값 생성\n",
    "# 3. 콘솔 출력\n",
    "\n",
    "# 예1)\n",
    "print(300) \n",
    "print(int(300))\n",
    "\n",
    "# 예2)\n",
    "n = 123\n",
    "\n",
    "print(n, type(n)) \n",
    "\n",
    "m = n\n",
    "#  123 -> n -> m\n",
    "print(m, n)\n",
    "print(type(m), type(n))"
   ]
  },
  {
   "cell_type": "code",
   "execution_count": 2,
   "metadata": {},
   "outputs": [
    {
     "name": "stdout",
     "output_type": "stream",
     "text": [
      "1473381727824\n",
      "1473381727952\n",
      "False\n"
     ]
    }
   ],
   "source": [
    "# id(identitiy) 확인 : 객체의 고유값 확인\n",
    "\n",
    "m = 800\n",
    "n = 655\n",
    "\n",
    "print(id(m))\n",
    "print(id(n))\n",
    "print(id(m) == id(n))"
   ]
  },
  {
   "cell_type": "code",
   "execution_count": 13,
   "metadata": {},
   "outputs": [
    {
     "name": "stdout",
     "output_type": "stream",
     "text": [
      "1473381725008\n",
      "1473381727824\n",
      "False\n"
     ]
    }
   ],
   "source": [
    "a = 800\n",
    "b = 800\n",
    "\n",
    "print(id(a))\n",
    "print(id(b))\n",
    "print(id(a) == id(b))"
   ]
  },
  {
   "cell_type": "code",
   "execution_count": 15,
   "metadata": {},
   "outputs": [
    {
     "ename": "SyntaxError",
     "evalue": "invalid decimal literal (3807714914.py, line 15)",
     "output_type": "error",
     "traceback": [
      "\u001b[1;36m  Cell \u001b[1;32mIn[15], line 15\u001b[1;36m\u001b[0m\n\u001b[1;33m    1AGE = 18\u001b[0m\n\u001b[1;37m    ^\u001b[0m\n\u001b[1;31mSyntaxError\u001b[0m\u001b[1;31m:\u001b[0m invalid decimal literal\n"
     ]
    }
   ],
   "source": [
    "# 다양한 변수 선언\n",
    "# Camel Case : numberOfCollegeGraduates -> Method\n",
    "# PascaL Case : NumberOfCollegeGraduates -> Class\n",
    "# Snake Case : number_of_college_graduates 파이썬에서 변수를 설정할때 주로 사용\n",
    "\n",
    "# 허용하는 변수 선언 법\n",
    "age = 11\n",
    "Age = 12\n",
    "aGe = 13\n",
    "AGE = 14\n",
    "a_g_e = 15\n",
    "_age = 16\n",
    "age_ = 17\n",
    "_AGE_ = 18\n",
    "1AGE = 18 # 에러남 "
   ]
  },
  {
   "cell_type": "code",
   "execution_count": 16,
   "metadata": {},
   "outputs": [
    {
     "ename": "SyntaxError",
     "evalue": "invalid syntax (187734158.py, line 2)",
     "output_type": "error",
     "traceback": [
      "\u001b[1;36m  Cell \u001b[1;32mIn[16], line 2\u001b[1;36m\u001b[0m\n\u001b[1;33m    for = 3\u001b[0m\n\u001b[1;37m        ^\u001b[0m\n\u001b[1;31mSyntaxError\u001b[0m\u001b[1;31m:\u001b[0m invalid syntax\n"
     ]
    }
   ],
   "source": [
    "# 예약어는 변수명으로 불가능\n",
    "for = 3\n",
    "as = 3\n",
    "Class = 3\n",
    "python reserve word"
   ]
  }
 ],
 "metadata": {
  "kernelspec": {
   "display_name": "Python 3",
   "language": "python",
   "name": "python3"
  },
  "language_info": {
   "codemirror_mode": {
    "name": "ipython",
    "version": 3
   },
   "file_extension": ".py",
   "mimetype": "text/x-python",
   "name": "python",
   "nbconvert_exporter": "python",
   "pygments_lexer": "ipython3",
   "version": "3.10.10"
  }
 },
 "nbformat": 4,
 "nbformat_minor": 2
}
