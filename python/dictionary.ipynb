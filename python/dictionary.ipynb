{
 "cells": [
  {
   "cell_type": "markdown",
   "metadata": {},
   "source": [
    "# 딕셔너리(Dictionary)\n",
    "- 범용적을 가장 많이 사용\n",
    "- 딕셔너리 자료형(순서X, 키 중복X, 수정O, 삭제O)"
   ]
  },
  {
   "cell_type": "code",
   "execution_count": 34,
   "metadata": {},
   "outputs": [],
   "source": [
    "# 선언\n",
    "a = {\n",
    "    'name' : 'Kim', # key는 name, value는 kim\n",
    "     'phone' : '01057809833',\n",
    "     'birth' : '981212'\n",
    "} \n",
    "\n",
    "b = {0 : 'hello'}\n",
    "\n",
    "c = {'arr' : [1, 2, 3, 4]}\n",
    "\n",
    "d = {\n",
    "    'Name' : 'SungWoo',\n",
    "    'City' : 'incheon',\n",
    "    'Age' : 26,\n",
    "    'Grade' : 'A',\n",
    "    'Statue' : False\n",
    "}\n",
    "\n",
    "e = dict([                # 딕셔너리 리스트안에 튜플 형식으로 대입\n",
    "    ('Name', 'SungWoo'),\n",
    "    ('City', 'incheon'),\n",
    "    ('Age', 26),\n",
    "    ('Grade', 'A'),\n",
    "    ('Statue', False)\n",
    "])\n",
    "\n",
    "f = dict(\n",
    "    Name = 'SungWoo',\n",
    "    City = 'incheon',\n",
    "    Age = 26,\n",
    "    Grade = 'A',\n",
    "    Statue = False\n",
    ")\n"
   ]
  },
  {
   "cell_type": "code",
   "execution_count": 9,
   "metadata": {},
   "outputs": [
    {
     "name": "stdout",
     "output_type": "stream",
     "text": [
      "a = <class 'dict'> {'name': 'Kim', 'phone': '01057809833', 'birth': '981212'}\n",
      "a = <class 'dict'> {0: 'hello'}\n",
      "a = <class 'dict'> {'arr': [1, 2, 3, 4]}\n",
      "a = <class 'dict'> {'Name': 'SungWoo', 'City': 'incheon', 'Age': 26, 'Grade': 'A', 'Statue': False}\n",
      "a = <class 'dict'> {'Name': 'SungWoo', 'City': 'incheon', 'Age': 26, 'Grade': 'A', 'Statue': False}\n",
      "a = <class 'dict'> {'Name': 'SungWoo', 'City': 'incheon', 'Age': 26, 'Grade': 'A', 'Statue': False}\n"
     ]
    }
   ],
   "source": [
    "print('a =', type(a), a)\n",
    "print('a =', type(b), b)\n",
    "print('a =', type(c), c)\n",
    "print('a =', type(d), d)\n",
    "print('a =', type(e), e)\n",
    "print('a =', type(f), f)"
   ]
  },
  {
   "cell_type": "code",
   "execution_count": 18,
   "metadata": {},
   "outputs": [
    {
     "name": "stdout",
     "output_type": "stream",
     "text": [
      "a = Kim\n",
      "a = Kim\n",
      "b = hello\n",
      "b = hello\n",
      "f = incheon\n"
     ]
    }
   ],
   "source": [
    "print('a =', a['name'])\n",
    "print('a =', a.get('name')) # 키 값이 없을때는 위에는 에러가 뜨지만 get()함수를 사용하면 None으로 뜬다.\n",
    "\n",
    "print('b =', b[0])\n",
    "print('b =', b.get(0))\n",
    "\n",
    "print('f =', f.get('City'))"
   ]
  },
  {
   "cell_type": "code",
   "execution_count": 21,
   "metadata": {},
   "outputs": [
    {
     "name": "stdout",
     "output_type": "stream",
     "text": [
      "{'name': 'Kim', 'phone': '01057809833', 'birth': '981212', 'address': 'seoul', 'rank': [1, 2, 3]}\n",
      "{'name': 'Kim', 'phone': '01057809833', 'birth': '981212', 'address': 'seoul', 'rank': [1, 2, 3]}\n",
      "5\n"
     ]
    }
   ],
   "source": [
    "# 딕셔너리 추가\n",
    "a['address'] = 'seoul' # 키가 같을 경우에는 수정이된다.\n",
    "print(a) \n",
    "a['rank'] = [1, 2, 3]\n",
    "print(a)\n",
    "\n",
    "print(len(a))"
   ]
  },
  {
   "cell_type": "code",
   "execution_count": 26,
   "metadata": {},
   "outputs": [
    {
     "name": "stdout",
     "output_type": "stream",
     "text": [
      "a =  dict_keys(['name', 'phone', 'birth', 'address', 'rank'])\n",
      "b =  dict_keys([0])\n",
      "c =  dict_keys(['arr'])\n",
      "d =  dict_keys(['Name', 'City', 'Age', 'Grade', 'Statue'])\n",
      "a =  ['name', 'phone', 'birth', 'address', 'rank']\n"
     ]
    }
   ],
   "source": [
    "# dict_keys, dict_values, dict_items : 반복문(__iter__)에서 사용 가능\n",
    "print('a = ', a.keys()) # 키 값들만 가져온다\n",
    "print('b = ', b.keys())\n",
    "print('c = ', c.keys())\n",
    "print('d = ', d.keys())\n",
    "\n",
    "print('a = ', list(a.keys()))"
   ]
  },
  {
   "cell_type": "code",
   "execution_count": 28,
   "metadata": {},
   "outputs": [
    {
     "name": "stdout",
     "output_type": "stream",
     "text": [
      "a =  dict_values(['Kim', '01057809833', '981212', 'seoul', [1, 2, 3]])\n",
      "b =  dict_values(['hello'])\n",
      "c =  dict_values([[1, 2, 3, 4]])\n",
      "a =  ['Kim', '01057809833', '981212', 'seoul', [1, 2, 3]]\n",
      "b =  ['hello']\n"
     ]
    }
   ],
   "source": [
    "print('a = ', a.values())\n",
    "print('b = ', b.values())\n",
    "print('c = ', c.values())\n",
    "\n",
    "print('a = ', list(a.values()))\n",
    "print('b = ', list(b.values()))"
   ]
  },
  {
   "cell_type": "code",
   "execution_count": 30,
   "metadata": {},
   "outputs": [
    {
     "name": "stdout",
     "output_type": "stream",
     "text": [
      "a =  dict_items([('name', 'Kim'), ('phone', '01057809833'), ('birth', '981212'), ('address', 'seoul'), ('rank', [1, 2, 3])])\n",
      "b =  dict_items([(0, 'hello')])\n",
      "c =  dict_items([('arr', [1, 2, 3, 4])])\n",
      "a =  [('name', 'Kim'), ('phone', '01057809833'), ('birth', '981212'), ('address', 'seoul'), ('rank', [1, 2, 3])]\n",
      "b =  [(0, 'hello')]\n"
     ]
    }
   ],
   "source": [
    "print('a = ', a.items()) # 키와 벨류가 튜플 상태로 둘러쌓여서 하나의 리스트 형태로 나온다\n",
    "print('b = ', b.items())\n",
    "print('c = ', c.items())\n",
    "\n",
    "print('a = ', list(a.items()))\n",
    "print('b = ', list(b.items()))"
   ]
  },
  {
   "cell_type": "code",
   "execution_count": 35,
   "metadata": {},
   "outputs": [
    {
     "name": "stdout",
     "output_type": "stream",
     "text": [
      "a = Kim\n",
      "{'phone': '01057809833', 'birth': '981212'}\n",
      "c = [1, 2, 3, 4]\n",
      "{}\n"
     ]
    }
   ],
   "source": [
    "print('a =', a.pop('name'))\n",
    "print(a)\n",
    "\n",
    "print('c =', c.pop('arr'))\n",
    "print(c)"
   ]
  },
  {
   "cell_type": "code",
   "execution_count": 36,
   "metadata": {},
   "outputs": [
    {
     "name": "stdout",
     "output_type": "stream",
     "text": [
      "f = ('Statue', False)\n",
      "{'Name': 'SungWoo', 'City': 'incheon', 'Age': 26, 'Grade': 'A'}\n"
     ]
    }
   ],
   "source": [
    "print('f =', f.popitem())\n",
    "print(f)"
   ]
  },
  {
   "cell_type": "code",
   "execution_count": 41,
   "metadata": {},
   "outputs": [
    {
     "name": "stdout",
     "output_type": "stream",
     "text": [
      "a =  True\n",
      "a =  False\n"
     ]
    }
   ],
   "source": [
    "print('a = ', 'birth' in a) # a 안에 birth가 있어?\n",
    "print('a = ', 'births' in a)"
   ]
  },
  {
   "cell_type": "code",
   "execution_count": 46,
   "metadata": {},
   "outputs": [
    {
     "name": "stdout",
     "output_type": "stream",
     "text": [
      "{'phone': '01057809833', 'birth': '981212', 'test': 'test_dict', 'address': 'seoul'}\n",
      "{'phone': '01057809833', 'birth': '981212', 'test': 'test_dict', 'address': 'incheon'}\n",
      "{'phone': '01057809833', 'birth': '981212', 'test': 'test_dict', 'address': 'seoul'}\n",
      "{'phone': '01057809833', 'birth': '981212', 'test': 'test_dict', 'address': 'gang'}\n"
     ]
    }
   ],
   "source": [
    "# 수정\n",
    "a['test'] = 'test_dict'\n",
    "\n",
    "print(a)\n",
    "\n",
    "a['address'] = 'incheon'\n",
    "print(a)\n",
    "\n",
    "a['address'] = 'seoul'\n",
    "print(a)\n",
    "\n",
    "a.update(address = 'gang')\n",
    "print(a)"
   ]
  },
  {
   "cell_type": "code",
   "execution_count": 47,
   "metadata": {},
   "outputs": [
    {
     "name": "stdout",
     "output_type": "stream",
     "text": [
      "{'phone': '01057809833', 'birth': '981212', 'test': 'test_dict', 'address': 'Busan'}\n"
     ]
    }
   ],
   "source": [
    "temp = {\n",
    "    'address' : 'Busan'\n",
    "}\n",
    "\n",
    "a.update(temp)\n",
    "print(a)"
   ]
  }
 ],
 "metadata": {
  "kernelspec": {
   "display_name": "Python 3",
   "language": "python",
   "name": "python3"
  },
  "language_info": {
   "codemirror_mode": {
    "name": "ipython",
    "version": 3
   },
   "file_extension": ".py",
   "mimetype": "text/x-python",
   "name": "python",
   "nbconvert_exporter": "python",
   "pygments_lexer": "ipython3",
   "version": "3.10.10"
  }
 },
 "nbformat": 4,
 "nbformat_minor": 2
}
