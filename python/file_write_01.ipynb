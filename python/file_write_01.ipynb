{
 "cells": [
  {
   "cell_type": "markdown",
   "metadata": {},
   "source": [
    "# 파일 읽기 및 쓰기\n",
    "- 읽기 모드 : r, 쓰기 모드 : w, 추가 모드 : a, 텍스트 모드(기본값) : t, 바이너리 모드 : b\n",
    "- 상대 경로('../, ./'), 절대 경로('C:/Django ...')"
   ]
  },
  {
   "cell_type": "code",
   "execution_count": 6,
   "metadata": {},
   "outputs": [
    {
     "name": "stdout",
     "output_type": "stream",
     "text": [
      "['_CHUNK_SIZE', '__class__', '__del__', '__delattr__', '__dict__', '__dir__', '__doc__', '__enter__', '__eq__', '__exit__', '__format__', '__ge__', '__getattribute__', '__gt__', '__hash__', '__init__', '__init_subclass__', '__iter__', '__le__', '__lt__', '__ne__', '__new__', '__next__', '__reduce__', '__reduce_ex__', '__repr__', '__setattr__', '__sizeof__', '__str__', '__subclasshook__', '_checkClosed', '_checkReadable', '_checkSeekable', '_checkWritable', '_finalizing', 'buffer', 'close', 'closed', 'detach', 'encoding', 'errors', 'fileno', 'flush', 'isatty', 'line_buffering', 'mode', 'name', 'newlines', 'read', 'readable', 'readline', 'readlines', 'reconfigure', 'seek', 'seekable', 'tell', 'truncate', 'writable', 'write', 'write_through', 'writelines']\n",
      "UTF-8\n",
      "./resource/it_news.txt\n",
      "r\n"
     ]
    }
   ],
   "source": [
    "# 파일 읽기(read)\n",
    "\n",
    "f = open('./resource/it_news.txt', 'r', encoding = 'UTF-8') # 텍스트는 기본값이라 t 생략 가능\n",
    "# 속성 확인\n",
    "print(dir(f))\n",
    "# 인코딩 확인\n",
    "print(f.encoding)\n",
    "# 파일 이름\n",
    "print(f.name)\n",
    "# 모드 확인\n",
    "print(f.mode)"
   ]
  },
  {
   "cell_type": "code",
   "execution_count": 8,
   "metadata": {},
   "outputs": [
    {
     "name": "stdout",
     "output_type": "stream",
     "text": [
      "\n"
     ]
    }
   ],
   "source": [
    "cts = f.read()\n",
    "print(cts)\n",
    "# 반드시 close\n",
    "f.close()"
   ]
  },
  {
   "cell_type": "code",
   "execution_count": 9,
   "metadata": {},
   "outputs": [
    {
     "name": "stdout",
     "output_type": "stream",
     "text": [
      "Right now gamers can pay just $1 for access to hundreds of titles across PC \n",
      "and Xbox via Microsoft Xbox Game Pass Ultimate service?but dont \n",
      "activate that insanely cheap one-month trial just yet. You can lock in up to \n",
      "three years of Xbox Game Pass Ultimate with that same dollar if you play \n",
      "your cards right.\n",
      "\n",
      "When you activate Microsoft’s E3 2019 promotion, it not only begins the trial, \n",
      "but also converts existing Xbox Live Gold and standard Xbox Game Pass \n",
      "subscriptions on your account to Game Pass Ultimate (normally $15 per \n",
      "month). Any prepaid time up to the maximum of three years gets the upgrade.\n",
      "\n",
      "\n",
      "<str_iterator object at 0x000001FA474F3DC0>\n",
      "['R', 'i', 'g', 'h', 't', ' ', 'n', 'o', 'w', ' ', 'g', 'a', 'm', 'e', 'r', 's', ' ', 'c', 'a', 'n', ' ', 'p', 'a', 'y', ' ', 'j', 'u', 's', 't', ' ', '$', '1', ' ', 'f', 'o', 'r', ' ', 'a', 'c', 'c', 'e', 's', 's', ' ', 't', 'o', ' ', 'h', 'u', 'n', 'd', 'r', 'e', 'd', 's', ' ', 'o', 'f', ' ', 't', 'i', 't', 'l', 'e', 's', ' ', 'a', 'c', 'r', 'o', 's', 's', ' ', 'P', 'C', ' ', '\\n', 'a', 'n', 'd', ' ', 'X', 'b', 'o', 'x', ' ', 'v', 'i', 'a', ' ', 'M', 'i', 'c', 'r', 'o', 's', 'o', 'f', 't', ' ', 'X', 'b', 'o', 'x', ' ', 'G', 'a', 'm', 'e', ' ', 'P', 'a', 's', 's', ' ', 'U', 'l', 't', 'i', 'm', 'a', 't', 'e', ' ', 's', 'e', 'r', 'v', 'i', 'c', 'e', '?', 'b', 'u', 't', ' ', 'd', 'o', 'n', 't', ' ', '\\n', 'a', 'c', 't', 'i', 'v', 'a', 't', 'e', ' ', 't', 'h', 'a', 't', ' ', 'i', 'n', 's', 'a', 'n', 'e', 'l', 'y', ' ', 'c', 'h', 'e', 'a', 'p', ' ', 'o', 'n', 'e', '-', 'm', 'o', 'n', 't', 'h', ' ', 't', 'r', 'i', 'a', 'l', ' ', 'j', 'u', 's', 't', ' ', 'y', 'e', 't', '.', ' ', 'Y', 'o', 'u', ' ', 'c', 'a', 'n', ' ', 'l', 'o', 'c', 'k', ' ', 'i', 'n', ' ', 'u', 'p', ' ', 't', 'o', ' ', '\\n', 't', 'h', 'r', 'e', 'e', ' ', 'y', 'e', 'a', 'r', 's', ' ', 'o', 'f', ' ', 'X', 'b', 'o', 'x', ' ', 'G', 'a', 'm', 'e', ' ', 'P', 'a', 's', 's', ' ', 'U', 'l', 't', 'i', 'm', 'a', 't', 'e', ' ', 'w', 'i', 't', 'h', ' ', 't', 'h', 'a', 't', ' ', 's', 'a', 'm', 'e', ' ', 'd', 'o', 'l', 'l', 'a', 'r', ' ', 'i', 'f', ' ', 'y', 'o', 'u', ' ', 'p', 'l', 'a', 'y', ' ', '\\n', 'y', 'o', 'u', 'r', ' ', 'c', 'a', 'r', 'd', 's', ' ', 'r', 'i', 'g', 'h', 't', '.', '\\n', '\\n', 'W', 'h', 'e', 'n', ' ', 'y', 'o', 'u', ' ', 'a', 'c', 't', 'i', 'v', 'a', 't', 'e', ' ', 'M', 'i', 'c', 'r', 'o', 's', 'o', 'f', 't', '’', 's', ' ', 'E', '3', ' ', '2', '0', '1', '9', ' ', 'p', 'r', 'o', 'm', 'o', 't', 'i', 'o', 'n', ',', ' ', 'i', 't', ' ', 'n', 'o', 't', ' ', 'o', 'n', 'l', 'y', ' ', 'b', 'e', 'g', 'i', 'n', 's', ' ', 't', 'h', 'e', ' ', 't', 'r', 'i', 'a', 'l', ',', ' ', '\\n', 'b', 'u', 't', ' ', 'a', 'l', 's', 'o', ' ', 'c', 'o', 'n', 'v', 'e', 'r', 't', 's', ' ', 'e', 'x', 'i', 's', 't', 'i', 'n', 'g', ' ', 'X', 'b', 'o', 'x', ' ', 'L', 'i', 'v', 'e', ' ', 'G', 'o', 'l', 'd', ' ', 'a', 'n', 'd', ' ', 's', 't', 'a', 'n', 'd', 'a', 'r', 'd', ' ', 'X', 'b', 'o', 'x', ' ', 'G', 'a', 'm', 'e', ' ', 'P', 'a', 's', 's', ' ', '\\n', 's', 'u', 'b', 's', 'c', 'r', 'i', 'p', 't', 'i', 'o', 'n', 's', ' ', 'o', 'n', ' ', 'y', 'o', 'u', 'r', ' ', 'a', 'c', 'c', 'o', 'u', 'n', 't', ' ', 't', 'o', ' ', 'G', 'a', 'm', 'e', ' ', 'P', 'a', 's', 's', ' ', 'U', 'l', 't', 'i', 'm', 'a', 't', 'e', ' ', '(', 'n', 'o', 'r', 'm', 'a', 'l', 'l', 'y', ' ', '$', '1', '5', ' ', 'p', 'e', 'r', ' ', '\\n', 'm', 'o', 'n', 't', 'h', ')', '.', ' ', 'A', 'n', 'y', ' ', 'p', 'r', 'e', 'p', 'a', 'i', 'd', ' ', 't', 'i', 'm', 'e', ' ', 'u', 'p', ' ', 't', 'o', ' ', 't', 'h', 'e', ' ', 'm', 'a', 'x', 'i', 'm', 'u', 'm', ' ', 'o', 'f', ' ', 't', 'h', 'r', 'e', 'e', ' ', 'y', 'e', 'a', 'r', 's', ' ', 'g', 'e', 't', 's', ' ', 't', 'h', 'e', ' ', 'u', 'p', 'g', 'r', 'a', 'd', 'e', '.', '\\n', '\\n']\n",
      "\n"
     ]
    }
   ],
   "source": [
    "with open('./resource/it_news.txt', 'r', encoding = 'UTF-8') as f : # close 생략 가능\n",
    "    c = f.read()\n",
    "    print(c)\n",
    "    print(iter(c))\n",
    "    print(list(c))"
   ]
  },
  {
   "cell_type": "code",
   "execution_count": 15,
   "metadata": {},
   "outputs": [
    {
     "name": "stdout",
     "output_type": "stream",
     "text": [
      "Right now gamers can\n",
      " pay just $1 for acc\n",
      "Right now gamers can\n"
     ]
    }
   ],
   "source": [
    "# read() : 전체 읽기, read(10) : 10 Byte\n",
    "with open('./resource/it_news.txt', 'r', encoding = 'UTF-8') as f : # close 생략 가능\n",
    "    c = f.read(20)\n",
    "    print(c)\n",
    "    c = f.read(20)\n",
    "    print(c)\n",
    "    f.seek(0, 0) # 다시 처음으로\n",
    "    c = f.read(20) \n",
    "    print(c)"
   ]
  },
  {
   "cell_type": "code",
   "execution_count": 17,
   "metadata": {},
   "outputs": [
    {
     "name": "stdout",
     "output_type": "stream",
     "text": [
      "Right now gamers can pay just $1 for access to hundreds of titles across PC \n",
      "\n",
      "and Xbox via Microsoft Xbox Game Pass Ultimate service?but dont \n",
      "\n"
     ]
    }
   ],
   "source": [
    "# readline : 한 줄 씩 읽기\n",
    "with open('./resource/it_news.txt', 'r', encoding = 'UTF-8') as f :\n",
    "    line = f.readline()\n",
    "    print(line)\n",
    "    line = f.readline()\n",
    "    print(line)"
   ]
  },
  {
   "cell_type": "code",
   "execution_count": 19,
   "metadata": {},
   "outputs": [
    {
     "name": "stdout",
     "output_type": "stream",
     "text": [
      "['Right now gamers can pay just $1 for access to hundreds of titles across PC \\n', 'and Xbox via Microsoft Xbox Game Pass Ultimate service?but dont \\n', 'activate that insanely cheap one-month trial just yet. You can lock in up to \\n', 'three years of Xbox Game Pass Ultimate with that same dollar if you play \\n', 'your cards right.\\n', '\\n', 'When you activate Microsoft’s E3 2019 promotion, it not only begins the trial, \\n', 'but also converts existing Xbox Live Gold and standard Xbox Game Pass \\n', 'subscriptions on your account to Game Pass Ultimate (normally $15 per \\n', 'month). Any prepaid time up to the maximum of three years gets the upgrade.\\n', '\\n']\n",
      "\n",
      "Right now gamers can pay just $1 for access to hundreds of titles across PC \n",
      "and Xbox via Microsoft Xbox Game Pass Ultimate service?but dont \n",
      "activate that insanely cheap one-month trial just yet. You can lock in up to \n",
      "three years of Xbox Game Pass Ultimate with that same dollar if you play \n",
      "your cards right.\n",
      "\n",
      "When you activate Microsoft’s E3 2019 promotion, it not only begins the trial, \n",
      "but also converts existing Xbox Live Gold and standard Xbox Game Pass \n",
      "subscriptions on your account to Game Pass Ultimate (normally $15 per \n",
      "month). Any prepaid time up to the maximum of three years gets the upgrade.\n",
      "\n"
     ]
    }
   ],
   "source": [
    "# readlines : 전체를 읽은 후 라인 단위 리스트로 저장\n",
    "\n",
    "with open('./resource/it_news.txt', 'r', encoding = 'UTF-8') as f :\n",
    "    cts = f.readlines()\n",
    "    print(cts)\n",
    "    print()\n",
    "    for c in cts :\n",
    "        print(c, end = '')"
   ]
  },
  {
   "cell_type": "code",
   "execution_count": 20,
   "metadata": {},
   "outputs": [],
   "source": [
    "# 파일 쓰기(write)\n",
    "\n",
    "with open('./resource/contents1.txt', 'w') as f :\n",
    "    f.write('I am sungwoo\\n')"
   ]
  },
  {
   "cell_type": "code",
   "execution_count": 24,
   "metadata": {},
   "outputs": [],
   "source": [
    "with open('./resource/contents1.txt', 'a') as f : # 추가\n",
    "    f.write('I am sungwoo1\\n')"
   ]
  },
  {
   "cell_type": "code",
   "execution_count": 26,
   "metadata": {},
   "outputs": [],
   "source": [
    "# writelines : 리스트 -> 파일\n",
    "with open('./resource/contents2.txt', 'a') as f :\n",
    "    list = ['Orange\\n', 'Apple\\n', 'Banana\\n']\n",
    "    f.writelines(list)"
   ]
  },
  {
   "cell_type": "code",
   "execution_count": 27,
   "metadata": {},
   "outputs": [],
   "source": [
    "with open('./resource/contents3.txt', 'a') as f :\n",
    "    print('Test Text Write!', file = f)\n",
    "    print('Test Text Write!', file = f)\n",
    "    print('Test Text Write!', file = f)"
   ]
  },
  {
   "cell_type": "code",
   "execution_count": null,
   "metadata": {},
   "outputs": [],
   "source": []
  }
 ],
 "metadata": {
  "kernelspec": {
   "display_name": "Python 3",
   "language": "python",
   "name": "python3"
  },
  "language_info": {
   "codemirror_mode": {
    "name": "ipython",
    "version": 3
   },
   "file_extension": ".py",
   "mimetype": "text/x-python",
   "name": "python",
   "nbconvert_exporter": "python",
   "pygments_lexer": "ipython3",
   "version": "3.10.10"
  }
 },
 "nbformat": 4,
 "nbformat_minor": 2
}
