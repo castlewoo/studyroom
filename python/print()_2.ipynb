{
 "cells": [
  {
   "cell_type": "markdown",
   "metadata": {},
   "source": [
    "# print() 추가적으로 쓰는 것들\n",
    "    - f string은 자주 쓰이니 익숙해져야한다."
   ]
  },
  {
   "cell_type": "code",
   "execution_count": 2,
   "metadata": {},
   "outputs": [],
   "source": [
    "x = 50\n",
    "y = 100\n",
    "text = 308276567\n",
    "n = 'kim'"
   ]
  },
  {
   "cell_type": "code",
   "execution_count": 5,
   "metadata": {},
   "outputs": [
    {
     "name": "stdout",
     "output_type": "stream",
     "text": [
      "n = kim, s = 308276567, sum = 150\n"
     ]
    }
   ],
   "source": [
    "# 출력 1\n",
    "ex1 = 'n = %s, s = %s, sum = %d' % (n, text, (x+y))\n",
    "print(ex1)"
   ]
  },
  {
   "cell_type": "code",
   "execution_count": 8,
   "metadata": {},
   "outputs": [
    {
     "name": "stdout",
     "output_type": "stream",
     "text": [
      "n = kim, s = 308276567, sum = 150\n"
     ]
    }
   ],
   "source": [
    "# 출력 2\n",
    "ex2 = 'n = {n}, s = {s}, sum = {sum}'.format(n = n, s = text, sum = x+y) \n",
    "print(ex2)"
   ]
  },
  {
   "cell_type": "code",
   "execution_count": 10,
   "metadata": {},
   "outputs": [
    {
     "name": "stdout",
     "output_type": "stream",
     "text": [
      "n = kim, s = 308276567, sum = x + y\n"
     ]
    }
   ],
   "source": [
    "# 출력 3\n",
    "ex3 = f'n = {n}, s = {text}, sum = x + y' # f-string이 제일 많이 쓰인다. f'안에 넣기' 이런식으로\n",
    "print(ex3)"
   ]
  },
  {
   "cell_type": "code",
   "execution_count": 14,
   "metadata": {},
   "outputs": [
    {
     "name": "stdout",
     "output_type": "stream",
     "text": [
      "m :  10,000,000,000\n",
      " 10,000,000,000\n"
     ]
    }
   ],
   "source": [
    "# 구분기호\n",
    "m = 10000000000\n",
    "\n",
    "print(f'm : {m : ,}')  # 구분 기호 표시할때\n",
    "print(f'{m : ,}')"
   ]
  },
  {
   "cell_type": "markdown",
   "metadata": {},
   "source": [
    "#### 정렬\n",
    "    - ^ : 가운데 정렬\n",
    "    - < : 왼쪽 정렬\n",
    "    - > : 오른쪽 정렬"
   ]
  },
  {
   "cell_type": "code",
   "execution_count": 7,
   "metadata": {},
   "outputs": [
    {
     "name": "stdout",
     "output_type": "stream",
     "text": [
      "t :         20\n",
      "t center :     20    \n",
      "t left : 20        \n",
      "t right :         20\n",
      "t center : ****20****\n",
      "t center : 20########\n"
     ]
    }
   ],
   "source": [
    "t = 20\n",
    "\n",
    "print(f't : {t:10}')\n",
    "print(f't center : {t:^10}')\n",
    "print(f't left : {t:<10}')\n",
    "print(f't right : {t:>10}')\n",
    "\n",
    "print(f't center : {t:*^10}')\n",
    "print(f't center : {t:#<10}')"
   ]
  }
 ],
 "metadata": {
  "kernelspec": {
   "display_name": "Python 3",
   "language": "python",
   "name": "python3"
  },
  "language_info": {
   "codemirror_mode": {
    "name": "ipython",
    "version": 3
   },
   "file_extension": ".py",
   "mimetype": "text/x-python",
   "name": "python",
   "nbconvert_exporter": "python",
   "pygments_lexer": "ipython3",
   "version": "3.10.10"
  }
 },
 "nbformat": 4,
 "nbformat_minor": 2
}
