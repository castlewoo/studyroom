{
 "cells": [
  {
   "cell_type": "markdown",
   "metadata": {},
   "source": [
    "# 파이썬 내장(Bulit-in) 함수"
   ]
  },
  {
   "cell_type": "code",
   "execution_count": 1,
   "metadata": {},
   "outputs": [
    {
     "name": "stdout",
     "output_type": "stream",
     "text": [
      "2\n"
     ]
    }
   ],
   "source": [
    "# 절대값\n",
    "print(abs(-2))"
   ]
  },
  {
   "cell_type": "code",
   "execution_count": 11,
   "metadata": {},
   "outputs": [
    {
     "name": "stdout",
     "output_type": "stream",
     "text": [
      "False\n",
      "True\n",
      "True\n"
     ]
    }
   ],
   "source": [
    "# all : tieralble 요소 검사(참, 거짓)\n",
    "print(all([1, 2, '']))\n",
    "print(all([1, 2, 3]))\n",
    "print(any([1, 2, '']))"
   ]
  },
  {
   "cell_type": "code",
   "execution_count": 14,
   "metadata": {},
   "outputs": [
    {
     "name": "stdout",
     "output_type": "stream",
     "text": [
      ",\n",
      "M\n",
      "77\n"
     ]
    }
   ],
   "source": [
    "# chr : 아스키 -> 문자, ord : 문자 -> 아스키\n",
    "print(chr(44))\n",
    "print(chr(77))\n",
    "print(ord('M'))"
   ]
  },
  {
   "cell_type": "code",
   "execution_count": 15,
   "metadata": {},
   "outputs": [
    {
     "name": "stdout",
     "output_type": "stream",
     "text": [
      "0 abc\n",
      "1 bcd\n",
      "2 efh\n"
     ]
    }
   ],
   "source": [
    "# enumerate : 인덱스 + Iterable 객체 생성\n",
    "for i, name in enumerate(['abc', 'bcd', 'efh']) :\n",
    "    print(i, name)"
   ]
  },
  {
   "cell_type": "code",
   "execution_count": 22,
   "metadata": {},
   "outputs": [
    {
     "name": "stdout",
     "output_type": "stream",
     "text": [
      "[-3, -5, 6]\n",
      "[-3, -5, 6]\n"
     ]
    }
   ],
   "source": [
    "# filter : 반복가능한 객체 요소를 지정한 함수 조건에 맞는 값 추출\n",
    "def conv_pos(x) :\n",
    "    return abs(x) > 2\n",
    "\n",
    "print(list(filter(conv_pos, [1, -3, 2, 0, -5, 6]))) # 전처리 할 때 많이 사용\n",
    "print(list(filter(lambda x : abs(x) > 2, [1, -3, 2, 0, -5, 6]))) # 람다사용 "
   ]
  },
  {
   "cell_type": "code",
   "execution_count": 23,
   "metadata": {},
   "outputs": [
    {
     "name": "stdout",
     "output_type": "stream",
     "text": [
      "2806809690480\n",
      "2806809690448\n"
     ]
    }
   ],
   "source": [
    "# id : 객체의 주소값(레퍼런스) 반환\n",
    "print(id(int(5)))\n",
    "print(id(4))"
   ]
  },
  {
   "cell_type": "code",
   "execution_count": 27,
   "metadata": {},
   "outputs": [
    {
     "name": "stdout",
     "output_type": "stream",
     "text": [
      "9\n",
      "4\n"
     ]
    }
   ],
   "source": [
    "# len : 요소의 길이 반환\n",
    "print(len('abcdfsfsd'))\n",
    "print(len([1, 5, 4, 5]))"
   ]
  },
  {
   "cell_type": "code",
   "execution_count": 29,
   "metadata": {},
   "outputs": [
    {
     "name": "stdout",
     "output_type": "stream",
     "text": [
      "3\n",
      "w\n",
      " \n",
      "K\n"
     ]
    }
   ],
   "source": [
    "# max, min : 최대값, 최소값\n",
    "print(max([1, 2, 3]))\n",
    "print(max('Kim sungwoo'))\n",
    "print(min('Kim sungwoo'))\n",
    "print(min('Kimsungwoo'))"
   ]
  },
  {
   "cell_type": "code",
   "execution_count": 34,
   "metadata": {},
   "outputs": [
    {
     "name": "stdout",
     "output_type": "stream",
     "text": [
      "[1, 3, 10, 4, 5]\n",
      "[1, 3, 10, 4, 5]\n"
     ]
    }
   ],
   "source": [
    "# map : 반복가능한 객체 요소를 지정한 함수 실행 후 추출\n",
    "def conv_abs(x) :\n",
    "    return abs(x)\n",
    "\n",
    "print(list(map(conv_abs, [1, 3, -10, 4, 5])))\n",
    "print(list(map(lambda x : abs(x), [1, 3, -10, 4, 5])))"
   ]
  },
  {
   "cell_type": "code",
   "execution_count": 38,
   "metadata": {},
   "outputs": [
    {
     "name": "stdout",
     "output_type": "stream",
     "text": [
      "100\n",
      "[1, 3, 5, 7, 9, 11, 13, 15, 17, 19]\n",
      "[0, -1, -2, -3, -4, -5, -6, -7, -8, -9, -10, -11, -12, -13, -14]\n"
     ]
    }
   ],
   "source": [
    "# pow : 제곱값 반환\n",
    "print(pow(10, 2))\n",
    "\n",
    "# range : 반복가능한 객체(Iterable) 반환\n",
    "print(list(range(1, 20, 2)))\n",
    "print(list(range(0, -15, -1)))"
   ]
  },
  {
   "cell_type": "code",
   "execution_count": 41,
   "metadata": {},
   "outputs": [
    {
     "name": "stdout",
     "output_type": "stream",
     "text": [
      "3.1416\n",
      "6\n"
     ]
    }
   ],
   "source": [
    "# round: 반올림\n",
    "print(round(3.141592, 4))\n",
    "print(round(5.6))"
   ]
  },
  {
   "cell_type": "code",
   "execution_count": 43,
   "metadata": {},
   "outputs": [
    {
     "name": "stdout",
     "output_type": "stream",
     "text": [
      "[1, 4, 5, 6, 8, 9]\n",
      "['g', 'n', 'o', 'o', 's', 'u', 'w']\n"
     ]
    }
   ],
   "source": [
    "# sorted : 반복가능한 객체(Iterable)를 정렬 후 반환\n",
    "print(sorted([6, 5, 1, 4, 8, 9]))\n",
    "print(sorted(['s', 'u', 'n', 'g', 'w', 'o', 'o']))"
   ]
  },
  {
   "cell_type": "code",
   "execution_count": 48,
   "metadata": {},
   "outputs": [
    {
     "name": "stdout",
     "output_type": "stream",
     "text": [
      "15\n",
      "5050\n"
     ]
    }
   ],
   "source": [
    "# sum : 반복가능한 객체(Iterable) 합 반환\n",
    "print(sum([1, 2, 3, 4, 5]))\n",
    "print(sum(range(1, 101)))"
   ]
  },
  {
   "cell_type": "code",
   "execution_count": 49,
   "metadata": {},
   "outputs": [
    {
     "name": "stdout",
     "output_type": "stream",
     "text": [
      "<class 'int'>\n",
      "<class 'dict'>\n"
     ]
    }
   ],
   "source": [
    "# type : 자료형 확인\n",
    "print(type(3))\n",
    "print(type({}))"
   ]
  },
  {
   "cell_type": "code",
   "execution_count": 53,
   "metadata": {},
   "outputs": [
    {
     "name": "stdout",
     "output_type": "stream",
     "text": [
      "[(10, 40), (20, 50), (30, 60)]\n",
      "[(10, 40), (20, 50)]\n"
     ]
    }
   ],
   "source": [
    "# zip : 반복가능한 객체(Iterable)의 요소를 묶어서 반환\n",
    "print(list(zip([10, 20, 30,], [40, 50, 60]))) # 튜플로 만든다\n",
    "print(list(zip([10, 20, 30,], [40, 50]))) # 짝이 없는건 반환되지 않는다"
   ]
  }
 ],
 "metadata": {
  "kernelspec": {
   "display_name": "Python 3",
   "language": "python",
   "name": "python3"
  },
  "language_info": {
   "codemirror_mode": {
    "name": "ipython",
    "version": 3
   },
   "file_extension": ".py",
   "mimetype": "text/x-python",
   "name": "python",
   "nbconvert_exporter": "python",
   "pygments_lexer": "ipython3",
   "version": "3.10.10"
  }
 },
 "nbformat": 4,
 "nbformat_minor": 2
}
