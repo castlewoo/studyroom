{
 "cells": [
  {
   "cell_type": "markdown",
   "metadata": {},
   "source": [
    "# 사용자 입력(input)\n",
    "- Input 사용법\n",
    "- 기본 타입 (str)"
   ]
  },
  {
   "cell_type": "code",
   "execution_count": 3,
   "metadata": {},
   "outputs": [
    {
     "name": "stdout",
     "output_type": "stream",
     "text": [
      "kimsungwoo 4 none\n"
     ]
    }
   ],
   "source": [
    "name = input(\"Enter your name :\")\n",
    "grade = input(\"Enter your Grade :\")\n",
    "company = input(\"Enter your company :\")\n",
    "\n",
    "print(name, grade, company)"
   ]
  },
  {
   "cell_type": "code",
   "execution_count": 4,
   "metadata": {},
   "outputs": [
    {
     "name": "stdout",
     "output_type": "stream",
     "text": [
      "type of number <class 'str'>\n",
      "type of name <class 'str'>\n"
     ]
    }
   ],
   "source": [
    "number = input(\"Enter number : \")\n",
    "name = input(\"Enter name : \")\n",
    "\n",
    "print(\"type of number\", type(number))\n",
    "print(\"type of name\", type(name))\n",
    "\n",
    "# 무조건 class 는 str 형태로 나옴"
   ]
  },
  {
   "cell_type": "code",
   "execution_count": 5,
   "metadata": {},
   "outputs": [
    {
     "name": "stdout",
     "output_type": "stream",
     "text": [
      "total number : 80\n"
     ]
    }
   ],
   "source": [
    "F_number = int(input(\"enter number1 : \")) # 형 변환 가능\n",
    "S_number = int(input(\"enter number2 : \"))\n",
    "\n",
    "total = F_number + S_number\n",
    "\n",
    "print(\"total number :\", total) "
   ]
  },
  {
   "cell_type": "code",
   "execution_count": 6,
   "metadata": {},
   "outputs": [
    {
     "name": "stdout",
     "output_type": "stream",
     "text": [
      "input float  :  50.0\n",
      "input float  :  <class 'float'>\n"
     ]
    }
   ],
   "source": [
    "float_number = float(input(\"Enter & float number :\")) # 형 변환 가능\n",
    "\n",
    "print(\"input float  : \", float_number)\n",
    "print(\"input float  : \", type(float_number))"
   ]
  },
  {
   "cell_type": "code",
   "execution_count": 8,
   "metadata": {},
   "outputs": [
    {
     "name": "stdout",
     "output_type": "stream",
     "text": [
      "FirstName  - kim, LastName - sung\n"
     ]
    }
   ],
   "source": [
    "print(\"FirstName  - {0}, LastName - {1}\".format(input(\"Enter first name : \"), input(\"Enter second name : \")))"
   ]
  },
  {
   "cell_type": "code",
   "execution_count": 10,
   "metadata": {},
   "outputs": [
    {
     "name": "stdout",
     "output_type": "stream",
     "text": [
      "This is not a number.\n"
     ]
    }
   ],
   "source": [
    "# 예외처리 (숫자가 아니라 다른 형태가 들어왔을때 처리하는 방법)\n",
    "try :\n",
    "    number = int(input(\"enter number1 : \"))\n",
    "    print(\"OK. your number is : \", number)\n",
    "except ValueError :\n",
    "    print(\"This is not a number.\")"
   ]
  },
  {
   "cell_type": "code",
   "execution_count": 12,
   "metadata": {},
   "outputs": [
    {
     "name": "stdout",
     "output_type": "stream",
     "text": [
      "This is not a number.\n",
      "This is not a number.\n",
      "This is not a number.\n",
      "OK. your number is :  5\n"
     ]
    }
   ],
   "source": [
    "# 예외처리 -> 올바른 값 입력 완료 까지 지속\n",
    "while True :\n",
    "    try :\n",
    "        number = int(input(\"enter number1 : \"))\n",
    "        break\n",
    "    except ValueError :\n",
    "        print(\"This is not a number.\")\n",
    "    \n",
    "print(\"OK. your number is : \", number)\n",
    "    "
   ]
  }
 ],
 "metadata": {
  "kernelspec": {
   "display_name": "Python 3",
   "language": "python",
   "name": "python3"
  },
  "language_info": {
   "codemirror_mode": {
    "name": "ipython",
    "version": 3
   },
   "file_extension": ".py",
   "mimetype": "text/x-python",
   "name": "python",
   "nbconvert_exporter": "python",
   "pygments_lexer": "ipython3",
   "version": "3.10.10"
  }
 },
 "nbformat": 4,
 "nbformat_minor": 2
}
