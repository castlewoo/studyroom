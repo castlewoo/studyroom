{
 "cells": [
  {
   "cell_type": "markdown",
   "metadata": {},
   "source": [
    "# 패키지(package)\n",
    "- 모듈의 분할된 개별적인 모듈이 모여서 하나의 패키지가 되는 것\n",
    "- 모듈이 뭉쳐있는\n",
    "- 파이썬은 패키지로 분할 된 개별적인 모듈로 구성\n",
    "- __init__.py : Python 3.3 부터는 없어도 패키지로 인식 -> 단, 하위 호완을 위해 작성 추천\n",
    "- 상대경로 : ..(부모 디렉토리), .(현재 디렉토리) "
   ]
  },
  {
   "cell_type": "code",
   "execution_count": 3,
   "metadata": {},
   "outputs": [],
   "source": [
    "# 같은 경로상에 있으면 불러올 수 있다.\n",
    "import package1.module1\n",
    "import package2.module2"
   ]
  },
  {
   "cell_type": "code",
   "execution_count": 4,
   "metadata": {},
   "outputs": [
    {
     "name": "stdout",
     "output_type": "stream",
     "text": [
      "Module1 -> Test1\n",
      "Path :  c:\\Users\\82105\\TIL\\python\\package1\\module1.py\n",
      "Module1 -> Test2\n",
      "Path :  c:\\Users\\82105\\TIL\\python\\package1\\module1.py\n",
      "Module2 -> Test1\n",
      "Path :  c:\\Users\\82105\\TIL\\python\\package2\\module2.py\n",
      "Module2 -> Test2\n",
      "Path :  c:\\Users\\82105\\TIL\\python\\package2\\module2.py\n"
     ]
    }
   ],
   "source": [
    "package1.module1.mod1_test1()\n",
    "package1.module1.mod1_test2()\n",
    "\n",
    "package2.module2.mod2_test1()\n",
    "package2.module2.mod2_test2()"
   ]
  },
  {
   "cell_type": "code",
   "execution_count": 5,
   "metadata": {},
   "outputs": [],
   "source": [
    "from package1 import module1\n",
    "from package2 import module2 as m2 # alias"
   ]
  },
  {
   "cell_type": "code",
   "execution_count": 8,
   "metadata": {},
   "outputs": [
    {
     "name": "stdout",
     "output_type": "stream",
     "text": [
      "Module1 -> Test1\n",
      "Path :  c:\\Users\\82105\\TIL\\python\\package1\\module1.py\n",
      "Module1 -> Test2\n",
      "Path :  c:\\Users\\82105\\TIL\\python\\package1\\module1.py\n",
      "Module2 -> Test1\n",
      "Path :  c:\\Users\\82105\\TIL\\python\\package2\\module2.py\n",
      "Module2 -> Test2\n",
      "Path :  c:\\Users\\82105\\TIL\\python\\package2\\module2.py\n"
     ]
    }
   ],
   "source": [
    "module1.mod1_test1()\n",
    "module1.mod1_test2()\n",
    "\n",
    "m2.mod2_test1()\n",
    "m2.mod2_test2()"
   ]
  },
  {
   "cell_type": "code",
   "execution_count": 9,
   "metadata": {},
   "outputs": [],
   "source": [
    "from package1 import * # 전부다 가져오는건데 비효율적이다(사용할 것만 가져올 것)"
   ]
  }
 ],
 "metadata": {
  "kernelspec": {
   "display_name": "Python 3",
   "language": "python",
   "name": "python3"
  },
  "language_info": {
   "codemirror_mode": {
    "name": "ipython",
    "version": 3
   },
   "file_extension": ".py",
   "mimetype": "text/x-python",
   "name": "python",
   "nbconvert_exporter": "python",
   "pygments_lexer": "ipython3",
   "version": "3.10.10"
  }
 },
 "nbformat": 4,
 "nbformat_minor": 2
}
