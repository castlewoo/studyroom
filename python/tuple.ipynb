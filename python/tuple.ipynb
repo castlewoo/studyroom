{
 "cells": [
  {
   "cell_type": "markdown",
   "metadata": {},
   "source": [
    "# 튜플(Tuple)\n",
    "- 리스트와 비교하는게 중요\n",
    "- 튜플 자료형(순서O, 중복O, 수정X, 삭제X) 불변"
   ]
  },
  {
   "cell_type": "code",
   "execution_count": 12,
   "metadata": {},
   "outputs": [
    {
     "name": "stdout",
     "output_type": "stream",
     "text": [
      "<class 'tuple'> <class 'tuple'>\n"
     ]
    }
   ],
   "source": [
    "# 선언\n",
    "\n",
    "a = ()\n",
    "b = (1,)\n",
    "\n",
    "print(type(a), type(b)) # 원소가 하나일 때 int로 인식하기 때문에 뒤에 ,를 찍는다\n",
    "\n",
    "c = (11, 12, 13, 14)\n",
    "d = (100, 10000, 'ACE', 'Base', 'Captine')\n",
    "e = (100, 10000, ('ACE', 'Base', 'Captine'))"
   ]
  },
  {
   "cell_type": "code",
   "execution_count": 15,
   "metadata": {},
   "outputs": [
    {
     "name": "stdout",
     "output_type": "stream",
     "text": [
      "d = 10000\n",
      "d = 10100\n",
      "d = Captine\n",
      "d = ('ACE', 'Base', 'Captine')\n",
      "d = Base\n",
      "d = ['B', 'a', 's', 'e']\n"
     ]
    }
   ],
   "source": [
    "# 인덱싱\n",
    "print('d =', d[1])\n",
    "print('d =', d[0] + d[1])\n",
    "print('d =', d[-1])\n",
    "print('d =', e[-1])\n",
    "print('d =', e[-1][1])\n",
    "print('d =', list(e[-1][1])) # 리스트로 변환 가능"
   ]
  },
  {
   "cell_type": "code",
   "execution_count": 19,
   "metadata": {},
   "outputs": [
    {
     "name": "stdout",
     "output_type": "stream",
     "text": [
      "d = (100, 10000, 'ACE')\n",
      "d = ('ACE', 'Base', 'Captine')\n",
      "d = ('Base', 'Captine')\n"
     ]
    }
   ],
   "source": [
    "# 수정 X\n",
    "\n",
    "# d[0] = 1500\n",
    "# TypeError: 'tuple' object does not support item assignment 수정이 안된다\n",
    "\n",
    "# 슬라이싱\n",
    "print('d =', d[0:3])\n",
    "print('d =', d[2:])\n",
    "print('d =', e[2][1:3])"
   ]
  },
  {
   "cell_type": "code",
   "execution_count": 21,
   "metadata": {},
   "outputs": [
    {
     "name": "stdout",
     "output_type": "stream",
     "text": [
      "c + d (11, 12, 13, 14, 100, 10000, 'ACE', 'Base', 'Captine')\n",
      "c * 3 (11, 12, 13, 14, 11, 12, 13, 14, 11, 12, 13, 14)\n"
     ]
    }
   ],
   "source": [
    "# 튜플 연산\n",
    "print('c + d', c + d)\n",
    "print('c * 3', c * 3)"
   ]
  },
  {
   "cell_type": "code",
   "execution_count": 24,
   "metadata": {},
   "outputs": [
    {
     "name": "stdout",
     "output_type": "stream",
     "text": [
      "a = (5, 2, 3, 1, 4)\n",
      "2\n",
      "1\n"
     ]
    }
   ],
   "source": [
    "# 튜플 함수\n",
    "a = (5, 2, 3, 1, 4)\n",
    "print('a =', a)\n",
    "print(a.index(3))\n",
    "print(a.count(2))"
   ]
  },
  {
   "cell_type": "code",
   "execution_count": 28,
   "metadata": {},
   "outputs": [
    {
     "name": "stdout",
     "output_type": "stream",
     "text": [
      "('foo', 'bar', 'baz', 'qux')\n",
      "foo\n",
      "<class 'str'> <class 'str'> <class 'str'> <class 'str'>\n",
      "foo bar baz qux\n"
     ]
    }
   ],
   "source": [
    "# 팩킹 과 언팩킹\n",
    "\n",
    "# 팩킹\n",
    "t = ('foo', 'bar', 'baz', 'qux') # 하나로 묶은 것\n",
    "\n",
    "print(t)\n",
    "print(t[0])\n",
    "\n",
    "# 언팩킹\n",
    "(x1, x2, x3, x4) = t # 괄호가 없어도 가능 \n",
    "\n",
    "print(type(x1), type(x2), type(x3), type(x4)) # 묶여있던 걸 각각 풀어서 할당하는 것\n",
    "print(x1, x2, x3, x4)"
   ]
  },
  {
   "cell_type": "code",
   "execution_count": 29,
   "metadata": {},
   "outputs": [
    {
     "name": "stdout",
     "output_type": "stream",
     "text": [
      "(1, 2, 3)\n",
      "(4,)\n",
      "1 2 3\n",
      "4 5 6\n"
     ]
    }
   ],
   "source": [
    "t2 = 1, 2, 3 # 괄호가 없어도 튜플\n",
    "t3 = 4,\n",
    "x1, x2, x3 = t2\n",
    "x4, x5, x6 = 4, 5, 6\n",
    "\n",
    "print(t2)\n",
    "print(t3)\n",
    "print(x1, x2, x3)\n",
    "print(x4, x5, x6)"
   ]
  }
 ],
 "metadata": {
  "kernelspec": {
   "display_name": "Python 3",
   "language": "python",
   "name": "python3"
  },
  "language_info": {
   "codemirror_mode": {
    "name": "ipython",
    "version": 3
   },
   "file_extension": ".py",
   "mimetype": "text/x-python",
   "name": "python",
   "nbconvert_exporter": "python",
   "pygments_lexer": "ipython3",
   "version": "3.10.10"
  }
 },
 "nbformat": 4,
 "nbformat_minor": 2
}
