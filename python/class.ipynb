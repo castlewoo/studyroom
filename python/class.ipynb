{
 "cells": [
  {
   "cell_type": "markdown",
   "metadata": {},
   "source": [
    "# 클래스(Class)\n",
    "- OOP(객체 지향 프로그래밍), self, 인스턴스 메소드, 인스턴스 변수\n",
    "- 클래스 and 인스턴스 차이를 이해하자\n",
    "- 클래스 변수 : 직접 접근 가능, 공유\n",
    "- 인스턴스 변수 : 객체마다 별도 존재"
   ]
  },
  {
   "cell_type": "code",
   "execution_count": 162,
   "metadata": {},
   "outputs": [],
   "source": [
    "class Dog1(object) : # object 상속\n",
    "    # 클래스 속성\n",
    "    species = 'firstdog'\n",
    "\n",
    "    # 초기화/인스턴스 속성\n",
    "    def __init__(self, name, age) :\n",
    "        self.name = name\n",
    "        self.age = age"
   ]
  },
  {
   "cell_type": "code",
   "execution_count": 145,
   "metadata": {},
   "outputs": [
    {
     "name": "stdout",
     "output_type": "stream",
     "text": [
      "<class '__main__.Dog'>\n"
     ]
    }
   ],
   "source": [
    "# 클래스 정보\n",
    "print(Dog)"
   ]
  },
  {
   "cell_type": "code",
   "execution_count": 146,
   "metadata": {},
   "outputs": [],
   "source": [
    "# 인스턴스화\n",
    "a = Dog(\"mikky\", 2)\n",
    "b = Dog(\"popy\", 10)\n",
    "c = Dog(\"mikky\", 2)"
   ]
  },
  {
   "cell_type": "code",
   "execution_count": 147,
   "metadata": {},
   "outputs": [
    {
     "name": "stdout",
     "output_type": "stream",
     "text": [
      "False 2253111772544 2253111776144 2253111771632\n"
     ]
    }
   ],
   "source": [
    "# 비교\n",
    "print(a == b, id(a), id(b), id(c))"
   ]
  },
  {
   "cell_type": "code",
   "execution_count": 148,
   "metadata": {},
   "outputs": [
    {
     "name": "stdout",
     "output_type": "stream",
     "text": [
      "dog1 {'name': 'mikky', 'age': 2}\n",
      "dog2 {'name': 'popy', 'age': 10}\n"
     ]
    }
   ],
   "source": [
    "# 네이스페이스 : 객체를 인스턴스화 할 때 저장된 공간\n",
    "print('dog1', a.__dict__)\n",
    "print('dog2', b.__dict__)"
   ]
  },
  {
   "cell_type": "code",
   "execution_count": 149,
   "metadata": {},
   "outputs": [
    {
     "name": "stdout",
     "output_type": "stream",
     "text": [
      "mikky is 2 and popy is 10\n"
     ]
    }
   ],
   "source": [
    "# 인스턴스 속성 확인\n",
    "print('{} is {} and {} is {}'.format(a.name, a.age, b.name, b.age))"
   ]
  },
  {
   "cell_type": "code",
   "execution_count": 150,
   "metadata": {},
   "outputs": [
    {
     "name": "stdout",
     "output_type": "stream",
     "text": [
      "mikky is a firstdog\n",
      "firstdog\n",
      "firstdog\n",
      "firstdog\n"
     ]
    }
   ],
   "source": [
    "if a.species == 'firstdog' :\n",
    "    print('{0} is a {1}'.format(a.name, a.species))\n",
    "\n",
    "print(Dog.species) # 클래스, 인스턴스화에도 접근 가능하다.\n",
    "print(a.species)\n",
    "print(b.species)"
   ]
  },
  {
   "cell_type": "code",
   "execution_count": 151,
   "metadata": {},
   "outputs": [],
   "source": [
    "# self\n",
    "class SelfTest(object) :\n",
    "    def func1() : # 클래스 메소드기 때문에 클래스로 직접 호출(매개변수가 없어서)\n",
    "        print('func1 called')\n",
    "    def func2(self) : # 인스턴스 메소드\n",
    "        print('func2 called')"
   ]
  },
  {
   "cell_type": "code",
   "execution_count": 152,
   "metadata": {},
   "outputs": [
    {
     "name": "stdout",
     "output_type": "stream",
     "text": [
      "2253113708688\n",
      "func2 called\n"
     ]
    }
   ],
   "source": [
    "f = SelfTest()\n",
    "\n",
    "# print(dir(f))\n",
    "print(id(f))\n",
    "# f.func1() # 예외\n",
    "f.func2()"
   ]
  },
  {
   "cell_type": "code",
   "execution_count": 153,
   "metadata": {},
   "outputs": [
    {
     "name": "stdout",
     "output_type": "stream",
     "text": [
      "func1 called\n",
      "func2 called\n",
      "func2 called\n"
     ]
    }
   ],
   "source": [
    "SelfTest.func1()\n",
    "f.func2()\n",
    "# SelfTest.func2() # 예외\n",
    "SelfTest.func2(f)"
   ]
  },
  {
   "cell_type": "code",
   "execution_count": 154,
   "metadata": {},
   "outputs": [],
   "source": [
    "# 클래스(공유) 변수, 인스턴스(나만의) 변수\n",
    "class Warehouse(object) :\n",
    "    # 클래스 변수\n",
    "    stock_num = 0 # 재고\n",
    "\n",
    "    def __init__(self, name) :\n",
    "        # 인스턴스 변수\n",
    "        self.name = name\n",
    "        Warehouse.stock_num += 1\n",
    "\n",
    "    def __del__(self) : # 객체가 소멸할 때 자동으로 호출되는 함수\n",
    "        Warehouse.stock_num -= 1"
   ]
  },
  {
   "cell_type": "code",
   "execution_count": 155,
   "metadata": {},
   "outputs": [],
   "source": [
    "user1 = Warehouse('Kim')\n",
    "user2 = Warehouse('Lee')"
   ]
  },
  {
   "cell_type": "code",
   "execution_count": 156,
   "metadata": {},
   "outputs": [
    {
     "name": "stdout",
     "output_type": "stream",
     "text": [
      "1\n",
      "Kim\n",
      "Lee\n",
      "{'name': 'Kim'}\n",
      "{'name': 'Lee'}\n",
      "before {'__module__': '__main__', 'stock_num': 1, '__init__': <function Warehouse.__init__ at 0x0000020C982F5AB0>, '__del__': <function Warehouse.__del__ at 0x0000020C982F5900>, '__dict__': <attribute '__dict__' of 'Warehouse' objects>, '__weakref__': <attribute '__weakref__' of 'Warehouse' objects>, '__doc__': None}\n",
      "1\n"
     ]
    }
   ],
   "source": [
    "print(Warehouse.stock_num)\n",
    "# Warehouse.stock_num = 50\n",
    "print(user1.name)\n",
    "print(user2.name)\n",
    "print(user1.__dict__)\n",
    "print(user2.__dict__) # 인스턴스 네임스페이스에 없으면 클래스의 네임스페이스 가서 찾아본다\n",
    "print('before', Warehouse.__dict__)\n",
    "print(user1.stock_num)"
   ]
  },
  {
   "cell_type": "code",
   "execution_count": 157,
   "metadata": {},
   "outputs": [
    {
     "name": "stdout",
     "output_type": "stream",
     "text": [
      "after {'__module__': '__main__', 'stock_num': 0, '__init__': <function Warehouse.__init__ at 0x0000020C982F5AB0>, '__del__': <function Warehouse.__del__ at 0x0000020C982F5900>, '__dict__': <attribute '__dict__' of 'Warehouse' objects>, '__weakref__': <attribute '__weakref__' of 'Warehouse' objects>, '__doc__': None}\n"
     ]
    }
   ],
   "source": [
    "del user1\n",
    "print('after', Warehouse.__dict__)"
   ]
  },
  {
   "cell_type": "code",
   "execution_count": 161,
   "metadata": {},
   "outputs": [],
   "source": [
    "# 응용\n",
    "class Dog(object) : # object 상속\n",
    "    # 클래스 속성\n",
    "    species = 'firstdog'\n",
    "\n",
    "    # 초기화/인스턴스 속성\n",
    "    def __init__(self, name, age) :\n",
    "        self.name = name\n",
    "        self.age = age\n",
    "\n",
    "    def info(self) :\n",
    "        return '{} is {} years old'.format(self.name, self.age)\n",
    "    \n",
    "    def speak(self, sound) :\n",
    "        return '{} says {}!'.format(self.name, sound)"
   ]
  },
  {
   "cell_type": "code",
   "execution_count": 173,
   "metadata": {},
   "outputs": [
    {
     "name": "stdout",
     "output_type": "stream",
     "text": [
      "july is 4 years old\n",
      "marry is 10 years old\n",
      "\n",
      "july says Wal Wal!\n",
      "marry says hahahahah!\n"
     ]
    }
   ],
   "source": [
    "# 인스턴스 생선\n",
    "c = Dog('july', 4)\n",
    "d = Dog('marry', 10)\n",
    "# 메소드 호출\n",
    "print(c.info())\n",
    "print(d.info())\n",
    "# 메소드 호출\n",
    "print()\n",
    "print(c.speak('Wal Wal'))\n",
    "print(d.speak('hahahahah'))"
   ]
  }
 ],
 "metadata": {
  "kernelspec": {
   "display_name": "Python 3",
   "language": "python",
   "name": "python3"
  },
  "language_info": {
   "codemirror_mode": {
    "name": "ipython",
    "version": 3
   },
   "file_extension": ".py",
   "mimetype": "text/x-python",
   "name": "python",
   "nbconvert_exporter": "python",
   "pygments_lexer": "ipython3",
   "version": "3.10.10"
  }
 },
 "nbformat": 4,
 "nbformat_minor": 2
}
