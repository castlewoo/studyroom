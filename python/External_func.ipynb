{
 "cells": [
  {
   "cell_type": "markdown",
   "metadata": {},
   "source": [
    "# 외장 함수(External Functions)\n",
    "- 실제 프로그램 개발 중 자주 사용\n",
    "- 종류 : sys, pickle, shutil, temfilem, time, random  등"
   ]
  },
  {
   "cell_type": "code",
   "execution_count": 2,
   "metadata": {},
   "outputs": [
    {
     "name": "stdout",
     "output_type": "stream",
     "text": [
      "['c:\\\\Users\\\\82105\\\\AppData\\\\Local\\\\Programs\\\\Python\\\\Python310\\\\lib\\\\site-packages\\\\ipykernel_launcher.py', '--f=c:\\\\Users\\\\82105\\\\AppData\\\\Roaming\\\\jupyter\\\\runtime\\\\kernel-v2-21072Ke7c0c0FfLAf.json']\n",
      "['c:\\\\Users\\\\82105\\\\TIL\\\\python', 'c:\\\\Users\\\\82105\\\\AppData\\\\Local\\\\Programs\\\\Python\\\\Python310\\\\python310.zip', 'c:\\\\Users\\\\82105\\\\AppData\\\\Local\\\\Programs\\\\Python\\\\Python310\\\\DLLs', 'c:\\\\Users\\\\82105\\\\AppData\\\\Local\\\\Programs\\\\Python\\\\Python310\\\\lib', 'c:\\\\Users\\\\82105\\\\AppData\\\\Local\\\\Programs\\\\Python\\\\Python310', '', 'c:\\\\Users\\\\82105\\\\AppData\\\\Local\\\\Programs\\\\Python\\\\Python310\\\\lib\\\\site-packages', 'c:\\\\Users\\\\82105\\\\AppData\\\\Local\\\\Programs\\\\Python\\\\Python310\\\\lib\\\\site-packages\\\\win32', 'c:\\\\Users\\\\82105\\\\AppData\\\\Local\\\\Programs\\\\Python\\\\Python310\\\\lib\\\\site-packages\\\\win32\\\\lib', 'c:\\\\Users\\\\82105\\\\AppData\\\\Local\\\\Programs\\\\Python\\\\Python310\\\\lib\\\\site-packages\\\\Pythonwin']\n"
     ]
    }
   ],
   "source": [
    "import sys\n",
    "print(sys.argv)\n",
    "\n",
    "# 강제종료\n",
    "# sys.exit()\n",
    "\n",
    "# 파이썬 패키지 위치\n",
    "print(sys.path)"
   ]
  },
  {
   "cell_type": "code",
   "execution_count": 3,
   "metadata": {},
   "outputs": [],
   "source": [
    "# pickle : 객체 파일 읽기, 쓰기\n",
    "import pickle # 파이썬에서 읽을 수 있는 데이터 타입을 타일로 쓸 수 있다.\n",
    "\n",
    "# 쓰기\n",
    "f = open(\"test.obj\", 'wb')\n",
    "obj = {1 : 'python', 2 : 'study', 3 : 'basic'}\n",
    "pickle.dump(obj, f)\n",
    "f.close()"
   ]
  },
  {
   "cell_type": "code",
   "execution_count": 4,
   "metadata": {},
   "outputs": [
    {
     "name": "stdout",
     "output_type": "stream",
     "text": [
      "{1: 'python', 2: 'study', 3: 'basic'} <class 'dict'>\n"
     ]
    }
   ],
   "source": [
    "# 읽기\n",
    "f = open('test.obj', 'rb')\n",
    "data = pickle.load(f)\n",
    "print(data, type(data))\n",
    "f.close()"
   ]
  },
  {
   "cell_type": "code",
   "execution_count": 7,
   "metadata": {},
   "outputs": [
    {
     "name": "stdout",
     "output_type": "stream",
     "text": [
      "environ({'ALLUSERSPROFILE': 'C:\\\\ProgramData', 'APPDATA': 'C:\\\\Users\\\\82105\\\\AppData\\\\Roaming', 'CHROME_CRASHPAD_PIPE_NAME': '\\\\\\\\.\\\\pipe\\\\crashpad_4160_SVRJWENKQTQDOVLX', 'COMMONPROGRAMFILES': 'C:\\\\Program Files\\\\Common Files', 'COMMONPROGRAMFILES(X86)': 'C:\\\\Program Files (x86)\\\\Common Files', 'COMMONPROGRAMW6432': 'C:\\\\Program Files\\\\Common Files', 'COMPUTERNAME': 'KILE', 'COMSPEC': 'C:\\\\WINDOWS\\\\system32\\\\cmd.exe', 'CUDA_PATH': 'C:\\\\Program Files\\\\NVIDIA GPU Computing Toolkit\\\\CUDA\\\\v11.8', 'CUDA_PATH_V11_8': 'C:\\\\Program Files\\\\NVIDIA GPU Computing Toolkit\\\\CUDA\\\\v11.8', 'DRIVERDATA': 'C:\\\\Windows\\\\System32\\\\Drivers\\\\DriverData', 'EFC_11504': '1', 'ELECTRON_RUN_AS_NODE': '1', 'FPS_BROWSER_APP_PROFILE_STRING': 'Internet Explorer', 'FPS_BROWSER_USER_PROFILE_STRING': 'Default', 'HOMEDRIVE': 'C:', 'HOMEPATH': '\\\\Users\\\\82105', 'JAVA_HOME': 'C:\\\\Program Files\\\\Java\\\\jdk-21', 'JPY_INTERRUPT_EVENT': '1204', 'LOCALAPPDATA': 'C:\\\\Users\\\\82105\\\\AppData\\\\Local', 'LOGONSERVER': '\\\\\\\\KILE', 'NUMBER_OF_PROCESSORS': '16', 'NVTOOLSEXT_PATH': 'C:\\\\Program Files\\\\NVIDIA Corporation\\\\NvToolsExt\\\\', 'ONEDRIVE': 'C:\\\\Users\\\\82105\\\\OneDrive', 'ONLINESERVICES': 'Online Services', 'ORIGINAL_XDG_CURRENT_DESKTOP': 'undefined', 'OS': 'Windows_NT', 'PATH': 'c:\\\\Users\\\\82105\\\\AppData\\\\Local\\\\Programs\\\\Python\\\\Python310;c:\\\\Users\\\\82105\\\\AppData\\\\Roaming\\\\Python\\\\Python310\\\\Scripts;C:\\\\Program Files\\\\Common Files\\\\Oracle\\\\Java\\\\javapath;C:\\\\Program Files\\\\NVIDIA GPU Computing Toolkit\\\\CUDA\\\\v11.8\\\\bin;C:\\\\Program Files\\\\NVIDIA GPU Computing Toolkit\\\\CUDA\\\\v11.8\\\\libnvvp;C:\\\\windows\\\\system32;C:\\\\windows;C:\\\\windows\\\\System32\\\\Wbem;C:\\\\windows\\\\System32\\\\WindowsPowerShell\\\\v1.0\\\\;C:\\\\windows\\\\System32\\\\OpenSSH\\\\;C:\\\\Program Files (x86)\\\\NVIDIA Corporation\\\\PhysX\\\\Common;C:\\\\Program Files\\\\NVIDIA Corporation\\\\NVIDIA NvDLISR;C:\\\\WINDOWS\\\\system32;C:\\\\WINDOWS;C:\\\\WINDOWS\\\\System32\\\\Wbem;C:\\\\WINDOWS\\\\System32\\\\WindowsPowerShell\\\\v1.0\\\\;C:\\\\WINDOWS\\\\System32\\\\OpenSSH\\\\;C:\\\\Program Files\\\\Git\\\\cmd;C:\\\\Program Files\\\\NVIDIA Corporation\\\\Nsight Compute 2022.3.0\\\\;C:\\\\Program Files\\\\PuTTY\\\\;C:\\\\Program Files\\\\MySQL\\\\MySQL Shell 8.0\\\\bin\\\\;C:\\\\Users\\\\82105\\\\AppData\\\\Local\\\\Programs\\\\Python\\\\Python310\\\\Scripts\\\\;C:\\\\Users\\\\82105\\\\AppData\\\\Local\\\\Programs\\\\Python\\\\Python310\\\\;C:\\\\Users\\\\82105\\\\AppData\\\\Local\\\\Microsoft\\\\WindowsApps;;C:\\\\Users\\\\82105\\\\AppData\\\\Local\\\\Programs\\\\Microsoft VS Code\\\\bin;C:\\\\Program Files\\\\JetBrains\\\\PyCharm Community Edition 2023.2.1\\\\bin;;C:\\\\Program Files\\\\Common Files\\\\Oracle\\\\Java\\\\javapath;C:\\\\Program Files\\\\NVIDIA GPU Computing Toolkit\\\\CUDA\\\\v11.8\\\\bin;C:\\\\Program Files\\\\NVIDIA GPU Computing Toolkit\\\\CUDA\\\\v11.8\\\\libnvvp;C:\\\\windows\\\\system32;C:\\\\windows;C:\\\\windows\\\\System32\\\\Wbem;C:\\\\windows\\\\System32\\\\WindowsPowerShell\\\\v1.0\\\\;C:\\\\windows\\\\System32\\\\OpenSSH\\\\;C:\\\\Program Files (x86)\\\\NVIDIA Corporation\\\\PhysX\\\\Common;C:\\\\Program Files\\\\NVIDIA Corporation\\\\NVIDIA NvDLISR;C:\\\\WINDOWS\\\\system32;C:\\\\WINDOWS;C:\\\\WINDOWS\\\\System32\\\\Wbem;C:\\\\WINDOWS\\\\System32\\\\WindowsPowerShell\\\\v1.0\\\\;C:\\\\WINDOWS\\\\System32\\\\OpenSSH\\\\;C:\\\\Program Files\\\\Git\\\\cmd;C:\\\\Program Files\\\\NVIDIA Corporation\\\\Nsight Compute 2022.3.0\\\\;C:\\\\Program Files\\\\PuTTY\\\\;C:\\\\Program Files\\\\MySQL\\\\MySQL Shell 8.0\\\\bin\\\\;C:\\\\Users\\\\82105\\\\AppData\\\\Local\\\\Programs\\\\Python\\\\Python310\\\\Scripts\\\\;C:\\\\Users\\\\82105\\\\AppData\\\\Local\\\\Programs\\\\Python\\\\Python310\\\\;C:\\\\Users\\\\82105\\\\AppData\\\\Local\\\\Microsoft\\\\WindowsApps;;C:\\\\Users\\\\82105\\\\AppData\\\\Local\\\\Programs\\\\Microsoft VS Code\\\\bin;C:\\\\Program Files\\\\JetBrains\\\\PyCharm Community Edition 2023.2.1\\\\bin;', 'PATHEXT': '.COM;.EXE;.BAT;.CMD;.VBS;.VBE;.JS;.JSE;.WSF;.WSH;.MSC', 'PLATFORMCODE': 'M7', 'PROCESSOR_ARCHITECTURE': 'AMD64', 'PROCESSOR_IDENTIFIER': 'Intel64 Family 6 Model 154 Stepping 3, GenuineIntel', 'PROCESSOR_LEVEL': '6', 'PROCESSOR_REVISION': '9a03', 'PROGRAMDATA': 'C:\\\\ProgramData', 'PROGRAMFILES': 'C:\\\\Program Files', 'PROGRAMFILES(X86)': 'C:\\\\Program Files (x86)', 'PROGRAMW6432': 'C:\\\\Program Files', 'PSMODULEPATH': 'C:\\\\Program Files\\\\WindowsPowerShell\\\\Modules;C:\\\\WINDOWS\\\\system32\\\\WindowsPowerShell\\\\v1.0\\\\Modules', 'PUBLIC': 'C:\\\\Users\\\\Public', 'PYCHARM COMMUNITY EDITION': 'C:\\\\Program Files\\\\JetBrains\\\\PyCharm Community Edition 2023.2.1\\\\bin;', 'PYDEVD_IPYTHON_COMPATIBLE_DEBUGGING': '1', 'PYTHONIOENCODING': 'utf-8', 'PYTHONUNBUFFERED': '1', 'REGIONCODE': 'APJ', 'SESSIONNAME': 'Console', 'SYSTEMDRIVE': 'C:', 'SYSTEMROOT': 'C:\\\\WINDOWS', 'TEMP': 'C:\\\\Users\\\\82105\\\\AppData\\\\Local\\\\Temp', 'TMP': 'C:\\\\Users\\\\82105\\\\AppData\\\\Local\\\\Temp', 'USERDOMAIN': 'KILE', 'USERDOMAIN_ROAMINGPROFILE': 'KILE', 'USERNAME': '82105', 'USERPROFILE': 'C:\\\\Users\\\\82105', 'VSCODE_AMD_ENTRYPOINT': 'vs/workbench/api/node/extensionHostProcess', 'VSCODE_CODE_CACHE_PATH': 'C:\\\\Users\\\\82105\\\\AppData\\\\Roaming\\\\Code\\\\CachedData\\\\1a5daa3a0231a0fbba4f14db7ec463cf99d7768e', 'VSCODE_CRASH_REPORTER_PROCESS_TYPE': 'extensionHost', 'VSCODE_CWD': 'C:\\\\Users\\\\82105\\\\TIL', 'VSCODE_HANDLES_UNCAUGHT_ERRORS': 'true', 'VSCODE_IPC_HOOK': '\\\\\\\\.\\\\pipe\\\\00807907084fc732e346e60bc397a535-1.84.2-main-sock', 'VSCODE_L10N_BUNDLE_LOCATION': 'file:///c%3A/Users/82105/.vscode/extensions/ms-ceintl.vscode-language-pack-ko-1.84.2023111509/translations/extensions/vscode.markdown-language-features.i18n.json', 'VSCODE_NLS_CONFIG': '{\"locale\":\"ko\",\"osLocale\":\"ko\",\"availableLanguages\":{\"*\":\"ko\"},\"_languagePackId\":\"22975cc1fab21837a2a51e78aa896ed7.ko\",\"_translationsConfigFile\":\"C:\\\\\\\\Users\\\\\\\\82105\\\\\\\\AppData\\\\\\\\Roaming\\\\\\\\Code\\\\\\\\clp\\\\\\\\22975cc1fab21837a2a51e78aa896ed7.ko\\\\\\\\tcf.json\",\"_cacheRoot\":\"C:\\\\\\\\Users\\\\\\\\82105\\\\\\\\AppData\\\\\\\\Roaming\\\\\\\\Code\\\\\\\\clp\\\\\\\\22975cc1fab21837a2a51e78aa896ed7.ko\",\"_resolvedLanguagePackCoreLocation\":\"C:\\\\\\\\Users\\\\\\\\82105\\\\\\\\AppData\\\\\\\\Roaming\\\\\\\\Code\\\\\\\\clp\\\\\\\\22975cc1fab21837a2a51e78aa896ed7.ko\\\\\\\\1a5daa3a0231a0fbba4f14db7ec463cf99d7768e\",\"_corruptedFile\":\"C:\\\\\\\\Users\\\\\\\\82105\\\\\\\\AppData\\\\\\\\Roaming\\\\\\\\Code\\\\\\\\clp\\\\\\\\22975cc1fab21837a2a51e78aa896ed7.ko\\\\\\\\corrupted.info\",\"_languagePackSupport\":true}', 'VSCODE_PID': '4160', 'WINDIR': 'C:\\\\WINDOWS', 'ZES_ENABLE_SYSMAN': '1', 'PYDEVD_USE_FRAME_EVAL': 'NO', 'TERM': 'xterm-color', 'CLICOLOR': '1', 'FORCE_COLOR': '1', 'CLICOLOR_FORCE': '1', 'PAGER': 'cat', 'GIT_PAGER': 'cat', 'MPLBACKEND': 'module://matplotlib_inline.backend_inline'})\n",
      "82105\n",
      "c:\\Users\\82105\\TIL\\python\n"
     ]
    }
   ],
   "source": [
    "# os : 환경 변수, 디렉토리(파일) 처리 관련, 운영체제 작업 관련\n",
    "# mkdir, rmdir(비어 있으면 삭제), rename\n",
    "\n",
    "import os\n",
    "\n",
    "print(os.environ) # 딕셔너리 형태\n",
    "print(os.environ['USERNAME'])\n",
    "print(os.getcwd())\n"
   ]
  },
  {
   "cell_type": "code",
   "execution_count": 11,
   "metadata": {},
   "outputs": [
    {
     "name": "stdout",
     "output_type": "stream",
     "text": [
      "1700059852.4601638\n",
      "time.struct_time(tm_year=2023, tm_mon=11, tm_mday=15, tm_hour=23, tm_min=50, tm_sec=52, tm_wday=2, tm_yday=319, tm_isdst=0)\n",
      "Wed Nov 15 23:50:52 2023\n",
      "2023-11-15 23:50:52\n"
     ]
    }
   ],
   "source": [
    "# time : 시간 관련 처리\n",
    "import time\n",
    "\n",
    "print(time.time())\n",
    "print(time.localtime(time.time())) # 클래스 형태\n",
    "print(time.ctime())\n",
    "print(time.strftime('%Y-%m-%d %H:%M:%S', time.localtime(time.time())))"
   ]
  },
  {
   "cell_type": "code",
   "execution_count": 12,
   "metadata": {},
   "outputs": [
    {
     "name": "stdout",
     "output_type": "stream",
     "text": [
      "0\n",
      "1\n",
      "2\n",
      "3\n",
      "4\n"
     ]
    }
   ],
   "source": [
    "for i in range(5) :\n",
    "    print(i)\n",
    "    time.sleep(1) # 1초 마다 생성"
   ]
  },
  {
   "cell_type": "code",
   "execution_count": 25,
   "metadata": {},
   "outputs": [
    {
     "name": "stdout",
     "output_type": "stream",
     "text": [
      "0.3621190400474136\n",
      "38\n",
      "41\n"
     ]
    }
   ],
   "source": [
    "# random : 난수 리턴\n",
    "import random\n",
    "\n",
    "print(random.random()) # 0~1 실수\n",
    "print(random.randint(1, 45))\n",
    "print(random.randrange(1,45))"
   ]
  },
  {
   "cell_type": "code",
   "execution_count": 44,
   "metadata": {},
   "outputs": [
    {
     "name": "stdout",
     "output_type": "stream",
     "text": [
      "[5, 4, 2, 3, 1]\n",
      "5\n"
     ]
    }
   ],
   "source": [
    "d = [1, 2, 3, 4, 5]\n",
    "random.shuffle(d)\n",
    "print(d)\n",
    "\n",
    "c = random.choice(d)\n",
    "print(c)"
   ]
  },
  {
   "cell_type": "code",
   "execution_count": 45,
   "metadata": {},
   "outputs": [
    {
     "data": {
      "text/plain": [
       "True"
      ]
     },
     "execution_count": 45,
     "metadata": {},
     "output_type": "execute_result"
    }
   ],
   "source": [
    "# webbrowser : 본인 os의 웹 브라우저 실행\n",
    "import webbrowser\n",
    "webbrowser.open(\"www.naver.com\")\n",
    "\n",
    "webbrowser.open_new(\"www.naver.com\") # 새창으로 열기"
   ]
  }
 ],
 "metadata": {
  "kernelspec": {
   "display_name": "Python 3",
   "language": "python",
   "name": "python3"
  },
  "language_info": {
   "codemirror_mode": {
    "name": "ipython",
    "version": 3
   },
   "file_extension": ".py",
   "mimetype": "text/x-python",
   "name": "python",
   "nbconvert_exporter": "python",
   "pygments_lexer": "ipython3",
   "version": "3.10.10"
  }
 },
 "nbformat": 4,
 "nbformat_minor": 2
}
