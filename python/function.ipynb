{
 "cells": [
  {
   "cell_type": "markdown",
   "metadata": {},
   "source": [
    "# function 함수\n",
    "- 프로그래머가 이름을 통해서 정의 후 필요할 때 마다 호출\n",
    "- 반복 되는 코드를 한 번 구현 후 재사용 가능한 코드의 집합\n",
    "- 함수 구현 -> 재사용, 루틴(프로시저, 서브루틴)"
   ]
  },
  {
   "cell_type": "markdown",
   "metadata": {},
   "source": [
    "## 종류\n",
    "1. 매개변수가 필요한 함수\n",
    "2. 매개변수가 필요하지 않은 함수\n",
    "3. 결과값을 반환하는 함수(return)\n",
    "4. 결과값을 반환하지 않는 함수"
   ]
  },
  {
   "cell_type": "code",
   "execution_count": 16,
   "metadata": {},
   "outputs": [
    {
     "name": "stdout",
     "output_type": "stream",
     "text": [
      "1번 호출 10 20\n"
     ]
    }
   ],
   "source": [
    "# 1번\n",
    "\n",
    "def function1(a, b) :\n",
    "    print('1번 호출', a, b)\n",
    "    \n",
    "function1(10, 20)"
   ]
  },
  {
   "cell_type": "code",
   "execution_count": 5,
   "metadata": {},
   "outputs": [
    {
     "name": "stdout",
     "output_type": "stream",
     "text": [
      "2번 호출\n"
     ]
    }
   ],
   "source": [
    "# 2번\n",
    "\n",
    "def function2() :\n",
    "    print('2번 호출')\n",
    "\n",
    "function2()"
   ]
  },
  {
   "cell_type": "code",
   "execution_count": 14,
   "metadata": {},
   "outputs": [
    {
     "name": "stdout",
     "output_type": "stream",
     "text": [
      "3번 호출 100\n"
     ]
    }
   ],
   "source": [
    "# 3번\n",
    "def function3(x, y) :\n",
    "    return x + y\n",
    "\n",
    "r = function3(50, 50)\n",
    "\n",
    "print('3번 호출', r)"
   ]
  },
  {
   "cell_type": "code",
   "execution_count": 10,
   "metadata": {},
   "outputs": [
    {
     "name": "stdout",
     "output_type": "stream",
     "text": [
      "4번 호출 100 200\n"
     ]
    }
   ],
   "source": [
    "# 4번\n",
    "def function4(x, y) :\n",
    "    print('4번 호출', x, y)\n",
    "\n",
    "function4(100, 200)"
   ]
  },
  {
   "cell_type": "code",
   "execution_count": 17,
   "metadata": {},
   "outputs": [
    {
     "name": "stdout",
     "output_type": "stream",
     "text": [
      "Hello python\n"
     ]
    }
   ],
   "source": [
    "def first_func(w1) :\n",
    "    print(\"Hello\", w1)\n",
    "\n",
    "word = \"python\"\n",
    "\n",
    "first_func(word)"
   ]
  },
  {
   "cell_type": "code",
   "execution_count": 18,
   "metadata": {},
   "outputs": [
    {
     "name": "stdout",
     "output_type": "stream",
     "text": [
      "Hello, Good\n"
     ]
    }
   ],
   "source": [
    "def return_func(w1) :\n",
    "    value = \"Hello, \" + str(w1)\n",
    "    return value\n",
    "\n",
    "x = return_func('Good')\n",
    "print(x)"
   ]
  },
  {
   "cell_type": "code",
   "execution_count": 19,
   "metadata": {},
   "outputs": [
    {
     "name": "stdout",
     "output_type": "stream",
     "text": [
      "100 200 300\n"
     ]
    }
   ],
   "source": [
    "# 다중 반환\n",
    "def func_mul(x) :\n",
    "    y1 = x * 10\n",
    "    y2 = x * 20\n",
    "    y3 = x * 30\n",
    "    return y1, y2, y3\n",
    "\n",
    "x, y, z = func_mul(10)\n",
    "\n",
    "print(x, y ,z)"
   ]
  },
  {
   "cell_type": "code",
   "execution_count": 21,
   "metadata": {},
   "outputs": [
    {
     "name": "stdout",
     "output_type": "stream",
     "text": [
      "<class 'tuple'> (200, 400, 600) [200, 400, 600]\n"
     ]
    }
   ],
   "source": [
    "# 튜플\n",
    "def func_mul2(x) :\n",
    "    y1 = x * 10\n",
    "    y2 = x * 20\n",
    "    y3 = x * 30\n",
    "    return (y1, y2, y3)\n",
    "\n",
    "q = func_mul2(20)\n",
    "\n",
    "print(type(q), q, list(q))"
   ]
  },
  {
   "cell_type": "code",
   "execution_count": 23,
   "metadata": {},
   "outputs": [
    {
     "name": "stdout",
     "output_type": "stream",
     "text": [
      "<class 'list'> [300, 600, 900] {600, 900, 300}\n"
     ]
    }
   ],
   "source": [
    "# 리스트\n",
    "def func_mul3(x) :\n",
    "    y1 = x * 10\n",
    "    y2 = x * 20\n",
    "    y3 = x * 30\n",
    "    return [y1, y2, y3]\n",
    "\n",
    "p = func_mul3(30)\n",
    "\n",
    "print(type(p), p, set(p))"
   ]
  },
  {
   "cell_type": "code",
   "execution_count": 27,
   "metadata": {},
   "outputs": [
    {
     "name": "stdout",
     "output_type": "stream",
     "text": [
      "<class 'dict'> {'a': 200, 'b': 400, 'c': 600} 200 dict_values([200, 400, 600]) dict_items([('a', 200), ('b', 400), ('c', 600)])\n"
     ]
    }
   ],
   "source": [
    "# 딕셔너리\n",
    "def func_mul4(x) :\n",
    "    y1 = x * 10\n",
    "    y2 = x * 20\n",
    "    y3 = x * 30\n",
    "    return {'a' : y1, 'b' : y2, 'c' : y3}\n",
    "\n",
    "d = func_mul4(20)\n",
    "\n",
    "print(type(d), d, d.get('a'), d.values(), d.items())"
   ]
  },
  {
   "cell_type": "code",
   "execution_count": 31,
   "metadata": {},
   "outputs": [
    {
     "name": "stdout",
     "output_type": "stream",
     "text": [
      "Result : 0 L\n",
      "Result : 1 e\n",
      "Result : 2 e\n",
      "------\n"
     ]
    }
   ],
   "source": [
    "def args_func(args) : \n",
    "    for i, v in enumerate(args) :\n",
    "        print('Result : {}'.format(i), v)\n",
    "    print('------')\n",
    "\n",
    "args_func('Lee')"
   ]
  },
  {
   "cell_type": "code",
   "execution_count": 30,
   "metadata": {},
   "outputs": [
    {
     "name": "stdout",
     "output_type": "stream",
     "text": [
      "Result : 0 Lee\n",
      "------\n",
      "Result : 0 Lee\n",
      "Result : 1 Kim\n",
      "------\n",
      "Result : 0 Lee\n",
      "Result : 1 Kim\n",
      "Result : 2 park\n",
      "------\n"
     ]
    }
   ],
   "source": [
    "# 중요\n",
    "# *args, **kwargs\n",
    "\n",
    "# *args(언팩킹)\n",
    "def args_func(*args) : #매개변수 명 자유         갯수가 정해져있지 않고 튜플일 때 많이 사용\n",
    "    for i, v in enumerate(args) :\n",
    "        print('Result : {}'.format(i), v)\n",
    "    print('------')\n",
    "\n",
    "args_func('Lee')\n",
    "args_func('Lee', 'Kim')\n",
    "args_func('Lee', 'Kim', 'park')"
   ]
  },
  {
   "cell_type": "code",
   "execution_count": 37,
   "metadata": {},
   "outputs": [
    {
     "name": "stdout",
     "output_type": "stream",
     "text": [
      "name1 Lee\n",
      "--------\n",
      "name1 Kim\n",
      "name2 Park\n",
      "--------\n",
      "name1 Kim\n",
      "name2 Park\n",
      "send False\n",
      "--------\n"
     ]
    }
   ],
   "source": [
    "# **kwargs(언팩킹)\n",
    "def kwargs_func(**kwargs) : # 매개변수 명 자유     보통 딕셔너리 형태일 때\n",
    "    for v in kwargs.keys() :\n",
    "        print(\"{}\".format(v), kwargs[v])\n",
    "    print('--------')\n",
    "\n",
    "kwargs_func(name1 = 'Lee')\n",
    "\n",
    "kwargs_func(name1 = 'Kim', name2 = 'Park')\n",
    "\n",
    "kwargs_func(name1 = 'Kim', name2 = 'Park', send = False)"
   ]
  },
  {
   "cell_type": "code",
   "execution_count": 38,
   "metadata": {},
   "outputs": [
    {
     "name": "stdout",
     "output_type": "stream",
     "text": [
      "10 20 ('Lee', 'Kim', 'Park') {'age1': 20, 'age2': 30, 'age3': 40}\n"
     ]
    }
   ],
   "source": [
    "def example(args_1, args_2, *args, **wargs) :\n",
    "    print(args_1, args_2, args, wargs)\n",
    "\n",
    "example(10, 20, 'Lee', 'Kim', 'Park', age1 = 20, age2 = 30, age3 = 40)"
   ]
  },
  {
   "cell_type": "code",
   "execution_count": 39,
   "metadata": {},
   "outputs": [
    {
     "name": "stdout",
     "output_type": "stream",
     "text": [
      "In func\n",
      "200\n"
     ]
    }
   ],
   "source": [
    "# 중첩함수\n",
    "\n",
    "def nested_func(num) :\n",
    "    def func_in_func(num) :\n",
    "        print(num)\n",
    "    print(\"In func\")\n",
    "    func_in_func(num + 100)\n",
    "\n",
    "nested_func(100)"
   ]
  },
  {
   "cell_type": "code",
   "execution_count": 44,
   "metadata": {},
   "outputs": [
    {
     "name": "stdout",
     "output_type": "stream",
     "text": [
      "200\n",
      "200\n",
      "400\n"
     ]
    }
   ],
   "source": [
    "# 람다\n",
    "# 메모리 절약, 가독성 향상, 코드 간결\n",
    "# 함수는 객체 생성 -> 리소스(메모리) 할당\n",
    "# 람다는 즉시 실행 함수(Heap 초기화) -> 메모리 초기화\n",
    "# 남발 시 가독성 오히려 감소\n",
    "\n",
    "# def mul_func(x, y) :\n",
    "#     return x * y\n",
    "\n",
    "# lambda x, y : x * y # 함수의 이름이 없음 \n",
    "\n",
    "# 일반적 함수 -> 변수\n",
    "def mul_func(x, y) :\n",
    "    return x * y\n",
    "\n",
    "q = mul_func(10, 20)\n",
    "print(q)\n",
    "\n",
    "mul_func_var = mul_func\n",
    "print(mul_func_var(10, 20))\n",
    "\n",
    "# 람다 함수 -> 할당\n",
    "lambda_mul_func = lambda x, y : x * y\n",
    "print(lambda_mul_func(20, 20))"
   ]
  },
  {
   "cell_type": "code",
   "execution_count": 47,
   "metadata": {},
   "outputs": [
    {
     "name": "stdout",
     "output_type": "stream",
     "text": [
      "2000000\n"
     ]
    }
   ],
   "source": [
    "def final_func(x, y, func) :\n",
    "    print(x * y * func(100, 100))\n",
    "\n",
    "final_func(10, 20, lambda x, y : x * y)"
   ]
  }
 ],
 "metadata": {
  "kernelspec": {
   "display_name": "Python 3",
   "language": "python",
   "name": "python3"
  },
  "language_info": {
   "codemirror_mode": {
    "name": "ipython",
    "version": 3
   },
   "file_extension": ".py",
   "mimetype": "text/x-python",
   "name": "python",
   "nbconvert_exporter": "python",
   "pygments_lexer": "ipython3",
   "version": "3.10.10"
  }
 },
 "nbformat": 4,
 "nbformat_minor": 2
}
