{
 "cells": [
  {
   "cell_type": "markdown",
   "metadata": {},
   "source": [
    "# 모듈(module)\n",
    "- module : 함수, 변수, 클래스 등 파이썬 구성 요소 등을 모아놓은 파일"
   ]
  },
  {
   "cell_type": "code",
   "execution_count": 6,
   "metadata": {},
   "outputs": [],
   "source": [
    "# 작업지에서 할때마다 함수를 정의해줘야 한다는 단점(효율성이 떨어진다.)\n",
    "def add(x, y) :\n",
    "    return x + y\n",
    "\n",
    "def substract(x, y) :\n",
    "    return x - y\n",
    "\n",
    "def multiply(x, y) :\n",
    "    return x * y\n",
    "\n",
    "def divide(x, y) :\n",
    "    return x / y\n",
    "\n",
    "def power(x, y) :\n",
    "    return x ** y"
   ]
  },
  {
   "cell_type": "code",
   "execution_count": 64,
   "metadata": {},
   "outputs": [
    {
     "name": "stdout",
     "output_type": "stream",
     "text": [
      "called: __main__!\n",
      "10\n",
      "10\n",
      "25\n",
      "2.0\n",
      "125\n"
     ]
    }
   ],
   "source": [
    "if __name__ == \"__main__\" :\n",
    "    print('called: __main__!')\n",
    "    print(add(5, 5))\n",
    "    print(substract(15, 5))\n",
    "    print(multiply(5, 5))\n",
    "    print(divide(10, 5))\n",
    "    print(power(5, 3))"
   ]
  },
  {
   "cell_type": "code",
   "execution_count": 62,
   "metadata": {},
   "outputs": [
    {
     "name": "stdout",
     "output_type": "stream",
     "text": [
      "['c:\\\\Users\\\\82105\\\\TIL\\\\python', 'c:\\\\Users\\\\82105\\\\AppData\\\\Local\\\\Programs\\\\Python\\\\Python310\\\\python310.zip', 'c:\\\\Users\\\\82105\\\\AppData\\\\Local\\\\Programs\\\\Python\\\\Python310\\\\DLLs', 'c:\\\\Users\\\\82105\\\\AppData\\\\Local\\\\Programs\\\\Python\\\\Python310\\\\lib', 'c:\\\\Users\\\\82105\\\\AppData\\\\Local\\\\Programs\\\\Python\\\\Python310', '', 'c:\\\\Users\\\\82105\\\\AppData\\\\Local\\\\Programs\\\\Python\\\\Python310\\\\lib\\\\site-packages', 'c:\\\\Users\\\\82105\\\\AppData\\\\Local\\\\Programs\\\\Python\\\\Python310\\\\lib\\\\site-packages\\\\win32', 'c:\\\\Users\\\\82105\\\\AppData\\\\Local\\\\Programs\\\\Python\\\\Python310\\\\lib\\\\site-packages\\\\win32\\\\lib', 'c:\\\\Users\\\\82105\\\\AppData\\\\Local\\\\Programs\\\\Python\\\\Python310\\\\lib\\\\site-packages\\\\Pythonwin']\n",
      "<class 'list'>\n"
     ]
    }
   ],
   "source": [
    "import sys\n",
    "\n",
    "print(sys.path) # 파이썬 엔진이 이 경로를 통해서 찾는다\n",
    "\n",
    "print(type(sys.path)) # 리스트 형태. 경로를 추가할거면 append() 함수를 사용한다.\n",
    "\n",
    "# sys.path.append('주소')\n",
    "\n",
    "# import module\n",
    "\n",
    "# print(module.power(5, 3))   --->  125\n",
    "\n",
    "# 불필요한 것들이 추가될 때 \n",
    "# __name__ 사용\n",
    "# if __name__ == \"__main__\" :"
   ]
  }
 ],
 "metadata": {
  "kernelspec": {
   "display_name": "Python 3",
   "language": "python",
   "name": "python3"
  },
  "language_info": {
   "codemirror_mode": {
    "name": "ipython",
    "version": 3
   },
   "file_extension": ".py",
   "mimetype": "text/x-python",
   "name": "python",
   "nbconvert_exporter": "python",
   "pygments_lexer": "ipython3",
   "version": "3.10.10"
  }
 },
 "nbformat": 4,
 "nbformat_minor": 2
}
